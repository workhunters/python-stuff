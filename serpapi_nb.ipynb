{
 "cells": [
  {
   "cell_type": "code",
   "execution_count": 4,
   "metadata": {},
   "outputs": [],
   "source": [
    "# !pip install google-search-results\n",
    "import pandas as pd\n",
    "# api_key = \"e4fb6e74a565645df616278e366b117d5d63cc04d23182ce7fca8c25ec2fda1b\"\n",
    "api = 'apify_api_BqCUn7b2esAHLm3kQPVRagWEykcmMT3u8Gv7'"
   ]
  },
  {
   "cell_type": "code",
   "execution_count": null,
   "metadata": {},
   "outputs": [],
   "source": [
    "from serpapi import GoogleSearch\n",
    "import json"
   ]
  },
  {
   "cell_type": "code",
   "execution_count": null,
   "metadata": {},
   "outputs": [],
   "source": [
    "search_term = \"Data Science\"\n",
    "search_location = \"India\"\n",
    "params = {\n",
    "    \"api_key\" : api_key,\n",
    "    \"device\" : \"desktop\",\n",
    "    \"engine\" : \"google_jobs\",\n",
    "    \"q\" : search_term,\n",
    "    \"hl\": 'en',\n",
    "    'gl': 'in',\n",
    "    \"start\" : 0 #pagination\n",
    "}\n",
    "\n",
    "search = GoogleSearch(params)"
   ]
  },
  {
   "cell_type": "code",
   "execution_count": null,
   "metadata": {},
   "outputs": [],
   "source": [
    "data = search.get_dict()"
   ]
  },
  {
   "cell_type": "code",
   "execution_count": null,
   "metadata": {},
   "outputs": [],
   "source": [
    "data.keys()"
   ]
  },
  {
   "cell_type": "code",
   "execution_count": null,
   "metadata": {},
   "outputs": [],
   "source": [
    "data['search_metadata']"
   ]
  },
  {
   "cell_type": "code",
   "execution_count": null,
   "metadata": {},
   "outputs": [],
   "source": [
    "with open(r\"C:\\Users\\Jadha\\PycharmProjects\\python-stuff\\sample.json\", \"w\") as outfile:\n",
    "    json.dump(data['jobs_results'], outfile)"
   ]
  },
  {
   "cell_type": "code",
   "execution_count": null,
   "metadata": {},
   "outputs": [],
   "source": [
    "len(data['jobs_results'])"
   ]
  },
  {
   "cell_type": "code",
   "execution_count": null,
   "metadata": {},
   "outputs": [],
   "source": [
    "data['jobs_results']"
   ]
  },
  {
   "cell_type": "code",
   "execution_count": null,
   "metadata": {},
   "outputs": [],
   "source": [
    "job = data['jobs_results'][0]"
   ]
  },
  {
   "cell_type": "code",
   "execution_count": null,
   "metadata": {},
   "outputs": [],
   "source": [
    "print(job.keys())"
   ]
  },
  {
   "cell_type": "code",
   "execution_count": null,
   "metadata": {},
   "outputs": [],
   "source": [
    "print(job['title'])\n",
    "print(job['company_name'])\n",
    "print(job['location'])\n",
    "print(job['via'])\n",
    "# print(job['description']) # contails all the textual stuff\n",
    "print([highlight['title'] for highlight in job['job_highlights']]) # Short of description\n",
    "print(job['related_links'])\n",
    "print(job['extensions'])\n",
    "print(job['detected_extensions'])\n",
    "# job['job_id']"
   ]
  },
  {
   "cell_type": "code",
   "execution_count": null,
   "metadata": {},
   "outputs": [],
   "source": [
    "job = data['jobs_results'][4]"
   ]
  },
  {
   "cell_type": "code",
   "execution_count": null,
   "metadata": {},
   "outputs": [],
   "source": [
    "job"
   ]
  },
  {
   "cell_type": "code",
   "execution_count": null,
   "metadata": {},
   "outputs": [],
   "source": [
    "print(job['title'])\n",
    "print(job['company_name'])\n",
    "print(job['location'])\n",
    "print(job['via'])\n",
    "# print(job['description']) # contails all the textual stuff\n",
    "print([highlight['title'] for highlight in job['job_highlights']]) # Short of description\n",
    "print(job['related_links'])\n",
    "print(job['extensions'])\n",
    "print(job['detected_extensions'])"
   ]
  },
  {
   "cell_type": "markdown",
   "metadata": {},
   "source": [
    "## Get Combine Json data for 5 pages for dataScience"
   ]
  },
  {
   "cell_type": "code",
   "execution_count": null,
   "metadata": {},
   "outputs": [],
   "source": [
    "metadata = []\n",
    "results = []\n",
    "\n",
    "for i in range(5):\n",
    "    search = GoogleSearch({**params, 'start' : i*10})\n",
    "    page_data = search.get_dict()\n",
    "    metadata.append(page_data['search_metadata'])\n",
    "    results += page_data['jobs_results']"
   ]
  },
  {
   "cell_type": "markdown",
   "metadata": {},
   "source": [
    "## Create CSV file\n",
    "extra features can be added like `employee website`\n",
    "\n",
    "`Key Points` - Some day ago | fulltime or PartTime | worktype"
   ]
  },
  {
   "cell_type": "code",
   "execution_count": null,
   "metadata": {},
   "outputs": [],
   "source": [
    "data = {\n",
    "    'title': [],\n",
    "    'company_name': [],\n",
    "    'location': [],\n",
    "    'from': [],\n",
    "    'Benefits': [],\n",
    "    'Qualifications': [],\n",
    "    'Responsibilities': [],\n",
    "}\n",
    "\n",
    "highlight_keys = ['Benefits', 'Qualifications', 'Responsibilities']\n",
    "\n",
    "for job in results:\n",
    "    data['title'].append(job['title'])\n",
    "    data['company_name'].append(job['company_name'])\n",
    "    data['location'].append(job['location'])\n",
    "    data['from'].append(job['via'])\n",
    "    \n",
    "    for k in highlight_keys:\n",
    "        found = False\n",
    "        for h in job['job_highlights']:\n",
    "            if 'title' in h.keys() and k == h['title']:\n",
    "                data[k].append(\". \".join(h['items']))\n",
    "                found = True\n",
    "        if not found:\n",
    "            data[k].append(\"\")\n"
   ]
  },
  {
   "cell_type": "code",
   "execution_count": null,
   "metadata": {},
   "outputs": [],
   "source": [
    "df = pd.DataFrame.from_dict(data)\n",
    "df.to_csv('main.csv', index=False)"
   ]
  },
  {
   "cell_type": "code",
   "execution_count": null,
   "metadata": {},
   "outputs": [],
   "source": [
    "df"
   ]
  },
  {
   "cell_type": "markdown",
   "metadata": {},
   "source": [
    "# Apify API"
   ]
  },
  {
   "cell_type": "code",
   "execution_count": 5,
   "metadata": {},
   "outputs": [],
   "source": [
    "from apify_client import ApifyClient\n",
    "# Initialize the ApifyClient with your API token\n",
    "client = ApifyClient(token=api)"
   ]
  },
  {
   "cell_type": "code",
   "execution_count": 100,
   "metadata": {
    "scrolled": true
   },
   "outputs": [
    {
     "name": "stdout",
     "output_type": "stream",
     "text": [
      "{'searchQuery': {'term': 'Microsoft fresher jobs in India', 'page': 1, 'type': 'SEARCH', 'domain': 'google.co.in', 'countryCode': 'IN', 'languageCode': 'en', 'locationUule': 'w CAIQICIFU3VyYXQ=', 'resultsPerPage': 10}, 'url': 'https://www.google.co.in/search?hl=en&ibp=htl%3Bjobs&lrad=500&q=Microsoft%20fresher%20jobs%20in%20India&uule=w+CAIQICIFU3VyYXQ=', 'hasNextPage': True, 'googleJobs': [{'title': 'Microsoft is hiring Software Engineer [2022 Grad] (21 February 2022)', 'companyName': 'Microsoft', 'location': 'India', 'via': 'via Workat.tech', 'description': 'Microsoft is hiring Software Engineer [2022 Grad] (21 February 2022). Apply now at https://workat.tech/company/microsoft/jobs/software-engineer-2022-grad-Q8FvRWMg', 'relatedLinks': [{'link': 'http://www.microsoft.com/', 'text': 'microsoft.com'}, {'link': 'https://www.google.com/search?hl=en&q=Microsoft&sa=X&ved=0ahUKEwiX9euW3KD9AhUZpokEHWi3BBwQmJACCNsK', 'text': 'See web results for Microsoft'}], 'thumbnail': 'https://encrypted-tbn0.gstatic.com/images?q=tbn:ANd9GcTpzWyeBcK1szTx-x1XguwtYLMbnIqH2_ch5pyU&s=0', 'extras': ['Full-time', 'No degree mentioned'], 'metadata': {'scheduleType': 'Full-time'}, 'applyLink': {'title': '.nFg2eb{font-weight:500}.Bi6Ddc{font-weight:500}Apply on Workat.tech', 'link': 'https://workat.tech/company/microsoft/jobs/software-engineer-2022-grad-Q8FvRWMg?utm_campaign=google_jobs_apply&utm_source=google_jobs_apply&utm_medium=organic'}}, {'title': 'Microsoft D365-Functional-Finance', 'companyName': 'DXC Technology', 'location': 'Gurugram, Haryana, India', 'via': 'via LinkedIn', 'description': 'DXC is Hiring : MS DYNAMICS D365-Functional-Finance\\n\\nMust have Skills : F&O Functional - Finance\\n\\nRelevant F&O Functional Experience : 5yrs+\\n\\nLocation : Across DXC Locations India\\n\\nHR SPOC : pranay.shrivastava@dxc.com\\n\\nDescription\\n\\nDXC Technology India is seeking great talent to join the Modern Application development group.\\n\\nThe Modern Application Development group works on latest and emerging digital technologies to bring to life large digital transformations for our clients. We look for candidates who are digital natives and demonstrate dexterity in utilizing technology to solve real world problems\\n\\nhe main goal is to ensure DXC delivers application services and to continuously improve our maturity in processes and technology, resulting in best in class technology implementation\\n\\nAs a team member, good exposure will be provided to you on latest technologies like, Microservices, API & Cloud native development.\\n\\nResponsibilities\\n• Work in cross functional teams to drive effective... creation of Minimum Viable Products that bring business value faster.\\n• Design, develop, test, deploy, maintain and improve software.\\n• Think creatively to solve the user problem with holistic and simple solution\\n\\n· Support to maintain and improve the application functionality\\n• Drive best practices within teams with respect to coding standards and guidelines\\n\\n· Tests, deploy application functionality to meet requirement specification / In-Scope User Stories\\n• Manage individual project priorities, deadlines and deliverables.\\n• Build products aligned to help our clients succeed in the industry\\n\\n· Ability to learn and adapt to new frameworks/technologies\\n\\n· Ensure compliance with the documented software processes and procedures throughout the life cycle\\n• Contribute to each step of the product development process from ideation to implementation\\n• Create software documentation and update existing documentation Implement best practices, standards and procedures including quality and delivery methodologies\\n\\nDesired Skills and Qualifications\\n• Proven experience selling consulting engagements which includes estimating, scoping, and writing effective statements of work that clearly set expectations and limit risk. Demonstrated excellence at presenting complex development topics to both executive and technical personnel\\n• Minimum 8 years’ experience with full life-cycle implementation of Dynamics AX (up to version AX 2012,D365), consideration to those with deep experience in other ERPs, etc.\\n• knowledge in Application Integration Framework (AIF), Enterprise Portal, Workflows and Reporting in Dynamics AX.\\n• Expert in Migrating data from other systems to Dynamics AX. Integrating Dynamics AX with other systems\\n• An ability to articulate architectural differences between solution methods and the challenges and approaches to integrating solutions built on different platforms including a working knowledge of different architectural frameworks that may be used by our customers.\\n• Ability to move between high level architectural review/design and the “roll up the sleeves” level of doing all phases of an application delivery project\\n• Knowledge of full application life cycle design tools and methodologies\\n• Exceptional demonstrated consulting skills\\n• Prior experience implementing any major modules within Dynamics AX\\n• Understand how to build and maintain positive client and peer relationships\\n• Demonstrate capabilities in evaluating new techniques and utilizing the key elements\\n• Demonstrate strong communication skills (written and verbal)\\n• Very high proficiency in Financials - GL, AR, AP, Fixed Assets, Taxation, Consolidation, Intercompany, MR (Financial reports) and Banking module of Dynamics AX\\n• Multi company Financial consolidation\\n• Sound knowledge of GAAP and Taxation in Europe and North America\\n• 5+ years of Experience on AX implementation\\n• Excellent documentation and articulation skills\\n• 5+ years of experience working with overseas customers in US and Europe\\n\\nNice to have skills:\\n\\nKnowledge of SAP/Oracle - Finance Module (Desirable not mandatory)\\n\\nSoft Skills:\\n• Transparency\\n• Excellent written and verbal communication skills.\\n• Flexibility and adaptability.\\n• Service Spirit & Teamwork, collaboration\\n• Result Orientation\\n• Communication and negotiation\\n• Detail-oriented, thorough\\n• Analytical and problem-solving skills\\n\\nAbout DXC Technology\\n\\nDXC Technology (NYSE: DXC) is the world’s leading independent, end-to-end IT services company, helping clients harness the power of innovation to thrive on change. Created by the merger of CSC and the Enterprise Services business of Hewlett Packard Enterprise, DXC Technology serves nearly 6,000 private and public sector clients across 70 countries. The company’s technology independence, global talent and extensive partner alliance combine to deliver powerful next-generation IT services and solutions. DXC Technology is recognized among the best corporate citizens globally. For more information, visit www.dxc.technology', 'relatedLinks': [{'link': 'https://dxc.com/us/en', 'text': 'dxc.com/us/en'}, {'link': 'https://www.google.com/search?hl=en&q=DXC+Technology&sa=X&ved=0ahUKEwiX9euW3KD9AhUZpokEHWi3BBwQmJACCIoL', 'text': 'See web results for DXC Technology'}], 'thumbnail': 'https://encrypted-tbn0.gstatic.com/images?q=tbn:ANd9GcQC7CAVzojbK6jNv8HDmYuLZDbvCilti4Kluf8pBXY&s', 'extras': ['3 days ago', 'Full-time', 'No degree mentioned'], 'metadata': {'postedAt': '3 days ago', 'scheduleType': 'Full-time'}, 'applyLink': {'title': 'Apply on LinkedIn', 'link': 'https://in.linkedin.com/jobs/view/microsoft-d365-functional-finance-at-dxc-technology-3485662676?utm_campaign=google_jobs_apply&utm_source=google_jobs_apply&utm_medium=organic'}}, {'title': 'Microsoft Off Campus Drive 2023 Hiring Data Annotation Specialist...', 'companyName': 'Microsoft', 'location': 'Hyderabad, Telangana, India', 'via': 'via Freshershunt', 'description': 'Microsoft Off Campus Drive 2023 hiring freshers as Data Annotation Specialist of Bachelor’s degree or equivalent work experience at Hyderabad location. The detailed eligibility and application process are given below.\\n\\nResponsibilities:\\nWant to use your language skills to help make better Microsoft products?\\n\\nThe transcription specialist is a key component in building the next generations of speech recognition by producing high quality transcriptions which train and improve Microsoft products and services. The transcription specialist will use native language skills and cultural knowledge to capture linguistic nuances with high fidelity. In this role you will be the foundation of the Microsoft teams responsible for driving machine learning and high AI technology, such as, AI assistance for people’s daily life, meeting captioning, and more. Join our team and use your background and expertise to continue delivering value to Microsoft.\\n\\nThe transcription specialist’s responsibilities... include:\\n\\nUsing in house tools to transcribe and annotate data for various projects. A few examples may be providing transcription (text) for audio clips or annotating text or images to verify certain types of data.\\nGoing through content (online and offline), extract information, provide needed information through tools with high accuracy and consistency.\\nPerforming quality evaluation of transcription and annotation results produced by different sources.\\nCollaborate with team members on day-to-day problem solving and projects assigned by managers.\\nTranscription specialists will come across offensive, sensitive, or objectionable material and may be required to work with this type of content to help train our AI models for the protection of Microsoft’s customers.\\n\\nBasic Qualifications:\\nGraduation or equivalent work experience\\nKnowledge of required language spelling, vocabulary, grammar, pronunciation, accents, intent\\nNative speaker of the target locale/language & lived in the native country within the last five years or equivalent experience. See location and language requirements\\nFluent in English & Hindi – both written and spoken\\n\\nPreferred Qualifications:\\nBachelor’s degree or equivalent work experience\\nIn depth knowledge of required language pitch, tones, rhythm, intent, etc.\\nAbility to have fun at work while bringing your authentic self\\nLinguistics or computational linguistic background\\nExperience in language technology including speech\\nProficient in multiple required languages, Indian local languages would be an added advantage.\\nGreat attention to detail\\nExperience in MS applications, Excel, Power BI, Power app, etc\\nRelevant certifications in languages if any', 'relatedLinks': [{'link': 'http://www.microsoft.com/', 'text': 'microsoft.com'}, {'link': 'https://www.google.com/search?hl=en&q=Microsoft&sa=X&ved=0ahUKEwiX9euW3KD9AhUZpokEHWi3BBwQmJACCLoL', 'text': 'See web results for Microsoft'}], 'thumbnail': 'https://encrypted-tbn0.gstatic.com/images?q=tbn:ANd9GcR_m45sW4QpJGxAED-vsKRQqUqCdmKgBD2CJh5YGJjqSgIACvIiT9nW7oc&s', 'extras': ['12 days ago', '₹1.1M a year', 'Full-time'], 'metadata': {'postedAt': '12 days ago', 'scheduleType': 'Full-time'}, 'applyLink': {'title': 'Apply on Freshershunt', 'link': 'https://freshershunt.in/microsoft-off-campus-data-annotation-specialist/?utm_campaign=google_jobs_apply&utm_source=google_jobs_apply&utm_medium=organic'}}, {'title': 'Microsoft is hiring for Freshers as Research Intern', 'companyName': 'Microsoft', 'location': 'Bengaluru, Karnataka, India', 'via': 'via DJobBuzz.com', 'description': 'During the internship, students are paired with mentors and expected to collaborate with other interns and researchers, present findings, and contribute to the vibrant life of the community.MSR India conducts research in a wide range of areas and Internships are available in all of them.In the application process, we’ll try to find the opportunity that best aligns with your interests.Internships are offered year round, though a majority begin in the summer.All internships are paid. And, we’ll help with visa applications where needed.', 'relatedLinks': [{'link': 'http://www.microsoft.com/', 'text': 'microsoft.com'}, {'link': 'https://www.google.com/search?hl=en&q=Microsoft&sa=X&ved=0ahUKEwiX9euW3KD9AhUZpokEHWi3BBwQmJACCOYL', 'text': 'See web results for Microsoft'}], 'thumbnail': 'https://encrypted-tbn0.gstatic.com/images?q=tbn:ANd9GcTpzWyeBcK1szTx-x1XguwtYLMbnIqH2_ch5pyU&s=0', 'extras': ['Full-time'], 'metadata': {'scheduleType': 'Full-time'}, 'applyLink': {'title': 'Apply on DJobBuzz.com', 'link': 'https://www.djobbuzz.com/home/viewjob/7447/microsoft-is-hiring-for-freshers-as-research-intern?utm_campaign=google_jobs_apply&utm_source=google_jobs_apply&utm_medium=organic'}}, {'title': 'Microsoft Jobs 2023 for Research Fellow', 'companyName': 'Microsoft', 'location': 'Bengaluru, Karnataka, India', 'via': 'via Off Campus Careers', 'description': 'Microsoft Jobs 2023 for Research Fellow position for Bangalore locations. Microsoft is currently hiring for Research Fellow position for freshers and experience both candidates for Bangalore location. Candidates having qualifications like- Bachelor’s degree in related field can apply online for Microsoft Recruitment 2023 using the direct link given below. Candidates are requested to read details- eligibility criteria, professional skills, job description, experience etc. carefully before making an online application\\n\\nResponsibilities/ Job Description Details\\nCandidates should have Latest/ Updated Resume, Original Documents (10th, 12th, Graduation, PG courses) and Professional certification, Recent Photo and Valid ID proof. And the selection process is- Interview, Technical/ Machine test/ HR/ GD etc. You may also browse jobs by location using the links given below.\\n\\nRFs spend 1 to 2 years at MSR India. different projects require a different combination of skills.\\nCurrent and past RFs... have worked on solving deep theoretical problems, pushing the boundaries of AI, designing new programming languages, designing and implementing security protocols at scale, field work in rural India, prototyping communication and sensing hardware, and designing and building large scale software systems and networks.\\nRegardless, they all consistently aim to create academic, industry, and societal impact.\\n\\nEligibility, Experience & Skills Required\\nCandidates should have Bachelor’s or Master’s degree in computer science or other related field.\\nWe evaluate candidates on a combination of factors including academic performance, raw smarts, development skills, and passion for research and software development.\\nShould have Excellent communication skills both verbal and written.\\n\\nOnline application link for Microsoft Recruitment 2023 for Research Fellow position is given below. Please apply before the link expires. Please Note that- OffCampusCareers don’t ask for money for anything from anyone. OffCampusCareers provides a free service to help the job seekers in India', 'relatedLinks': [{'link': 'http://www.microsoft.com/', 'text': 'microsoft.com'}, {'link': 'https://www.google.com/search?hl=en&q=Microsoft&sa=X&ved=0ahUKEwiX9euW3KD9AhUZpokEHWi3BBwQmJACCJIM', 'text': 'See web results for Microsoft'}], 'thumbnail': 'https://encrypted-tbn0.gstatic.com/images?q=tbn:ANd9GcR3BBsXXJ4qtQ3gsYbfdF4cuBJ6kwSDDumlU4dliIc&s', 'extras': ['Full-time'], 'metadata': {'scheduleType': 'Full-time'}, 'applyLink': {'title': 'Apply on Off Campus Careers', 'link': 'https://offcampuscareers.com/microsoft-jobs-4/?utm_campaign=google_jobs_apply&utm_source=google_jobs_apply&utm_medium=organic'}}, {'title': 'Data Engineer', 'companyName': 'Microsoft', 'location': 'Anywhere', 'via': 'via LinkedIn', 'description': \"The Customer and Partner Experience (CxP) team is a part of the Identity & Network Access (IDNA) engineering division within Microsoft's booming Security product group. We work with customers and partners from all over the world to drive service adoption and to shape the Microsoft Identity platform.\\n\\nThe Data & Insights team has an exciting opportunity for a Data Engineer to work in the most customer-connected engineering team at Microsoft. We are looking for a customer-obsessed individual, with a growth mindset, compassion for customer experience, and an experimental approach to join our team.\\n\\nThe Data & Insights team is a group of geo-distributed Data PMs, Data Engineers and Data Scientists building deep understanding of the business and customers, conducting opportunity analysis, defining product metrics, and generating key insights to drive business decisions. As a Data Engineer in the team, you will be responsible for managing the data real estate, architecting, and developing... the next-gen data platform as well as conducting deep data analysis.\\n\\n#IdentityJobs\\n\\nResponsibilities\\n• Builds deep understanding of the Microsoft Security business, technology, and customers\\n• Implements scalable data models, data pipelines, data storage, management, and transformation solutions.\\n• Ensures data quality and compliance.\\n• Partners with teams across Microsoft & within Identity division to drive customer opportunities and revenue growth.\\n• Communicates key outcomes with stakeholders and leadership.\\n\\nQualifications\\n• Bachelor's/Master’s degree in Mathematics, Statistics, Data science, Computer Science, Computer Engineering, or related field\\n• 2+ years industry experience in a deep technical role building products in one or more of the following areas: Business Intelligence & Analytics, Cloud services, Productivity applications/services, Business application/services\\n• Experience with data pipelining and transformation technologies\\n• Hands-on experience with big data technologies as well as data analytics tools\\n• Excellent data visualization skills to be able to present insights that drive business impact\\n• Knowledge of Machine Learning/Predictive modeling a significant plus\\n• Excellent communication & collaboration skills\\u202f\\n• Strong track record of self-directed execution\\n\\nRequirements\\n\\nThese requirements include, but are not limited to the following specialized security screenings\\n\\nAbility to meet Microsoft, customer and/or government security screening requirements are required for this role.\\n\\nMicrosoft Cloud Background Check: This position will be required to pass the Microsoft Cloud Background Check upon hire/transfer and every two years thereafter.\\n\\nMicrosoft is an equal opportunity employer. All qualified applicants will receive consideration for employment without regard to age, ancestry, color, family or medical care leave, gender identity or expression, genetic information, marital status, medical condition, national origin, physical or mental disability, political affiliation, protected veteran status, race, religion, sex (including pregnancy), sexual orientation, or any other characteristic protected by applicable laws, regulations and ordinances. If you need assistance and/or a reasonable accommodation due to a disability during the application or the recruiting process, please send a request via the Accommodation request form.\\n\\nBenefits/perks listed below may vary depending on the nature of your employment with Microsoft and the country where you work\", 'relatedLinks': [{'link': 'http://www.microsoft.com/', 'text': 'microsoft.com'}, {'link': 'https://www.google.com/search?hl=en&q=Microsoft&sa=X&ved=0ahUKEwiX9euW3KD9AhUZpokEHWi3BBwQmJACCMAM', 'text': 'See web results for Microsoft'}], 'thumbnail': 'https://encrypted-tbn0.gstatic.com/images?q=tbn:ANd9GcRPFFNNQU6biPwXraVkLSgT9XNjJJW-7pSZCvpNmCU&s', 'extras': ['4 days ago', 'Work from home', 'Full-time'], 'metadata': {'postedAt': '4 days ago', 'scheduleType': 'Full-time', 'workFromHome': True}, 'applyLink': {'title': 'Apply on LinkedIn', 'link': 'https://in.linkedin.com/jobs/view/data-engineer-at-microsoft-3482354073?utm_campaign=google_jobs_apply&utm_source=google_jobs_apply&utm_medium=organic'}}, {'title': 'Software Engineer 2', 'companyName': 'Microsoft', 'location': 'Hyderabad, Telangana, India', 'via': 'via Microsoft Careers', 'description': \"Are you passionate about cloud technologies, and want to build the next generation technology which helps manage clouds? If so, special clouds team is looking for a product leader who is obsessed with driving a modern engineering system that focuses on industry leading practices and tools to provide autonomous and efficient internet-scale cloud infrastructure.\\n\\nMicrosoft 365 (M365) is Microsoft's flagship productivity offering with millions of users used by the largest organizations in the world (Fortune 500) as well as the public sector. We provide a distributed, scalable, highly reliable,\\u202fcompliant,\\u202fand\\u202fsecure\\u202fservice for millions of people.\\u202fMicrosoft 365 (M365) is expanding its presence in new markets. Cyber-security is an emerging product area that reflects customers, and governments, demand for isolated and controlled cloud environments that continue to yield the heightened security and feature benefits of the public cloud “\", 'relatedLinks': [{'link': 'http://www.microsoft.com/', 'text': 'microsoft.com'}, {'link': 'https://www.google.com/search?hl=en&q=Microsoft&sa=X&ved=0ahUKEwiX9euW3KD9AhUZpokEHWi3BBwQmJACCO0M', 'text': 'See web results for Microsoft'}], 'thumbnail': 'https://encrypted-tbn0.gstatic.com/images?q=tbn:ANd9GcT8hW3BqNcBc5AYVS8Wwr6jx7tHESt6fymqH0T3G8o&s', 'extras': ['Full-time', 'No degree mentioned'], 'metadata': {'scheduleType': 'Full-time'}, 'applyLink': {'title': 'Apply on Microsoft Careers', 'link': 'https://careers.microsoft.com/professionals/us/en/job/1512254/Software-Engineer-2?utm_campaign=google_jobs_apply&utm_source=google_jobs_apply&utm_medium=organic'}}, {'title': 'Microsoft Fullstack...', 'companyName': 'Deloitte', 'location': 'Mumbai, Maharashtra, India', 'via': 'via LinkedIn', 'description': \"Position Summary\\n\\nCORE BUSINESS OPERATIONS\\n\\nThe Core Business Operations (CBO) portfolio is an integrated set of offerings that addresses our clients’ heart-of-the-business issues. This portfolio combines our functional and technical capabilities to help clients transform, modernize, and run their existing technology platforms. Moreover, CBO seeks to enhance our clients’ business operations and help them take advantage of new technologies through innovation aided by designing, implementing, and deploying sector-specific solutions and programs.\\n\\nAs our clients navigate dynamic and disruptive markets, these solutions are designed to help them drive product and service innovation, improve financial performance, accelerate speed to market, and operate their platforms to innovate continuously. Our focus on driving our strategy and investment around Cloud, in addition to our previously established software engineering and operational transformation capabilities, positions us for long-term... success in the market.\\n\\nCBO has five different offerings:\\n\\nApplication Modernization Innovation (AMI) delivers end-to-end technology and application solutions to enable and improve our clients’ core business operations. We do this in a truly modern way, leveraging the best of innovative technology, people, and delivery approaches to help you dream, explore, and build your future.\\n\\nCloud Engineering Services (CES) is focused on end-to-end cloud services from migration strategy into transformation and cloud operations.\\n\\nCore Industry Solutions (CIS) is focused on industry vertical, sector specific solutions that drive operational change and automate the core of the business\\n\\nOperations Transformation (OT) is focused on creating a flexible, innovative business model for clients supported by a strong operations foundation. CBO serves clients across Life Sciences and Health Care, Government & Public Services and Financial Services among other industries.\\n\\nCore Technology Operations (CTO) offers differentiated Operate services for our clients with solutions to help organizations manage their portfolio of IT applications, scale and optimize critical business operations, drive speed to the outcome, deliver business transformation.\\n\\nDot Net with Angular Developer (Consultant)\\n\\nHere is opportunity to fulfill your aspirations to work on state of the art .NET solutions along with dynamic and creative team. You are expected to be well versed with latest .NET web development tools and technologies with strong knowledge on object oriented programming concepts and will be responsible for .NET web development and unit testing.\\n\\nWork you’ll do\\n• Development and unit testing using .NET technology stack.\\n• Work with functional teams in the project (onsite/offshore)\\n• Participate in daily status calls and meetings.\\n• Status reporting on tasks assigned to lead.\\n\\nThe team\\n\\nAt Deloitte Consulting, the Systems Integration practice helps clients bring focus to their toughest integration challenges across the technology lifecycle. We build and tailor applications to fit the needs of client business. Our team members drives the analysis and technical design of large scale software applications and integrated systems including conceptual architectures, application architecture and design and software engineering. We deliver and deploy custom developed applications for our clients, including prototyping, code development, modularization, unit testing, performance testing, configuration and defect management, and production deployment. Learn more about our Technology Consulting practice on www.deloitte.com .\\n\\nQualifications\\n\\nRequired:\\n• At least 3-6 years of web or application development experience using .NET technology stack.\\n• Should be able to develop solutions following established technical design, application development standards and quality processes in projects.\\n• Capable of using standard technology development tools like Visual Studio, TFS.\\n• Analyse and identify gaps in functional/business requirement.\\n• Strong knowledge in OOPS concepts, Dot NET Framework, C#, VB.NET, Collections, Generics\\n• Experience on Web Technologies ASP.net (Web Forms, MVC), WCF, JavaScript, HTML\\n• Experience on ADO.net\\n• Experience on web/application servers (IIS).\\n• Ability to write Basic SQL with simple Joins\\n\\nPreferred:\\n• Experience using Enterprise Library\\n• Experience on Entity Framework, NHibernate, Linq2SQL\\n• Knowledge on AJAX, Silverlight, Angular JS, jQuery\\n• Knowledge of design patterns\\n• Ability to write build/configuration scripts using Build tools (Ant, MSBuild), MSI creation etc\\n• Good communication skills. Should be able to communicate clearly with cross teams in the project (E.g. Functional/Development/Testing).\\n• Should be a good team player and a quick learner with an aptitude to pick up things fast.\\n\\nLocation:\\n\\nHyderabad/Bengaluru/Mumbai/Pune/Chennai\\n\\nHow You’ll Grow\\n\\nAt Deloitte, we’ve invested a great deal to create a rich environment in which our professionals can grow. We want all our people to develop in their own way, playing to their own strengths as they hone their leadership skills. And, as a part of our efforts, we provide our professionals with a variety of learning and networking opportunities—including exposure to leaders, sponsors, coaches, and challenging assignments—to help accelerate their careers along the way. No two people learn in the same way. So, we provide a range of resources including live classrooms, team-based learning, and eLearning. DU: The Leadership Center in India, our state-of-the-art, world-class learning Center in the Hyderabad offices is an extension of the Deloitte University (DU) in Westlake, Texas, and represents a tangible symbol of our commitment to our people’s growth and development. Explore DU: The Leadership Center in India\\n\\nBenefits\\n\\nAt Deloitte, we know that great people make a great organization. We value our people and offer employees a broad range of benefits. Learn more about what working at Deloitte can mean for you.\\n\\nDeloitte’s culture\\n\\nOur positive and supportive culture encourages our people to do their best work every day. We celebrate individuals by recognizing their uniqueness and offering them the flexibility to make daily choices that can help them to be healthy, centered, confident, and aware. We offer well-being programs and are continuously looking for new ways to maintain a culture that is inclusive, invites authenticity, leverages our diversity, and where our people excel and lead healthy, happy lives. Learn more about Life at Deloitte.\\n\\nCorporate citizenship\\n\\nDeloitte is led by a purpose: to make an impact that matters. This purpose defines who we are and extends to relationships with our clients, our people, and our communities.We believe that business has the power to inspire and transform. We focus on education, giving, skill-based volunteerism, and leadership to help drive positive social impact in our communities. Learn more about Deloitte’s impact on the world.\\n\\nUSI-EH23-Consulting-CBO\\n\\nCE-.Net\\n\\n‘Deloitte’ is the brand under which tens of thousands of dedicated professionals in independent firms throughout the world collaborate to provide audit, consulting, financial advisory, risk management and tax services to selected clients. These firms are members of Deloitte Touche Tohmatsu Limited DTTL, a UK private company limited by guarantee. Each member firm provides services in a particular geographic area and is subject to the laws and professional regulations of the particular country or countries in which it operates. DTTL does not itself provide services to clients. DTTL and each DTTL member firm are separate and distinct legal entities, which cannot obligate each other. DTTL and each DTTL member firm are liable only for their own acts or omissions and not those of each other. Each DTTL member firm is structured differently in accordance with national laws, regulations, customary practice, and other factors, and may secure the provision of professional services in its territory through subsidiaries, affiliates and/or other entities.\\n\\nIn the United States, Deloitte LLP is the member firm of DTTL. Like DTTL, Deloitte LLP does not provide services to clients. Instead, services are primarily provided by the subsidiaries of Deloitte LLP, including:\\n• Deloitte & Touche LLP\\n• Deloitte Consulting LLP\\n• Deloitte Financial Advisory Services LLP\\n• Deloitte Tax LLP\\n\\nRecruiting tips\\n\\nFinding the right job and preparing for the recruitment process can be tricky. Check out tips from our Deloitte recruiting professionals to set yourself up for success. Check out recruiting tips from Deloitte recruiters .\\n\\nBenefits\\n\\nWe believe that to be an undisputed leader in professional services, we should equip you with the resources that can make a positive impact on your well-being journey. Our vision is to create a leadership culture focused on the development and well-being of our people. Here are some of our benefits and programs to support you and your family’s well-being needs. Learn more about what working at Deloitte can mean for you .\\n\\nOur people and culture\\n\\nOur people and our culture make Deloitte a place where leaders thrive. Get an inside look at the rich diversity of background, education, and experiences of our people. What impact will you make? Be inspired by the stories of our people .\\n\\nOur purpose\\n\\nDeloitte’s purpose is to make an impact that matters for our clients, our people, and in our communities. We are creating trust and confidence in a more equitable society. At Deloitte, purpose is synonymous with how we work every day. It defines who we are. We are focusing our collective efforts to advance sustainability, equity, and trust that come to life through our core commitments. Learn more about Deloitte's purpose, commitments, and impact .\\n\\nProfessional development\\n\\nYou want to make an impact. And we want you to make it. We can help you do that by providing you the culture, training, resources, and opportunities to help you grow and succeed as a professional. Learn more about our commitment to developing our people .\\n\\nRequisition code: 94613\", 'relatedLinks': [{'link': 'http://www.deloitte.com/', 'text': 'deloitte.com'}, {'link': 'https://www.google.com/search?hl=en&q=Deloitte&sa=X&ved=0ahUKEwiX9euW3KD9AhUZpokEHWi3BBwQmJACCJwN', 'text': 'See web results for Deloitte'}], 'thumbnail': 'https://encrypted-tbn0.gstatic.com/images?q=tbn:ANd9GcSINW03XUTbNSVgI-uyR2hdZIRt-aMHHOJS1C0L240&s', 'extras': ['16 days ago', 'Full-time', 'No degree mentioned'], 'metadata': {'postedAt': '16 days ago', 'scheduleType': 'Full-time'}, 'applyLink': {'title': 'Apply on LinkedIn', 'link': 'https://in.linkedin.com/jobs/view/microsoft-fullstack-%2Bangular-consultant-hyderabad-bengaluru-mumbai-pune-at-deloitte-3467212482?utm_campaign=google_jobs_apply&utm_source=google_jobs_apply&utm_medium=organic'}}, {'title': 'Microsoft is hiring for freshers as Research Fellow', 'companyName': 'Microsoft', 'location': 'Bengaluru, Karnataka, India', 'via': 'via DJobBuzz.com', 'description': 'RFs spend 1 to 2 years at MSR India. Different projects require a different combination of skills. Current and past RFs have worked on: solving deep theoretical problems, pushing the boundaries of AI, designing new programming languages, designing and implementing security protocols at scale, field work in rural India, prototyping communication and sensing hardware, and designing and building large-scale software systems and networks. Regardless, they all consistently aim to create academic, industry, and societal impact.', 'relatedLinks': [{'link': 'http://www.microsoft.com/', 'text': 'microsoft.com'}, {'link': 'https://www.google.com/search?hl=en&q=Microsoft&sa=X&ved=0ahUKEwiX9euW3KD9AhUZpokEHWi3BBwQmJACCMkN', 'text': 'See web results for Microsoft'}], 'thumbnail': 'https://encrypted-tbn0.gstatic.com/images?q=tbn:ANd9GcTpzWyeBcK1szTx-x1XguwtYLMbnIqH2_ch5pyU&s=0', 'extras': ['25 days ago', 'Full-time'], 'metadata': {'postedAt': '25 days ago', 'scheduleType': 'Full-time'}, 'applyLink': {'title': 'Apply on DJobBuzz.com', 'link': 'https://www.djobbuzz.com/home/viewjob/8731/microsoft-is-hiring-for-freshers-as-research-fellow?utm_campaign=google_jobs_apply&utm_source=google_jobs_apply&utm_medium=organic'}}, {'title': 'Data Engineer II', 'companyName': 'Microsoft', 'location': 'India', 'via': 'via Foundit.in', 'description': \"The Customer and Partner Experience (CxP) team is a part of the Identity & Network Access (IDNA) engineering division within Microsoft's booming Security product group. We work with customers and partners from all over the world to drive service adoption and to shape the Microsoft Identity platform. The Data & Insights team hasan exciting opportunity for a Data Engineer to work in the most customer-connected engineering team at Microsoft.Weare looking for a customer-obsessed individual, with a growth mindset, compassion for customer experience, and an experimental approach to join our team. The Data & Insights team is a group of geo-distributed Data PMs, Data Engineers and Data Scientists building deep understanding of the business and customers, conducting opportunity analysis, defining product metrics, and generating key insights to drive business decisions. As a Data Engineer in the team, you will be responsible for managing the data real estate, architecting, and developing the... next-gen data platform as well as conducting deep data analysis. #IdentityJobs Builds deep understanding of the Microsoft Security business, technology, and customers Implements scalable data models, data pipelines, data storage, management, and transformation solutions. Ensures data quality and compliance. Partners with teams across Microsoft & within Identity division to drive customer opportunities and revenue growth. Communicates key outcomes with stakeholders and leadership. bachelor's/master's degree in mathematics, statistics, data science, computer science, computer engineering, or related field 6+ years industry experience in a deep technical role of which at least 3 years building products in one or more of the following areas: business intelligence & analytics, cloud services, productivity applications/services, business application/services experience with data pipelining and transformation technologies hands-on experience with big data technologies as well as data analytics tools excellent data visualization skills to be able to present insights that drive business impact knowledge of machine learning/predictive modeling a significant plus excellent communication & collaboration skills strong track record of self-directed execution ability to meet microsoft, customer and/or government security screening requirements are required for this role. these requirements include, but are not limited to the following specialized security screenings: microsoft cloud background check: this position will be required to pass the microsoft cloud background check upon hire/transfer and every two years thereafter\", 'relatedLinks': [{'link': 'http://www.microsoft.com/', 'text': 'microsoft.com'}, {'link': 'https://www.google.com/search?hl=en&q=Microsoft&sa=X&ved=0ahUKEwiX9euW3KD9AhUZpokEHWi3BBwQmJACCPcN', 'text': 'See web results for Microsoft'}], 'thumbnail': 'https://encrypted-tbn0.gstatic.com/images?q=tbn:ANd9GcTpzWyeBcK1szTx-x1XguwtYLMbnIqH2_ch5pyU&s=0', 'extras': ['5 days ago', 'Full-time'], 'metadata': {'postedAt': '5 days ago', 'scheduleType': 'Full-time'}, 'applyLink': {'title': 'Apply on Foundit.in', 'link': 'https://www.foundit.in/job/data-engineer-ii-microsoft-india-10404542?utm_campaign=google_jobs_apply&utm_source=google_jobs_apply&utm_medium=organic'}}], 'categories': [{'type': 'Category', 'param': 'gcat_category.id', 'options': [{'text': 'All'}, {'text': 'Computer & IT', 'value': 'GC08'}, {'text': 'Management', 'value': 'GC18'}, {'text': 'Science & Engineering', 'value': 'GC27'}, {'text': 'Business Operations', 'value': 'GC06'}, {'text': 'Education', 'value': 'GC11'}, {'text': 'Advertising & Marketing', 'value': 'GC03'}, {'text': 'Sales & Retail', 'value': 'GC26'}, {'text': 'Social Services & Nonprofit', 'value': 'GC28'}, {'text': 'Accounting & Finance', 'value': 'GC01'}, {'text': 'Human Resources', 'value': 'GC15'}, {'text': 'Customer Service', 'value': 'GC10'}, {'text': 'Healthcare', 'value': 'GC14'}, {'text': 'Media, Communications & Writing', 'value': 'GC20'}, {'text': 'Admin & Office', 'value': 'GC02'}, {'text': 'Art, Fashion & Design', 'value': 'GC05'}]}, {'type': 'Title', 'param': 'job_family_1', 'options': [{'text': 'All'}, {'text': 'Software engineer', 'value': 'software engineer'}, {'text': 'Consultant', 'value': 'consultant'}, {'text': 'Manager', 'value': 'manager'}, {'text': 'Technical consultant', 'value': 'technical consultant'}, {'text': 'Functional consultant', 'value': 'functional consultant'}, {'text': 'Product manager', 'value': 'product manager'}, {'text': 'Engineer', 'value': 'engineer'}, {'text': 'Administrator', 'value': 'administrator'}, {'text': 'Program manager', 'value': 'program manager'}, {'text': 'Data engineer', 'value': 'data engineer'}, {'text': 'Engineering manager', 'value': 'engineering manager'}, {'text': 'Reliability engineer', 'value': 'reliability engineer'}, {'text': 'Senior', 'value': 'senior'}, {'text': 'Technical', 'value': 'technical'}, {'text': 'Project manager', 'value': 'project manager'}, {'text': 'Server', 'value': 'server'}, {'text': 'Software engineering', 'value': 'software engineering'}, {'text': 'Business architect', 'value': 'business architect'}, {'text': 'Business manager', 'value': 'business manager'}, {'text': 'Data scientist', 'value': 'data scientist'}, {'text': 'Data services', 'value': 'data services'}, {'text': 'Director', 'value': 'director'}, {'text': 'Director of engineering', 'value': 'director_of engineering'}, {'text': 'Disability', 'value': 'disability'}, {'text': 'Professional', 'value': 'professional'}, {'text': 'Recruitment', 'value': 'recruitment'}, {'text': 'Researcher', 'value': 'researcher'}, {'text': 'Senior engineer', 'value': 'senior engineer'}, {'text': 'Solution architect', 'value': 'solution architect'}, {'text': 'Specialist', 'value': 'specialist'}, {'text': 'Staff engineer', 'value': 'staff engineer'}, {'text': 'Account manager', 'value': 'account manager'}, {'text': 'Analyst', 'value': 'analyst'}, {'text': 'Application architect', 'value': 'application architect'}, {'text': 'Applied scientist', 'value': 'applied scientist'}, {'text': 'Architect', 'value': 'architect'}, {'text': 'Business', 'value': 'business'}, {'text': 'Crm consultant', 'value': 'crm consultant'}, {'text': 'Data architect', 'value': 'data architect'}, {'text': 'Data science', 'value': 'data science'}, {'text': 'Degree', 'value': 'degree'}, {'text': 'Delivery manager', 'value': 'delivery manager'}, {'text': 'Development engineer', 'value': 'development engineer'}, {'text': 'Engineering', 'value': 'engineering'}, {'text': 'It specialist', 'value': 'it specialist'}, {'text': 'Marketing specialist', 'value': 'marketing specialist'}, {'text': 'Operations engineer', 'value': 'operations engineer'}, {'text': 'Operator', 'value': 'operator'}, {'text': 'Practitioner', 'value': 'practitioner'}, {'text': 'Principal', 'value': 'principal'}, {'text': 'Product owner', 'value': 'product owner'}]}, {'type': 'Location', 'param': 'city', 'options': [{'text': 'All'}, {'text': 'Bengaluru, Karnataka', 'value': 'bU60yXAWrjvgT35R6MPf-A=='}, {'text': 'Hyderabad, Telangana', 'value': 'x9Lr6tqZyzvC-7qSg7eTrg=='}, {'text': 'Pune, Maharashtra', 'value': 'ARFGZy6_wjtD456dv0ONgg=='}, {'text': 'Mumbai, Maharashtra', 'value': 'we1EZjDG5ztpjGSNj-2kXQ=='}, {'text': 'Chennai, Tamil Nadu', 'value': 'YTN9T-plUjoz1GNoC6dhbg=='}, {'text': 'Noida, Uttar Pradesh', 'value': 'ezVzMaTlDDk_wHzIMM7_Nw=='}, {'text': 'Gurugram, Haryana', 'value': 'WYjjgtUZDTkeS8bl6F_PAg=='}, {'text': 'Ahmedabad, Gujarat', 'value': 'SdRbuoqEXjkWZU9hEd3OTw=='}, {'text': 'New Delhi, Delhi', 'value': 'LbZ-NFv9DDnOTSBOSbfCUg=='}, {'text': 'Kochi, Kerala', 'value': 'v8a-SlENCDuSQYSlyoLVCw=='}, {'text': 'Kolkata, West Bengal', 'value': 'Z_YISduC-Dm8LGyP5jDjQw=='}, {'text': 'Secunderabad, Telangana', 'value': 'KV0lSK2EyzszNJuZGoQQBA=='}, {'text': 'Coimbatore, Tamil Nadu', 'value': 'tRyXL69ZqDuC0j4YHsjBLw=='}, {'text': 'Kanpur, Uttar Pradesh', 'value': 'b8QnsXBHnDlBe76fKjB4Fw=='}, {'text': 'Amritsar, Punjab', 'value': 'VXOeVqpkGTl974TuW2Ci7g=='}, {'text': 'Bamtapur Nand Bagh, Uttar Pradesh', 'value': '-cWeDFdInjk2BSBHlxcX5w=='}, {'text': 'Bela Pratapgarh, Uttar Pradesh', 'value': 'h78pMtSQmjle5_TszjRnIQ=='}, {'text': 'Bhubaneswar, Odisha', 'value': 'pQoX1dIJGTqoP7NoKw5Y_A=='}, {'text': 'Bihar Sharif, Bihar', 'value': 'I832MFzz8jlZ74-JN4tmSg=='}, {'text': 'Dariyapur, Rajasthan', 'value': 'EWHb_Sf_czlvQbNciOpN1Q=='}, {'text': 'Gorakh Nath, Haryana', 'value': 'WYI5Xdf0Dznj86rR1Wr_rw=='}, {'text': 'Goregaon, Maharashtra', 'value': '85kATMelKzo3O9atpWIDRA=='}, {'text': 'Gudhiyari, Chhattisgarh', 'value': 'uUzwOfbdKDrEAvsj-3nE4A=='}, {'text': 'Jaipur, Rajasthan', 'value': 'geJXTN9KbDkJLvIMOsbhDA=='}, {'text': 'Kanayannur, Kerala', 'value': '675DqE90CDsJRedOeclxWA=='}, {'text': 'Mangaluru, Karnataka', 'value': 'j0i_N0xaoztk_vx0erx7gg=='}, {'text': 'Navi Mumbai, Maharashtra', 'value': 'rRMfuPC55ztp-IURaPcSPA=='}, {'text': 'Pimpri-Chinchwad, Maharashtra', 'value': 's-q9fze4wjv4oKex2mVCLA=='}, {'text': 'Puducherry', 'value': 'z89JjqthUzpOsPDSJtNrzA=='}, {'text': 'Surat, Gujarat', 'value': 'YxUdQVlO4DtCsDgJKVhF_g=='}, {'text': 'Thane, Maharashtra', 'value': 'Wf12_vy45zuDAsX3hX02zw=='}, {'text': 'Vadodara, Gujarat', 'value': 'q92jkavIXzm4P0fhv9M5rA=='}, {'text': 'Kothiya, Bihar', 'value': 'AYAXHoef8jlJzBLiJGrzBA=='}, {'text': 'Indore, Madhya Pradesh', 'value': '2w1BG638Yjn0QGI12sRuCQ=='}]}, {'type': 'Date posted', 'param': 'date_posted', 'options': [{'text': 'All'}, {'text': 'Past day', 'value': 'today'}, {'text': 'Past 3 days', 'value': '3days'}, {'text': 'Past week', 'value': 'week'}, {'text': 'Past month', 'value': 'month'}]}, {'type': 'Requirements', 'param': 'requirements', 'options': [{'text': 'All'}, {'text': 'No degree', 'value': 'no_degree'}, {'text': 'No experience', 'value': 'no_experience'}, {'text': 'Under 3 years of experience', 'value': 'years3under'}, {'text': '3+ years of experience', 'value': 'years3plus'}]}, {'type': 'Type', 'param': 'employment_type', 'options': [{'text': 'All'}, {'text': 'Full-time', 'value': 'FULLTIME'}, {'text': 'Internship', 'value': 'INTERN'}, {'text': 'Contractor', 'value': 'CONTRACTOR'}, {'text': 'Part-time', 'value': 'PARTTIME'}]}, {'type': 'Company type', 'param': 'industry.id', 'options': [{'text': 'All'}, {'text': 'Information', 'value': '/business/naics2007/51'}, {'text': 'Computer Services', 'value': '/business/naics2007/5415'}, {'text': 'Consulting', 'value': '/business/naics2007/5416'}, {'text': 'Accounting', 'value': '/business/naics2007/5412'}, {'text': 'Manufacturing', 'value': '/business/naics2007/31'}, {'text': 'Finance', 'value': '/business/naics2007/52'}, {'text': 'Toiletries', 'value': '/business/naics2007/3256'}, {'text': 'Construction', 'value': '/business/naics2007/23'}, {'text': 'Foods & Beverages', 'value': '/business/naics2007/311'}, {'text': 'Retail', 'value': '/business/naics2007/44'}]}, {'type': 'Employer', 'param': 'organization_mid', 'options': [{'text': 'All'}, {'text': 'Microsoft', 'value': '/m/04sv4'}, {'text': 'Accenture', 'value': '/m/01rp2c'}, {'text': 'IBM', 'value': '/m/03sc8'}, {'text': 'EY', 'value': '/m/0g9jc'}, {'text': 'Alp Consulting Ltd.', 'value': '/g/11fy20ck_y'}, {'text': 'DXC Technology', 'value': '/g/11c6rh26jp'}, {'text': 'Tata Consultancy Services', 'value': '/m/01psx8'}, {'text': 'Bosch Group', 'value': '/m/01hnkf'}, {'text': 'Capgemini', 'value': '/m/03vlk0'}, {'text': 'Deloitte', 'value': '/m/02spfd'}, {'text': 'HCLTech', 'value': '/m/0698gv'}, {'text': 'Nutanix', 'value': '/m/0k3lpf4'}, {'text': 'Synechron', 'value': '/m/027hdqs'}, {'text': 'Tata Group', 'value': '/m/014lk3'}, {'text': 'ApTask', 'value': '/g/11dxpqc5_0'}, {'text': 'Atos', 'value': '/m/03mndf'}, {'text': 'BNP Paribas', 'value': '/m/02qhk4'}, {'text': 'Bechtel Corporation', 'value': '/m/01f2nm'}, {'text': 'Bristlecone', 'value': '/g/11c52fk6bf'}, {'text': 'Citi', 'value': '/m/01dfb6'}, {'text': 'DynaTech Systems', 'value': '/g/11q4jjyn8b'}, {'text': 'Exelegent', 'value': '/g/11c73ln_c1'}, {'text': 'Experis/Manpower Group', 'value': '/g/112yfwd07'}]}]}\n",
      "{'searchQuery': {'term': 'Microsoft fresher jobs in India', 'page': 2, 'type': 'SEARCH', 'domain': 'google.co.in', 'countryCode': 'IN', 'languageCode': 'en', 'locationUule': 'w CAIQICIFU3VyYXQ=', 'resultsPerPage': 10}, 'url': 'https://www.google.co.in/search?hl=en&ibp=htl%3Bjobs&lrad=500&q=Microsoft%20fresher%20jobs%20in%20India&uule=w%20CAIQICIFU3VyYXQ%3D&start=10', 'hasNextPage': True, 'googleJobs': [{'title': 'Data Engineer II', 'companyName': 'Microsoft', 'location': 'India', 'via': 'via Foundit.in', 'description': \"The Customer and Partner Experience (CxP) team is a part of the Identity & Network Access (IDNA) engineering division within Microsoft's booming Security product group. We work with customers and partners from all over the world to drive service adoption and to shape the Microsoft Identity platform. The Data & Insights team hasan exciting opportunity for a Data Engineer to work in the most customer-connected engineering team at Microsoft.Weare looking for a customer-obsessed individual, with a growth mindset, compassion for customer experience, and an experimental approach to join our team. The Data & Insights team is a group of geo-distributed Data PMs, Data Engineers and Data Scientists building deep understanding of the business and customers, conducting opportunity analysis, defining product metrics, and generating key insights to drive business decisions. As a Data Engineer in the team, you will be responsible for managing the data real estate, architecting, and developing the... next-gen data platform as well as conducting deep data analysis. #IdentityJobs Builds deep understanding of the Microsoft Security business, technology, and customers Implements scalable data models, data pipelines, data storage, management, and transformation solutions. Ensures data quality and compliance. Partners with teams across Microsoft & within Identity division to drive customer opportunities and revenue growth. Communicates key outcomes with stakeholders and leadership. bachelor's/master's degree in mathematics, statistics, data science, computer science, computer engineering, or related field 6+ years industry experience in a deep technical role of which at least 3 years building products in one or more of the following areas: business intelligence & analytics, cloud services, productivity applications/services, business application/services experience with data pipelining and transformation technologies hands-on experience with big data technologies as well as data analytics tools excellent data visualization skills to be able to present insights that drive business impact knowledge of machine learning/predictive modeling a significant plus excellent communication & collaboration skills strong track record of self-directed execution ability to meet microsoft, customer and/or government security screening requirements are required for this role. these requirements include, but are not limited to the following specialized security screenings: microsoft cloud background check: this position will be required to pass the microsoft cloud background check upon hire/transfer and every two years thereafter\", 'relatedLinks': [{'link': 'http://www.microsoft.com/', 'text': 'microsoft.com'}, {'link': 'https://www.google.com/search?hl=en&q=Microsoft&sa=X&ved=0ahUKEwiM0pqY3KD9AhXHFTQIHeMZAT84ChCYkAII3Qo', 'text': 'See web results for Microsoft'}], 'thumbnail': 'https://encrypted-tbn0.gstatic.com/images?q=tbn:ANd9GcTpzWyeBcK1szTx-x1XguwtYLMbnIqH2_ch5pyU&s=0', 'extras': ['5 days ago', 'Full-time'], 'metadata': {'postedAt': '5 days ago', 'scheduleType': 'Full-time'}, 'applyLink': {'title': '.nFg2eb{font-weight:500}.Bi6Ddc{font-weight:500}Apply on Foundit.in', 'link': 'https://www.foundit.in/job/data-engineer-ii-microsoft-india-10404542?utm_campaign=google_jobs_apply&utm_source=google_jobs_apply&utm_medium=organic'}}, {'title': 'Microsoft Azure Integration Developer', 'companyName': 'Fulcrum Digital Inc', 'location': 'Pune, Maharashtra, India', 'via': 'via LinkedIn', 'description': 'Who are we:\\n\\nFulcrum Digital is an agile and next-generation digital accelerating company providing digital transformation and technology services right from ideation to implementation. These services have applicability across a variety of industries including banking & financial services, insurance, retail, higher education, food, healthcare, and manufacturing.\\n\\nThe Role:\\n\\nTo design and implement integrations between software platforms, programs, and applications. An expert problem solver with extensive programming skills and abilities in multiple coding languages and frameworks.\\n\\nSkillsets - MS Azure, Azure Logic Apps, C#, SQL Server, Function Apps, API Management,\\n\\nSecondary Skillset - Azure Integration Services, Data Factory, Azure Integration Services (AIS)\\n\\nRequirement –\\n\\n• Experience working in both Agile and more traditional delivery methodologies.\\n\\n• Broad IT knowledge and experience within a range of project types, size and complexity.\\n\\n• Strong stakeholder management... skills\\n\\n• Ability to build strategic roadmaps, considering a wide range of influences and constraints.\\n\\n• A proven track-record in learning new technologies and/or concepts and applying these practically.\\n\\n• Excellent presentation and communication skills.\\n\\n• Proven track record of working to strict commercial deadlines.\\n\\n• Very strong, in-depth and demonstrable hands-on experience with the following technologies:\\n\\n• Microsoft Azure PaaS and SaaS solution development technologies including Azure Functions, Logic Apps, C#, etc.\\n\\n• Microsoft Azure App Service Fabric, App Service Environment, Microsoft Azure API Management platform technologies\\n\\n• Experience of publishing, consuming, and securing APIs, Web Apps and serverless technologies in an Azure context\\n\\n• Practical deployments, configuration and management of various integration technologies and platforms\\n\\nKey Responsibilities\\n• Designing and delivering integration projects using Logic Apps and other Azure services associated data platform solutions\\n• Designing and integrating Azure platforms in a manner which allows the management and provision of data in a secure and reliable manner.\\n• Documentation of solutions (e.g., data models, configurations, and setup)\\n• Research emerging technologies and trends to ensure the best possible outcomes are achieved.\\n• Evaluate integration architectural options in terms of cost, benefits, risk and systems fit in order to provide recommendations.\\n• Communicate the integration strategy with key stakeholders to gain input, buy-in and influence decision-making.\\n• Work with functional and technical leads to understand their requirements, constraints and issues, to design and implement integration solution within those boundaries.\\n• Own and actively manage the integration platform roadmaps and associated designs.\\n• Produce project integration architecture deliverables and review lower-level design documentation.\\n• Define and implement best practices for the various integration scenarios.\\n• Having an experience for leading a team of 2-3 members', 'relatedLinks': [{'link': 'https://www.google.com/search?hl=en&q=Fulcrum+Digital+Inc&sa=X&ved=0ahUKEwiM0pqY3KD9AhXHFTQIHeMZAT84ChCYkAIIiws', 'text': 'See web results for Fulcrum Digital Inc'}], 'thumbnail': 'https://encrypted-tbn0.gstatic.com/images?q=tbn:ANd9GcQZyW46KKuFo1biYHO7kkNpE2xSrKKbhjekTTY_VPE&s', 'extras': ['18 hours ago', 'Full-time', 'No degree mentioned'], 'metadata': {'postedAt': '18 hours ago', 'scheduleType': 'Full-time'}, 'applyLink': {'title': 'Apply on LinkedIn', 'link': 'https://in.linkedin.com/jobs/view/microsoft-azure-integration-developer-at-fulcrum-digital-inc-3488464541?utm_campaign=google_jobs_apply&utm_source=google_jobs_apply&utm_medium=organic'}}, {'title': 'Interesting Job Opportunity: .Net Developer - C#/Visual Studio', 'companyName': 'ShortHills Tech (Gold Microsoft Partner)', 'location': 'Gurugram, Haryana, India', 'via': 'via LinkedIn', 'description': \"NET Developer\\n\\nDescription\\n\\nThe software developer would maintain existing in - house developed tools and act as the primary backup for John with SSRS projects. The developer would also assist Mike with updates, maintenance, and new development of interfaces and dashboards using Spotfire.\\n\\nPrimary Responsibilities\\n• Maintaining and modifying existing C# programs\\n• Create new and modify existing SSRS reports\\n• Maintaining and modifying existing Spotfire\\n• .Fill in and help other areas as needed\\n\\nMust Have\\n• BS Degree in a relevant focus, or equivalent 4+ years working experience required.\\n• 2+ years' experience with relational databases (MSSQL preferred).\\n• Experience in developing windows - based application with .NET.\\n• Well versed with Windows OS - Visual Studio Professional 2019.\\n• 3+ years of experience in C#, .NET , SQL with a focus Front End development / interfaces / forms required.\\n• 2+ Year professional experience creating and working with SQL Server Reporting\\n• Services... (SSRS) strongly recommended.\\n\\nGood to Have -\\n• Experience in Web Based application development.\\n• Working knowledge of Azure, angular.\\n• Familiarity with Windows/Linux/Mac server.\\n• Functional familiarity with python is recommended.\\n• Familiarity with AWS products is a plus.\\n• DevExpress experience is preferred.\\n\\n(ref:hirist.com\", 'relatedLinks': [{'link': 'https://www.google.com/search?hl=en&q=ShortHills+Tech+(Gold+Microsoft+Partner)&sa=X&ved=0ahUKEwiM0pqY3KD9AhXHFTQIHeMZAT84ChCYkAIIuAs', 'text': 'See web results for ShortHills Tech (Gold Microsoft Partner)'}], 'thumbnail': 'https://encrypted-tbn0.gstatic.com/images?q=tbn:ANd9GcTw-0nATNOFpN5jrDYkxg6K7GCveo1XBn4dDJrrCSM&s', 'extras': ['3 days ago', 'Full-time'], 'metadata': {'postedAt': '3 days ago', 'scheduleType': 'Full-time'}, 'applyLink': {'title': 'Apply on LinkedIn', 'link': 'https://in.linkedin.com/jobs/view/interesting-job-opportunity-net-developer-c%23-visual-studio-at-shorthills-tech-gold-microsoft-partner-3480266377?utm_campaign=google_jobs_apply&utm_source=google_jobs_apply&utm_medium=organic'}}, {'title': 'Microsoft is hiring Software Development Engineer [Data] (13 April...', 'companyName': 'Microsoft', 'location': 'India', 'via': 'via Workat.tech', 'description': 'Microsoft is hiring Software Development Engineer [Data] (13 April 2022). Apply now at https://workat.tech/company/microsoft/jobs/software-development-engineer-data-heLvMHxo', 'relatedLinks': [{'link': 'http://www.microsoft.com/', 'text': 'microsoft.com'}, {'link': 'https://www.google.com/search?hl=en&q=Microsoft&sa=X&ved=0ahUKEwiM0pqY3KD9AhXHFTQIHeMZAT84ChCYkAII5As', 'text': 'See web results for Microsoft'}], 'thumbnail': 'https://encrypted-tbn0.gstatic.com/images?q=tbn:ANd9GcTpzWyeBcK1szTx-x1XguwtYLMbnIqH2_ch5pyU&s=0', 'extras': ['Full-time', 'No degree mentioned'], 'metadata': {'scheduleType': 'Full-time'}, 'applyLink': {'title': 'Apply on Workat.tech', 'link': 'https://workat.tech/company/microsoft/jobs/software-development-engineer-data-heLvMHxo?utm_campaign=google_jobs_apply&utm_source=google_jobs_apply&utm_medium=organic'}}, {'title': 'Microsoft Power Platform Developer', 'companyName': 'Confidential Company Name', 'location': 'Anywhere', 'via': 'via Foundit.in', 'description': \"Responsibilities Administering environments, security posture, managing and automating deployments. Configures and manages Power Apps. managing the Center of Excellence (COE) Toolkit Configures and manages the workload integrations for Office 365 connections including Teams, OneDrive, Power Platform and SharePoint. Experience Minimum of 1-2 years of experience managing and/or maintaining Power Apps and Microsoft's other teamwork solutions (Teams, OneDrive). Experience managing the COE toolkit\", 'relatedLinks': [{'link': 'https://www.google.com/search?hl=en&q=Confidential+Company+Name&sa=X&ved=0ahUKEwiM0pqY3KD9AhXHFTQIHeMZAT84ChCYkAIIjww', 'text': 'See web results for Confidential Company Name'}], 'extras': ['Work from home', 'Full-time', 'No degree mentioned'], 'metadata': {'scheduleType': 'Full-time', 'workFromHome': True}, 'applyLink': {'title': 'Apply on Foundit.in', 'link': 'https://www.foundit.in/job/microsoft-power-platform-developer-bengaluru-bangalore-8661802?utm_campaign=google_jobs_apply&utm_source=google_jobs_apply&utm_medium=organic'}}, {'title': 'Principal CAD Manager', 'companyName': 'Microsoft', 'location': 'Bengaluru, Karnataka, India', 'via': 'via LinkedIn', 'description': 'Microsoft continues to drive exciting advances in the design and production of hardware infrastructure for one of the world’s largest and most diverse datacenter operations. This infrastructure enables the delivery of the company’s global cloud-scale services such as Azure, Bing, AI, Office 365 and Xbox Live. The Azure Hardware Systems team is on the forefront of cutting-edge silicon and hardware technology and is driving breakthrough innovations and COGS improvements for supporting Microsoft’s growing cloud businesses. The hardware for operating these services comprises of hundreds of thousands of servers spread globally and applications that reach hundreds of millions of users every day. Our customer-base is growing rapidly, our infrastructure investments are increasing, and the size of our global infrastructure is increasing by the day – along with the scale of our challenges.\\n\\nIn this highly visible leadership role, we are seeking a Senior leader who will be accountable for... development and deployment of advanced SOC design methodology, tools, and processes from concept through post-silicon bring-up and debug across all silicon design teams. With expertise in Electronics Design Automation (EDA) Information Systems and Technologies (IS&T) embedded within Microsoft’s Silicon engineering team. A subject matter expert on cloud aware EDA infrastructure. Come and guide Microsoft’s Silicon cloud journey.\\n\\nResponsibilities\\n• Play a pivotal role in Silicon Engineering Solutions evolving silicon strategy to drive competitive advantages for Microsoft’s HW\\n• Build and lead a team of CAD engineers, EDA tool experts and IT engineers to develop and deliver high-quality, state-of the art design methods, tools and processing\\n• Deploy industry best practices (e.g. machine learning) and latest technologies to efficiently and with quality design and deliver SOCs targeted at Cloud, devices, gaming and mixed-reality applications\\n• Drive common and central design management and infrastructure across design teams and sites, partnering with silicon design and HW engineering leaders\\n• Establish strong working relationships with EDA partners to advance design methodologies and tools\\n• Attract and continuously develop a highly talented and capable engineering teams with strong focus on innovation, agility, schedule, and value creation.\\n• Develop new and novel techniques for optimizing EDA work within the realm of Azure services\\n• Evolve current compute strategy for handling EDAworkloads in Azure\\n\\nQualifications\\n• BA/BS in Engineering, Computer Science, MIS, or a related field (required)\\n• At least 15+ years of experience in technical leadership in CAD, EDA, and/or silicon design, preferably for large and complex enterprise class SOCs (required)\\n• 4+ Years’ experience specifically in CAD/EDA IS&T (required)\\n• Ability to travel internationally (required)\\n• Experience defining and managing IT and engineering compute infrastructure preferred\\n• Track record of developing design methodologies and tools for large scale development and on advanced process nodes\\n• Deep understanding of state-of the art digital design methodologies and best practices\\n• Experience in operating in a central role supporting multiple priorities, IP requirements and milestones\\n• Experience in multi-dimensional constraints and project priorities, schedule, performance, and cost\\n• Self-motivated with superior problem-solving skills, analytical capabilities, and attention to detail\\n• Strong verbal and written communication skills. Must have good interpersonal skills\\n\\nMicrosoft is an equal opportunity employer. All qualified applicants will receive consideration for employment without regard to age, ancestry, color, family or medical care leave, gender identity or expression, genetic information, marital status, medical condition, national origin, physical or mental disability, political affiliation, protected veteran status, race, religion, sex (including pregnancy), sexual orientation, or any other characteristic protected by applicable laws, regulations and ordinances. If you need assistance and/or a reasonable accommodation due to a disability during the application or the recruiting process, please send a request via the Accommodation request form.\\n\\nBenefits/perks listed below may vary depending on the nature of your employment with Microsoft and the country where you work', 'relatedLinks': [{'link': 'http://www.microsoft.com/', 'text': 'microsoft.com'}, {'link': 'https://www.google.com/search?hl=en&q=Microsoft&sa=X&ved=0ahUKEwiM0pqY3KD9AhXHFTQIHeMZAT84ChCYkAIIvgw', 'text': 'See web results for Microsoft'}], 'thumbnail': 'https://encrypted-tbn0.gstatic.com/images?q=tbn:ANd9GcRPFFNNQU6biPwXraVkLSgT9XNjJJW-7pSZCvpNmCU&s', 'extras': ['2 days ago', 'Full-time'], 'metadata': {'postedAt': '2 days ago', 'scheduleType': 'Full-time'}, 'applyLink': {'title': 'Apply on LinkedIn', 'link': 'https://in.linkedin.com/jobs/view/principal-cad-manager-at-microsoft-3484752910?utm_campaign=google_jobs_apply&utm_source=google_jobs_apply&utm_medium=organic'}}, {'title': 'Hiring for Microsoft 365 || Accenture -Contract || Pune-6yrs must', 'companyName': 'Orcapod Consulting Services Pvt. Ltd.', 'location': 'Pune, Maharashtra, India', 'via': 'via Talent.com', 'description': 'Microsoft 365 Accenture -Contract Pune-6years must\\n\\nEmail ID\\n\\nTotal years of IT Industry\\n\\nCurrent location\\n\\nPreferred Job Location\\n\\nNotice Period', 'relatedLinks': [{'link': 'https://www.google.com/search?hl=en&q=Orcapod+Consulting+Services+Pvt.+Ltd.&sa=X&ved=0ahUKEwiM0pqY3KD9AhXHFTQIHeMZAT84ChCYkAII6Aw', 'text': 'See web results for Orcapod Consulting Services Pvt. Ltd.'}], 'extras': ['Full-time', 'No degree mentioned'], 'metadata': {'scheduleType': 'Full-time'}, 'applyLink': {'title': 'Apply on Talent.com', 'link': 'https://in.talent.com/view?id=d781e2f2cb00&utm_campaign=google_jobs_apply&utm_source=google_jobs_apply&utm_medium=organic'}}, {'title': 'Microsoft Dynamics 365 CE Consultant.', 'companyName': 'Kasadara Technology Solutions Pvt Ltd', 'location': 'Coimbatore, Tamil Nadu, India', 'via': 'via LinkedIn', 'description': 'Experience : 8 - 15 years\\n\\nLocation : Tamil Nadu and Bangalore\\n\\nNotice period : Immediate to 30 days\\n\\nKey responsibilities:\\n• Implement and deploy Microsoft Dynamics D365\\n• Analyse front office processes (sales, marketing and customer service) to identify opportunities for improvement\\n• Gather and understand client functional requirements\\n• Perform gap analysis between a client’s requirements and the functionality within Microsoft Dynamics D365 for CE\\n• Configure the application to meet a client’s requirements using the Microsoft Dynamics CE Customization Tool, Workflow Tool, or SDK\\n• Identify creative workarounds to meet requirements without the development of custom code\\n• Understand the functional capabilities and limitations for out of the box functionality as well as custom code\\n• Create technical specifications\\n• Design and integrate business processes and data flows between CE applications and other applications, such as back office/ERP applications\\n• Train client personnel on... the usage and administration of Microsoft Dynamics CE D365 (functional user training and technical training)\\n• Develop high level project work plans\\n• Provide technical support to existing CRM clients\\n\\nKey competencies:\\n• CRM forms, screens, views, workflows and reports development\\n• Programming languages – C#, VB.net, ASP.NET, HTML, JavaScript, VSTO\\n• Architect / design Microsoft Dynamics 365 CE system, related customizations, portals, and reports\\n• Microsoft Dynamics 365 CE development or integration best practices\\n• Technical specifications documentation\\n• Data migration and integration mappings using SQL Integration Services, Scribe or Web Services\\n• SQL Reporting Services', 'relatedLinks': [{'link': 'https://www.google.com/search?hl=en&q=Kasadara+Technology+Solutions+Pvt+Ltd&sa=X&ved=0ahUKEwiM0pqY3KD9AhXHFTQIHeMZAT84ChCYkAIIlQ0', 'text': 'See web results for Kasadara Technology Solutions Pvt Ltd'}], 'thumbnail': 'https://encrypted-tbn0.gstatic.com/images?q=tbn:ANd9GcSj4Yjymp0dTcPerOxqwEWArb7I_sKMiD_kizTqtWE&s', 'extras': ['22 hours ago', 'Full-time', 'No degree mentioned'], 'metadata': {'postedAt': '22 hours ago', 'scheduleType': 'Full-time'}, 'applyLink': {'title': 'Apply on LinkedIn', 'link': 'https://in.linkedin.com/jobs/view/microsoft-dynamics-365-ce-consultant-at-kasadara-technology-solutions-pvt-ltd-3488406145?utm_campaign=google_jobs_apply&utm_source=google_jobs_apply&utm_medium=organic'}}, {'title': 'Principal DV Manager AISoc', 'companyName': 'Microsoft', 'location': 'Bengaluru, Karnataka, India', 'via': 'via LinkedIn', 'description': 'Microsoft is a highly innovative company that collaborates across disciplines to produce cutting edge technology that changes our world. The Silicon team is seeking a passionate, driven, and intellectually curious Principal Verification Engineer to lead a team of engineers in SOC or IP level verification. This individual will work closely with architecture, design, and software teams to create world class chips.\\n\\nOur team is involved in numerous projects within Microsoft developing custom silicon for Microsoft’s Azure Cloud.\\n\\nResponsibilities\\n• Planning of verification projects alongside architecture and design.\\n• Help build a new team.\\n• Lead or manage junior engineers.\\n• Creation and execution of verification environments and tests for pre-silicon functional verification and post-silicon validation.\\n\\nQualifications\\n• B.S. or higher in Computer Engineering, Electrical Engineering, or similar.\\n• 15+ years of design verification experience with a proven track record of full... verification cycle on complex SoC IPs and/or systems.\\n• Lead or management experience.\\n\\nRequirements\\n• In depth knowledge of verification principles, testbenches, stimulus generation.\\n• Substantial background in creating simulation environments, developing tests, and debugging designs.\\n• Solid understanding of chip and/or computer architecture\\n• Experience writing tests in UVM or C and C++\\n• Excellent communication skills\\n• Energetic and self-motivated\\n• Solid ability to mentor engineers.\\n\\nPrior Experience In The Following Would Also Be Valuable\\n• Hardware emulation or FPGAs\\n• Architecture, performance modelling or RTL design\\n• Software and Firmware\\n\\nMicrosoft is an equal opportunity employer. All qualified applicants will receive consideration for employment without regard to age, ancestry, color, family or medical care leave, gender identity or expression, genetic information, marital status, medical condition, national origin, physical or mental disability, political affiliation, protected veteran status, race, religion, sex (including pregnancy), sexual orientation, or any other characteristic protected by applicable laws, regulations and ordinances. If you need assistance and/or a reasonable accommodation due to a disability during the application or the recruiting process, please send a request via the Accommodation request form.\\n\\nBenefits/perks listed below may vary depending on the nature of your employment with Microsoft and the country where you work', 'relatedLinks': [{'link': 'http://www.microsoft.com/', 'text': 'microsoft.com'}, {'link': 'https://www.google.com/search?hl=en&q=Microsoft&sa=X&ved=0ahUKEwiM0pqY3KD9AhXHFTQIHeMZAT84ChCYkAIIxA0', 'text': 'See web results for Microsoft'}], 'thumbnail': 'https://encrypted-tbn0.gstatic.com/images?q=tbn:ANd9GcRPFFNNQU6biPwXraVkLSgT9XNjJJW-7pSZCvpNmCU&s', 'extras': ['2 days ago', 'Full-time'], 'metadata': {'postedAt': '2 days ago', 'scheduleType': 'Full-time'}, 'applyLink': {'title': 'Apply on LinkedIn', 'link': 'https://in.linkedin.com/jobs/view/principal-dv-manager-aisoc-at-microsoft-3484751929?utm_campaign=google_jobs_apply&utm_source=google_jobs_apply&utm_medium=organic'}}, {'title': 'Principal PD Manager AISoC', 'companyName': 'Microsoft', 'location': 'Bengaluru, Karnataka, India', 'via': 'via LinkedIn', 'description': \"Microsoft’s custom silicon design team is developing some of the highest performance, most ambitious chips in the industry. The Physical Design team is looking for the best and brightest to join us as we continue to build a world-class team and methodology. Our responsibilities span the complete spectrum including DFT, full RTL2GDS, and signoff. If you are a highly motivated self-starter who has the skills to make an impact in this environment, we’d love to hear from you!\\n\\nResponsibilities\\n\\nAs a Principal Physical Design Engineering Manager, you will be responsible for leading a team to complete Physical Design tasks at block, sub-chip, and/or full-chip level. The tasks will include Floor planning, Synthesis, Placement, CTS and custom clocking, Routing, Static Timing, Physical Verification, Formal Equivalency, Power Efficiency, IR-Drop, and EM. You may also lead team members in Physical Design flow development/automation and evaluation of and recommendations for technology, IP, and... vendor selection.\\n\\nYou are expected to be able to work with limited direction, have keen attention to detail, and be able to provide crisp status of progress, issues, and risks on the program to the management team. Occasional travel may be required.\\n\\nQualifications\\n• Bachelor's or Master’s in Electrical or Computer Engineering or related field with 15+ years of experience\\n• Experience in tapeouts of complex ASICs in leading edge technology\\n\\nPreferred Qualifications\\n• Strong expertise in one or more of the following: synthesis, floorplanning, placement, clock/power grid construction, routing, low power methodologies, and signoff steps (FV, LPV, Extraction, STA, EMIR, Physical Verification, Power Analysis)\\n• Strong scripting skills\\n• Proven experience in creating and delivering hard macros and knowledge of guidelines for their integration in SoCs\\n• Good understanding of foundry tech files and rule decks\\n\\nMicrosoft is an equal opportunity employer. All qualified applicants will receive consideration for employment without regard to age, ancestry, color, family or medical care leave, gender identity or expression, genetic information, marital status, medical condition, national origin, physical or mental disability, political affiliation, protected veteran status, race, religion, sex (including pregnancy), sexual orientation, or any other characteristic protected by applicable laws, regulations and ordinances. If you need assistance and/or a reasonable accommodation due to a disability during the application or the recruiting process, please send a request via the Accommodation request form.\\n\\nBenefits/perks listed below may vary depending on the nature of your employment with Microsoft and the country where you work\", 'relatedLinks': [{'link': 'http://www.microsoft.com/', 'text': 'microsoft.com'}, {'link': 'https://www.google.com/search?hl=en&q=Microsoft&sa=X&ved=0ahUKEwiM0pqY3KD9AhXHFTQIHeMZAT84ChCYkAII8g0', 'text': 'See web results for Microsoft'}], 'thumbnail': 'https://encrypted-tbn0.gstatic.com/images?q=tbn:ANd9GcRPFFNNQU6biPwXraVkLSgT9XNjJJW-7pSZCvpNmCU&s', 'extras': ['2 days ago', 'Full-time'], 'metadata': {'postedAt': '2 days ago', 'scheduleType': 'Full-time'}, 'applyLink': {'title': 'Apply on LinkedIn', 'link': 'https://in.linkedin.com/jobs/view/principal-pd-manager-aisoc-at-microsoft-3484755183?utm_campaign=google_jobs_apply&utm_source=google_jobs_apply&utm_medium=organic'}}], 'categories': [{'type': 'Category', 'param': 'gcat_category.id', 'options': [{'text': 'All'}, {'text': 'Computer & IT', 'value': 'GC08'}, {'text': 'Management', 'value': 'GC18'}, {'text': 'Science & Engineering', 'value': 'GC27'}, {'text': 'Business Operations', 'value': 'GC06'}, {'text': 'Education', 'value': 'GC11'}, {'text': 'Advertising & Marketing', 'value': 'GC03'}, {'text': 'Sales & Retail', 'value': 'GC26'}, {'text': 'Social Services & Nonprofit', 'value': 'GC28'}, {'text': 'Accounting & Finance', 'value': 'GC01'}, {'text': 'Customer Service', 'value': 'GC10'}, {'text': 'Healthcare', 'value': 'GC14'}, {'text': 'Human Resources', 'value': 'GC15'}, {'text': 'Media, Communications & Writing', 'value': 'GC20'}, {'text': 'Admin & Office', 'value': 'GC02'}, {'text': 'Art, Fashion & Design', 'value': 'GC05'}]}, {'type': 'Title', 'param': 'job_family_1', 'options': [{'text': 'All'}, {'text': 'Software engineer', 'value': 'software engineer'}, {'text': 'Consultant', 'value': 'consultant'}, {'text': 'Manager', 'value': 'manager'}, {'text': 'Product manager', 'value': 'product manager'}, {'text': 'Technical consultant', 'value': 'technical consultant'}, {'text': 'Functional consultant', 'value': 'functional consultant'}, {'text': 'Engineer', 'value': 'engineer'}, {'text': 'Administrator', 'value': 'administrator'}, {'text': 'Program manager', 'value': 'program manager'}, {'text': 'Engineering manager', 'value': 'engineering manager'}, {'text': 'Reliability engineer', 'value': 'reliability engineer'}, {'text': 'Senior', 'value': 'senior'}, {'text': 'Technical', 'value': 'technical'}, {'text': 'Data engineer', 'value': 'data engineer'}, {'text': 'Project manager', 'value': 'project manager'}, {'text': 'Server', 'value': 'server'}, {'text': 'Software engineering', 'value': 'software engineering'}, {'text': 'Business architect', 'value': 'business architect'}, {'text': 'Business manager', 'value': 'business manager'}, {'text': 'Data scientist', 'value': 'data scientist'}, {'text': 'Data services', 'value': 'data services'}, {'text': 'Director', 'value': 'director'}, {'text': 'Director of engineering', 'value': 'director_of engineering'}, {'text': 'Disability', 'value': 'disability'}, {'text': 'Professional', 'value': 'professional'}, {'text': 'Researcher', 'value': 'researcher'}, {'text': 'Senior engineer', 'value': 'senior engineer'}, {'text': 'Solution architect', 'value': 'solution architect'}, {'text': 'Specialist', 'value': 'specialist'}, {'text': 'Staff engineer', 'value': 'staff engineer'}, {'text': 'Account manager', 'value': 'account manager'}, {'text': 'Analyst', 'value': 'analyst'}, {'text': 'Application architect', 'value': 'application architect'}, {'text': 'Applied scientist', 'value': 'applied scientist'}, {'text': 'Architect', 'value': 'architect'}, {'text': 'Business', 'value': 'business'}, {'text': 'Configuration manager', 'value': 'configuration manager'}, {'text': 'Crm consultant', 'value': 'crm consultant'}, {'text': 'Data architect', 'value': 'data architect'}, {'text': 'Data science', 'value': 'data science'}, {'text': 'Degree', 'value': 'degree'}, {'text': 'Delivery manager', 'value': 'delivery manager'}, {'text': 'Development engineer', 'value': 'development engineer'}, {'text': 'Engineering', 'value': 'engineering'}, {'text': 'It specialist', 'value': 'it specialist'}, {'text': 'Marketing specialist', 'value': 'marketing specialist'}, {'text': 'Operations engineer', 'value': 'operations engineer'}, {'text': 'Operator', 'value': 'operator'}, {'text': 'Practitioner', 'value': 'practitioner'}, {'text': 'Principal', 'value': 'principal'}, {'text': 'Product owner', 'value': 'product owner'}]}, {'type': 'Location', 'param': 'city', 'options': [{'text': 'All'}, {'text': 'Bengaluru, Karnataka', 'value': 'bU60yXAWrjvgT35R6MPf-A=='}, {'text': 'Hyderabad, Telangana', 'value': 'x9Lr6tqZyzvC-7qSg7eTrg=='}, {'text': 'Mumbai, Maharashtra', 'value': 'we1EZjDG5ztpjGSNj-2kXQ=='}, {'text': 'Pune, Maharashtra', 'value': 'ARFGZy6_wjtD456dv0ONgg=='}, {'text': 'Chennai, Tamil Nadu', 'value': 'YTN9T-plUjoz1GNoC6dhbg=='}, {'text': 'Noida, Uttar Pradesh', 'value': 'ezVzMaTlDDk_wHzIMM7_Nw=='}, {'text': 'Gurugram, Haryana', 'value': 'WYjjgtUZDTkeS8bl6F_PAg=='}, {'text': 'Ahmedabad, Gujarat', 'value': 'SdRbuoqEXjkWZU9hEd3OTw=='}, {'text': 'New Delhi, Delhi', 'value': 'LbZ-NFv9DDnOTSBOSbfCUg=='}, {'text': 'Kolkata, West Bengal', 'value': 'Z_YISduC-Dm8LGyP5jDjQw=='}, {'text': 'Kochi, Kerala', 'value': 'v8a-SlENCDuSQYSlyoLVCw=='}, {'text': 'Secunderabad, Telangana', 'value': 'KV0lSK2EyzszNJuZGoQQBA=='}, {'text': 'Coimbatore, Tamil Nadu', 'value': 'tRyXL69ZqDuC0j4YHsjBLw=='}, {'text': 'Kanpur, Uttar Pradesh', 'value': 'b8QnsXBHnDlBe76fKjB4Fw=='}, {'text': 'Amritsar, Punjab', 'value': 'VXOeVqpkGTl974TuW2Ci7g=='}, {'text': 'Bamtapur Nand Bagh, Uttar Pradesh', 'value': '-cWeDFdInjk2BSBHlxcX5w=='}, {'text': 'Bela Pratapgarh, Uttar Pradesh', 'value': 'h78pMtSQmjle5_TszjRnIQ=='}, {'text': 'Bhubaneswar, Odisha', 'value': 'pQoX1dIJGTqoP7NoKw5Y_A=='}, {'text': 'Bihar Sharif, Bihar', 'value': 'I832MFzz8jlZ74-JN4tmSg=='}, {'text': 'Daman, Dadra and Nagar Haveli and Daman and Diu', 'value': 'EUhek3Xa4DsmuAZBT7U5Yw=='}, {'text': 'Dariyapur, Rajasthan', 'value': 'EWHb_Sf_czlvQbNciOpN1Q=='}, {'text': 'Gorakh Nath, Haryana', 'value': 'WYI5Xdf0Dznj86rR1Wr_rw=='}, {'text': 'Goregaon, Maharashtra', 'value': '85kATMelKzo3O9atpWIDRA=='}, {'text': 'Gudhiyari, Chhattisgarh', 'value': 'uUzwOfbdKDrEAvsj-3nE4A=='}, {'text': 'Jaipur, Rajasthan', 'value': 'geJXTN9KbDkJLvIMOsbhDA=='}, {'text': 'Kanayannur, Kerala', 'value': '675DqE90CDsJRedOeclxWA=='}, {'text': 'Mangaluru, Karnataka', 'value': 'j0i_N0xaoztk_vx0erx7gg=='}, {'text': 'Navi Mumbai, Maharashtra', 'value': 'rRMfuPC55ztp-IURaPcSPA=='}, {'text': 'Pimpri-Chinchwad, Maharashtra', 'value': 's-q9fze4wjv4oKex2mVCLA=='}, {'text': 'Puducherry', 'value': 'z89JjqthUzpOsPDSJtNrzA=='}, {'text': 'Thane, Maharashtra', 'value': 'Wf12_vy45zuDAsX3hX02zw=='}, {'text': 'Vadodara, Gujarat', 'value': 'q92jkavIXzm4P0fhv9M5rA=='}, {'text': 'Kothiya, Bihar', 'value': 'AYAXHoef8jlJzBLiJGrzBA=='}, {'text': 'Indore, Madhya Pradesh', 'value': '2w1BG638Yjn0QGI12sRuCQ=='}]}, {'type': 'Date posted', 'param': 'date_posted', 'options': [{'text': 'All'}, {'text': 'Past day', 'value': 'today'}, {'text': 'Past 3 days', 'value': '3days'}, {'text': 'Past week', 'value': 'week'}, {'text': 'Past month', 'value': 'month'}]}, {'type': 'Requirements', 'param': 'requirements', 'options': [{'text': 'All'}, {'text': 'No degree', 'value': 'no_degree'}, {'text': 'No experience', 'value': 'no_experience'}, {'text': 'Under 3 years of experience', 'value': 'years3under'}, {'text': '3+ years of experience', 'value': 'years3plus'}]}, {'type': 'Type', 'param': 'employment_type', 'options': [{'text': 'All'}, {'text': 'Full-time', 'value': 'FULLTIME'}, {'text': 'Internship', 'value': 'INTERN'}, {'text': 'Contractor', 'value': 'CONTRACTOR'}, {'text': 'Part-time', 'value': 'PARTTIME'}]}, {'type': 'Company type', 'param': 'industry.id', 'options': [{'text': 'All'}, {'text': 'Information', 'value': '/business/naics2007/51'}, {'text': 'Computer Services', 'value': '/business/naics2007/5415'}, {'text': 'Consulting', 'value': '/business/naics2007/5416'}, {'text': 'Accounting', 'value': '/business/naics2007/5412'}, {'text': 'Manufacturing', 'value': '/business/naics2007/31'}, {'text': 'Finance', 'value': '/business/naics2007/52'}, {'text': 'Toiletries', 'value': '/business/naics2007/3256'}, {'text': 'Construction', 'value': '/business/naics2007/23'}, {'text': 'Foods & Beverages', 'value': '/business/naics2007/311'}, {'text': 'Retail', 'value': '/business/naics2007/44'}]}, {'type': 'Employer', 'param': 'organization_mid', 'options': [{'text': 'All'}, {'text': 'Microsoft', 'value': '/m/04sv4'}, {'text': 'Accenture', 'value': '/m/01rp2c'}, {'text': 'IBM', 'value': '/m/03sc8'}, {'text': 'EY', 'value': '/m/0g9jc'}, {'text': 'Alp Consulting Ltd.', 'value': '/g/11fy20ck_y'}, {'text': 'DXC Technology', 'value': '/g/11c6rh26jp'}, {'text': 'Tata Consultancy Services', 'value': '/m/01psx8'}, {'text': 'Bosch Group', 'value': '/m/01hnkf'}, {'text': 'Capgemini', 'value': '/m/03vlk0'}, {'text': 'Deloitte', 'value': '/m/02spfd'}, {'text': 'HCLTech', 'value': '/m/0698gv'}, {'text': 'Nutanix', 'value': '/m/0k3lpf4'}, {'text': 'Synechron', 'value': '/m/027hdqs'}, {'text': 'Tata Group', 'value': '/m/014lk3'}, {'text': 'ApTask', 'value': '/g/11dxpqc5_0'}, {'text': 'Atos', 'value': '/m/03mndf'}, {'text': 'BNP Paribas', 'value': '/m/02qhk4'}, {'text': 'Bechtel Corporation', 'value': '/m/01f2nm'}, {'text': 'Bristlecone', 'value': '/g/11c52fk6bf'}, {'text': 'Citi', 'value': '/m/01dfb6'}, {'text': 'Exelegent', 'value': '/g/11c73ln_c1'}, {'text': 'Experis/Manpower Group', 'value': '/g/112yfwd07'}]}]}\n",
      "{'searchQuery': {'term': 'Microsoft fresher jobs in India', 'page': 3, 'type': 'SEARCH', 'domain': 'google.co.in', 'countryCode': 'IN', 'languageCode': 'en', 'locationUule': 'w CAIQICIFU3VyYXQ=', 'resultsPerPage': 10}, 'url': 'https://www.google.co.in/search?hl=en&ibp=htl%3Bjobs&lrad=500&q=Microsoft%20fresher%20jobs%20in%20India&uule=w%20CAIQICIFU3VyYXQ%3D&start=20', 'hasNextPage': False, 'googleJobs': []}\n"
     ]
    }
   ],
   "source": [
    "# Prepare the actor input\n",
    "run_input = {\n",
    "    \"queries\": \"Microsoft fresher jobs in India\",\n",
    "    \"maxPagesPerQuery\": 100,\n",
    "    \"countryCode\": \"in\",\n",
    "    \"languageCode\" : \"en\",\n",
    "    \"locationUule\" : r\"w+CAIQICIFU3VyYXQ=\",\n",
    "    \"radius\" : 500,\n",
    "}\n",
    "\n",
    "# Run the actor and wait for it to finish\n",
    "run = client.actor(\"dan.scraper/google-jobs-scraper\").call(run_input=run_input)\n",
    "\n",
    "# Fetch and print actor results from the run's dataset (if there are any)\n",
    "for item in client.dataset(run[\"defaultDatasetId\"]).iterate_items():\n",
    "    print(item)\n"
   ]
  },
  {
   "cell_type": "code",
   "execution_count": 101,
   "metadata": {},
   "outputs": [
    {
     "name": "stdout",
     "output_type": "stream",
     "text": [
      "dict_keys(['searchQuery', 'url', 'hasNextPage', 'googleJobs', 'categories'])\n",
      "10\n",
      "dict_keys(['searchQuery', 'url', 'hasNextPage', 'googleJobs', 'categories'])\n",
      "10\n",
      "dict_keys(['searchQuery', 'url', 'hasNextPage', 'googleJobs'])\n",
      "0\n"
     ]
    }
   ],
   "source": [
    "# Fetch and print actor results from the run's dataset (if there are any)\n",
    "for item in client.dataset(run[\"defaultDatasetId\"]).iterate_items():\n",
    "    print(item.keys())\n",
    "    print(len(item['googleJobs']))"
   ]
  },
  {
   "cell_type": "code",
   "execution_count": 102,
   "metadata": {},
   "outputs": [],
   "source": [
    "data = {\n",
    "    'title': [],\n",
    "    'company_name': [],\n",
    "    'location': [],\n",
    "    'from': [],\n",
    "    'Benefits': [],\n",
    "    'Qualifications': [],\n",
    "    'Responsibilities': [],\n",
    "    'thumbnail': [],\n",
    "    'applyLink': [],\n",
    "}\n",
    "\n",
    "highlight_keys = ['Benefits', 'Qualifications', 'Responsibilities']\n",
    "\n",
    "for page in client.dataset(run[\"defaultDatasetId\"]).iterate_items():\n",
    "    page_data = page['googleJobs']\n",
    "    for job in page_data:\n",
    "#         if 'jobHighlights' not in job.keys():\n",
    "#             continue\n",
    "        data['title'].append(job['title'])\n",
    "        data['company_name'].append(job['companyName'])\n",
    "        data['location'].append(job['location'] if 'location' in job.keys() else \"\") \n",
    "        data['from'].append(job['via'])\n",
    "#         print(job['applyLink']['link'])\n",
    "        data['applyLink'].append(job['applyLink']['link'])\n",
    "        data['thumbnail'].append(job['thumbnail'] if 'thumbnail' in job.keys() else \"\")\n",
    "        for k in highlight_keys:\n",
    "            if 'jobHighlights' in job.keys():\n",
    "                found = False\n",
    "                for h in job['jobHighlights']:\n",
    "                    if 'title' in h.keys() and k == h['title']:\n",
    "                        data[k].append(\". \".join(h['items']))\n",
    "                        found = True\n",
    "                if not found:\n",
    "                    data[k].append(\"\")\n",
    "            else:\n",
    "                data[k].append(\"\")\n"
   ]
  },
  {
   "cell_type": "code",
   "execution_count": 103,
   "metadata": {},
   "outputs": [
    {
     "name": "stdout",
     "output_type": "stream",
     "text": [
      "20\n"
     ]
    },
    {
     "data": {
      "text/html": [
       "<div>\n",
       "<style scoped>\n",
       "    .dataframe tbody tr th:only-of-type {\n",
       "        vertical-align: middle;\n",
       "    }\n",
       "\n",
       "    .dataframe tbody tr th {\n",
       "        vertical-align: top;\n",
       "    }\n",
       "\n",
       "    .dataframe thead th {\n",
       "        text-align: right;\n",
       "    }\n",
       "</style>\n",
       "<table border=\"1\" class=\"dataframe\">\n",
       "  <thead>\n",
       "    <tr style=\"text-align: right;\">\n",
       "      <th></th>\n",
       "      <th>title</th>\n",
       "      <th>company_name</th>\n",
       "      <th>location</th>\n",
       "      <th>from</th>\n",
       "      <th>Benefits</th>\n",
       "      <th>Qualifications</th>\n",
       "      <th>Responsibilities</th>\n",
       "      <th>thumbnail</th>\n",
       "      <th>applyLink</th>\n",
       "    </tr>\n",
       "  </thead>\n",
       "  <tbody>\n",
       "    <tr>\n",
       "      <th>0</th>\n",
       "      <td>Microsoft is hiring Software Engineer [2022 Gr...</td>\n",
       "      <td>Microsoft</td>\n",
       "      <td>India</td>\n",
       "      <td>via Workat.tech</td>\n",
       "      <td></td>\n",
       "      <td></td>\n",
       "      <td></td>\n",
       "      <td>https://encrypted-tbn0.gstatic.com/images?q=tb...</td>\n",
       "      <td>https://workat.tech/company/microsoft/jobs/sof...</td>\n",
       "    </tr>\n",
       "    <tr>\n",
       "      <th>1</th>\n",
       "      <td>Microsoft D365-Functional-Finance</td>\n",
       "      <td>DXC Technology</td>\n",
       "      <td>Gurugram, Haryana, India</td>\n",
       "      <td>via LinkedIn</td>\n",
       "      <td></td>\n",
       "      <td></td>\n",
       "      <td></td>\n",
       "      <td>https://encrypted-tbn0.gstatic.com/images?q=tb...</td>\n",
       "      <td>https://in.linkedin.com/jobs/view/microsoft-d3...</td>\n",
       "    </tr>\n",
       "    <tr>\n",
       "      <th>2</th>\n",
       "      <td>Microsoft Off Campus Drive 2023 Hiring Data An...</td>\n",
       "      <td>Microsoft</td>\n",
       "      <td>Hyderabad, Telangana, India</td>\n",
       "      <td>via Freshershunt</td>\n",
       "      <td></td>\n",
       "      <td></td>\n",
       "      <td></td>\n",
       "      <td>https://encrypted-tbn0.gstatic.com/images?q=tb...</td>\n",
       "      <td>https://freshershunt.in/microsoft-off-campus-d...</td>\n",
       "    </tr>\n",
       "    <tr>\n",
       "      <th>3</th>\n",
       "      <td>Microsoft is hiring for Freshers as Research I...</td>\n",
       "      <td>Microsoft</td>\n",
       "      <td>Bengaluru, Karnataka, India</td>\n",
       "      <td>via DJobBuzz.com</td>\n",
       "      <td></td>\n",
       "      <td></td>\n",
       "      <td></td>\n",
       "      <td>https://encrypted-tbn0.gstatic.com/images?q=tb...</td>\n",
       "      <td>https://www.djobbuzz.com/home/viewjob/7447/mic...</td>\n",
       "    </tr>\n",
       "    <tr>\n",
       "      <th>4</th>\n",
       "      <td>Microsoft Jobs 2023 for Research Fellow</td>\n",
       "      <td>Microsoft</td>\n",
       "      <td>Bengaluru, Karnataka, India</td>\n",
       "      <td>via Off Campus Careers</td>\n",
       "      <td></td>\n",
       "      <td></td>\n",
       "      <td></td>\n",
       "      <td>https://encrypted-tbn0.gstatic.com/images?q=tb...</td>\n",
       "      <td>https://offcampuscareers.com/microsoft-jobs-4/...</td>\n",
       "    </tr>\n",
       "  </tbody>\n",
       "</table>\n",
       "</div>"
      ],
      "text/plain": [
       "                                               title    company_name  \\\n",
       "0  Microsoft is hiring Software Engineer [2022 Gr...       Microsoft   \n",
       "1                  Microsoft D365-Functional-Finance  DXC Technology   \n",
       "2  Microsoft Off Campus Drive 2023 Hiring Data An...       Microsoft   \n",
       "3  Microsoft is hiring for Freshers as Research I...       Microsoft   \n",
       "4            Microsoft Jobs 2023 for Research Fellow       Microsoft   \n",
       "\n",
       "                      location                    from Benefits  \\\n",
       "0                        India         via Workat.tech            \n",
       "1     Gurugram, Haryana, India            via LinkedIn            \n",
       "2  Hyderabad, Telangana, India        via Freshershunt            \n",
       "3  Bengaluru, Karnataka, India        via DJobBuzz.com            \n",
       "4  Bengaluru, Karnataka, India  via Off Campus Careers            \n",
       "\n",
       "  Qualifications Responsibilities  \\\n",
       "0                                   \n",
       "1                                   \n",
       "2                                   \n",
       "3                                   \n",
       "4                                   \n",
       "\n",
       "                                           thumbnail  \\\n",
       "0  https://encrypted-tbn0.gstatic.com/images?q=tb...   \n",
       "1  https://encrypted-tbn0.gstatic.com/images?q=tb...   \n",
       "2  https://encrypted-tbn0.gstatic.com/images?q=tb...   \n",
       "3  https://encrypted-tbn0.gstatic.com/images?q=tb...   \n",
       "4  https://encrypted-tbn0.gstatic.com/images?q=tb...   \n",
       "\n",
       "                                           applyLink  \n",
       "0  https://workat.tech/company/microsoft/jobs/sof...  \n",
       "1  https://in.linkedin.com/jobs/view/microsoft-d3...  \n",
       "2  https://freshershunt.in/microsoft-off-campus-d...  \n",
       "3  https://www.djobbuzz.com/home/viewjob/7447/mic...  \n",
       "4  https://offcampuscareers.com/microsoft-jobs-4/...  "
      ]
     },
     "metadata": {},
     "output_type": "display_data"
    }
   ],
   "source": [
    "df = pd.DataFrame.from_dict(data)\n",
    "print(len(df))\n",
    "display(df.head())"
   ]
  },
  {
   "cell_type": "code",
   "execution_count": 92,
   "metadata": {},
   "outputs": [
    {
     "data": {
      "text/plain": [
       "20"
      ]
     },
     "execution_count": 92,
     "metadata": {},
     "output_type": "execute_result"
    }
   ],
   "source": [
    "df['company_name'].nunique()"
   ]
  },
  {
   "cell_type": "code",
   "execution_count": 104,
   "metadata": {},
   "outputs": [],
   "source": [
    "df.to_csv(\"data_science_job_data_with_applylink_micro.csv\", index=False)"
   ]
  },
  {
   "cell_type": "code",
   "execution_count": null,
   "metadata": {},
   "outputs": [],
   "source": []
  }
 ],
 "metadata": {
  "kernelspec": {
   "display_name": "Python 3 (ipykernel)",
   "language": "python",
   "name": "python3"
  },
  "language_info": {
   "codemirror_mode": {
    "name": "ipython",
    "version": 3
   },
   "file_extension": ".py",
   "mimetype": "text/x-python",
   "name": "python",
   "nbconvert_exporter": "python",
   "pygments_lexer": "ipython3",
   "version": "3.9.13"
  }
 },
 "nbformat": 4,
 "nbformat_minor": 1
}
