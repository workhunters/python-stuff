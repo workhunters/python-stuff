{
 "cells": [
  {
   "cell_type": "code",
   "execution_count": 149,
   "metadata": {},
   "outputs": [],
   "source": [
    "import pandas as pd\n",
    "import yake"
   ]
  },
  {
   "cell_type": "code",
   "execution_count": 165,
   "metadata": {},
   "outputs": [
    {
     "data": {
      "text/html": [
       "<div>\n",
       "<style scoped>\n",
       "    .dataframe tbody tr th:only-of-type {\n",
       "        vertical-align: middle;\n",
       "    }\n",
       "\n",
       "    .dataframe tbody tr th {\n",
       "        vertical-align: top;\n",
       "    }\n",
       "\n",
       "    .dataframe thead th {\n",
       "        text-align: right;\n",
       "    }\n",
       "</style>\n",
       "<table border=\"1\" class=\"dataframe\">\n",
       "  <thead>\n",
       "    <tr style=\"text-align: right;\">\n",
       "      <th></th>\n",
       "      <th>title</th>\n",
       "      <th>company_name</th>\n",
       "      <th>location</th>\n",
       "      <th>from</th>\n",
       "      <th>Benefits</th>\n",
       "      <th>Qualifications</th>\n",
       "      <th>Responsibilities</th>\n",
       "      <th>thumbnail</th>\n",
       "      <th>applyLink</th>\n",
       "    </tr>\n",
       "  </thead>\n",
       "  <tbody>\n",
       "    <tr>\n",
       "      <th>0</th>\n",
       "      <td>Microsoft is hiring Software Engineer [2022 Gr...</td>\n",
       "      <td>Microsoft</td>\n",
       "      <td>India</td>\n",
       "      <td>via Workat.tech</td>\n",
       "      <td>NaN</td>\n",
       "      <td>NaN</td>\n",
       "      <td>NaN</td>\n",
       "      <td>https://encrypted-tbn0.gstatic.com/images?q=tb...</td>\n",
       "      <td>https://workat.tech/company/microsoft/jobs/sof...</td>\n",
       "    </tr>\n",
       "    <tr>\n",
       "      <th>1</th>\n",
       "      <td>Microsoft D365-Functional-Finance</td>\n",
       "      <td>DXC Technology</td>\n",
       "      <td>Gurugram, Haryana, India</td>\n",
       "      <td>via LinkedIn</td>\n",
       "      <td>NaN</td>\n",
       "      <td>NaN</td>\n",
       "      <td>NaN</td>\n",
       "      <td>https://encrypted-tbn0.gstatic.com/images?q=tb...</td>\n",
       "      <td>https://in.linkedin.com/jobs/view/microsoft-d3...</td>\n",
       "    </tr>\n",
       "    <tr>\n",
       "      <th>2</th>\n",
       "      <td>Microsoft Off Campus Drive 2023 Hiring Data An...</td>\n",
       "      <td>Microsoft</td>\n",
       "      <td>Hyderabad, Telangana, India</td>\n",
       "      <td>via Freshershunt</td>\n",
       "      <td>NaN</td>\n",
       "      <td>NaN</td>\n",
       "      <td>NaN</td>\n",
       "      <td>https://encrypted-tbn0.gstatic.com/images?q=tb...</td>\n",
       "      <td>https://freshershunt.in/microsoft-off-campus-d...</td>\n",
       "    </tr>\n",
       "    <tr>\n",
       "      <th>3</th>\n",
       "      <td>Microsoft is hiring for Freshers as Research I...</td>\n",
       "      <td>Microsoft</td>\n",
       "      <td>Bengaluru, Karnataka, India</td>\n",
       "      <td>via DJobBuzz.com</td>\n",
       "      <td>NaN</td>\n",
       "      <td>NaN</td>\n",
       "      <td>NaN</td>\n",
       "      <td>https://encrypted-tbn0.gstatic.com/images?q=tb...</td>\n",
       "      <td>https://www.djobbuzz.com/home/viewjob/7447/mic...</td>\n",
       "    </tr>\n",
       "    <tr>\n",
       "      <th>4</th>\n",
       "      <td>Microsoft Jobs 2023 for Research Fellow</td>\n",
       "      <td>Microsoft</td>\n",
       "      <td>Bengaluru, Karnataka, India</td>\n",
       "      <td>via Off Campus Careers</td>\n",
       "      <td>NaN</td>\n",
       "      <td>NaN</td>\n",
       "      <td>NaN</td>\n",
       "      <td>https://encrypted-tbn0.gstatic.com/images?q=tb...</td>\n",
       "      <td>https://offcampuscareers.com/microsoft-jobs-4/...</td>\n",
       "    </tr>\n",
       "  </tbody>\n",
       "</table>\n",
       "</div>"
      ],
      "text/plain": [
       "                                               title    company_name  \\\n",
       "0  Microsoft is hiring Software Engineer [2022 Gr...       Microsoft   \n",
       "1                  Microsoft D365-Functional-Finance  DXC Technology   \n",
       "2  Microsoft Off Campus Drive 2023 Hiring Data An...       Microsoft   \n",
       "3  Microsoft is hiring for Freshers as Research I...       Microsoft   \n",
       "4            Microsoft Jobs 2023 for Research Fellow       Microsoft   \n",
       "\n",
       "                      location                    from  Benefits  \\\n",
       "0                        India         via Workat.tech       NaN   \n",
       "1     Gurugram, Haryana, India            via LinkedIn       NaN   \n",
       "2  Hyderabad, Telangana, India        via Freshershunt       NaN   \n",
       "3  Bengaluru, Karnataka, India        via DJobBuzz.com       NaN   \n",
       "4  Bengaluru, Karnataka, India  via Off Campus Careers       NaN   \n",
       "\n",
       "   Qualifications  Responsibilities  \\\n",
       "0             NaN               NaN   \n",
       "1             NaN               NaN   \n",
       "2             NaN               NaN   \n",
       "3             NaN               NaN   \n",
       "4             NaN               NaN   \n",
       "\n",
       "                                           thumbnail  \\\n",
       "0  https://encrypted-tbn0.gstatic.com/images?q=tb...   \n",
       "1  https://encrypted-tbn0.gstatic.com/images?q=tb...   \n",
       "2  https://encrypted-tbn0.gstatic.com/images?q=tb...   \n",
       "3  https://encrypted-tbn0.gstatic.com/images?q=tb...   \n",
       "4  https://encrypted-tbn0.gstatic.com/images?q=tb...   \n",
       "\n",
       "                                           applyLink  \n",
       "0  https://workat.tech/company/microsoft/jobs/sof...  \n",
       "1  https://in.linkedin.com/jobs/view/microsoft-d3...  \n",
       "2  https://freshershunt.in/microsoft-off-campus-d...  \n",
       "3  https://www.djobbuzz.com/home/viewjob/7447/mic...  \n",
       "4  https://offcampuscareers.com/microsoft-jobs-4/...  "
      ]
     },
     "execution_count": 165,
     "metadata": {},
     "output_type": "execute_result"
    }
   ],
   "source": [
    "data = pd.read_csv(r\"C:\\Users\\Jadha\\PycharmProjects\\python-stuff\\data_science_job_data_with_applylink_micro.csv\")\n",
    "data.head()"
   ]
  },
  {
   "cell_type": "code",
   "execution_count": 166,
   "metadata": {},
   "outputs": [
    {
     "data": {
      "text/plain": [
       "0    NaN\n",
       "1    NaN\n",
       "2    NaN\n",
       "3    NaN\n",
       "4    NaN\n",
       "5    NaN\n",
       "6    NaN\n",
       "7    NaN\n",
       "8    NaN\n",
       "9    NaN\n",
       "10   NaN\n",
       "11   NaN\n",
       "12   NaN\n",
       "13   NaN\n",
       "14   NaN\n",
       "15   NaN\n",
       "16   NaN\n",
       "17   NaN\n",
       "18   NaN\n",
       "19   NaN\n",
       "Name: Qualifications, dtype: float64"
      ]
     },
     "execution_count": 166,
     "metadata": {},
     "output_type": "execute_result"
    }
   ],
   "source": [
    "data['Qualifications']"
   ]
  },
  {
   "cell_type": "markdown",
   "metadata": {},
   "source": [
    "## Data Cleaning"
   ]
  },
  {
   "cell_type": "code",
   "execution_count": 124,
   "metadata": {},
   "outputs": [
    {
     "name": "stderr",
     "output_type": "stream",
     "text": [
      "[nltk_data] Downloading package stopwords to\n",
      "[nltk_data]     C:\\Users\\Jadha\\AppData\\Roaming\\nltk_data...\n",
      "[nltk_data]   Package stopwords is already up-to-date!\n",
      "[nltk_data] Downloading package punkt to\n",
      "[nltk_data]     C:\\Users\\Jadha\\AppData\\Roaming\\nltk_data...\n",
      "[nltk_data]   Package punkt is already up-to-date!\n"
     ]
    }
   ],
   "source": [
    "import pandas as pd\n",
    "from num2words import num2words\n",
    "import re\n",
    "import nltk\n",
    "from nltk.corpus import stopwords\n",
    "from nltk.tokenize import word_tokenize\n",
    "nltk.download('stopwords')\n",
    "nltk.download('punkt')\n",
    "\n",
    "stop_words = set(stopwords.words('english'))"
   ]
  },
  {
   "cell_type": "code",
   "execution_count": 125,
   "metadata": {},
   "outputs": [],
   "source": [
    "def remove_punctuation_func(text):\n",
    "    '''\n",
    "    Removes all punctuation from a string, if present\n",
    "    \n",
    "    Args:\n",
    "        text (str): String to which the function is to be applied, string\n",
    "    \n",
    "    Returns:\n",
    "        Clean string without punctuations\n",
    "    '''\n",
    "    return re.sub(r'[^a-zA-Z0-9]', ' ', text)"
   ]
  },
  {
   "cell_type": "code",
   "execution_count": 126,
   "metadata": {},
   "outputs": [],
   "source": [
    "def chat_words_to_norm_words_func(text):\n",
    "    '''\n",
    "    Replaces common chat expressions with their spelled out form\n",
    "    \n",
    "    Args:\n",
    "        text (str): String to which the function is to be applied, string\n",
    "    \n",
    "    Returns:\n",
    "        Clean string with replaced chat expressions\n",
    "    ''' \n",
    "    return re.sub(r'\\S+', lambda m: chat_expressions_dict.get(m.group().upper(), m.group()) , text)\n",
    "\n",
    "def sep_num_words_func(text):\n",
    "    '''\n",
    "    Separates numbers from words or other characters\n",
    "    \n",
    "    Args:\n",
    "        text (str): String to which the function is to be applied, string\n",
    "    \n",
    "    Returns:\n",
    "        Clean string with separated numbers from words or other characters\n",
    "    ''' \n",
    "    return re.sub(r\"([0-9]+(\\.[0-9]+)?)\",r\" \\1 \", text).strip() \n",
    "\n",
    "def num_to_words(text):\n",
    "    '''\n",
    "    Convert Numbers to Words\n",
    "    \n",
    "    Args:\n",
    "        text (str): String to which the function is to be applied, string\n",
    "    \n",
    "    Returns:\n",
    "        Clean string with converted Numbers to Words\n",
    "    ''' \n",
    "    after_spliting = text.split()\n",
    "\n",
    "    for index in range(len(after_spliting)):\n",
    "        if after_spliting[index].isdigit():\n",
    "            after_spliting[index] = num2words(after_spliting[index])\n",
    "    numbers_to_words = ' '.join(after_spliting)\n",
    "    return numbers_to_words\n",
    "\n",
    "\n",
    "def convert_exp_to_word(text):\n",
    "    replacement = {'8+': 'eight plus', '9+': 'nine plus', '10+': 'ten plus', '11+': 'eleven plus', '12+': 'twelve plus', '13+': 'thirteen plus', '14+': 'fourteen plus', '15+': 'fifteen plus', '16+': 'sixteen plus', '17+': 'seventeen plus', '18+': 'eighteen plus', '19+': 'nineteen plus', '20+': 'twenty plus'}\n",
    "\n",
    "    for pat, rep in replacement.items():\n",
    "        text = re.sub(pat, rep, text)\n",
    "    return text\n",
    "\n",
    "def remove_extra_whitespaces_func(text):\n",
    "    '''\n",
    "    Removes extra whitespaces from a string, if present\n",
    "    \n",
    "    Args:\n",
    "        text (str): String to which the function is to be applied, string\n",
    "    \n",
    "    Returns:\n",
    "        Clean string without extra whitespaces\n",
    "    ''' \n",
    "    return re.sub(r'^\\s*|\\s\\s*', ' ', text).strip()\n",
    "\n",
    "def stop_word_removal(text):\n",
    "    word_tokens = word_tokenize(text)\n",
    "    # converts the words in word_tokens to lower case and then checks whether \n",
    "    #they are present in stop_words or not\n",
    "    filtered_sentence = [w for w in word_tokens if not w.lower() in stop_words]\n",
    "    #with no lower case conversion\n",
    "    filtered_sentence = []\n",
    "\n",
    "    for w in word_tokens:\n",
    "        if w not in stop_words:\n",
    "            filtered_sentence.append(w)\n",
    "    return \" \".join(filtered_sentence)\n",
    "\n",
    "def num_to_words(text):\n",
    "    '''\n",
    "    Convert Numbers to Words\n",
    "    \n",
    "    Args:\n",
    "        text (str): String to which the function is to be applied, string\n",
    "    \n",
    "    Returns:\n",
    "        Clean string with converted Numbers to Words\n",
    "    ''' \n",
    "    after_spliting = text.split()\n",
    "\n",
    "    for index in range(len(after_spliting)):\n",
    "        if after_spliting[index].isdigit():\n",
    "            after_spliting[index] = num2words(after_spliting[index])\n",
    "    numbers_to_words = ' '.join(after_spliting)\n",
    "    return numbers_to_words\n"
   ]
  },
  {
   "cell_type": "markdown",
   "metadata": {},
   "source": [
    "### Number to word"
   ]
  },
  {
   "cell_type": "code",
   "execution_count": 93,
   "metadata": {},
   "outputs": [
    {
     "data": {
      "text/plain": [
       "'8 + years of industry experience in data science, measurement, marketing strategy & analytics.'"
      ]
     },
     "execution_count": 93,
     "metadata": {},
     "output_type": "execute_result"
    }
   ],
   "source": [
    "text = '8+ years of industry experience in data science, measurement, marketing strategy & analytics.'\n",
    "text = sep_num_words_func(text)\n",
    "text"
   ]
  },
  {
   "cell_type": "code",
   "execution_count": 94,
   "metadata": {},
   "outputs": [
    {
     "data": {
      "text/plain": [
       "'eight plus + years of industry experience in data science, measurement, marketing strategy & analytics.'"
      ]
     },
     "execution_count": 94,
     "metadata": {},
     "output_type": "execute_result"
    }
   ],
   "source": [
    "text = convert_exp_to_word(text)\n",
    "text"
   ]
  },
  {
   "cell_type": "code",
   "execution_count": 95,
   "metadata": {},
   "outputs": [
    {
     "data": {
      "text/plain": [
       "'eight plus   years of industry experience in data science  measurement  marketing strategy   analytics '"
      ]
     },
     "execution_count": 95,
     "metadata": {},
     "output_type": "execute_result"
    }
   ],
   "source": [
    "text = remove_punctuation_func(text)\n",
    "text"
   ]
  },
  {
   "cell_type": "code",
   "execution_count": 96,
   "metadata": {},
   "outputs": [
    {
     "data": {
      "text/plain": [
       "'eight plus years of industry experience in data science measurement marketing strategy analytics'"
      ]
     },
     "execution_count": 96,
     "metadata": {},
     "output_type": "execute_result"
    }
   ],
   "source": [
    "text = remove_extra_whitespaces_func(text)\n",
    "text"
   ]
  },
  {
   "cell_type": "code",
   "execution_count": 97,
   "metadata": {},
   "outputs": [
    {
     "data": {
      "text/plain": [
       "'eight plus years industry experience data science measurement marketing strategy analytics'"
      ]
     },
     "execution_count": 97,
     "metadata": {},
     "output_type": "execute_result"
    }
   ],
   "source": [
    "text = stop_word_removal(text)\n",
    "text"
   ]
  },
  {
   "cell_type": "code",
   "execution_count": 98,
   "metadata": {},
   "outputs": [],
   "source": [
    "# Stemming and Lemmatization"
   ]
  },
  {
   "cell_type": "markdown",
   "metadata": {},
   "source": [
    "### Apply function to Column"
   ]
  },
  {
   "cell_type": "code",
   "execution_count": 99,
   "metadata": {
    "scrolled": true
   },
   "outputs": [],
   "source": [
    "data['Qualifications'] = data['Qualifications'].fillna(\"\")"
   ]
  },
  {
   "cell_type": "code",
   "execution_count": 100,
   "metadata": {},
   "outputs": [],
   "source": [
    "data['Qualifications'] = data['Qualifications'].apply(sep_num_words_func)\n",
    "data['Qualifications'] = data['Qualifications'].apply(num_to_words)\n",
    "data['Qualifications'] = data['Qualifications'].apply(convert_exp_to_word)\n",
    "data['Qualifications'] = data['Qualifications'].apply(remove_punctuation_func)\n",
    "data['Qualifications'] = data['Qualifications'].apply(remove_extra_whitespaces_func)\n",
    "data['Qualifications'] = data['Qualifications'].apply(stop_word_removal)\n",
    "data['Qualifications'] = data['Qualifications'].str.lower()\n"
   ]
  },
  {
   "cell_type": "markdown",
   "metadata": {},
   "source": [
    "## Single Keyword Extractor"
   ]
  },
  {
   "cell_type": "markdown",
   "metadata": {},
   "source": [
    "### KeyBERT"
   ]
  },
  {
   "cell_type": "code",
   "execution_count": 101,
   "metadata": {
    "scrolled": true
   },
   "outputs": [],
   "source": [
    "from keybert import KeyBERT\n",
    "from transformers.pipelines import pipeline\n",
    "\n",
    "# hf_model = pipeline(\"feature-extraction\", model=\"distilbert-base-cased\")\n",
    "# kw_model = KeyBERT(model=hf_model)\n",
    "\n",
    "# Max Sum Distance and Maximal Marginal Relevance \n",
    "\n",
    "kw_model_qualification = KeyBERT(model='all-MiniLM-L6-v2') # all-MiniLM-L6-v2 - paraphrase-MiniLM-L3-v2\n",
    "# kw_extractor = yake.KeywordExtractor(top=50)\n",
    "\n",
    "# facebook/bart-large"
   ]
  },
  {
   "cell_type": "code",
   "execution_count": 102,
   "metadata": {},
   "outputs": [],
   "source": [
    "# # Create candidates\n",
    "# import yake\n",
    "# kw_extractor = yake.KeywordExtractor(top=50)\n",
    "# candidates = kw_extractor.extract_keywords(data['Qualifications'][27])\n",
    "# candidates = [candidate[0] for candidate in candidates]\n",
    "# # candidates=candidates"
   ]
  },
  {
   "cell_type": "code",
   "execution_count": 103,
   "metadata": {},
   "outputs": [],
   "source": [
    "seed_keywords = [\"one year\", \"two years\", \"three years\", \"four years\", \"five years\", \"six years\"]\n"
   ]
  },
  {
   "cell_type": "code",
   "execution_count": 104,
   "metadata": {
    "scrolled": true
   },
   "outputs": [],
   "source": [
    "qualification_params = {\n",
    "        'seed_keywords' : seed_keywords,\n",
    "        'use_maxsum' : True,\n",
    "        'nr_candidates': 20,\n",
    "        'keyphrase_ngram_range': (3, 4),\n",
    "        'highlight': True,\n",
    "        'top_n': 10\n",
    "}\n",
    "\n",
    "for i in range(27, 37):\n",
    "    text = data['Qualifications'][i]\n",
    "#     print(text)\n",
    "#     candidates = kw_extractor.extract_keywords(data['Qualifications'][i])\n",
    "#     candidates = [candidate[0] for candidate in candidates]\n",
    "    keywords = kw_model_qualification.extract_keywords(text, **qualification_params)\n",
    "#                                          seed_keywords=seed_keywords,\n",
    "# #                                          candidates=candidates,\n",
    "#                                          use_maxsum=True, nr_candidates=20,\n",
    "# #                                          use_mmr=True, diversity=0.5,\n",
    "#                                          keyphrase_ngram_range=(3, 4), \n",
    "# #                                          stop_words='english', \n",
    "#                                          highlight=True,\n",
    "#                                          top_n=10)\n",
    "    \n",
    "    break\n",
    "    keywords_list= list(dict(keywords).keys())\n",
    "    print(\"----------\")\n",
    "    print(keywords_list)\n",
    "    print('\\n')\n",
    "    print('\\n')\n",
    "    print('\\n')"
   ]
  },
  {
   "cell_type": "markdown",
   "metadata": {},
   "source": [
    "## Responsibilities"
   ]
  },
  {
   "cell_type": "code",
   "execution_count": 105,
   "metadata": {},
   "outputs": [
    {
     "data": {
      "text/plain": [
       "nan"
      ]
     },
     "execution_count": 105,
     "metadata": {},
     "output_type": "execute_result"
    }
   ],
   "source": [
    "data['Responsibilities'][0]"
   ]
  },
  {
   "cell_type": "code",
   "execution_count": 106,
   "metadata": {},
   "outputs": [],
   "source": [
    "data['Responsibilities'] = data['Responsibilities'].fillna(\"\")\n",
    "\n",
    "data['Responsibilities'] = data['Responsibilities'].apply(sep_num_words_func)\n",
    "data['Responsibilities'] = data['Responsibilities'].apply(num_to_words)\n",
    "data['Responsibilities'] = data['Responsibilities'].apply(convert_exp_to_word)\n",
    "data['Responsibilities'] = data['Responsibilities'].apply(remove_punctuation_func)\n",
    "data['Responsibilities'] = data['Responsibilities'].apply(remove_extra_whitespaces_func)\n",
    "data['Responsibilities'] = data['Responsibilities'].apply(stop_word_removal)\n",
    "data['Responsibilities'] = data['Responsibilities'].str.lower()\n"
   ]
  },
  {
   "cell_type": "code",
   "execution_count": 107,
   "metadata": {},
   "outputs": [
    {
     "data": {
      "text/plain": [
       "''"
      ]
     },
     "execution_count": 107,
     "metadata": {},
     "output_type": "execute_result"
    }
   ],
   "source": [
    "data['Responsibilities'][0]"
   ]
  },
  {
   "cell_type": "code",
   "execution_count": 108,
   "metadata": {},
   "outputs": [],
   "source": [
    "from keybert import KeyBERT\n",
    "from transformers.pipelines import pipeline\n",
    "\n",
    "# hf_model = pipeline(\"feature-extraction\", model=\"distilbert-base-cased\")\n",
    "# kw_model = KeyBERT(model=hf_model)\n",
    "\n",
    "# Max Sum Distance and Maximal Marginal Relevance \n",
    "\n",
    "kw_model_responsibilities = KeyBERT(model='all-MiniLM-L6-v2') # all-MiniLM-L6-v2 - paraphrase-MiniLM-L3-v2\n",
    "kw_extractor = yake.KeywordExtractor(top=50)\n",
    "\n",
    "# facebook/bart-large"
   ]
  },
  {
   "cell_type": "code",
   "execution_count": 109,
   "metadata": {
    "scrolled": true
   },
   "outputs": [
    {
     "name": "stdout",
     "output_type": "stream",
     "text": [
      "----------\n",
      "[]\n",
      "\n",
      "\n",
      "\n",
      "\n",
      "\n",
      "\n"
     ]
    }
   ],
   "source": [
    "for i in range(27, 37):\n",
    "    text = data['Responsibilities'][i]\n",
    "#     print(text)\n",
    "#     candidates = kw_extractor.extract_keywords(data['Responsibilities'][i])\n",
    "#     candidates = [candidate[0] for candidate in candidates]\n",
    "    responsibilities_params = {\n",
    "        'seed_keywords' : seed_keywords,\n",
    "        'use_maxsum' : True,\n",
    "        'nr_candidates': 20,\n",
    "        'keyphrase_ngram_range': (3, 4),\n",
    "        'highlight': True,\n",
    "        'top_n': 10\n",
    "    }\n",
    "    keywords = kw_model_responsibilities.extract_keywords(text, **responsibilities_params)\n",
    "\n",
    "    keywords_list= list(dict(keywords).keys())\n",
    "    print(\"----------\")\n",
    "    print(keywords_list)\n",
    "    print('\\n')\n",
    "    print('\\n')\n",
    "    print('\\n')\n",
    "    break"
   ]
  },
  {
   "cell_type": "markdown",
   "metadata": {},
   "source": [
    "## Benefits\t"
   ]
  },
  {
   "cell_type": "code",
   "execution_count": 110,
   "metadata": {},
   "outputs": [
    {
     "data": {
      "text/plain": [
       "nan"
      ]
     },
     "execution_count": 110,
     "metadata": {},
     "output_type": "execute_result"
    }
   ],
   "source": [
    "data['Benefits'][1]"
   ]
  },
  {
   "cell_type": "code",
   "execution_count": 111,
   "metadata": {},
   "outputs": [],
   "source": [
    "data['Benefits'] = data['Benefits'].fillna(\"\")\n",
    "\n",
    "data['Benefits'] = data['Benefits'].apply(sep_num_words_func)\n",
    "data['Benefits'] = data['Benefits'].apply(num_to_words)\n",
    "data['Benefits'] = data['Benefits'].apply(convert_exp_to_word)\n",
    "data['Benefits'] = data['Benefits'].apply(remove_punctuation_func)\n",
    "data['Benefits'] = data['Benefits'].apply(remove_extra_whitespaces_func)\n",
    "data['Benefits'] = data['Benefits'].apply(stop_word_removal)\n",
    "data['Benefits'] = data['Benefits'].str.lower()\n"
   ]
  },
  {
   "cell_type": "code",
   "execution_count": 112,
   "metadata": {},
   "outputs": [
    {
     "data": {
      "text/plain": [
       "''"
      ]
     },
     "execution_count": 112,
     "metadata": {},
     "output_type": "execute_result"
    }
   ],
   "source": [
    "data['Benefits'][1]"
   ]
  },
  {
   "cell_type": "code",
   "execution_count": 113,
   "metadata": {},
   "outputs": [],
   "source": [
    "from keybert import KeyBERT\n",
    "from transformers.pipelines import pipeline\n",
    "\n",
    "# hf_model = pipeline(\"feature-extraction\", model=\"distilbert-base-cased\")\n",
    "# kw_model = KeyBERT(model=hf_model)\n",
    "\n",
    "# Max Sum Distance and Maximal Marginal Relevance \n",
    "\n",
    "kw_model_benefits = KeyBERT(model='all-MiniLM-L6-v2') # all-MiniLM-L6-v2 - paraphrase-MiniLM-L3-v2\n",
    "kw_extractor = yake.KeywordExtractor(top=50)\n",
    "\n",
    "# facebook/bart-large"
   ]
  },
  {
   "cell_type": "code",
   "execution_count": 114,
   "metadata": {
    "scrolled": true
   },
   "outputs": [
    {
     "name": "stdout",
     "output_type": "stream",
     "text": [
      "----------\n",
      "[]\n",
      "\n",
      "\n",
      "\n",
      "\n",
      "\n",
      "\n"
     ]
    }
   ],
   "source": [
    "for i in range(27, 37):\n",
    "    text = data['Benefits'][i]\n",
    "#     print(text)\n",
    "#     candidates = kw_extractor.extract_keywords(data['Responsibilities'][i])\n",
    "#     candidates = [candidate[0] for candidate in candidates]\n",
    "    benefits_params = {\n",
    "        'seed_keywords' : seed_keywords,\n",
    "        'use_maxsum' : True,\n",
    "        'nr_candidates': 20,\n",
    "        'keyphrase_ngram_range': (3, 4),\n",
    "        'highlight': True,\n",
    "        'top_n': 10\n",
    "    }\n",
    "    keywords = kw_model_benefits.extract_keywords(text, **benefits_params)\n",
    "\n",
    "    keywords_list= list(dict(keywords).keys())\n",
    "    print(\"----------\")\n",
    "    print(keywords_list)\n",
    "    print('\\n')\n",
    "    print('\\n')\n",
    "    print('\\n')\n",
    "    break"
   ]
  },
  {
   "cell_type": "markdown",
   "metadata": {},
   "source": [
    "### Output prep"
   ]
  },
  {
   "cell_type": "code",
   "execution_count": 115,
   "metadata": {},
   "outputs": [
    {
     "data": {
      "text/html": [
       "<div>\n",
       "<style scoped>\n",
       "    .dataframe tbody tr th:only-of-type {\n",
       "        vertical-align: middle;\n",
       "    }\n",
       "\n",
       "    .dataframe tbody tr th {\n",
       "        vertical-align: top;\n",
       "    }\n",
       "\n",
       "    .dataframe thead th {\n",
       "        text-align: right;\n",
       "    }\n",
       "</style>\n",
       "<table border=\"1\" class=\"dataframe\">\n",
       "  <thead>\n",
       "    <tr style=\"text-align: right;\">\n",
       "      <th></th>\n",
       "      <th>title</th>\n",
       "      <th>company_name</th>\n",
       "      <th>location</th>\n",
       "      <th>from</th>\n",
       "      <th>Benefits</th>\n",
       "      <th>Qualifications</th>\n",
       "      <th>Responsibilities</th>\n",
       "      <th>applyLink</th>\n",
       "    </tr>\n",
       "  </thead>\n",
       "  <tbody>\n",
       "    <tr>\n",
       "      <th>0</th>\n",
       "      <td>Software Developer</td>\n",
       "      <td>Futurism Technologies, INC.</td>\n",
       "      <td>Pune, Maharashtra, India</td>\n",
       "      <td>via LinkedIn</td>\n",
       "      <td></td>\n",
       "      <td></td>\n",
       "      <td></td>\n",
       "      <td>https://in.linkedin.com/jobs/view/software-dev...</td>\n",
       "    </tr>\n",
       "    <tr>\n",
       "      <th>1</th>\n",
       "      <td>Senior Software Engineer</td>\n",
       "      <td>AMAZE WORLD</td>\n",
       "      <td>Surat, Gujarat, India</td>\n",
       "      <td>via LinkedIn</td>\n",
       "      <td></td>\n",
       "      <td></td>\n",
       "      <td></td>\n",
       "      <td>https://in.linkedin.com/jobs/view/senior-softw...</td>\n",
       "    </tr>\n",
       "    <tr>\n",
       "      <th>2</th>\n",
       "      <td>Software Developer: Microsoft</td>\n",
       "      <td>IBM</td>\n",
       "      <td>Ahmedabad, Gujarat, India</td>\n",
       "      <td>via Define Your Career With IBM</td>\n",
       "      <td></td>\n",
       "      <td></td>\n",
       "      <td></td>\n",
       "      <td>https://careers.ibm.com/job/17821672/software-...</td>\n",
       "    </tr>\n",
       "    <tr>\n",
       "      <th>3</th>\n",
       "      <td>Software Developer</td>\n",
       "      <td>Voidek Webolutions</td>\n",
       "      <td>Bardoli, Gujarat, India</td>\n",
       "      <td>via WorkIndia.in</td>\n",
       "      <td></td>\n",
       "      <td></td>\n",
       "      <td></td>\n",
       "      <td>https://www.workindia.in/jobs/software_develop...</td>\n",
       "    </tr>\n",
       "    <tr>\n",
       "      <th>4</th>\n",
       "      <td>Software Developer - Ahmedabad - Work From Office</td>\n",
       "      <td>MyStudia Education</td>\n",
       "      <td>Ahmedabad, Gujarat, India</td>\n",
       "      <td>via LinkedIn</td>\n",
       "      <td></td>\n",
       "      <td></td>\n",
       "      <td></td>\n",
       "      <td>https://in.linkedin.com/jobs/view/software-dev...</td>\n",
       "    </tr>\n",
       "  </tbody>\n",
       "</table>\n",
       "</div>"
      ],
      "text/plain": [
       "                                               title  \\\n",
       "0                                 Software Developer   \n",
       "1                           Senior Software Engineer   \n",
       "2                      Software Developer: Microsoft   \n",
       "3                                 Software Developer   \n",
       "4  Software Developer - Ahmedabad - Work From Office   \n",
       "\n",
       "                  company_name                   location  \\\n",
       "0  Futurism Technologies, INC.   Pune, Maharashtra, India   \n",
       "1                  AMAZE WORLD      Surat, Gujarat, India   \n",
       "2                          IBM  Ahmedabad, Gujarat, India   \n",
       "3           Voidek Webolutions    Bardoli, Gujarat, India   \n",
       "4           MyStudia Education  Ahmedabad, Gujarat, India   \n",
       "\n",
       "                              from Benefits Qualifications Responsibilities  \\\n",
       "0                     via LinkedIn                                            \n",
       "1                     via LinkedIn                                            \n",
       "2  via Define Your Career With IBM                                            \n",
       "3                 via WorkIndia.in                                            \n",
       "4                     via LinkedIn                                            \n",
       "\n",
       "                                           applyLink  \n",
       "0  https://in.linkedin.com/jobs/view/software-dev...  \n",
       "1  https://in.linkedin.com/jobs/view/senior-softw...  \n",
       "2  https://careers.ibm.com/job/17821672/software-...  \n",
       "3  https://www.workindia.in/jobs/software_develop...  \n",
       "4  https://in.linkedin.com/jobs/view/software-dev...  "
      ]
     },
     "execution_count": 115,
     "metadata": {},
     "output_type": "execute_result"
    }
   ],
   "source": [
    "data.head()"
   ]
  },
  {
   "cell_type": "code",
   "execution_count": 116,
   "metadata": {},
   "outputs": [],
   "source": [
    "benefits_keywords = []\n",
    "qualifications_keywords = []\n",
    "responsibilities_keywords = []\n",
    "\n",
    "data['benefits_keywords'] = data['Benefits'].apply(lambda x : kw_model_benefits.extract_keywords(x, **benefits_params))\n",
    "data['qualification_keywords'] = data['Qualifications'].apply(lambda x : kw_model_benefits.extract_keywords(x, **benefits_params))\n",
    "data['responsibilities_keywords'] = data['Responsibilities'].apply(lambda x : kw_model_benefits.extract_keywords(x, **benefits_params))"
   ]
  },
  {
   "cell_type": "code",
   "execution_count": 117,
   "metadata": {
    "scrolled": true
   },
   "outputs": [
    {
     "data": {
      "text/html": [
       "<div>\n",
       "<style scoped>\n",
       "    .dataframe tbody tr th:only-of-type {\n",
       "        vertical-align: middle;\n",
       "    }\n",
       "\n",
       "    .dataframe tbody tr th {\n",
       "        vertical-align: top;\n",
       "    }\n",
       "\n",
       "    .dataframe thead th {\n",
       "        text-align: right;\n",
       "    }\n",
       "</style>\n",
       "<table border=\"1\" class=\"dataframe\">\n",
       "  <thead>\n",
       "    <tr style=\"text-align: right;\">\n",
       "      <th></th>\n",
       "      <th>title</th>\n",
       "      <th>company_name</th>\n",
       "      <th>location</th>\n",
       "      <th>from</th>\n",
       "      <th>Benefits</th>\n",
       "      <th>Qualifications</th>\n",
       "      <th>Responsibilities</th>\n",
       "      <th>applyLink</th>\n",
       "      <th>benefits_keywords</th>\n",
       "      <th>qualification_keywords</th>\n",
       "      <th>responsibilities_keywords</th>\n",
       "    </tr>\n",
       "  </thead>\n",
       "  <tbody>\n",
       "    <tr>\n",
       "      <th>0</th>\n",
       "      <td>Software Developer</td>\n",
       "      <td>Futurism Technologies, INC.</td>\n",
       "      <td>Pune, Maharashtra, India</td>\n",
       "      <td>via LinkedIn</td>\n",
       "      <td></td>\n",
       "      <td></td>\n",
       "      <td></td>\n",
       "      <td>https://in.linkedin.com/jobs/view/software-dev...</td>\n",
       "      <td>[]</td>\n",
       "      <td>[]</td>\n",
       "      <td>[]</td>\n",
       "    </tr>\n",
       "    <tr>\n",
       "      <th>1</th>\n",
       "      <td>Senior Software Engineer</td>\n",
       "      <td>AMAZE WORLD</td>\n",
       "      <td>Surat, Gujarat, India</td>\n",
       "      <td>via LinkedIn</td>\n",
       "      <td></td>\n",
       "      <td></td>\n",
       "      <td></td>\n",
       "      <td>https://in.linkedin.com/jobs/view/senior-softw...</td>\n",
       "      <td>[]</td>\n",
       "      <td>[]</td>\n",
       "      <td>[]</td>\n",
       "    </tr>\n",
       "    <tr>\n",
       "      <th>2</th>\n",
       "      <td>Software Developer: Microsoft</td>\n",
       "      <td>IBM</td>\n",
       "      <td>Ahmedabad, Gujarat, India</td>\n",
       "      <td>via Define Your Career With IBM</td>\n",
       "      <td></td>\n",
       "      <td></td>\n",
       "      <td></td>\n",
       "      <td>https://careers.ibm.com/job/17821672/software-...</td>\n",
       "      <td>[]</td>\n",
       "      <td>[]</td>\n",
       "      <td>[]</td>\n",
       "    </tr>\n",
       "    <tr>\n",
       "      <th>3</th>\n",
       "      <td>Software Developer</td>\n",
       "      <td>Voidek Webolutions</td>\n",
       "      <td>Bardoli, Gujarat, India</td>\n",
       "      <td>via WorkIndia.in</td>\n",
       "      <td></td>\n",
       "      <td></td>\n",
       "      <td></td>\n",
       "      <td>https://www.workindia.in/jobs/software_develop...</td>\n",
       "      <td>[]</td>\n",
       "      <td>[]</td>\n",
       "      <td>[]</td>\n",
       "    </tr>\n",
       "    <tr>\n",
       "      <th>4</th>\n",
       "      <td>Software Developer - Ahmedabad - Work From Office</td>\n",
       "      <td>MyStudia Education</td>\n",
       "      <td>Ahmedabad, Gujarat, India</td>\n",
       "      <td>via LinkedIn</td>\n",
       "      <td></td>\n",
       "      <td></td>\n",
       "      <td></td>\n",
       "      <td>https://in.linkedin.com/jobs/view/software-dev...</td>\n",
       "      <td>[]</td>\n",
       "      <td>[]</td>\n",
       "      <td>[]</td>\n",
       "    </tr>\n",
       "  </tbody>\n",
       "</table>\n",
       "</div>"
      ],
      "text/plain": [
       "                                               title  \\\n",
       "0                                 Software Developer   \n",
       "1                           Senior Software Engineer   \n",
       "2                      Software Developer: Microsoft   \n",
       "3                                 Software Developer   \n",
       "4  Software Developer - Ahmedabad - Work From Office   \n",
       "\n",
       "                  company_name                   location  \\\n",
       "0  Futurism Technologies, INC.   Pune, Maharashtra, India   \n",
       "1                  AMAZE WORLD      Surat, Gujarat, India   \n",
       "2                          IBM  Ahmedabad, Gujarat, India   \n",
       "3           Voidek Webolutions    Bardoli, Gujarat, India   \n",
       "4           MyStudia Education  Ahmedabad, Gujarat, India   \n",
       "\n",
       "                              from Benefits Qualifications Responsibilities  \\\n",
       "0                     via LinkedIn                                            \n",
       "1                     via LinkedIn                                            \n",
       "2  via Define Your Career With IBM                                            \n",
       "3                 via WorkIndia.in                                            \n",
       "4                     via LinkedIn                                            \n",
       "\n",
       "                                           applyLink benefits_keywords  \\\n",
       "0  https://in.linkedin.com/jobs/view/software-dev...                []   \n",
       "1  https://in.linkedin.com/jobs/view/senior-softw...                []   \n",
       "2  https://careers.ibm.com/job/17821672/software-...                []   \n",
       "3  https://www.workindia.in/jobs/software_develop...                []   \n",
       "4  https://in.linkedin.com/jobs/view/software-dev...                []   \n",
       "\n",
       "  qualification_keywords responsibilities_keywords  \n",
       "0                     []                        []  \n",
       "1                     []                        []  \n",
       "2                     []                        []  \n",
       "3                     []                        []  \n",
       "4                     []                        []  "
      ]
     },
     "metadata": {},
     "output_type": "display_data"
    }
   ],
   "source": [
    "display(data.head())\n",
    "data.to_csv(\"latest_data_to_server_1.csv\", index=False)"
   ]
  },
  {
   "cell_type": "code",
   "execution_count": 118,
   "metadata": {},
   "outputs": [],
   "source": [
    "data['qualification_keywords'] = data['qualification_keywords'].apply(lambda ls : \"|\".join([x[0] for x in ls]))\n",
    "data['benefits_keywords'] = data['benefits_keywords'].apply(lambda ls : \"|\".join([x[0] for x in ls]))\n",
    "data['responsibilities_keywords'] = data['responsibilities_keywords'].apply(lambda ls : \"|\".join([x[0] for x in ls]))"
   ]
  },
  {
   "cell_type": "code",
   "execution_count": 130,
   "metadata": {},
   "outputs": [
    {
     "data": {
      "text/html": [
       "<div>\n",
       "<style scoped>\n",
       "    .dataframe tbody tr th:only-of-type {\n",
       "        vertical-align: middle;\n",
       "    }\n",
       "\n",
       "    .dataframe tbody tr th {\n",
       "        vertical-align: top;\n",
       "    }\n",
       "\n",
       "    .dataframe thead th {\n",
       "        text-align: right;\n",
       "    }\n",
       "</style>\n",
       "<table border=\"1\" class=\"dataframe\">\n",
       "  <thead>\n",
       "    <tr style=\"text-align: right;\">\n",
       "      <th></th>\n",
       "      <th>title</th>\n",
       "      <th>company_name</th>\n",
       "      <th>location</th>\n",
       "      <th>from</th>\n",
       "      <th>Benefits</th>\n",
       "      <th>Qualifications</th>\n",
       "      <th>Responsibilities</th>\n",
       "      <th>applyLink</th>\n",
       "    </tr>\n",
       "  </thead>\n",
       "  <tbody>\n",
       "    <tr>\n",
       "      <th>0</th>\n",
       "      <td>Senior Software Engineer, Infrastructure, Tech...</td>\n",
       "      <td>Google</td>\n",
       "      <td>Bengaluru, Karnataka, India</td>\n",
       "      <td>via Google Careers</td>\n",
       "      <td>NaN</td>\n",
       "      <td>NaN</td>\n",
       "      <td>NaN</td>\n",
       "      <td>https://careers.google.com/jobs/results/995612...</td>\n",
       "    </tr>\n",
       "    <tr>\n",
       "      <th>1</th>\n",
       "      <td>Lead Software Engineer</td>\n",
       "      <td>Franklin Templeton India</td>\n",
       "      <td>Hyderabad, Telangana, India</td>\n",
       "      <td>via LinkedIn</td>\n",
       "      <td>NaN</td>\n",
       "      <td>NaN</td>\n",
       "      <td>NaN</td>\n",
       "      <td>https://in.linkedin.com/jobs/view/lead-softwar...</td>\n",
       "    </tr>\n",
       "    <tr>\n",
       "      <th>2</th>\n",
       "      <td>Software Engineer</td>\n",
       "      <td>GE</td>\n",
       "      <td>Hyderabad, Telangana, India</td>\n",
       "      <td>via GE Careers</td>\n",
       "      <td>NaN</td>\n",
       "      <td>NaN</td>\n",
       "      <td>NaN</td>\n",
       "      <td>https://jobs.gecareers.com/global/en/job/R3667...</td>\n",
       "    </tr>\n",
       "    <tr>\n",
       "      <th>3</th>\n",
       "      <td>Software Development Engineer</td>\n",
       "      <td>Apple</td>\n",
       "      <td>Hyderabad, Telangana, India</td>\n",
       "      <td>via Careers At Apple</td>\n",
       "      <td>NaN</td>\n",
       "      <td>NaN</td>\n",
       "      <td>NaN</td>\n",
       "      <td>https://jobs.apple.com/en-in/details/200458197...</td>\n",
       "    </tr>\n",
       "    <tr>\n",
       "      <th>4</th>\n",
       "      <td>Senior IT Software Engineer</td>\n",
       "      <td>Palo Alto Networks</td>\n",
       "      <td>Bengaluru, Karnataka, India</td>\n",
       "      <td>via Palo Alto Networks Jobs</td>\n",
       "      <td>NaN</td>\n",
       "      <td>NaN</td>\n",
       "      <td>NaN</td>\n",
       "      <td>https://paloaltonetworkscareers.dejobs.org/ban...</td>\n",
       "    </tr>\n",
       "  </tbody>\n",
       "</table>\n",
       "</div>"
      ],
      "text/plain": [
       "                                               title  \\\n",
       "0  Senior Software Engineer, Infrastructure, Tech...   \n",
       "1                             Lead Software Engineer   \n",
       "2                                  Software Engineer   \n",
       "3                      Software Development Engineer   \n",
       "4                        Senior IT Software Engineer   \n",
       "\n",
       "               company_name                     location  \\\n",
       "0                    Google  Bengaluru, Karnataka, India   \n",
       "1  Franklin Templeton India  Hyderabad, Telangana, India   \n",
       "2                        GE  Hyderabad, Telangana, India   \n",
       "3                     Apple  Hyderabad, Telangana, India   \n",
       "4        Palo Alto Networks  Bengaluru, Karnataka, India   \n",
       "\n",
       "                          from  Benefits  Qualifications  Responsibilities  \\\n",
       "0           via Google Careers       NaN             NaN               NaN   \n",
       "1                 via LinkedIn       NaN             NaN               NaN   \n",
       "2               via GE Careers       NaN             NaN               NaN   \n",
       "3         via Careers At Apple       NaN             NaN               NaN   \n",
       "4  via Palo Alto Networks Jobs       NaN             NaN               NaN   \n",
       "\n",
       "                                           applyLink  \n",
       "0  https://careers.google.com/jobs/results/995612...  \n",
       "1  https://in.linkedin.com/jobs/view/lead-softwar...  \n",
       "2  https://jobs.gecareers.com/global/en/job/R3667...  \n",
       "3  https://jobs.apple.com/en-in/details/200458197...  \n",
       "4  https://paloaltonetworkscareers.dejobs.org/ban...  "
      ]
     },
     "execution_count": 130,
     "metadata": {},
     "output_type": "execute_result"
    }
   ],
   "source": [
    "data.head()"
   ]
  },
  {
   "cell_type": "code",
   "execution_count": 168,
   "metadata": {},
   "outputs": [
    {
     "data": {
      "text/plain": [
       "title               False\n",
       "company_name        False\n",
       "location            False\n",
       "from                False\n",
       "Benefits            False\n",
       "Qualifications      False\n",
       "Responsibilities    False\n",
       "thumbnail           False\n",
       "applyLink           False\n",
       "dtype: bool"
      ]
     },
     "execution_count": 168,
     "metadata": {},
     "output_type": "execute_result"
    }
   ],
   "source": [
    "data = data.fillna(\"\")\n",
    "data.isna().any()"
   ]
  },
  {
   "cell_type": "code",
   "execution_count": 169,
   "metadata": {},
   "outputs": [
    {
     "name": "stdout",
     "output_type": "stream",
     "text": [
      "500\n",
      "Added. created successfully\n",
      "Comp. created successfully\n",
      "Added. created successfully\n",
      "500\n",
      "Added. created successfully\n",
      "500\n",
      "Added. created successfully\n",
      "500\n",
      "Added. created successfully\n",
      "500\n",
      "Added. created successfully\n",
      "500\n",
      "Added. created successfully\n",
      "Comp. created successfully\n",
      "Added. created successfully\n",
      "500\n",
      "Added. created successfully\n",
      "500\n",
      "Added. created successfully\n",
      "500\n",
      "Added. created successfully\n",
      "Comp. created successfully\n",
      "Added. created successfully\n",
      "Comp. created successfully\n",
      "Added. created successfully\n",
      "500\n",
      "Added. created successfully\n",
      "500\n",
      "Added. created successfully\n",
      "500\n",
      "Added. created successfully\n",
      "Comp. created successfully\n",
      "Added. created successfully\n",
      "Comp. created successfully\n",
      "Added. created successfully\n",
      "500\n",
      "Added. created successfully\n",
      "500\n",
      "Added. created successfully\n"
     ]
    }
   ],
   "source": [
    "data_dict = data.to_dict(orient='list')\n",
    "base_url = 'http://20.222.111.38/'\n",
    "for i in range(len(data)):\n",
    "    # Create Company\n",
    "    company = {\n",
    "        'name': data_dict['company_name'][i]\n",
    "    }\n",
    "    \n",
    "    res = requests.post(base_url+\"companies/\", json = company)\n",
    "    \n",
    "    if res.status_code == 200:\n",
    "        print(\"Comp. created successfully\")\n",
    "    else:\n",
    "        print(res.status_code)\n",
    "    job = {\n",
    "              \"title\": data_dict['title'][i],\n",
    "              \"dateposted\": datetime.now().timestamp(),\n",
    "              \"location\": data_dict['location'][i],\n",
    "              \"from_\": data_dict['company_name'][i],\n",
    "              \"benefits\": data_dict['Benefits'][i],\n",
    "              \"bkeyword\": '',\n",
    "              \"qualifications\": data_dict['Qualifications'][i],\n",
    "              \"qkeyword\": '',\n",
    "              \"responsibilities\": data_dict['Responsibilities'][i],\n",
    "              \"rkeyword\": '',\n",
    "              \"thumbnail\": data_dict['thumbnail'][i],\n",
    "              \"applylink\": data_dict['applyLink'][i]\n",
    "            }\n",
    "    \n",
    "    res = requests.post(base_url+\"jobs/\", json = job)\n",
    "    \n",
    "    if res.status_code == 200:\n",
    "        print(\"Added. created successfully\")\n",
    "    else:\n",
    "        print(res.status_code)"
   ]
  },
  {
   "cell_type": "code",
   "execution_count": 164,
   "metadata": {},
   "outputs": [
    {
     "data": {
      "text/plain": [
       "dict_keys(['title', 'company_name', 'location', 'from', 'Benefits', 'Qualifications', 'Responsibilities', 'thumbnail', 'applyLink'])"
      ]
     },
     "execution_count": 164,
     "metadata": {},
     "output_type": "execute_result"
    }
   ],
   "source": [
    "data_dict.keys()"
   ]
  },
  {
   "cell_type": "code",
   "execution_count": 141,
   "metadata": {},
   "outputs": [
    {
     "data": {
      "text/plain": [
       "500"
      ]
     },
     "execution_count": 141,
     "metadata": {},
     "output_type": "execute_result"
    }
   ],
   "source": []
  },
  {
   "cell_type": "code",
   "execution_count": null,
   "metadata": {},
   "outputs": [],
   "source": []
  },
  {
   "cell_type": "code",
   "execution_count": null,
   "metadata": {},
   "outputs": [],
   "source": []
  },
  {
   "cell_type": "code",
   "execution_count": null,
   "metadata": {},
   "outputs": [],
   "source": []
  },
  {
   "cell_type": "code",
   "execution_count": null,
   "metadata": {},
   "outputs": [],
   "source": []
  },
  {
   "cell_type": "code",
   "execution_count": null,
   "metadata": {},
   "outputs": [],
   "source": [
    "kw_extractor = yake.KeywordExtractor(top=10, stopwords=None)\n",
    "\n",
    "for i in range(10):\n",
    "  text = data['Qualifications'][i]\n",
    "  print(text)\n",
    "  keywords = kw_extractor.extract_keywords(text)\n",
    "  for kw, v in keywords:\n",
    "    print(\"Keyphrase: \",kw, \": score\", v)\n"
   ]
  },
  {
   "cell_type": "code",
   "execution_count": null,
   "metadata": {
    "pycharm": {
     "is_executing": true
    },
    "scrolled": true
   },
   "outputs": [],
   "source": [
    "!pip install multi_rake\n",
    "from multi_rake import Rake\n",
    "rake = Rake()\n",
    "keywords = rake.apply(text)\n",
    "print(keywords[:10])"
   ]
  },
  {
   "cell_type": "code",
   "execution_count": null,
   "metadata": {},
   "outputs": [],
   "source": [
    "from keybert import KeyBERT"
   ]
  },
  {
   "cell_type": "code",
   "execution_count": null,
   "metadata": {},
   "outputs": [],
   "source": [
    "kw_model = KeyBERT(model='all-mpnet-base-v2') # all-MiniLM-L6-v2\n"
   ]
  },
  {
   "cell_type": "code",
   "execution_count": null,
   "metadata": {},
   "outputs": [],
   "source": [
    "for i in range(27, 37):\n",
    "    text = data['Qualifications'][i]\n",
    "    print(text)\n",
    "    keywords = kw_model.extract_keywords(text, \n",
    "                                         keyphrase_ngram_range=(3, 3), \n",
    "                                         stop_words='english', \n",
    "                                         highlight=False,\n",
    "                                         top_n=10)\n",
    "\n",
    "    keywords_list= list(dict(keywords).keys())\n",
    "    print(\"----------\")\n",
    "    print(keywords_list)\n",
    "    print('\\n')\n",
    "    print('\\n')\n",
    "    print('\\n')\n"
   ]
  },
  {
   "cell_type": "code",
   "execution_count": null,
   "metadata": {},
   "outputs": [],
   "source": []
  }
 ],
 "metadata": {
  "kernelspec": {
   "display_name": "Python 3 (ipykernel)",
   "language": "python",
   "name": "python3"
  },
  "language_info": {
   "codemirror_mode": {
    "name": "ipython",
    "version": 3
   },
   "file_extension": ".py",
   "mimetype": "text/x-python",
   "name": "python",
   "nbconvert_exporter": "python",
   "pygments_lexer": "ipython3",
   "version": "3.9.13"
  }
 },
 "nbformat": 4,
 "nbformat_minor": 1
}
