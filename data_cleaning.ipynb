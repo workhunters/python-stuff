{
 "cells": [
  {
   "cell_type": "code",
   "execution_count": 163,
   "metadata": {},
   "outputs": [],
   "source": [
    "import pandas as pd"
   ]
  },
  {
   "cell_type": "code",
   "execution_count": 215,
   "metadata": {},
   "outputs": [
    {
     "data": {
      "text/html": [
       "<div>\n",
       "<style scoped>\n",
       "    .dataframe tbody tr th:only-of-type {\n",
       "        vertical-align: middle;\n",
       "    }\n",
       "\n",
       "    .dataframe tbody tr th {\n",
       "        vertical-align: top;\n",
       "    }\n",
       "\n",
       "    .dataframe thead th {\n",
       "        text-align: right;\n",
       "    }\n",
       "</style>\n",
       "<table border=\"1\" class=\"dataframe\">\n",
       "  <thead>\n",
       "    <tr style=\"text-align: right;\">\n",
       "      <th></th>\n",
       "      <th>title</th>\n",
       "      <th>company_name</th>\n",
       "      <th>location</th>\n",
       "      <th>from</th>\n",
       "      <th>Benefits</th>\n",
       "      <th>Qualifications</th>\n",
       "      <th>Responsibilities</th>\n",
       "    </tr>\n",
       "  </thead>\n",
       "  <tbody>\n",
       "    <tr>\n",
       "      <th>0</th>\n",
       "      <td>Data Scientist II</td>\n",
       "      <td>Merck KGaA Darmstadt, Germany</td>\n",
       "      <td>St. Louis, MO, USA</td>\n",
       "      <td>via EMD Group</td>\n",
       "      <td>NaN</td>\n",
       "      <td>Bachelors’ Degree in Data Science, Statistics,...</td>\n",
       "      <td>As a Data Scientist II, you will develop machi...</td>\n",
       "    </tr>\n",
       "    <tr>\n",
       "      <th>1</th>\n",
       "      <td>Data Science Analyst Specialist</td>\n",
       "      <td>Dominion Energy</td>\n",
       "      <td>Richmond, VA, USA</td>\n",
       "      <td>via LinkedIn</td>\n",
       "      <td>We offer excellent plans and programs for empl...</td>\n",
       "      <td>The qualified candidate will possess a Bachelo...</td>\n",
       "      <td>Duties: serves as technical expert in Computer...</td>\n",
       "    </tr>\n",
       "    <tr>\n",
       "      <th>2</th>\n",
       "      <td>Advanced Data Analyst / Data Scientist</td>\n",
       "      <td>Boehringer Ingelheim India Pvt Ltd</td>\n",
       "      <td>United States</td>\n",
       "      <td>via TechGig</td>\n",
       "      <td>NaN</td>\n",
       "      <td>NaN</td>\n",
       "      <td>NaN</td>\n",
       "    </tr>\n",
       "    <tr>\n",
       "      <th>3</th>\n",
       "      <td>Data Scientist</td>\n",
       "      <td>Caterpillar</td>\n",
       "      <td>Peoria, IL, USA</td>\n",
       "      <td>via Caterpillar Careers</td>\n",
       "      <td>We offer a total rewards package that provides...</td>\n",
       "      <td>Bachelor's degree. 2+ years of experience in p...</td>\n",
       "      <td>As a Data Scientist in Caterpillar Parts Prici...</td>\n",
       "    </tr>\n",
       "    <tr>\n",
       "      <th>4</th>\n",
       "      <td>Data Scientist, Cell Therapy Digital Solutions</td>\n",
       "      <td>Takeda Pharmaceutical</td>\n",
       "      <td>Boston, MA, USA</td>\n",
       "      <td>via JobServe</td>\n",
       "      <td>Comprehensive Healthcare: Medical, Dental, and...</td>\n",
       "      <td>PhD with 0+ years of work experience or MS wit...</td>\n",
       "      <td>You will provide hands-on support and statisti...</td>\n",
       "    </tr>\n",
       "  </tbody>\n",
       "</table>\n",
       "</div>"
      ],
      "text/plain": [
       "                                            title  \\\n",
       "0                               Data Scientist II   \n",
       "1                 Data Science Analyst Specialist   \n",
       "2          Advanced Data Analyst / Data Scientist   \n",
       "3                                  Data Scientist   \n",
       "4  Data Scientist, Cell Therapy Digital Solutions   \n",
       "\n",
       "                         company_name            location  \\\n",
       "0       Merck KGaA Darmstadt, Germany  St. Louis, MO, USA   \n",
       "1                     Dominion Energy   Richmond, VA, USA   \n",
       "2  Boehringer Ingelheim India Pvt Ltd       United States   \n",
       "3                         Caterpillar     Peoria, IL, USA   \n",
       "4               Takeda Pharmaceutical     Boston, MA, USA   \n",
       "\n",
       "                      from                                           Benefits  \\\n",
       "0            via EMD Group                                                NaN   \n",
       "1             via LinkedIn  We offer excellent plans and programs for empl...   \n",
       "2              via TechGig                                                NaN   \n",
       "3  via Caterpillar Careers  We offer a total rewards package that provides...   \n",
       "4             via JobServe  Comprehensive Healthcare: Medical, Dental, and...   \n",
       "\n",
       "                                      Qualifications  \\\n",
       "0  Bachelors’ Degree in Data Science, Statistics,...   \n",
       "1  The qualified candidate will possess a Bachelo...   \n",
       "2                                                NaN   \n",
       "3  Bachelor's degree. 2+ years of experience in p...   \n",
       "4  PhD with 0+ years of work experience or MS wit...   \n",
       "\n",
       "                                    Responsibilities  \n",
       "0  As a Data Scientist II, you will develop machi...  \n",
       "1  Duties: serves as technical expert in Computer...  \n",
       "2                                                NaN  \n",
       "3  As a Data Scientist in Caterpillar Parts Prici...  \n",
       "4  You will provide hands-on support and statisti...  "
      ]
     },
     "execution_count": 215,
     "metadata": {},
     "output_type": "execute_result"
    }
   ],
   "source": [
    "data = pd.read_csv(r\"C:\\Users\\Jadha\\PycharmProjects\\python-stuff\\main.csv\")\n",
    "data.head()"
   ]
  },
  {
   "cell_type": "code",
   "execution_count": 216,
   "metadata": {},
   "outputs": [
    {
     "data": {
      "text/plain": [
       "\"Master's degree in statistics, economics, operations research, engineering, or related field. Marketing mix modeling industry experience. 8+ years of industry experience in data science, measurement, marketing strategy & analytics. Strong communication skills to tell a story that provides insight into the business. Proficient coding skills (SQL/Python/R) and database knowledge. Extensive experience with predictive modeling algorithms. Strong project management skills, including managing technical resources and multiple priorities & milestones. You have a passion for working in a fast-paced agile environment. A collaborative mindset and sense of curiosity. Experienced in building market mix and multi-touch attribution models. Experience with advertising, measurement, and/or digital marketing analytics. Experience with advertising technology platforms Ad servers, DSPs, DMPs, etc. Advanced programming skills with experience of creating Python modules. Experience with A/B and Multivariate test design and implementation\""
      ]
     },
     "execution_count": 216,
     "metadata": {},
     "output_type": "execute_result"
    }
   ],
   "source": [
    "data['Qualifications'][28]"
   ]
  },
  {
   "cell_type": "markdown",
   "metadata": {},
   "source": [
    "## Data Cleaning"
   ]
  },
  {
   "cell_type": "code",
   "execution_count": 166,
   "metadata": {},
   "outputs": [
    {
     "name": "stderr",
     "output_type": "stream",
     "text": [
      "[nltk_data] Downloading package stopwords to\n",
      "[nltk_data]     C:\\Users\\Jadha\\AppData\\Roaming\\nltk_data...\n",
      "[nltk_data]   Package stopwords is already up-to-date!\n",
      "[nltk_data] Downloading package punkt to\n",
      "[nltk_data]     C:\\Users\\Jadha\\AppData\\Roaming\\nltk_data...\n",
      "[nltk_data]   Package punkt is already up-to-date!\n"
     ]
    }
   ],
   "source": [
    "import pandas as pd\n",
    "from num2words import num2words\n",
    "import re\n",
    "import nltk\n",
    "from nltk.corpus import stopwords\n",
    "from nltk.tokenize import word_tokenize\n",
    "nltk.download('stopwords')\n",
    "nltk.download('punkt')\n",
    "\n",
    "stop_words = set(stopwords.words('english'))"
   ]
  },
  {
   "cell_type": "code",
   "execution_count": 167,
   "metadata": {},
   "outputs": [],
   "source": [
    "def remove_punctuation_func(text):\n",
    "    '''\n",
    "    Removes all punctuation from a string, if present\n",
    "    \n",
    "    Args:\n",
    "        text (str): String to which the function is to be applied, string\n",
    "    \n",
    "    Returns:\n",
    "        Clean string without punctuations\n",
    "    '''\n",
    "    return re.sub(r'[^a-zA-Z0-9]', ' ', text)"
   ]
  },
  {
   "cell_type": "code",
   "execution_count": 168,
   "metadata": {},
   "outputs": [],
   "source": [
    "def chat_words_to_norm_words_func(text):\n",
    "    '''\n",
    "    Replaces common chat expressions with their spelled out form\n",
    "    \n",
    "    Args:\n",
    "        text (str): String to which the function is to be applied, string\n",
    "    \n",
    "    Returns:\n",
    "        Clean string with replaced chat expressions\n",
    "    ''' \n",
    "    return re.sub(r'\\S+', lambda m: chat_expressions_dict.get(m.group().upper(), m.group()) , text)\n",
    "\n",
    "def sep_num_words_func(text):\n",
    "    '''\n",
    "    Separates numbers from words or other characters\n",
    "    \n",
    "    Args:\n",
    "        text (str): String to which the function is to be applied, string\n",
    "    \n",
    "    Returns:\n",
    "        Clean string with separated numbers from words or other characters\n",
    "    ''' \n",
    "    return re.sub(r\"([0-9]+(\\.[0-9]+)?)\",r\" \\1 \", text).strip() \n",
    "\n",
    "def num_to_words(text):\n",
    "    '''\n",
    "    Convert Numbers to Words\n",
    "    \n",
    "    Args:\n",
    "        text (str): String to which the function is to be applied, string\n",
    "    \n",
    "    Returns:\n",
    "        Clean string with converted Numbers to Words\n",
    "    ''' \n",
    "    after_spliting = text.split()\n",
    "\n",
    "    for index in range(len(after_spliting)):\n",
    "        if after_spliting[index].isdigit():\n",
    "            after_spliting[index] = num2words(after_spliting[index])\n",
    "    numbers_to_words = ' '.join(after_spliting)\n",
    "    return numbers_to_words\n",
    "\n",
    "\n",
    "def convert_exp_to_word(text):\n",
    "    replacement = {'8+': 'eight plus', '9+': 'nine plus', '10+': 'ten plus', '11+': 'eleven plus', '12+': 'twelve plus', '13+': 'thirteen plus', '14+': 'fourteen plus', '15+': 'fifteen plus', '16+': 'sixteen plus', '17+': 'seventeen plus', '18+': 'eighteen plus', '19+': 'nineteen plus', '20+': 'twenty plus'}\n",
    "\n",
    "    for pat, rep in replacement.items():\n",
    "        text = re.sub(pat, rep, text)\n",
    "    return text\n",
    "\n",
    "def remove_extra_whitespaces_func(text):\n",
    "    '''\n",
    "    Removes extra whitespaces from a string, if present\n",
    "    \n",
    "    Args:\n",
    "        text (str): String to which the function is to be applied, string\n",
    "    \n",
    "    Returns:\n",
    "        Clean string without extra whitespaces\n",
    "    ''' \n",
    "    return re.sub(r'^\\s*|\\s\\s*', ' ', text).strip()\n",
    "\n",
    "def stop_word_removal(text):\n",
    "    word_tokens = word_tokenize(text)\n",
    "    # converts the words in word_tokens to lower case and then checks whether \n",
    "    #they are present in stop_words or not\n",
    "    filtered_sentence = [w for w in word_tokens if not w.lower() in stop_words]\n",
    "    #with no lower case conversion\n",
    "    filtered_sentence = []\n",
    "\n",
    "    for w in word_tokens:\n",
    "        if w not in stop_words:\n",
    "            filtered_sentence.append(w)\n",
    "    return \" \".join(filtered_sentence)\n",
    "\n",
    "def num_to_words(text):\n",
    "    '''\n",
    "    Convert Numbers to Words\n",
    "    \n",
    "    Args:\n",
    "        text (str): String to which the function is to be applied, string\n",
    "    \n",
    "    Returns:\n",
    "        Clean string with converted Numbers to Words\n",
    "    ''' \n",
    "    after_spliting = text.split()\n",
    "\n",
    "    for index in range(len(after_spliting)):\n",
    "        if after_spliting[index].isdigit():\n",
    "            after_spliting[index] = num2words(after_spliting[index])\n",
    "    numbers_to_words = ' '.join(after_spliting)\n",
    "    return numbers_to_words\n"
   ]
  },
  {
   "cell_type": "markdown",
   "metadata": {},
   "source": [
    "### Number to word"
   ]
  },
  {
   "cell_type": "code",
   "execution_count": 169,
   "metadata": {},
   "outputs": [
    {
     "data": {
      "text/plain": [
       "'8 + years of industry experience in data science, measurement, marketing strategy & analytics.'"
      ]
     },
     "execution_count": 169,
     "metadata": {},
     "output_type": "execute_result"
    }
   ],
   "source": [
    "text = '8+ years of industry experience in data science, measurement, marketing strategy & analytics.'\n",
    "text = sep_num_words_func(text)\n",
    "text"
   ]
  },
  {
   "cell_type": "code",
   "execution_count": 170,
   "metadata": {},
   "outputs": [
    {
     "data": {
      "text/plain": [
       "'eight plus + years of industry experience in data science, measurement, marketing strategy & analytics.'"
      ]
     },
     "execution_count": 170,
     "metadata": {},
     "output_type": "execute_result"
    }
   ],
   "source": [
    "text = convert_exp_to_word(text)\n",
    "text"
   ]
  },
  {
   "cell_type": "code",
   "execution_count": 171,
   "metadata": {},
   "outputs": [
    {
     "data": {
      "text/plain": [
       "'eight plus   years of industry experience in data science  measurement  marketing strategy   analytics '"
      ]
     },
     "execution_count": 171,
     "metadata": {},
     "output_type": "execute_result"
    }
   ],
   "source": [
    "text = remove_punctuation_func(text)\n",
    "text"
   ]
  },
  {
   "cell_type": "code",
   "execution_count": 172,
   "metadata": {},
   "outputs": [
    {
     "data": {
      "text/plain": [
       "'eight plus years of industry experience in data science measurement marketing strategy analytics'"
      ]
     },
     "execution_count": 172,
     "metadata": {},
     "output_type": "execute_result"
    }
   ],
   "source": [
    "text = remove_extra_whitespaces_func(text)\n",
    "text"
   ]
  },
  {
   "cell_type": "code",
   "execution_count": 173,
   "metadata": {},
   "outputs": [
    {
     "data": {
      "text/plain": [
       "'eight plus years industry experience data science measurement marketing strategy analytics'"
      ]
     },
     "execution_count": 173,
     "metadata": {},
     "output_type": "execute_result"
    }
   ],
   "source": [
    "text = stop_word_removal(text)\n",
    "text"
   ]
  },
  {
   "cell_type": "code",
   "execution_count": 174,
   "metadata": {},
   "outputs": [],
   "source": [
    "# Stemming and Lemmatization"
   ]
  },
  {
   "cell_type": "markdown",
   "metadata": {},
   "source": [
    "### Apply function to Column"
   ]
  },
  {
   "cell_type": "code",
   "execution_count": 217,
   "metadata": {
    "scrolled": true
   },
   "outputs": [],
   "source": [
    "data['Qualifications'] = data['Qualifications'].fillna(\"\")"
   ]
  },
  {
   "cell_type": "code",
   "execution_count": 218,
   "metadata": {},
   "outputs": [],
   "source": [
    "data['Qualifications'] = data['Qualifications'].apply(sep_num_words_func)\n",
    "data['Qualifications'] = data['Qualifications'].apply(num_to_words)\n",
    "data['Qualifications'] = data['Qualifications'].apply(convert_exp_to_word)\n",
    "data['Qualifications'] = data['Qualifications'].apply(remove_punctuation_func)\n",
    "data['Qualifications'] = data['Qualifications'].apply(remove_extra_whitespaces_func)\n",
    "data['Qualifications'] = data['Qualifications'].apply(stop_word_removal)\n",
    "data['Qualifications'] = data['Qualifications'].str.lower()\n"
   ]
  },
  {
   "cell_type": "markdown",
   "metadata": {},
   "source": [
    "## Single Keyword Extractor"
   ]
  },
  {
   "cell_type": "markdown",
   "metadata": {},
   "source": [
    "### KeyBERT"
   ]
  },
  {
   "cell_type": "code",
   "execution_count": 243,
   "metadata": {
    "scrolled": true
   },
   "outputs": [],
   "source": [
    "from keybert import KeyBERT\n",
    "from transformers.pipelines import pipeline\n",
    "\n",
    "# hf_model = pipeline(\"feature-extraction\", model=\"distilbert-base-cased\")\n",
    "# kw_model = KeyBERT(model=hf_model)\n",
    "\n",
    "# Max Sum Distance and Maximal Marginal Relevance \n",
    "\n",
    "kw_model_qualification = KeyBERT(model='all-MiniLM-L6-v2') # all-MiniLM-L6-v2 - paraphrase-MiniLM-L3-v2\n",
    "kw_extractor = yake.KeywordExtractor(top=50)\n",
    "\n",
    "# facebook/bart-large"
   ]
  },
  {
   "cell_type": "code",
   "execution_count": 244,
   "metadata": {},
   "outputs": [],
   "source": [
    "# # Create candidates\n",
    "# import yake\n",
    "# kw_extractor = yake.KeywordExtractor(top=50)\n",
    "# candidates = kw_extractor.extract_keywords(data['Qualifications'][27])\n",
    "# candidates = [candidate[0] for candidate in candidates]\n",
    "# # candidates=candidates"
   ]
  },
  {
   "cell_type": "code",
   "execution_count": 245,
   "metadata": {},
   "outputs": [],
   "source": [
    "seed_keywords = [\"one year\", \"two years\", \"three years\", \"four years\", \"five years\", \"six years\"]\n"
   ]
  },
  {
   "cell_type": "code",
   "execution_count": 247,
   "metadata": {
    "scrolled": true
   },
   "outputs": [
    {
     "data": {
      "text/html": [
       "<pre style=\"white-space:pre;overflow-x:auto;line-height:normal;font-family:Menlo,'DejaVu Sans Mono',consolas,'Courier New',monospace\">five <span style=\"color: #000000; text-decoration-color: #000000; background-color: #ffff00\">years working hr data</span> analytics hr <span style=\"color: #000000; text-decoration-color: #000000; background-color: #ffff00\">data scientist role master</span> data science mathematics statistics computer \n",
       "science engineering quantitative field proficiency data gathering cleansing modeling diagramming visualization \n",
       "techniques experience applying machine learning techniques understand data solve business problems <span style=\"color: #000000; text-decoration-color: #000000; background-color: #ffff00\">experience </span>\n",
       "<span style=\"color: #000000; text-decoration-color: #000000; background-color: #ffff00\">building enhancing workforce</span> attrition forecasting models very good understanding hr <span style=\"color: #000000; text-decoration-color: #000000; background-color: #ffff00\">data talent acquisition talent</span>\n",
       "workforce planning dei diversity equity inclusion engagement employee listening learning development etc \n",
       "proficiency python <span style=\"color: #000000; text-decoration-color: #000000; background-color: #ffff00\">proficiency business intelligence reporting</span> using power bi knowledge data mining algorithms \n",
       "machine learning natural language processing nlp advanced knowledge data integrations expertise using sql knime \n",
       "experience architecting automating data analytics solutions provide insights recommendations scale good \n",
       "understanding statistical process concepts tools significance testing chi square regression etc consulting skills \n",
       "ability translate complex technical concepts stakeholders excellent problem solving capabilities highly developed \n",
       "story telling skills ability distill complex subjects wider audience\n",
       "</pre>\n"
      ],
      "text/plain": [
       "five \u001B[30;48;2;255;255;0myears working hr data\u001B[0m analytics hr \u001B[30;48;2;255;255;0mdata scientist role master\u001B[0m data science mathematics statistics computer \n",
       "science engineering quantitative field proficiency data gathering cleansing modeling diagramming visualization \n",
       "techniques experience applying machine learning techniques understand data solve business problems \u001B[30;48;2;255;255;0mexperience \u001B[0m\n",
       "\u001B[30;48;2;255;255;0mbuilding enhancing workforce\u001B[0m attrition forecasting models very good understanding hr \u001B[30;48;2;255;255;0mdata talent acquisition talent\u001B[0m\n",
       "workforce planning dei diversity equity inclusion engagement employee listening learning development etc \n",
       "proficiency python \u001B[30;48;2;255;255;0mproficiency business intelligence reporting\u001B[0m using power bi knowledge data mining algorithms \n",
       "machine learning natural language processing nlp advanced knowledge data integrations expertise using sql knime \n",
       "experience architecting automating data analytics solutions provide insights recommendations scale good \n",
       "understanding statistical process concepts tools significance testing chi square regression etc consulting skills \n",
       "ability translate complex technical concepts stakeholders excellent problem solving capabilities highly developed \n",
       "story telling skills ability distill complex subjects wider audience\n"
      ]
     },
     "metadata": {},
     "output_type": "display_data"
    },
    {
     "name": "stdout",
     "output_type": "stream",
     "text": [
      "----------\n",
      "['data talent acquisition talent', 'proficiency business intelligence reporting', 'years working hr', 'models good understanding hr', 'data scientist role master', 'business intelligence reporting experience', 'experience building enhancing workforce', 'data talent acquisition', 'data people analytics hr', 'years working hr data']\n",
      "\n",
      "\n",
      "\n",
      "\n",
      "\n",
      "\n"
     ]
    },
    {
     "data": {
      "text/html": [
       "<pre style=\"white-space:pre;overflow-x:auto;line-height:normal;font-family:Menlo,'DejaVu Sans Mono',consolas,'Courier New',monospace\">master degree statistics economics operations research engineering related field marketing mix modeling industry \n",
       "experience eight years industry <span style=\"color: #000000; text-decoration-color: #000000; background-color: #ffff00\">experience data science measurement</span> strategy analytics strong communication skills \n",
       "tell story provides insight business <span style=\"color: #000000; text-decoration-color: #000000; background-color: #ffff00\">proficient coding skills sql</span> database knowledge extensive experience \n",
       "predictive modeling algorithms strong <span style=\"color: #000000; text-decoration-color: #000000; background-color: #ffff00\">project management skills including</span> technical resources multiple priorities \n",
       "milestones you passion working fast paced agile environment collaborative mindset sense curiosity experienced \n",
       "building market mix multi touch attribution models experience advertising measurement digital marketing analytics \n",
       "experience advertising technology platforms ad servers dsps dmps etc <span style=\"color: #000000; text-decoration-color: #000000; background-color: #ffff00\">advanced programming skills</span> experience \n",
       "creating python modules experience multivariate test design implementation\n",
       "</pre>\n"
      ],
      "text/plain": [
       "master degree statistics economics operations research engineering related field marketing mix modeling industry \n",
       "experience eight years industry \u001B[30;48;2;255;255;0mexperience data science measurement\u001B[0m strategy analytics strong communication skills \n",
       "tell story provides insight business \u001B[30;48;2;255;255;0mproficient coding skills sql\u001B[0m database knowledge extensive experience \n",
       "predictive modeling algorithms strong \u001B[30;48;2;255;255;0mproject management skills including\u001B[0m technical resources multiple priorities \n",
       "milestones you passion working fast paced agile environment collaborative mindset sense curiosity experienced \n",
       "building market mix multi touch attribution models experience advertising measurement digital marketing analytics \n",
       "experience advertising technology platforms ad servers dsps dmps etc \u001B[30;48;2;255;255;0madvanced programming skills\u001B[0m experience \n",
       "creating python modules experience multivariate test design implementation\n"
      ]
     },
     "metadata": {},
     "output_type": "display_data"
    },
    {
     "name": "stdout",
     "output_type": "stream",
     "text": [
      "----------\n",
      "['project management skills including', 'proficient coding skills sql', 'industry experience years industry', 'modeling industry experience years', 'dmps advanced programming skills', 'advanced programming skills', 'management skills including', 'experience data science measurement', 'experience years industry', 'skills sql python']\n",
      "\n",
      "\n",
      "\n",
      "\n",
      "\n",
      "\n"
     ]
    },
    {
     "data": {
      "text/html": [
       "<pre style=\"white-space:pre;overflow-x:auto;line-height:normal;font-family:Menlo,'DejaVu Sans Mono',consolas,'Courier New',monospace\"><span style=\"color: #000000; text-decoration-color: #000000; background-color: #ffff00\">advanced degree highly</span> quantitative field statistics mathematics economics computer science etc two four <span style=\"color: #000000; text-decoration-color: #000000; background-color: #ffff00\">years </span>\n",
       "<span style=\"color: #000000; text-decoration-color: #000000; background-color: #ffff00\">professional experience decision</span> risk modeling <span style=\"color: #000000; text-decoration-color: #000000; background-color: #ffff00\">predictive statistics proficient</span> use advanced statistical analysis \n",
       "software capabilities sas sql programing etc strong experience data architecture data mining <span style=\"color: #000000; text-decoration-color: #000000; background-color: #ffff00\">data integration </span>\n",
       "<span style=\"color: #000000; text-decoration-color: #000000; background-color: #ffff00\">ability conduct</span> data research handle large datasets capable communicating expressing ideas clearly concisely \n",
       "written oral formats highly organized detail oriented <span style=\"color: #000000; text-decoration-color: #000000; background-color: #ffff00\">proven ability multi task</span> objective giving taking \n",
       "constructive feedback natural proclivity questioning assumptions challenging orthodoxies physical demands position \n",
       "<span style=\"color: #000000; text-decoration-color: #000000; background-color: #ffff00\">frequently include ability</span> remain stationary position move freely inside occasionally outside office operation \n",
       "mechanical controls keyboard based current benefit offering subject change without notice\n",
       "</pre>\n"
      ],
      "text/plain": [
       "\u001B[30;48;2;255;255;0madvanced degree highly\u001B[0m quantitative field statistics mathematics economics computer science etc two four \u001B[30;48;2;255;255;0myears \u001B[0m\n",
       "\u001B[30;48;2;255;255;0mprofessional experience decision\u001B[0m risk modeling \u001B[30;48;2;255;255;0mpredictive statistics proficient\u001B[0m use advanced statistical analysis \n",
       "software capabilities sas sql programing etc strong experience data architecture data mining \u001B[30;48;2;255;255;0mdata integration \u001B[0m\n",
       "\u001B[30;48;2;255;255;0mability conduct\u001B[0m data research handle large datasets capable communicating expressing ideas clearly concisely \n",
       "written oral formats highly organized detail oriented \u001B[30;48;2;255;255;0mproven ability multi task\u001B[0m objective giving taking \n",
       "constructive feedback natural proclivity questioning assumptions challenging orthodoxies physical demands position \n",
       "\u001B[30;48;2;255;255;0mfrequently include ability\u001B[0m remain stationary position move freely inside occasionally outside office operation \n",
       "mechanical controls keyboard based current benefit offering subject change without notice\n"
      ]
     },
     "metadata": {},
     "output_type": "display_data"
    },
    {
     "name": "stdout",
     "output_type": "stream",
     "text": [
      "----------\n",
      "['predictive statistics proficient', 'proven ability multi task', 'data integration ability conduct', 'economics computer science years', 'conduct extensive data research', 'frequently include ability', 'science years professional', 'years professional experience decision', 'professional experience decision analytics', 'advanced degree highly']\n",
      "\n",
      "\n",
      "\n",
      "\n",
      "\n",
      "\n"
     ]
    },
    {
     "data": {
      "text/html": [
       "<pre style=\"white-space:pre;overflow-x:auto;line-height:normal;font-family:Menlo,'DejaVu Sans Mono',consolas,'Courier New',monospace\">minimum one <span style=\"color: #000000; text-decoration-color: #000000; background-color: #ffff00\">year predictive modeling</span> data science analysis experience solid background using <span style=\"color: #000000; text-decoration-color: #000000; background-color: #ffff00\">data visualization </span>\n",
       "<span style=\"color: #000000; text-decoration-color: #000000; background-color: #ffff00\">tools libraries</span> exploration data <span style=\"color: #000000; text-decoration-color: #000000; background-color: #ffff00\">wrangling feature engineering experience</span> python code notebook environments \n",
       "knowledge common unsupervised supervised ml techniques\n",
       "</pre>\n"
      ],
      "text/plain": [
       "minimum one \u001B[30;48;2;255;255;0myear predictive modeling\u001B[0m data science analysis experience solid background using \u001B[30;48;2;255;255;0mdata visualization \u001B[0m\n",
       "\u001B[30;48;2;255;255;0mtools libraries\u001B[0m exploration data \u001B[30;48;2;255;255;0mwrangling feature engineering experience\u001B[0m python code notebook environments \n",
       "knowledge common unsupervised supervised ml techniques\n"
      ]
     },
     "metadata": {},
     "output_type": "display_data"
    },
    {
     "name": "stdout",
     "output_type": "stream",
     "text": [
      "----------\n",
      "['libraries data exploration data', 'experience writing python', 'feature engineering experience writing', 'wrangling feature engineering experience', 'predictive modeling data', 'data visualization tools libraries', 'engineering experience writing python', 'data science analysis', 'minimum year predictive modeling', 'year predictive modeling']\n",
      "\n",
      "\n",
      "\n",
      "\n",
      "\n",
      "\n"
     ]
    },
    {
     "data": {
      "text/html": [
       "<pre style=\"white-space:pre;overflow-x:auto;line-height:normal;font-family:Menlo,'DejaVu Sans Mono',consolas,'Courier New',monospace\">bachelor degree mathematics <span style=\"color: #000000; text-decoration-color: #000000; background-color: #ffff00\">statistics computer science</span> data <span style=\"color: #000000; text-decoration-color: #000000; background-color: #ffff00\">science related field certified</span> predictive analytics \n",
       "cspa designation one year experience <span style=\"color: #000000; text-decoration-color: #000000; background-color: #ffff00\">data science additional education</span> used substitute portion <span style=\"color: #000000; text-decoration-color: #000000; background-color: #ffff00\">experience </span>\n",
       "<span style=\"color: #000000; text-decoration-color: #000000; background-color: #ffff00\">requirement strong knowledge</span> analysis tools techniques glms decision trees gbms random forests boosting bagging \n",
       "neural networks statistical analysis machine learning deep learning techniques strong knowledge programming within \n",
       "python sql hadoop data visualization tools strong verbal written communication skills ability translate technical \n",
       "ideas general terms business customers strong analytical investigation problem solving abilities\n",
       "</pre>\n"
      ],
      "text/plain": [
       "bachelor degree mathematics \u001B[30;48;2;255;255;0mstatistics computer science\u001B[0m data \u001B[30;48;2;255;255;0mscience related field certified\u001B[0m predictive analytics \n",
       "cspa designation one year experience \u001B[30;48;2;255;255;0mdata science additional education\u001B[0m used substitute portion \u001B[30;48;2;255;255;0mexperience \u001B[0m\n",
       "\u001B[30;48;2;255;255;0mrequirement strong knowledge\u001B[0m analysis tools techniques glms decision trees gbms random forests boosting bagging \n",
       "neural networks statistical analysis machine learning deep learning techniques strong knowledge programming within \n",
       "python sql hadoop data visualization tools strong verbal written communication skills ability translate technical \n",
       "ideas general terms business customers strong analytical investigation problem solving abilities\n"
      ]
     },
     "metadata": {},
     "output_type": "display_data"
    },
    {
     "name": "stdout",
     "output_type": "stream",
     "text": [
      "----------\n",
      "['requirement strong knowledge data', 'science data science', 'related field certified specialist', 'science related field certified', 'cspa designation year experience', 'certified specialist predictive analytics', 'statistics computer science', 'experience requirement strong', 'experience requirement strong knowledge', 'data science additional education']\n",
      "\n",
      "\n",
      "\n",
      "\n",
      "\n",
      "\n"
     ]
    },
    {
     "data": {
      "text/html": [
       "<pre style=\"white-space:pre;overflow-x:auto;line-height:normal;font-family:Menlo,'DejaVu Sans Mono',consolas,'Courier New',monospace\"><span style=\"color: #000000; text-decoration-color: #000000; background-color: #ffff00\">driven excellence driven</span> mission <span style=\"color: #000000; text-decoration-color: #000000; background-color: #ffff00\">passion customer success means</span> <span style=\"color: #000000; text-decoration-color: #000000; background-color: #ffff00\">pursue excellence tolerate</span> mediocrity work \n",
       "intensely <span style=\"color: #000000; text-decoration-color: #000000; background-color: #ffff00\">achieve goals high integrity</span> open honest communication hold high moral ethical standards you reject \n",
       "manipulation dishonesty intolerance twelve <span style=\"color: #000000; text-decoration-color: #000000; background-color: #ffff00\">years industry experience</span> working analyzing large data sets five <span style=\"color: #000000; text-decoration-color: #000000; background-color: #ffff00\">years </span>\n",
       "<span style=\"color: #000000; text-decoration-color: #000000; background-color: #ffff00\">experience technical leadership</span> management knowledge scientific computing language python sql theoretical applied \n",
       "expertise statistics experimental design analysis strong communicator take complex ideas methodologies simplify non\n",
       "technical audiences ability understand complex business problems break analytics projects structured approach\n",
       "</pre>\n"
      ],
      "text/plain": [
       "\u001B[30;48;2;255;255;0mdriven excellence driven\u001B[0m mission \u001B[30;48;2;255;255;0mpassion customer success means\u001B[0m \u001B[30;48;2;255;255;0mpursue excellence tolerate\u001B[0m mediocrity work \n",
       "intensely \u001B[30;48;2;255;255;0machieve goals high integrity\u001B[0m open honest communication hold high moral ethical standards you reject \n",
       "manipulation dishonesty intolerance twelve \u001B[30;48;2;255;255;0myears industry experience\u001B[0m working analyzing large data sets five \u001B[30;48;2;255;255;0myears \u001B[0m\n",
       "\u001B[30;48;2;255;255;0mexperience technical leadership\u001B[0m management knowledge scientific computing language python sql theoretical applied \n",
       "expertise statistics experimental design analysis strong communicator take complex ideas methodologies simplify non\n",
       "technical audiences ability understand complex business problems break analytics projects structured approach\n"
      ]
     },
     "metadata": {},
     "output_type": "display_data"
    },
    {
     "name": "stdout",
     "output_type": "stream",
     "text": [
      "----------\n",
      "['driven mission passion', 'years industry experience', 'excellence tolerate mediocrity', 'years experience technical leadership', 'achieve goals high integrity', 'pursue excellence tolerate', 'goals high integrity seek', 'passion customer success means', 'driven mission passion customer', 'driven excellence driven']\n",
      "\n",
      "\n",
      "\n",
      "\n",
      "\n",
      "\n"
     ]
    },
    {
     "data": {
      "text/html": [
       "<pre style=\"white-space:pre;overflow-x:auto;line-height:normal;font-family:Menlo,'DejaVu Sans Mono',consolas,'Courier New',monospace\">the ideal candidate extensive <span style=\"color: #000000; text-decoration-color: #000000; background-color: #ffff00\">experience building risk models</span> fraud scoring risk personal small business entities \n",
       "small business lending product environment the ideal candidate thought leader helping design develop implement \n",
       "manage key risk models leverage expertise machine learning statistics achieve exceptional results the <span style=\"color: #000000; text-decoration-color: #000000; background-color: #ffff00\">ideal </span>\n",
       "<span style=\"color: #000000; text-decoration-color: #000000; background-color: #ffff00\">candidate identify</span> objectives scope requirements determine approaches solution development independently the \n",
       "<span style=\"color: #000000; text-decoration-color: #000000; background-color: #ffff00\">candidate able apply</span> advanced mathematical statistical techniques gbm logistic regression cluster analysis neural \n",
       "networks independence testing etc <span style=\"color: #000000; text-decoration-color: #000000; background-color: #ffff00\">bachelor degree computer science</span> mathematics statistics similar quantitative \n",
       "field six <span style=\"color: #000000; text-decoration-color: #000000; background-color: #ffff00\">years relevant work experience</span> programming languages python <span style=\"color: #000000; text-decoration-color: #000000; background-color: #ffff00\">sql experience developing</span> supervised \n",
       "unsupervised machine learning <span style=\"color: #000000; text-decoration-color: #000000; background-color: #ffff00\">algorithms proficiency working sql</span> strong programming practices utilizing version \n",
       "control systems attention detail strong communication skills across technical non technical audience extensive \n",
       "experience working python data science libraries experience tableau looker\n",
       "</pre>\n"
      ],
      "text/plain": [
       "the ideal candidate extensive \u001B[30;48;2;255;255;0mexperience building risk models\u001B[0m fraud scoring risk personal small business entities \n",
       "small business lending product environment the ideal candidate thought leader helping design develop implement \n",
       "manage key risk models leverage expertise machine learning statistics achieve exceptional results the \u001B[30;48;2;255;255;0mideal \u001B[0m\n",
       "\u001B[30;48;2;255;255;0mcandidate identify\u001B[0m objectives scope requirements determine approaches solution development independently the \n",
       "\u001B[30;48;2;255;255;0mcandidate able apply\u001B[0m advanced mathematical statistical techniques gbm logistic regression cluster analysis neural \n",
       "networks independence testing etc \u001B[30;48;2;255;255;0mbachelor degree computer science\u001B[0m mathematics statistics similar quantitative \n",
       "field six \u001B[30;48;2;255;255;0myears relevant work experience\u001B[0m programming languages python \u001B[30;48;2;255;255;0msql experience developing\u001B[0m supervised \n",
       "unsupervised machine learning \u001B[30;48;2;255;255;0malgorithms proficiency working sql\u001B[0m strong programming practices utilizing version \n",
       "control systems attention detail strong communication skills across technical non technical audience extensive \n",
       "experience working python data science libraries experience tableau looker\n"
      ]
     },
     "metadata": {},
     "output_type": "display_data"
    },
    {
     "name": "stdout",
     "output_type": "stream",
     "text": [
      "----------\n",
      "['bachelor degree computer science', 'ideal candidate identify', 'candidate able apply', 'sql experience developing', 'algorithms proficiency working sql', 'development independently candidate able', 'years relevant work experience', 'work experience fluency programming', 'models credit fraud scoring', 'experience building risk models']\n",
      "\n",
      "\n",
      "\n",
      "\n",
      "\n",
      "\n"
     ]
    },
    {
     "data": {
      "text/html": [
       "<pre style=\"white-space:pre;overflow-x:auto;line-height:normal;font-family:Menlo,'DejaVu Sans Mono',consolas,'Courier New',monospace\">collaborate leadership teams corporate development commercial functions <span style=\"color: #000000; text-decoration-color: #000000; background-color: #ffff00\">including patient engagement patient</span> \n",
       "clinical data analytics cd global patient access gpa regulatory affairs ra <span style=\"color: #000000; text-decoration-color: #000000; background-color: #ffff00\">shape collaboration support patient</span> <span style=\"color: #000000; text-decoration-color: #000000; background-color: #ffff00\">data</span>\n",
       "<span style=\"color: #000000; text-decoration-color: #000000; background-color: #ffff00\">science patient preference</span> lead enterprise wide communication training activities patient experience <span style=\"color: #000000; text-decoration-color: #000000; background-color: #ffff00\">data science </span>\n",
       "<span style=\"color: #000000; text-decoration-color: #000000; background-color: #ffff00\">patient preference</span> monitor external landscape represent <span style=\"color: #000000; text-decoration-color: #000000; background-color: #ffff00\">novartis external stakeholder consortia</span> novartis <span style=\"color: #000000; text-decoration-color: #000000; background-color: #ffff00\">leadership</span>\n",
       "<span style=\"color: #000000; text-decoration-color: #000000; background-color: #ffff00\">role patient experience</span> science patient preference studies within outside novartis\n",
       "</pre>\n"
      ],
      "text/plain": [
       "collaborate leadership teams corporate development commercial functions \u001B[30;48;2;255;255;0mincluding patient engagement patient\u001B[0m \n",
       "clinical data analytics cd global patient access gpa regulatory affairs ra \u001B[30;48;2;255;255;0mshape collaboration support patient\u001B[0m \u001B[30;48;2;255;255;0mdata\u001B[0m\n",
       "\u001B[30;48;2;255;255;0mscience patient preference\u001B[0m lead enterprise wide communication training activities patient experience \u001B[30;48;2;255;255;0mdata science \u001B[0m\n",
       "\u001B[30;48;2;255;255;0mpatient preference\u001B[0m monitor external landscape represent \u001B[30;48;2;255;255;0mnovartis external stakeholder consortia\u001B[0m novartis \u001B[30;48;2;255;255;0mleadership\u001B[0m\n",
       "\u001B[30;48;2;255;255;0mrole patient experience\u001B[0m science patient preference studies within outside novartis\n"
      ]
     },
     "metadata": {},
     "output_type": "display_data"
    },
    {
     "name": "stdout",
     "output_type": "stream",
     "text": [
      "----------\n",
      "['data science patient', 'ensure novartis leadership role', 'including patient engagement patient', 'shape collaboration support patient', 'stakeholder consortia ensure novartis', 'data science patient preference', 'patient advocacy clinical data', 'advocacy clinical data analytics', 'leadership role patient experience', 'novartis external stakeholder consortia']\n",
      "\n",
      "\n",
      "\n",
      "\n",
      "\n",
      "\n"
     ]
    },
    {
     "data": {
      "text/html": [
       "<pre style=\"white-space:pre;overflow-x:auto;line-height:normal;font-family:Menlo,'DejaVu Sans Mono',consolas,'Courier New',monospace\">two <span style=\"color: #000000; text-decoration-color: #000000; background-color: #ffff00\">years experience exploratory data</span> experience receiving new datasets figuring structure identifying potential \n",
       "issues implementing methods clean <span style=\"color: #000000; text-decoration-color: #000000; background-color: #ffff00\">enhance experience exploring data</span> refining code readable documented well \n",
       "commented use script module <span style=\"color: #000000; text-decoration-color: #000000; background-color: #ffff00\">knowledge data analysis coding</span> tools jupyter pandas matplotlib rstudio tidyverse \n",
       "ability work independently part <span style=\"color: #000000; text-decoration-color: #000000; background-color: #ffff00\">team gain insights datasets</span> present findings clients written reports data \n",
       "visualizations slide decks verbal presentations bachelor degree <span style=\"color: #000000; text-decoration-color: #000000; background-color: #ffff00\">experience working defense intelligence</span> experience \n",
       "academic political science datasets including correlates war experience network analysis working network structured\n",
       "data knowledge statistical methods machine learning tools techniques including regression clustering knowledge \n",
       "natural language processing techniques including entity extraction sentiment analysis knowledge political science \n",
       "international relations social sciences knowledge intelligence data sources analytic tools ts sci clearance\n",
       "</pre>\n"
      ],
      "text/plain": [
       "two \u001B[30;48;2;255;255;0myears experience exploratory data\u001B[0m experience receiving new datasets figuring structure identifying potential \n",
       "issues implementing methods clean \u001B[30;48;2;255;255;0menhance experience exploring data\u001B[0m refining code readable documented well \n",
       "commented use script module \u001B[30;48;2;255;255;0mknowledge data analysis coding\u001B[0m tools jupyter pandas matplotlib rstudio tidyverse \n",
       "ability work independently part \u001B[30;48;2;255;255;0mteam gain insights datasets\u001B[0m present findings clients written reports data \n",
       "visualizations slide decks verbal presentations bachelor degree \u001B[30;48;2;255;255;0mexperience working defense intelligence\u001B[0m experience \n",
       "academic political science datasets including correlates war experience network analysis working network structured\n",
       "data knowledge statistical methods machine learning tools techniques including regression clustering knowledge \n",
       "natural language processing techniques including entity extraction sentiment analysis knowledge political science \n",
       "international relations social sciences knowledge intelligence data sources analytic tools ts sci clearance\n"
      ]
     },
     "metadata": {},
     "output_type": "display_data"
    },
    {
     "name": "stdout",
     "output_type": "stream",
     "text": [
      "----------\n",
      "['working defense intelligence communities', 'experience working defense intelligence', 'analysis experience receiving new', 'enhance experience exploring data', 'knowledge data analysis coding', 'intelligence communities experience academic', 'knowledge data analysis', 'team gain insights datasets', 'years experience exploratory data', 'datasets ability present findings']\n",
      "\n",
      "\n",
      "\n",
      "\n",
      "\n",
      "\n"
     ]
    },
    {
     "data": {
      "text/html": [
       "<pre style=\"white-space:pre;overflow-x:auto;line-height:normal;font-family:Menlo,'DejaVu Sans Mono',consolas,'Courier New',monospace\">you <span style=\"color: #000000; text-decoration-color: #000000; background-color: #ffff00\">experience python motivated</span> learn you hands <span style=\"color: #000000; text-decoration-color: #000000; background-color: #ffff00\">experience developing data science</span> using open source tools cloud \n",
       "computing platforms you familiar machine learning intelligently build discuss models passion engineering you thrive\n",
       "bringing definition big undefined problems you love asking questions pushing hard find answers you successful \n",
       "individual contributor also knows teamwork secret modern software teams you interested growing tech lead role \n",
       "future continuing develop individual contributor welcome bachelor degree plus two years experience <span style=\"color: #000000; text-decoration-color: #000000; background-color: #ffff00\">data analytics </span>\n",
       "<span style=\"color: #000000; text-decoration-color: #000000; background-color: #ffff00\">master degree</span> at least one year <span style=\"color: #000000; text-decoration-color: #000000; background-color: #ffff00\">experience open source programming</span> large scale data analysis at least one year \n",
       "experience machine learning at least one year experience relational databases master degree stem field science \n",
       "technology engineering mathematics phd stem field science technology engineering mathematics experience working aws\n",
       "at least two <span style=\"color: #000000; text-decoration-color: #000000; background-color: #ffff00\">years experience python scala</span>\n",
       "</pre>\n"
      ],
      "text/plain": [
       "you \u001B[30;48;2;255;255;0mexperience python motivated\u001B[0m learn you hands \u001B[30;48;2;255;255;0mexperience developing data science\u001B[0m using open source tools cloud \n",
       "computing platforms you familiar machine learning intelligently build discuss models passion engineering you thrive\n",
       "bringing definition big undefined problems you love asking questions pushing hard find answers you successful \n",
       "individual contributor also knows teamwork secret modern software teams you interested growing tech lead role \n",
       "future continuing develop individual contributor welcome bachelor degree plus two years experience \u001B[30;48;2;255;255;0mdata analytics \u001B[0m\n",
       "\u001B[30;48;2;255;255;0mmaster degree\u001B[0m at least one year \u001B[30;48;2;255;255;0mexperience open source programming\u001B[0m large scale data analysis at least one year \n",
       "experience machine learning at least one year experience relational databases master degree stem field science \n",
       "technology engineering mathematics phd stem field science technology engineering mathematics experience working aws\n",
       "at least two \u001B[30;48;2;255;255;0myears experience python scala\u001B[0m\n"
      ]
     },
     "metadata": {},
     "output_type": "display_data"
    },
    {
     "name": "stdout",
     "output_type": "stream",
     "text": [
      "----------\n",
      "['experience machine learning year', 'experience python motivated', 'working aws years experience', 'data analytics master degree', 'experience open source programming', 'phd year experience open', 'bachelor degree plus years', 'experience developing data science', 'years experience python scala', 'degree plus years']\n",
      "\n",
      "\n",
      "\n",
      "\n",
      "\n",
      "\n"
     ]
    }
   ],
   "source": [
    "qualification_params = {\n",
    "        'seed_keywords' : seed_keywords,\n",
    "        'use_maxsum' : True,\n",
    "        'nr_candidates': 20,\n",
    "        'keyphrase_ngram_range': (3, 4),\n",
    "        'highlight': True,\n",
    "        'top_n': 10\n",
    "}\n",
    "\n",
    "for i in range(27, 37):\n",
    "    text = data['Qualifications'][i]\n",
    "#     print(text)\n",
    "    candidates = kw_extractor.extract_keywords(data['Qualifications'][i])\n",
    "    candidates = [candidate[0] for candidate in candidates]\n",
    "    keywords = kw_model_qualification.extract_keywords(text, **qualification_params)\n",
    "#                                          seed_keywords=seed_keywords,\n",
    "# #                                          candidates=candidates,\n",
    "#                                          use_maxsum=True, nr_candidates=20,\n",
    "# #                                          use_mmr=True, diversity=0.5,\n",
    "#                                          keyphrase_ngram_range=(3, 4), \n",
    "# #                                          stop_words='english', \n",
    "#                                          highlight=True,\n",
    "#                                          top_n=10)\n",
    "\n",
    "    keywords_list= list(dict(keywords).keys())\n",
    "    print(\"----------\")\n",
    "    print(keywords_list)\n",
    "    print('\\n')\n",
    "    print('\\n')\n",
    "    print('\\n')"
   ]
  },
  {
   "cell_type": "markdown",
   "metadata": {},
   "source": [
    "## Responsibilities"
   ]
  },
  {
   "cell_type": "code",
   "execution_count": 248,
   "metadata": {},
   "outputs": [
    {
     "data": {
      "text/plain": [
       "'as data scientist ii develop machine learning optimization algorithms based methodology founded nlp regression clustering etc you also responsible helping develop inference predictive models support organization needs implement machine learning algorithms natural language processing nlp data mining predictions optimization use statistical machine learning techniques analyzed data variety forms using several techniques including nlp regression clustering etc leverage data across sources identify meaningful factors translate various models predictive algorithms interact variety data forms structured unstructured distributed environment train deep learning models large scale data build ai products design develop data analysis visualization data mining tools'"
      ]
     },
     "execution_count": 248,
     "metadata": {},
     "output_type": "execute_result"
    }
   ],
   "source": [
    "data['Responsibilities'][0]"
   ]
  },
  {
   "cell_type": "code",
   "execution_count": 249,
   "metadata": {},
   "outputs": [],
   "source": [
    "data['Responsibilities'] = data['Responsibilities'].fillna(\"\")\n",
    "\n",
    "data['Responsibilities'] = data['Responsibilities'].apply(sep_num_words_func)\n",
    "data['Responsibilities'] = data['Responsibilities'].apply(num_to_words)\n",
    "data['Responsibilities'] = data['Responsibilities'].apply(convert_exp_to_word)\n",
    "data['Responsibilities'] = data['Responsibilities'].apply(remove_punctuation_func)\n",
    "data['Responsibilities'] = data['Responsibilities'].apply(remove_extra_whitespaces_func)\n",
    "data['Responsibilities'] = data['Responsibilities'].apply(stop_word_removal)\n",
    "data['Responsibilities'] = data['Responsibilities'].str.lower()\n"
   ]
  },
  {
   "cell_type": "code",
   "execution_count": 250,
   "metadata": {},
   "outputs": [
    {
     "data": {
      "text/plain": [
       "'data scientist ii develop machine learning optimization algorithms based methodology founded nlp regression clustering etc also responsible helping develop inference predictive models support organization needs implement machine learning algorithms natural language processing nlp data mining predictions optimization use statistical machine learning techniques analyzed data variety forms using several techniques including nlp regression clustering etc leverage data across sources identify meaningful factors translate various models predictive algorithms interact variety data forms structured unstructured distributed environment train deep learning models large scale data build ai products design develop data analysis visualization data mining tools'"
      ]
     },
     "execution_count": 250,
     "metadata": {},
     "output_type": "execute_result"
    }
   ],
   "source": [
    "data['Responsibilities'][0]"
   ]
  },
  {
   "cell_type": "code",
   "execution_count": 251,
   "metadata": {},
   "outputs": [],
   "source": [
    "from keybert import KeyBERT\n",
    "from transformers.pipelines import pipeline\n",
    "\n",
    "# hf_model = pipeline(\"feature-extraction\", model=\"distilbert-base-cased\")\n",
    "# kw_model = KeyBERT(model=hf_model)\n",
    "\n",
    "# Max Sum Distance and Maximal Marginal Relevance \n",
    "\n",
    "kw_model_responsibilities = KeyBERT(model='all-MiniLM-L6-v2') # all-MiniLM-L6-v2 - paraphrase-MiniLM-L3-v2\n",
    "kw_extractor = yake.KeywordExtractor(top=50)\n",
    "\n",
    "# facebook/bart-large"
   ]
  },
  {
   "cell_type": "code",
   "execution_count": 252,
   "metadata": {
    "scrolled": true
   },
   "outputs": [
    {
     "data": {
      "text/html": [
       "<pre style=\"white-space:pre;overflow-x:auto;line-height:normal;font-family:Menlo,'DejaVu Sans Mono',consolas,'Courier New',monospace\">role <span style=\"color: #000000; text-decoration-color: #000000; background-color: #ffff00\">responsible managing data science</span> identifying opportunities advanced analytics modelling inform strategic \n",
       "talent decisions <span style=\"color: #000000; text-decoration-color: #000000; background-color: #ffff00\">improve organization effectiveness drive</span> <span style=\"color: #000000; text-decoration-color: #000000; background-color: #ffff00\">employee experience lead development</span> existing future \n",
       "people analytics data science models deliverables including enhancement development use cases ux training workforce\n",
       "planning attrition hiring modelling etc advance ai ml capabilities leveraging existing use cases using advanced \n",
       "modeling techniques drive process improvements improve organizational effectiveness enhance candidate employee \n",
       "experience improve understanding data science principles broader hr community use cases return investment propose \n",
       "implement high impact data science solutions help address specific business challenges manage daily working \n",
       "<span style=\"color: #000000; text-decoration-color: #000000; background-color: #ffff00\">relationship people analytics consultants</span> business needs proactively propose technical solutions business problems \n",
       "using knowledge best class models present key <span style=\"color: #000000; text-decoration-color: #000000; background-color: #ffff00\">findings insights recommendations senior</span> build partnership work \n",
       "closely <span style=\"color: #000000; text-decoration-color: #000000; background-color: #ffff00\">enterprise data analytics insights</span> teams <span style=\"color: #000000; text-decoration-color: #000000; background-color: #ffff00\">enhance data science capabilities</span> innovation across enterprise \n",
       "leverage latest trends advanced analytics technology drive innovation provide recommendations\n",
       "</pre>\n"
      ],
      "text/plain": [
       "role \u001B[30;48;2;255;255;0mresponsible managing data science\u001B[0m identifying opportunities advanced analytics modelling inform strategic \n",
       "talent decisions \u001B[30;48;2;255;255;0mimprove organization effectiveness drive\u001B[0m \u001B[30;48;2;255;255;0memployee experience lead development\u001B[0m existing future \n",
       "people analytics data science models deliverables including enhancement development use cases ux training workforce\n",
       "planning attrition hiring modelling etc advance ai ml capabilities leveraging existing use cases using advanced \n",
       "modeling techniques drive process improvements improve organizational effectiveness enhance candidate employee \n",
       "experience improve understanding data science principles broader hr community use cases return investment propose \n",
       "implement high impact data science solutions help address specific business challenges manage daily working \n",
       "\u001B[30;48;2;255;255;0mrelationship people analytics consultants\u001B[0m business needs proactively propose technical solutions business problems \n",
       "using knowledge best class models present key \u001B[30;48;2;255;255;0mfindings insights recommendations senior\u001B[0m build partnership work \n",
       "closely \u001B[30;48;2;255;255;0menterprise data analytics insights\u001B[0m teams \u001B[30;48;2;255;255;0menhance data science capabilities\u001B[0m innovation across enterprise \n",
       "leverage latest trends advanced analytics technology drive innovation provide recommendations\n"
      ]
     },
     "metadata": {},
     "output_type": "display_data"
    },
    {
     "name": "stdout",
     "output_type": "stream",
     "text": [
      "----------\n",
      "['relationship people analytics consultants', 'improve organization effectiveness drive', 'managing data science projects', 'experience lead development implementation', 'findings insights recommendations senior', 'enterprise data analytics insights', 'capabilities drive innovation enterprise', 'responsible managing data science', 'employee experience lead development', 'enhance data science capabilities']\n",
      "\n",
      "\n",
      "\n",
      "\n",
      "\n",
      "\n"
     ]
    },
    {
     "ename": "KeyboardInterrupt",
     "evalue": "",
     "output_type": "error",
     "traceback": [
      "\u001B[1;31m---------------------------------------------------------------------------\u001B[0m",
      "\u001B[1;31mKeyboardInterrupt\u001B[0m                         Traceback (most recent call last)",
      "Cell \u001B[1;32mIn[252], line 14\u001B[0m\n\u001B[0;32m      3\u001B[0m \u001B[38;5;66;03m#     print(text)\u001B[39;00m\n\u001B[0;32m      4\u001B[0m \u001B[38;5;66;03m#     candidates = kw_extractor.extract_keywords(data['Responsibilities'][i])\u001B[39;00m\n\u001B[0;32m      5\u001B[0m \u001B[38;5;66;03m#     candidates = [candidate[0] for candidate in candidates]\u001B[39;00m\n\u001B[0;32m      6\u001B[0m     responsibilities_params \u001B[38;5;241m=\u001B[39m {\n\u001B[0;32m      7\u001B[0m         \u001B[38;5;124m'\u001B[39m\u001B[38;5;124mseed_keywords\u001B[39m\u001B[38;5;124m'\u001B[39m : seed_keywords,\n\u001B[0;32m      8\u001B[0m         \u001B[38;5;124m'\u001B[39m\u001B[38;5;124muse_maxsum\u001B[39m\u001B[38;5;124m'\u001B[39m : \u001B[38;5;28;01mTrue\u001B[39;00m,\n\u001B[1;32m   (...)\u001B[0m\n\u001B[0;32m     12\u001B[0m         \u001B[38;5;124m'\u001B[39m\u001B[38;5;124mtop_n\u001B[39m\u001B[38;5;124m'\u001B[39m: \u001B[38;5;241m10\u001B[39m\n\u001B[0;32m     13\u001B[0m     }\n\u001B[1;32m---> 14\u001B[0m     keywords \u001B[38;5;241m=\u001B[39m kw_model_responsibilities\u001B[38;5;241m.\u001B[39mextract_keywords(text, \u001B[38;5;241m*\u001B[39m\u001B[38;5;241m*\u001B[39mresponsibilities_params)\n\u001B[0;32m     16\u001B[0m     keywords_list\u001B[38;5;241m=\u001B[39m \u001B[38;5;28mlist\u001B[39m(\u001B[38;5;28mdict\u001B[39m(keywords)\u001B[38;5;241m.\u001B[39mkeys())\n\u001B[0;32m     17\u001B[0m     \u001B[38;5;28mprint\u001B[39m(\u001B[38;5;124m\"\u001B[39m\u001B[38;5;124m----------\u001B[39m\u001B[38;5;124m\"\u001B[39m)\n",
      "File \u001B[1;32m~\\PycharmProjects\\python-stuff\\venv\\lib\\site-packages\\keybert\\_model.py:211\u001B[0m, in \u001B[0;36mKeyBERT.extract_keywords\u001B[1;34m(self, docs, candidates, keyphrase_ngram_range, stop_words, top_n, min_df, use_maxsum, use_mmr, diversity, nr_candidates, vectorizer, highlight, seed_keywords, doc_embeddings, word_embeddings)\u001B[0m\n\u001B[0;32m    209\u001B[0m \u001B[38;5;66;03m# Max Sum Distance\u001B[39;00m\n\u001B[0;32m    210\u001B[0m \u001B[38;5;28;01melif\u001B[39;00m use_maxsum:\n\u001B[1;32m--> 211\u001B[0m     keywords \u001B[38;5;241m=\u001B[39m \u001B[43mmax_sum_distance\u001B[49m\u001B[43m(\u001B[49m\n\u001B[0;32m    212\u001B[0m \u001B[43m        \u001B[49m\u001B[43mdoc_embedding\u001B[49m\u001B[43m,\u001B[49m\n\u001B[0;32m    213\u001B[0m \u001B[43m        \u001B[49m\u001B[43mcandidate_embeddings\u001B[49m\u001B[43m,\u001B[49m\n\u001B[0;32m    214\u001B[0m \u001B[43m        \u001B[49m\u001B[43mcandidates\u001B[49m\u001B[43m,\u001B[49m\n\u001B[0;32m    215\u001B[0m \u001B[43m        \u001B[49m\u001B[43mtop_n\u001B[49m\u001B[43m,\u001B[49m\n\u001B[0;32m    216\u001B[0m \u001B[43m        \u001B[49m\u001B[43mnr_candidates\u001B[49m\u001B[43m,\u001B[49m\n\u001B[0;32m    217\u001B[0m \u001B[43m    \u001B[49m\u001B[43m)\u001B[49m\n\u001B[0;32m    219\u001B[0m \u001B[38;5;66;03m# Cosine-based keyword extraction\u001B[39;00m\n\u001B[0;32m    220\u001B[0m \u001B[38;5;28;01melse\u001B[39;00m:\n\u001B[0;32m    221\u001B[0m     distances \u001B[38;5;241m=\u001B[39m cosine_similarity(doc_embedding, candidate_embeddings)\n",
      "File \u001B[1;32m~\\PycharmProjects\\python-stuff\\venv\\lib\\site-packages\\keybert\\_maxsum.py:55\u001B[0m, in \u001B[0;36mmax_sum_distance\u001B[1;34m(doc_embedding, word_embeddings, words, top_n, nr_candidates)\u001B[0m\n\u001B[0;32m     52\u001B[0m candidate \u001B[38;5;241m=\u001B[39m \u001B[38;5;28;01mNone\u001B[39;00m\n\u001B[0;32m     53\u001B[0m \u001B[38;5;28;01mfor\u001B[39;00m combination \u001B[38;5;129;01min\u001B[39;00m itertools\u001B[38;5;241m.\u001B[39mcombinations(\u001B[38;5;28mrange\u001B[39m(\u001B[38;5;28mlen\u001B[39m(words_idx)), top_n):\n\u001B[0;32m     54\u001B[0m     sim \u001B[38;5;241m=\u001B[39m \u001B[38;5;28msum\u001B[39m(\n\u001B[1;32m---> 55\u001B[0m         [candidates[i][j] \u001B[38;5;28;01mfor\u001B[39;00m i \u001B[38;5;129;01min\u001B[39;00m combination \u001B[38;5;28;01mfor\u001B[39;00m j \u001B[38;5;129;01min\u001B[39;00m combination \u001B[38;5;28;01mif\u001B[39;00m i \u001B[38;5;241m!=\u001B[39m j]\n\u001B[0;32m     56\u001B[0m     )\n\u001B[0;32m     57\u001B[0m     \u001B[38;5;28;01mif\u001B[39;00m sim \u001B[38;5;241m<\u001B[39m min_sim:\n\u001B[0;32m     58\u001B[0m         candidate \u001B[38;5;241m=\u001B[39m combination\n",
      "File \u001B[1;32m~\\PycharmProjects\\python-stuff\\venv\\lib\\site-packages\\keybert\\_maxsum.py:55\u001B[0m, in \u001B[0;36m<listcomp>\u001B[1;34m(.0)\u001B[0m\n\u001B[0;32m     52\u001B[0m candidate \u001B[38;5;241m=\u001B[39m \u001B[38;5;28;01mNone\u001B[39;00m\n\u001B[0;32m     53\u001B[0m \u001B[38;5;28;01mfor\u001B[39;00m combination \u001B[38;5;129;01min\u001B[39;00m itertools\u001B[38;5;241m.\u001B[39mcombinations(\u001B[38;5;28mrange\u001B[39m(\u001B[38;5;28mlen\u001B[39m(words_idx)), top_n):\n\u001B[0;32m     54\u001B[0m     sim \u001B[38;5;241m=\u001B[39m \u001B[38;5;28msum\u001B[39m(\n\u001B[1;32m---> 55\u001B[0m         [candidates[i][j] \u001B[38;5;28;01mfor\u001B[39;00m i \u001B[38;5;129;01min\u001B[39;00m combination \u001B[38;5;28;01mfor\u001B[39;00m j \u001B[38;5;129;01min\u001B[39;00m combination \u001B[38;5;28;01mif\u001B[39;00m i \u001B[38;5;241m!=\u001B[39m j]\n\u001B[0;32m     56\u001B[0m     )\n\u001B[0;32m     57\u001B[0m     \u001B[38;5;28;01mif\u001B[39;00m sim \u001B[38;5;241m<\u001B[39m min_sim:\n\u001B[0;32m     58\u001B[0m         candidate \u001B[38;5;241m=\u001B[39m combination\n",
      "\u001B[1;31mKeyboardInterrupt\u001B[0m: "
     ]
    }
   ],
   "source": [
    "for i in range(27, 37):\n",
    "    text = data['Responsibilities'][i]\n",
    "#     print(text)\n",
    "#     candidates = kw_extractor.extract_keywords(data['Responsibilities'][i])\n",
    "#     candidates = [candidate[0] for candidate in candidates]\n",
    "    responsibilities_params = {\n",
    "        'seed_keywords' : seed_keywords,\n",
    "        'use_maxsum' : True,\n",
    "        'nr_candidates': 20,\n",
    "        'keyphrase_ngram_range': (3, 4),\n",
    "        'highlight': True,\n",
    "        'top_n': 10\n",
    "    }\n",
    "    keywords = kw_model_responsibilities.extract_keywords(text, **responsibilities_params)\n",
    "\n",
    "    keywords_list= list(dict(keywords).keys())\n",
    "    print(\"----------\")\n",
    "    print(keywords_list)\n",
    "    print('\\n')\n",
    "    print('\\n')\n",
    "    print('\\n')"
   ]
  },
  {
   "cell_type": "markdown",
   "metadata": {},
   "source": [
    "## Benefits\t"
   ]
  },
  {
   "cell_type": "code",
   "execution_count": 253,
   "metadata": {},
   "outputs": [
    {
     "data": {
      "text/plain": [
       "'offer excellent plans programs employees employees rewarded competitive salary comprehensive benefits package may include health benefits coverage families domestic partners vacation retirement plans paid holidays tuition reimbursement much'"
      ]
     },
     "execution_count": 253,
     "metadata": {},
     "output_type": "execute_result"
    }
   ],
   "source": [
    "data['Benefits'][1]"
   ]
  },
  {
   "cell_type": "code",
   "execution_count": 254,
   "metadata": {},
   "outputs": [],
   "source": [
    "data['Benefits'] = data['Benefits'].fillna(\"\")\n",
    "\n",
    "data['Benefits'] = data['Benefits'].apply(sep_num_words_func)\n",
    "data['Benefits'] = data['Benefits'].apply(num_to_words)\n",
    "data['Benefits'] = data['Benefits'].apply(convert_exp_to_word)\n",
    "data['Benefits'] = data['Benefits'].apply(remove_punctuation_func)\n",
    "data['Benefits'] = data['Benefits'].apply(remove_extra_whitespaces_func)\n",
    "data['Benefits'] = data['Benefits'].apply(stop_word_removal)\n",
    "data['Benefits'] = data['Benefits'].str.lower()\n"
   ]
  },
  {
   "cell_type": "code",
   "execution_count": 255,
   "metadata": {},
   "outputs": [
    {
     "data": {
      "text/plain": [
       "'offer excellent plans programs employees employees rewarded competitive salary comprehensive benefits package may include health benefits coverage families domestic partners vacation retirement plans paid holidays tuition reimbursement much'"
      ]
     },
     "execution_count": 255,
     "metadata": {},
     "output_type": "execute_result"
    }
   ],
   "source": [
    "data['Benefits'][1]"
   ]
  },
  {
   "cell_type": "code",
   "execution_count": 256,
   "metadata": {},
   "outputs": [],
   "source": [
    "from keybert import KeyBERT\n",
    "from transformers.pipelines import pipeline\n",
    "\n",
    "# hf_model = pipeline(\"feature-extraction\", model=\"distilbert-base-cased\")\n",
    "# kw_model = KeyBERT(model=hf_model)\n",
    "\n",
    "# Max Sum Distance and Maximal Marginal Relevance \n",
    "\n",
    "kw_model_benefits = KeyBERT(model='all-MiniLM-L6-v2') # all-MiniLM-L6-v2 - paraphrase-MiniLM-L3-v2\n",
    "kw_extractor = yake.KeywordExtractor(top=50)\n",
    "\n",
    "# facebook/bart-large"
   ]
  },
  {
   "cell_type": "code",
   "execution_count": 257,
   "metadata": {
    "scrolled": true
   },
   "outputs": [
    {
     "name": "stdout",
     "output_type": "stream",
     "text": [
      "----------\n",
      "[]\n",
      "\n",
      "\n",
      "\n",
      "\n",
      "\n",
      "\n",
      "----------\n",
      "[]\n",
      "\n",
      "\n",
      "\n",
      "\n",
      "\n",
      "\n"
     ]
    },
    {
     "ename": "KeyboardInterrupt",
     "evalue": "",
     "output_type": "error",
     "traceback": [
      "\u001B[1;31m---------------------------------------------------------------------------\u001B[0m",
      "\u001B[1;31mKeyboardInterrupt\u001B[0m                         Traceback (most recent call last)",
      "Cell \u001B[1;32mIn[257], line 14\u001B[0m\n\u001B[0;32m      3\u001B[0m \u001B[38;5;66;03m#     print(text)\u001B[39;00m\n\u001B[0;32m      4\u001B[0m \u001B[38;5;66;03m#     candidates = kw_extractor.extract_keywords(data['Responsibilities'][i])\u001B[39;00m\n\u001B[0;32m      5\u001B[0m \u001B[38;5;66;03m#     candidates = [candidate[0] for candidate in candidates]\u001B[39;00m\n\u001B[0;32m      6\u001B[0m     benefits_params \u001B[38;5;241m=\u001B[39m {\n\u001B[0;32m      7\u001B[0m         \u001B[38;5;124m'\u001B[39m\u001B[38;5;124mseed_keywords\u001B[39m\u001B[38;5;124m'\u001B[39m : seed_keywords,\n\u001B[0;32m      8\u001B[0m         \u001B[38;5;124m'\u001B[39m\u001B[38;5;124muse_maxsum\u001B[39m\u001B[38;5;124m'\u001B[39m : \u001B[38;5;28;01mTrue\u001B[39;00m,\n\u001B[1;32m   (...)\u001B[0m\n\u001B[0;32m     12\u001B[0m         \u001B[38;5;124m'\u001B[39m\u001B[38;5;124mtop_n\u001B[39m\u001B[38;5;124m'\u001B[39m: \u001B[38;5;241m10\u001B[39m\n\u001B[0;32m     13\u001B[0m     }\n\u001B[1;32m---> 14\u001B[0m     keywords \u001B[38;5;241m=\u001B[39m kw_model_benefits\u001B[38;5;241m.\u001B[39mextract_keywords(text, \u001B[38;5;241m*\u001B[39m\u001B[38;5;241m*\u001B[39mbenefits_params)\n\u001B[0;32m     16\u001B[0m     keywords_list\u001B[38;5;241m=\u001B[39m \u001B[38;5;28mlist\u001B[39m(\u001B[38;5;28mdict\u001B[39m(keywords)\u001B[38;5;241m.\u001B[39mkeys())\n\u001B[0;32m     17\u001B[0m     \u001B[38;5;28mprint\u001B[39m(\u001B[38;5;124m\"\u001B[39m\u001B[38;5;124m----------\u001B[39m\u001B[38;5;124m\"\u001B[39m)\n",
      "File \u001B[1;32m~\\PycharmProjects\\python-stuff\\venv\\lib\\site-packages\\keybert\\_model.py:211\u001B[0m, in \u001B[0;36mKeyBERT.extract_keywords\u001B[1;34m(self, docs, candidates, keyphrase_ngram_range, stop_words, top_n, min_df, use_maxsum, use_mmr, diversity, nr_candidates, vectorizer, highlight, seed_keywords, doc_embeddings, word_embeddings)\u001B[0m\n\u001B[0;32m    209\u001B[0m \u001B[38;5;66;03m# Max Sum Distance\u001B[39;00m\n\u001B[0;32m    210\u001B[0m \u001B[38;5;28;01melif\u001B[39;00m use_maxsum:\n\u001B[1;32m--> 211\u001B[0m     keywords \u001B[38;5;241m=\u001B[39m \u001B[43mmax_sum_distance\u001B[49m\u001B[43m(\u001B[49m\n\u001B[0;32m    212\u001B[0m \u001B[43m        \u001B[49m\u001B[43mdoc_embedding\u001B[49m\u001B[43m,\u001B[49m\n\u001B[0;32m    213\u001B[0m \u001B[43m        \u001B[49m\u001B[43mcandidate_embeddings\u001B[49m\u001B[43m,\u001B[49m\n\u001B[0;32m    214\u001B[0m \u001B[43m        \u001B[49m\u001B[43mcandidates\u001B[49m\u001B[43m,\u001B[49m\n\u001B[0;32m    215\u001B[0m \u001B[43m        \u001B[49m\u001B[43mtop_n\u001B[49m\u001B[43m,\u001B[49m\n\u001B[0;32m    216\u001B[0m \u001B[43m        \u001B[49m\u001B[43mnr_candidates\u001B[49m\u001B[43m,\u001B[49m\n\u001B[0;32m    217\u001B[0m \u001B[43m    \u001B[49m\u001B[43m)\u001B[49m\n\u001B[0;32m    219\u001B[0m \u001B[38;5;66;03m# Cosine-based keyword extraction\u001B[39;00m\n\u001B[0;32m    220\u001B[0m \u001B[38;5;28;01melse\u001B[39;00m:\n\u001B[0;32m    221\u001B[0m     distances \u001B[38;5;241m=\u001B[39m cosine_similarity(doc_embedding, candidate_embeddings)\n",
      "File \u001B[1;32m~\\PycharmProjects\\python-stuff\\venv\\lib\\site-packages\\keybert\\_maxsum.py:55\u001B[0m, in \u001B[0;36mmax_sum_distance\u001B[1;34m(doc_embedding, word_embeddings, words, top_n, nr_candidates)\u001B[0m\n\u001B[0;32m     52\u001B[0m candidate \u001B[38;5;241m=\u001B[39m \u001B[38;5;28;01mNone\u001B[39;00m\n\u001B[0;32m     53\u001B[0m \u001B[38;5;28;01mfor\u001B[39;00m combination \u001B[38;5;129;01min\u001B[39;00m itertools\u001B[38;5;241m.\u001B[39mcombinations(\u001B[38;5;28mrange\u001B[39m(\u001B[38;5;28mlen\u001B[39m(words_idx)), top_n):\n\u001B[0;32m     54\u001B[0m     sim \u001B[38;5;241m=\u001B[39m \u001B[38;5;28msum\u001B[39m(\n\u001B[1;32m---> 55\u001B[0m         [candidates[i][j] \u001B[38;5;28;01mfor\u001B[39;00m i \u001B[38;5;129;01min\u001B[39;00m combination \u001B[38;5;28;01mfor\u001B[39;00m j \u001B[38;5;129;01min\u001B[39;00m combination \u001B[38;5;28;01mif\u001B[39;00m i \u001B[38;5;241m!=\u001B[39m j]\n\u001B[0;32m     56\u001B[0m     )\n\u001B[0;32m     57\u001B[0m     \u001B[38;5;28;01mif\u001B[39;00m sim \u001B[38;5;241m<\u001B[39m min_sim:\n\u001B[0;32m     58\u001B[0m         candidate \u001B[38;5;241m=\u001B[39m combination\n",
      "File \u001B[1;32m~\\PycharmProjects\\python-stuff\\venv\\lib\\site-packages\\keybert\\_maxsum.py:55\u001B[0m, in \u001B[0;36m<listcomp>\u001B[1;34m(.0)\u001B[0m\n\u001B[0;32m     52\u001B[0m candidate \u001B[38;5;241m=\u001B[39m \u001B[38;5;28;01mNone\u001B[39;00m\n\u001B[0;32m     53\u001B[0m \u001B[38;5;28;01mfor\u001B[39;00m combination \u001B[38;5;129;01min\u001B[39;00m itertools\u001B[38;5;241m.\u001B[39mcombinations(\u001B[38;5;28mrange\u001B[39m(\u001B[38;5;28mlen\u001B[39m(words_idx)), top_n):\n\u001B[0;32m     54\u001B[0m     sim \u001B[38;5;241m=\u001B[39m \u001B[38;5;28msum\u001B[39m(\n\u001B[1;32m---> 55\u001B[0m         [\u001B[43mcandidates\u001B[49m\u001B[43m[\u001B[49m\u001B[43mi\u001B[49m\u001B[43m]\u001B[49m\u001B[43m[\u001B[49m\u001B[43mj\u001B[49m\u001B[43m]\u001B[49m \u001B[38;5;28;01mfor\u001B[39;00m i \u001B[38;5;129;01min\u001B[39;00m combination \u001B[38;5;28;01mfor\u001B[39;00m j \u001B[38;5;129;01min\u001B[39;00m combination \u001B[38;5;28;01mif\u001B[39;00m i \u001B[38;5;241m!=\u001B[39m j]\n\u001B[0;32m     56\u001B[0m     )\n\u001B[0;32m     57\u001B[0m     \u001B[38;5;28;01mif\u001B[39;00m sim \u001B[38;5;241m<\u001B[39m min_sim:\n\u001B[0;32m     58\u001B[0m         candidate \u001B[38;5;241m=\u001B[39m combination\n",
      "\u001B[1;31mKeyboardInterrupt\u001B[0m: "
     ]
    }
   ],
   "source": [
    "for i in range(27, 37):\n",
    "    text = data['Benefits'][i]\n",
    "#     print(text)\n",
    "#     candidates = kw_extractor.extract_keywords(data['Responsibilities'][i])\n",
    "#     candidates = [candidate[0] for candidate in candidates]\n",
    "    benefits_params = {\n",
    "        'seed_keywords' : seed_keywords,\n",
    "        'use_maxsum' : True,\n",
    "        'nr_candidates': 20,\n",
    "        'keyphrase_ngram_range': (3, 4),\n",
    "        'highlight': True,\n",
    "        'top_n': 10\n",
    "    }\n",
    "    keywords = kw_model_benefits.extract_keywords(text, **benefits_params)\n",
    "\n",
    "    keywords_list= list(dict(keywords).keys())\n",
    "    print(\"----------\")\n",
    "    print(keywords_list)\n",
    "    print('\\n')\n",
    "    print('\\n')\n",
    "    print('\\n')"
   ]
  },
  {
   "cell_type": "markdown",
   "metadata": {},
   "source": [
    "### Output prep"
   ]
  },
  {
   "cell_type": "code",
   "execution_count": 258,
   "metadata": {},
   "outputs": [
    {
     "data": {
      "text/html": [
       "<div>\n",
       "<style scoped>\n",
       "    .dataframe tbody tr th:only-of-type {\n",
       "        vertical-align: middle;\n",
       "    }\n",
       "\n",
       "    .dataframe tbody tr th {\n",
       "        vertical-align: top;\n",
       "    }\n",
       "\n",
       "    .dataframe thead th {\n",
       "        text-align: right;\n",
       "    }\n",
       "</style>\n",
       "<table border=\"1\" class=\"dataframe\">\n",
       "  <thead>\n",
       "    <tr style=\"text-align: right;\">\n",
       "      <th></th>\n",
       "      <th>title</th>\n",
       "      <th>company_name</th>\n",
       "      <th>location</th>\n",
       "      <th>from</th>\n",
       "      <th>Benefits</th>\n",
       "      <th>Qualifications</th>\n",
       "      <th>Responsibilities</th>\n",
       "    </tr>\n",
       "  </thead>\n",
       "  <tbody>\n",
       "    <tr>\n",
       "      <th>0</th>\n",
       "      <td>Data Scientist II</td>\n",
       "      <td>Merck KGaA Darmstadt, Germany</td>\n",
       "      <td>St. Louis, MO, USA</td>\n",
       "      <td>via EMD Group</td>\n",
       "      <td></td>\n",
       "      <td>bachelors degree data science statistics appli...</td>\n",
       "      <td>data scientist ii develop machine learning opt...</td>\n",
       "    </tr>\n",
       "    <tr>\n",
       "      <th>1</th>\n",
       "      <td>Data Science Analyst Specialist</td>\n",
       "      <td>Dominion Energy</td>\n",
       "      <td>Richmond, VA, USA</td>\n",
       "      <td>via LinkedIn</td>\n",
       "      <td>offer excellent plans programs employees emplo...</td>\n",
       "      <td>the qualified candidate possess bachelor scien...</td>\n",
       "      <td>duties serves technical expert computerized da...</td>\n",
       "    </tr>\n",
       "    <tr>\n",
       "      <th>2</th>\n",
       "      <td>Advanced Data Analyst / Data Scientist</td>\n",
       "      <td>Boehringer Ingelheim India Pvt Ltd</td>\n",
       "      <td>United States</td>\n",
       "      <td>via TechGig</td>\n",
       "      <td></td>\n",
       "      <td></td>\n",
       "      <td></td>\n",
       "    </tr>\n",
       "    <tr>\n",
       "      <th>3</th>\n",
       "      <td>Data Scientist</td>\n",
       "      <td>Caterpillar</td>\n",
       "      <td>Peoria, IL, USA</td>\n",
       "      <td>via Caterpillar Careers</td>\n",
       "      <td>offer total rewards package provides day one b...</td>\n",
       "      <td>bachelor degree two years experience previous ...</td>\n",
       "      <td>data scientist caterpillar parts pricing use m...</td>\n",
       "    </tr>\n",
       "    <tr>\n",
       "      <th>4</th>\n",
       "      <td>Data Scientist, Cell Therapy Digital Solutions</td>\n",
       "      <td>Takeda Pharmaceutical</td>\n",
       "      <td>Boston, MA, USA</td>\n",
       "      <td>via JobServe</td>\n",
       "      <td>comprehensive healthcare medical dental vision...</td>\n",
       "      <td>phd zero years work experience ms two years wo...</td>\n",
       "      <td>provide hands support statistical guidance bri...</td>\n",
       "    </tr>\n",
       "  </tbody>\n",
       "</table>\n",
       "</div>"
      ],
      "text/plain": [
       "                                            title  \\\n",
       "0                               Data Scientist II   \n",
       "1                 Data Science Analyst Specialist   \n",
       "2          Advanced Data Analyst / Data Scientist   \n",
       "3                                  Data Scientist   \n",
       "4  Data Scientist, Cell Therapy Digital Solutions   \n",
       "\n",
       "                         company_name            location  \\\n",
       "0       Merck KGaA Darmstadt, Germany  St. Louis, MO, USA   \n",
       "1                     Dominion Energy   Richmond, VA, USA   \n",
       "2  Boehringer Ingelheim India Pvt Ltd       United States   \n",
       "3                         Caterpillar     Peoria, IL, USA   \n",
       "4               Takeda Pharmaceutical     Boston, MA, USA   \n",
       "\n",
       "                      from                                           Benefits  \\\n",
       "0            via EMD Group                                                      \n",
       "1             via LinkedIn  offer excellent plans programs employees emplo...   \n",
       "2              via TechGig                                                      \n",
       "3  via Caterpillar Careers  offer total rewards package provides day one b...   \n",
       "4             via JobServe  comprehensive healthcare medical dental vision...   \n",
       "\n",
       "                                      Qualifications  \\\n",
       "0  bachelors degree data science statistics appli...   \n",
       "1  the qualified candidate possess bachelor scien...   \n",
       "2                                                      \n",
       "3  bachelor degree two years experience previous ...   \n",
       "4  phd zero years work experience ms two years wo...   \n",
       "\n",
       "                                    Responsibilities  \n",
       "0  data scientist ii develop machine learning opt...  \n",
       "1  duties serves technical expert computerized da...  \n",
       "2                                                     \n",
       "3  data scientist caterpillar parts pricing use m...  \n",
       "4  provide hands support statistical guidance bri...  "
      ]
     },
     "execution_count": 258,
     "metadata": {},
     "output_type": "execute_result"
    }
   ],
   "source": [
    "data.head()"
   ]
  },
  {
   "cell_type": "code",
   "execution_count": 259,
   "metadata": {},
   "outputs": [
    {
     "data": {
      "text/html": [
       "<pre style=\"white-space:pre;overflow-x:auto;line-height:normal;font-family:Menlo,'DejaVu Sans Mono',consolas,'Courier New',monospace\"><span style=\"color: #000000; text-decoration-color: #000000; background-color: #ffff00\">offer excellent plans programs</span> employees rewarded <span style=\"color: #000000; text-decoration-color: #000000; background-color: #ffff00\">competitive salary comprehensive benefits</span> may <span style=\"color: #000000; text-decoration-color: #000000; background-color: #ffff00\">include health </span>\n",
       "<span style=\"color: #000000; text-decoration-color: #000000; background-color: #ffff00\">benefits</span> coverage families domestic <span style=\"color: #000000; text-decoration-color: #000000; background-color: #ffff00\">partners vacation retirement plans</span> holidays tuition reimbursement much\n",
       "</pre>\n"
      ],
      "text/plain": [
       "\u001B[30;48;2;255;255;0moffer excellent plans programs\u001B[0m employees rewarded \u001B[30;48;2;255;255;0mcompetitive salary comprehensive benefits\u001B[0m may \u001B[30;48;2;255;255;0minclude health \u001B[0m\n",
       "\u001B[30;48;2;255;255;0mbenefits\u001B[0m coverage families domestic \u001B[30;48;2;255;255;0mpartners vacation retirement plans\u001B[0m holidays tuition reimbursement much\n"
      ]
     },
     "metadata": {},
     "output_type": "display_data"
    },
    {
     "data": {
      "text/html": [
       "<pre style=\"white-space:pre;overflow-x:auto;line-height:normal;font-family:Menlo,'DejaVu Sans Mono',consolas,'Courier New',monospace\"><span style=\"color: #000000; text-decoration-color: #000000; background-color: #ffff00\">offer total rewards</span> package provides day one <span style=\"color: #000000; text-decoration-color: #000000; background-color: #ffff00\">benefits medical dental vision</span> four hundred one along <span style=\"color: #000000; text-decoration-color: #000000; background-color: #ffff00\">potential annual</span>\n",
       "<span style=\"color: #000000; text-decoration-color: #000000; background-color: #ffff00\">bonus additional</span> include paid vacation days paid holidays prorated based upon hire date\n",
       "</pre>\n"
      ],
      "text/plain": [
       "\u001B[30;48;2;255;255;0moffer total rewards\u001B[0m package provides day one \u001B[30;48;2;255;255;0mbenefits medical dental vision\u001B[0m four hundred one along \u001B[30;48;2;255;255;0mpotential annual\u001B[0m\n",
       "\u001B[30;48;2;255;255;0mbonus additional\u001B[0m include paid vacation days paid holidays prorated based upon hire date\n"
      ]
     },
     "metadata": {},
     "output_type": "display_data"
    },
    {
     "data": {
      "text/html": [
       "<pre style=\"white-space:pre;overflow-x:auto;line-height:normal;font-family:Menlo,'DejaVu Sans Mono',consolas,'Courier New',monospace\"><span style=\"color: #000000; text-decoration-color: #000000; background-color: #ffff00\">comprehensive healthcare medical dental</span> financial planning stability four hundred one company match annual \n",
       "retirement contribution plan health wellness programs including onsite flu shots health screenings generous time \n",
       "vacation option purchase additional vacation days community outreach programs company match charitable \n",
       "contributions family planning support flexible work paths tuition reimbursement us base salary range one hundred \n",
       "two twenty plus zero one hundred forty six zero zero based candidate professional experience level employees may \n",
       "also <span style=\"color: #000000; text-decoration-color: #000000; background-color: #ffff00\">eligible short term long</span> incentive benefits well <span style=\"color: #000000; text-decoration-color: #000000; background-color: #ffff00\">employees eligible participate medical</span> <span style=\"color: #000000; text-decoration-color: #000000; background-color: #ffff00\">vision life insurance</span> \n",
       "four hundred one charitable contribution match holidays personal days vacation tuition reimbursement program paid \n",
       "volunteer time final salary offered position may take account number factors including limited location skills \n",
       "education experience\n",
       "</pre>\n"
      ],
      "text/plain": [
       "\u001B[30;48;2;255;255;0mcomprehensive healthcare medical dental\u001B[0m financial planning stability four hundred one company match annual \n",
       "retirement contribution plan health wellness programs including onsite flu shots health screenings generous time \n",
       "vacation option purchase additional vacation days community outreach programs company match charitable \n",
       "contributions family planning support flexible work paths tuition reimbursement us base salary range one hundred \n",
       "two twenty plus zero one hundred forty six zero zero based candidate professional experience level employees may \n",
       "also \u001B[30;48;2;255;255;0meligible short term long\u001B[0m incentive benefits well \u001B[30;48;2;255;255;0memployees eligible participate medical\u001B[0m \u001B[30;48;2;255;255;0mvision life insurance\u001B[0m \n",
       "four hundred one charitable contribution match holidays personal days vacation tuition reimbursement program paid \n",
       "volunteer time final salary offered position may take account number factors including limited location skills \n",
       "education experience\n"
      ]
     },
     "metadata": {},
     "output_type": "display_data"
    },
    {
     "data": {
      "text/html": [
       "<pre style=\"white-space:pre;overflow-x:auto;line-height:normal;font-family:Menlo,'DejaVu Sans Mono',consolas,'Courier New',monospace\"><span style=\"color: #000000; text-decoration-color: #000000; background-color: #ffff00\">typical salary range</span> position one hundred eleven zero one hundred sixty nine zero <span style=\"color: #000000; text-decoration-color: #000000; background-color: #ffff00\">salary negotiable depending</span> upon \n",
       "<span style=\"color: #000000; text-decoration-color: #000000; background-color: #ffff00\">experience location position eligible</span> annual bonus\n",
       "</pre>\n"
      ],
      "text/plain": [
       "\u001B[30;48;2;255;255;0mtypical salary range\u001B[0m position one hundred eleven zero one hundred sixty nine zero \u001B[30;48;2;255;255;0msalary negotiable depending\u001B[0m upon \n",
       "\u001B[30;48;2;255;255;0mexperience location position eligible\u001B[0m annual bonus\n"
      ]
     },
     "metadata": {},
     "output_type": "display_data"
    },
    {
     "data": {
      "text/html": [
       "<pre style=\"white-space:pre;overflow-x:auto;line-height:normal;font-family:Menlo,'DejaVu Sans Mono',consolas,'Courier New',monospace\"><span style=\"color: #000000; text-decoration-color: #000000; background-color: #ffff00\">pay range position</span> eleven plus three thousand six hundred zero one nine plus three thousand four hundred <span style=\"color: #000000; text-decoration-color: #000000; background-color: #ffff00\">zero year </span>\n",
       "<span style=\"color: #000000; text-decoration-color: #000000; background-color: #ffff00\">opportunity earn</span> <span style=\"color: #000000; text-decoration-color: #000000; background-color: #ffff00\">compensation pursuant company</span> bonus <span style=\"color: #000000; text-decoration-color: #000000; background-color: #ffff00\">plan exact pay based</span> including limited relevant education \n",
       "qualifications certifications experience level shift geographic location business organizational needs\n",
       "</pre>\n"
      ],
      "text/plain": [
       "\u001B[30;48;2;255;255;0mpay range position\u001B[0m eleven plus three thousand six hundred zero one nine plus three thousand four hundred \u001B[30;48;2;255;255;0mzero year \u001B[0m\n",
       "\u001B[30;48;2;255;255;0mopportunity earn\u001B[0m \u001B[30;48;2;255;255;0mcompensation pursuant company\u001B[0m bonus \u001B[30;48;2;255;255;0mplan exact pay based\u001B[0m including limited relevant education \n",
       "qualifications certifications experience level shift geographic location business organizational needs\n"
      ]
     },
     "metadata": {},
     "output_type": "display_data"
    },
    {
     "data": {
      "text/html": [
       "<pre style=\"white-space:pre;overflow-x:auto;line-height:normal;font-family:Menlo,'DejaVu Sans Mono',consolas,'Courier New',monospace\"><span style=\"color: #000000; text-decoration-color: #000000; background-color: #ffff00\">cox reward hard</span> work meaningful benefits first offer competitive compensation package four hundred one generous \n",
       "company match comprehensive healthcare life disability benefits plus numerous benefits including adoption \n",
       "assistance pet insurance discounts travel cars also offer boundless opportunities growth sharpen skills learn new \n",
       "talent join mentoring program even earn advanced degree usd eighty four six hundred zero one hundred twenty seven \n",
       "zero zero per <span style=\"color: #000000; text-decoration-color: #000000; background-color: #ffff00\">year benefits working</span> cox may include health care insurance medical dental vision retirement planning\n",
       "four hundred one paid days sick leave parental leave flexible vacation wellness days pto\n",
       "</pre>\n"
      ],
      "text/plain": [
       "\u001B[30;48;2;255;255;0mcox reward hard\u001B[0m work meaningful benefits first offer competitive compensation package four hundred one generous \n",
       "company match comprehensive healthcare life disability benefits plus numerous benefits including adoption \n",
       "assistance pet insurance discounts travel cars also offer boundless opportunities growth sharpen skills learn new \n",
       "talent join mentoring program even earn advanced degree usd eighty four six hundred zero one hundred twenty seven \n",
       "zero zero per \u001B[30;48;2;255;255;0myear benefits working\u001B[0m cox may include health care insurance medical dental vision retirement planning\n",
       "four hundred one paid days sick leave parental leave flexible vacation wellness days pto\n"
      ]
     },
     "metadata": {},
     "output_type": "display_data"
    },
    {
     "data": {
      "text/html": [
       "<pre style=\"white-space:pre;overflow-x:auto;line-height:normal;font-family:Menlo,'DejaVu Sans Mono',consolas,'Courier New',monospace\">take <span style=\"color: #000000; text-decoration-color: #000000; background-color: #ffff00\">advantage flexible benefits support</span> <span style=\"color: #000000; text-decoration-color: #000000; background-color: #ffff00\">stage career empowering thrive</span> home\n",
       "</pre>\n"
      ],
      "text/plain": [
       "take \u001B[30;48;2;255;255;0madvantage flexible benefits support\u001B[0m \u001B[30;48;2;255;255;0mstage career empowering thrive\u001B[0m home\n"
      ]
     },
     "metadata": {},
     "output_type": "display_data"
    },
    {
     "data": {
      "text/html": [
       "<pre style=\"white-space:pre;overflow-x:auto;line-height:normal;font-family:Menlo,'DejaVu Sans Mono',consolas,'Courier New',monospace\"><span style=\"color: #000000; text-decoration-color: #000000; background-color: #ffff00\">medical dental vision insurance</span> health savings account flexible spending accounts healthcare dependent care \n",
       "commuter short term long term disability company provided life ad insurance company <span style=\"color: #000000; text-decoration-color: #000000; background-color: #ffff00\">provided employee assistance </span>\n",
       "<span style=\"color: #000000; text-decoration-color: #000000; background-color: #ffff00\">program</span> access linkedin learning solutions matched four hundred one retirement savings plan paid time legal plan \n",
       "identity theft protection <span style=\"color: #000000; text-decoration-color: #000000; background-color: #ffff00\">accident insurance employee discounts</span> insurance employee stock purchase program range \n",
       "provided reflects base salary individual compensation offers within range based variety factors including limited \n",
       "geographic location experience credentials education training demand role overall business labor <span style=\"color: #000000; text-decoration-color: #000000; background-color: #ffff00\">market </span>\n",
       "<span style=\"color: #000000; text-decoration-color: #000000; background-color: #ffff00\">considerations salary range</span> hundred eighty one two hundred eighty addition details highlighted job posting general \n",
       "description <span style=\"color: #000000; text-decoration-color: #000000; background-color: #ffff00\">expected benefits compensation</span> position\n",
       "</pre>\n"
      ],
      "text/plain": [
       "\u001B[30;48;2;255;255;0mmedical dental vision insurance\u001B[0m health savings account flexible spending accounts healthcare dependent care \n",
       "commuter short term long term disability company provided life ad insurance company \u001B[30;48;2;255;255;0mprovided employee assistance \u001B[0m\n",
       "\u001B[30;48;2;255;255;0mprogram\u001B[0m access linkedin learning solutions matched four hundred one retirement savings plan paid time legal plan \n",
       "identity theft protection \u001B[30;48;2;255;255;0maccident insurance employee discounts\u001B[0m insurance employee stock purchase program range \n",
       "provided reflects base salary individual compensation offers within range based variety factors including limited \n",
       "geographic location experience credentials education training demand role overall business labor \u001B[30;48;2;255;255;0mmarket \u001B[0m\n",
       "\u001B[30;48;2;255;255;0mconsiderations salary range\u001B[0m hundred eighty one two hundred eighty addition details highlighted job posting general \n",
       "description \u001B[30;48;2;255;255;0mexpected benefits compensation\u001B[0m position\n"
      ]
     },
     "metadata": {},
     "output_type": "display_data"
    },
    {
     "data": {
      "text/html": [
       "<pre style=\"white-space:pre;overflow-x:auto;line-height:normal;font-family:Menlo,'DejaVu Sans Mono',consolas,'Courier New',monospace\"><span style=\"color: #000000; text-decoration-color: #000000; background-color: #ffff00\">competitive salary comprehensive</span> benefit package outstanding <span style=\"color: #000000; text-decoration-color: #000000; background-color: #ffff00\">work life balance</span> flex time employee stock purchase \n",
       "program four hundred one <span style=\"color: #000000; text-decoration-color: #000000; background-color: #ffff00\">matching contributions unlimited</span> vacation unlimited sick days <span style=\"color: #000000; text-decoration-color: #000000; background-color: #ffff00\">paid holidays site exercise</span> \n",
       "collaborative <span style=\"color: #000000; text-decoration-color: #000000; background-color: #ffff00\">environment charitable matching program</span>\n",
       "</pre>\n"
      ],
      "text/plain": [
       "\u001B[30;48;2;255;255;0mcompetitive salary comprehensive\u001B[0m benefit package outstanding \u001B[30;48;2;255;255;0mwork life balance\u001B[0m flex time employee stock purchase \n",
       "program four hundred one \u001B[30;48;2;255;255;0mmatching contributions unlimited\u001B[0m vacation unlimited sick days \u001B[30;48;2;255;255;0mpaid holidays site exercise\u001B[0m \n",
       "collaborative \u001B[30;48;2;255;255;0menvironment charitable matching program\u001B[0m\n"
      ]
     },
     "metadata": {},
     "output_type": "display_data"
    },
    {
     "data": {
      "text/html": [
       "<pre style=\"white-space:pre;overflow-x:auto;line-height:normal;font-family:Menlo,'DejaVu Sans Mono',consolas,'Courier New',monospace\">one hundred two four hundred zero one hundred fifty two twenty plus zero vizient comprehensive benefits plan\n",
       "</pre>\n"
      ],
      "text/plain": [
       "one hundred two four hundred zero one hundred fifty two twenty plus zero vizient comprehensive benefits plan\n"
      ]
     },
     "metadata": {},
     "output_type": "display_data"
    },
    {
     "data": {
      "text/html": [
       "<pre style=\"white-space:pre;overflow-x:auto;line-height:normal;font-family:Menlo,'DejaVu Sans Mono',consolas,'Courier New',monospace\">drug free employer\n",
       "</pre>\n"
      ],
      "text/plain": [
       "drug free employer\n"
      ]
     },
     "metadata": {},
     "output_type": "display_data"
    },
    {
     "data": {
      "text/html": [
       "<pre style=\"white-space:pre;overflow-x:auto;line-height:normal;font-family:Menlo,'DejaVu Sans Mono',consolas,'Courier New',monospace\"><span style=\"color: #000000; text-decoration-color: #000000; background-color: #ffff00\">anticipated salary range</span> one hundred one hundred sixty bonus <span style=\"color: #000000; text-decoration-color: #000000; background-color: #ffff00\">eligible yes benefits health</span> four hundred one \n",
       "<span style=\"color: #000000; text-decoration-color: #000000; background-color: #ffff00\">contributions paid time vacation</span> ltd\n",
       "</pre>\n"
      ],
      "text/plain": [
       "\u001B[30;48;2;255;255;0manticipated salary range\u001B[0m one hundred one hundred sixty bonus \u001B[30;48;2;255;255;0meligible yes benefits health\u001B[0m four hundred one \n",
       "\u001B[30;48;2;255;255;0mcontributions paid time vacation\u001B[0m ltd\n"
      ]
     },
     "metadata": {},
     "output_type": "display_data"
    },
    {
     "data": {
      "text/html": [
       "<pre style=\"white-space:pre;overflow-x:auto;line-height:normal;font-family:Menlo,'DejaVu Sans Mono',consolas,'Courier New',monospace\"><span style=\"color: #000000; text-decoration-color: #000000; background-color: #ffff00\">comprehensive new hire</span> training program designed help set success access robust learning management system full \n",
       "learning <span style=\"color: #000000; text-decoration-color: #000000; background-color: #ffff00\">modules training programs help</span> professional personal development professional development <span style=\"color: #000000; text-decoration-color: #000000; background-color: #ffff00\">mentor programs </span>\n",
       "<span style=\"color: #000000; text-decoration-color: #000000; background-color: #ffff00\">plus ongoing</span> resources multiple coverage levels medical dental vision group health <span style=\"color: #000000; text-decoration-color: #000000; background-color: #ffff00\">wellness program plus special</span> \n",
       "retail items travel entertainment tmx perks traditional four hundred one roth four hundred one company match \n",
       "flexible spending accounts basic ad life insurance voluntary benefits including short term long term disability \n",
       "insurance accident critical illness hospital confinement insurance paid time accrue twelve days per calendar year \n",
       "plus two additional days year service first year employment eighteen days total performance based career \n",
       "advancement diverse culture inclusive environment\n",
       "</pre>\n"
      ],
      "text/plain": [
       "\u001B[30;48;2;255;255;0mcomprehensive new hire\u001B[0m training program designed help set success access robust learning management system full \n",
       "learning \u001B[30;48;2;255;255;0mmodules training programs help\u001B[0m professional personal development professional development \u001B[30;48;2;255;255;0mmentor programs \u001B[0m\n",
       "\u001B[30;48;2;255;255;0mplus ongoing\u001B[0m resources multiple coverage levels medical dental vision group health \u001B[30;48;2;255;255;0mwellness program plus special\u001B[0m \n",
       "retail items travel entertainment tmx perks traditional four hundred one roth four hundred one company match \n",
       "flexible spending accounts basic ad life insurance voluntary benefits including short term long term disability \n",
       "insurance accident critical illness hospital confinement insurance paid time accrue twelve days per calendar year \n",
       "plus two additional days year service first year employment eighteen days total performance based career \n",
       "advancement diverse culture inclusive environment\n"
      ]
     },
     "metadata": {},
     "output_type": "display_data"
    },
    {
     "data": {
      "text/html": [
       "<pre style=\"white-space:pre;overflow-x:auto;line-height:normal;font-family:Menlo,'DejaVu Sans Mono',consolas,'Courier New',monospace\"><span style=\"color: #000000; text-decoration-color: #000000; background-color: #ffff00\">career development promotional growth</span> <span style=\"color: #000000; text-decoration-color: #000000; background-color: #ffff00\">diverse comprehensive benefits offering</span> <span style=\"color: #000000; text-decoration-color: #000000; background-color: #ffff00\">medical dental vision</span> four hundred \n",
       "one pto\n",
       "</pre>\n"
      ],
      "text/plain": [
       "\u001B[30;48;2;255;255;0mcareer development promotional growth\u001B[0m \u001B[30;48;2;255;255;0mdiverse comprehensive benefits offering\u001B[0m \u001B[30;48;2;255;255;0mmedical dental vision\u001B[0m four hundred \n",
       "one pto\n"
      ]
     },
     "metadata": {},
     "output_type": "display_data"
    },
    {
     "data": {
      "text/html": [
       "<pre style=\"white-space:pre;overflow-x:auto;line-height:normal;font-family:Menlo,'DejaVu Sans Mono',consolas,'Courier New',monospace\">actual starting <span style=\"color: #000000; text-decoration-color: #000000; background-color: #ffff00\">pay determined various factors</span> limited relevant experience skill set qualifications business \n",
       "<span style=\"color: #000000; text-decoration-color: #000000; background-color: #ffff00\">organizational needs base pay</span> two hundred thirty zero three hundred fifteen <span style=\"color: #000000; text-decoration-color: #000000; background-color: #ffff00\">zero annual bonus target</span> also included \n",
       "equity benefits including medical dental vision four hundred one circle discretionary vacation policy also provide \n",
       "ten days paid sick leave per year eleven paid holidays per year\n",
       "</pre>\n"
      ],
      "text/plain": [
       "actual starting \u001B[30;48;2;255;255;0mpay determined various factors\u001B[0m limited relevant experience skill set qualifications business \n",
       "\u001B[30;48;2;255;255;0morganizational needs base pay\u001B[0m two hundred thirty zero three hundred fifteen \u001B[30;48;2;255;255;0mzero annual bonus target\u001B[0m also included \n",
       "equity benefits including medical dental vision four hundred one circle discretionary vacation policy also provide \n",
       "ten days paid sick leave per year eleven paid holidays per year\n"
      ]
     },
     "metadata": {},
     "output_type": "display_data"
    },
    {
     "data": {
      "text/html": [
       "<pre style=\"white-space:pre;overflow-x:auto;line-height:normal;font-family:Menlo,'DejaVu Sans Mono',consolas,'Courier New',monospace\">one hundred thirty zero one hundred <span style=\"color: #000000; text-decoration-color: #000000; background-color: #ffff00\">seventy zero base salary</span> eligible <span style=\"color: #000000; text-decoration-color: #000000; background-color: #ffff00\">additional incentives including</span> bonus four \n",
       "hundred one <span style=\"color: #000000; text-decoration-color: #000000; background-color: #ffff00\">match health welfare benefits</span>\n",
       "</pre>\n"
      ],
      "text/plain": [
       "one hundred thirty zero one hundred \u001B[30;48;2;255;255;0mseventy zero base salary\u001B[0m eligible \u001B[30;48;2;255;255;0madditional incentives including\u001B[0m bonus four \n",
       "hundred one \u001B[30;48;2;255;255;0mmatch health welfare benefits\u001B[0m\n"
      ]
     },
     "metadata": {},
     "output_type": "display_data"
    },
    {
     "data": {
      "text/html": [
       "<pre style=\"white-space:pre;overflow-x:auto;line-height:normal;font-family:Menlo,'DejaVu Sans Mono',consolas,'Courier New',monospace\">booz allen celebrate <span style=\"color: #000000; text-decoration-color: #000000; background-color: #ffff00\">contributions provide opportunities choices</span> total well offerings <span style=\"color: #000000; text-decoration-color: #000000; background-color: #ffff00\">include health life </span>\n",
       "<span style=\"color: #000000; text-decoration-color: #000000; background-color: #ffff00\">disability</span> retirement benefits well paid leave professional development <span style=\"color: #000000; text-decoration-color: #000000; background-color: #ffff00\">tuition assistance work life</span> dependent care\n",
       "salary position determined various factors including limited location candidate particular combination knowledge \n",
       "skills competencies experience well contract specific affordability organizational requirements proposed salary \n",
       "range position outlined colorado eighty one six hundred one hundred sixty seven four hundred annualized usd new \n",
       "york including new york city eighty five nine hundred one hundred ninety nine three hundred annualized usd \n",
       "professional leadership development opportunities like upskilling programs tuition reimbursement mentoring firm \n",
       "sponsored networking chart unique fulfilling <span style=\"color: #000000; text-decoration-color: #000000; background-color: #ffff00\">career path terms</span> comprehensive benefits package <span style=\"color: #000000; text-decoration-color: #000000; background-color: #ffff00\">includes wellness </span>\n",
       "<span style=\"color: #000000; text-decoration-color: #000000; background-color: #ffff00\">programs hsa</span> paid holidays paid parental leave generous four hundred one match <span style=\"color: #000000; text-decoration-color: #000000; background-color: #ffff00\">benefits plus option flexible</span> remote\n",
       "hybrid locations support pursue balanced <span style=\"color: #000000; text-decoration-color: #000000; background-color: #ffff00\">fulfilling life work home</span>\n",
       "</pre>\n"
      ],
      "text/plain": [
       "booz allen celebrate \u001B[30;48;2;255;255;0mcontributions provide opportunities choices\u001B[0m total well offerings \u001B[30;48;2;255;255;0minclude health life \u001B[0m\n",
       "\u001B[30;48;2;255;255;0mdisability\u001B[0m retirement benefits well paid leave professional development \u001B[30;48;2;255;255;0mtuition assistance work life\u001B[0m dependent care\n",
       "salary position determined various factors including limited location candidate particular combination knowledge \n",
       "skills competencies experience well contract specific affordability organizational requirements proposed salary \n",
       "range position outlined colorado eighty one six hundred one hundred sixty seven four hundred annualized usd new \n",
       "york including new york city eighty five nine hundred one hundred ninety nine three hundred annualized usd \n",
       "professional leadership development opportunities like upskilling programs tuition reimbursement mentoring firm \n",
       "sponsored networking chart unique fulfilling \u001B[30;48;2;255;255;0mcareer path terms\u001B[0m comprehensive benefits package \u001B[30;48;2;255;255;0mincludes wellness \u001B[0m\n",
       "\u001B[30;48;2;255;255;0mprograms hsa\u001B[0m paid holidays paid parental leave generous four hundred one match \u001B[30;48;2;255;255;0mbenefits plus option flexible\u001B[0m remote\n",
       "hybrid locations support pursue balanced \u001B[30;48;2;255;255;0mfulfilling life work home\u001B[0m\n"
      ]
     },
     "metadata": {},
     "output_type": "display_data"
    },
    {
     "data": {
      "text/html": [
       "<pre style=\"white-space:pre;overflow-x:auto;line-height:normal;font-family:Menlo,'DejaVu Sans Mono',consolas,'Courier New',monospace\">salaries part <span style=\"color: #000000; text-decoration-color: #000000; background-color: #ffff00\">time roles prorated based</span> agreed upon <span style=\"color: #000000; text-decoration-color: #000000; background-color: #ffff00\">number hours regularly worked</span> york city one hundred twenty \n",
       "eight seven hundred eighty three one hundred fifty one nine hundred thirty five ds masters capital one offers \n",
       "comprehensive competitive inclusive set health <span style=\"color: #000000; text-decoration-color: #000000; background-color: #ffff00\">financial benefits support total</span>\n",
       "</pre>\n"
      ],
      "text/plain": [
       "salaries part \u001B[30;48;2;255;255;0mtime roles prorated based\u001B[0m agreed upon \u001B[30;48;2;255;255;0mnumber hours regularly worked\u001B[0m york city one hundred twenty \n",
       "eight seven hundred eighty three one hundred fifty one nine hundred thirty five ds masters capital one offers \n",
       "comprehensive competitive inclusive set health \u001B[30;48;2;255;255;0mfinancial benefits support total\u001B[0m\n"
      ]
     },
     "metadata": {},
     "output_type": "display_data"
    },
    {
     "data": {
      "text/html": [
       "<pre style=\"white-space:pre;overflow-x:auto;line-height:normal;font-family:Menlo,'DejaVu Sans Mono',consolas,'Courier New',monospace\"><span style=\"color: #000000; text-decoration-color: #000000; background-color: #ffff00\">salary benefits hiring range</span> hundred twenty zero one hundred thirty <span style=\"color: #000000; text-decoration-color: #000000; background-color: #ffff00\">zero annually salary commensurate</span> information \n",
       "comprehensive <span style=\"color: #000000; text-decoration-color: #000000; background-color: #ffff00\">benefits package offered university</span> <span style=\"color: #000000; text-decoration-color: #000000; background-color: #ffff00\">https ucnet universityofcalifornia edu</span> benefits index html\n",
       "</pre>\n"
      ],
      "text/plain": [
       "\u001B[30;48;2;255;255;0msalary benefits hiring range\u001B[0m hundred twenty zero one hundred thirty \u001B[30;48;2;255;255;0mzero annually salary commensurate\u001B[0m information \n",
       "comprehensive \u001B[30;48;2;255;255;0mbenefits package offered university\u001B[0m \u001B[30;48;2;255;255;0mhttps ucnet universityofcalifornia edu\u001B[0m benefits index html\n"
      ]
     },
     "metadata": {},
     "output_type": "display_data"
    },
    {
     "data": {
      "text/html": [
       "<pre style=\"white-space:pre;overflow-x:auto;line-height:normal;font-family:Menlo,'DejaVu Sans Mono',consolas,'Courier New',monospace\"><span style=\"color: #000000; text-decoration-color: #000000; background-color: #ffff00\">offer competitive compensation</span> packages including health <span style=\"color: #000000; text-decoration-color: #000000; background-color: #ffff00\">dental short term long</span> <span style=\"color: #000000; text-decoration-color: #000000; background-color: #ffff00\">disability vision insurance</span> four \n",
       "hundred one <span style=\"color: #000000; text-decoration-color: #000000; background-color: #ffff00\">company match flexible work</span> exceptional growth opportunities\n",
       "</pre>\n"
      ],
      "text/plain": [
       "\u001B[30;48;2;255;255;0moffer competitive compensation\u001B[0m packages including health \u001B[30;48;2;255;255;0mdental short term long\u001B[0m \u001B[30;48;2;255;255;0mdisability vision insurance\u001B[0m four \n",
       "hundred one \u001B[30;48;2;255;255;0mcompany match flexible work\u001B[0m exceptional growth opportunities\n"
      ]
     },
     "metadata": {},
     "output_type": "display_data"
    },
    {
     "data": {
      "text/html": [
       "<pre style=\"white-space:pre;overflow-x:auto;line-height:normal;font-family:Menlo,'DejaVu Sans Mono',consolas,'Courier New',monospace\">public compensation two hundred forty three zero year three hundred twelve <span style=\"color: #000000; text-decoration-color: #000000; background-color: #ffff00\">zero year bonus equity</span>\n",
       "</pre>\n"
      ],
      "text/plain": [
       "public compensation two hundred forty three zero year three hundred twelve \u001B[30;48;2;255;255;0mzero year bonus equity\u001B[0m\n"
      ]
     },
     "metadata": {},
     "output_type": "display_data"
    },
    {
     "data": {
      "text/html": [
       "<pre style=\"white-space:pre;overflow-x:auto;line-height:normal;font-family:Menlo,'DejaVu Sans Mono',consolas,'Courier New',monospace\"><span style=\"color: #000000; text-decoration-color: #000000; background-color: #ffff00\">new york based roles</span> <span style=\"color: #000000; text-decoration-color: #000000; background-color: #ffff00\">salary hiring range</span> position one hundred ninety three two hundred three hundred five six \n",
       "hundred washington based roles <span style=\"color: #000000; text-decoration-color: #000000; background-color: #ffff00\">base salary hiring</span> range position one hundred seventy five six hundred two hundred \n",
       "eighty two hundred <span style=\"color: #000000; text-decoration-color: #000000; background-color: #ffff00\">compensation offered determined</span> factors location level job related knowledge skills experience \n",
       "certain roles may <span style=\"color: #000000; text-decoration-color: #000000; background-color: #ffff00\">eligible incentive compensation equity</span>\n",
       "</pre>\n"
      ],
      "text/plain": [
       "\u001B[30;48;2;255;255;0mnew york based roles\u001B[0m \u001B[30;48;2;255;255;0msalary hiring range\u001B[0m position one hundred ninety three two hundred three hundred five six \n",
       "hundred washington based roles \u001B[30;48;2;255;255;0mbase salary hiring\u001B[0m range position one hundred seventy five six hundred two hundred \n",
       "eighty two hundred \u001B[30;48;2;255;255;0mcompensation offered determined\u001B[0m factors location level job related knowledge skills experience \n",
       "certain roles may \u001B[30;48;2;255;255;0meligible incentive compensation equity\u001B[0m\n"
      ]
     },
     "metadata": {},
     "output_type": "display_data"
    },
    {
     "data": {
      "text/html": [
       "<pre style=\"white-space:pre;overflow-x:auto;line-height:normal;font-family:Menlo,'DejaVu Sans Mono',consolas,'Courier New',monospace\"><span style=\"color: #000000; text-decoration-color: #000000; background-color: #ffff00\">bachelors degree data science</span> <span style=\"color: #000000; text-decoration-color: #000000; background-color: #ffff00\">applied math computer</span> science stem field two <span style=\"color: #000000; text-decoration-color: #000000; background-color: #ffff00\">years experience machine learning</span> \n",
       "learning ai etl data mining one <span style=\"color: #000000; text-decoration-color: #000000; background-color: #ffff00\">years experience python</span> statistical software\n",
       "</pre>\n"
      ],
      "text/plain": [
       "\u001B[30;48;2;255;255;0mbachelors degree data science\u001B[0m \u001B[30;48;2;255;255;0mapplied math computer\u001B[0m science stem field two \u001B[30;48;2;255;255;0myears experience machine learning\u001B[0m \n",
       "learning ai etl data mining one \u001B[30;48;2;255;255;0myears experience python\u001B[0m statistical software\n"
      ]
     },
     "metadata": {},
     "output_type": "display_data"
    },
    {
     "data": {
      "text/html": [
       "<pre style=\"white-space:pre;overflow-x:auto;line-height:normal;font-family:Menlo,'DejaVu Sans Mono',consolas,'Courier New',monospace\">the qualified candidate possess <span style=\"color: #000000; text-decoration-color: #000000; background-color: #ffff00\">bachelor science degree computer</span> foreign academic equivalent accepted five years \n",
       "experience it positions encompassing <span style=\"color: #000000; text-decoration-color: #000000; background-color: #ffff00\">data mining data engineering</span> <span style=\"color: #000000; text-decoration-color: #000000; background-color: #ffff00\">hadoop performing predictive</span> analytics using \n",
       "machine learning\n",
       "</pre>\n"
      ],
      "text/plain": [
       "the qualified candidate possess \u001B[30;48;2;255;255;0mbachelor science degree computer\u001B[0m foreign academic equivalent accepted five years \n",
       "experience it positions encompassing \u001B[30;48;2;255;255;0mdata mining data engineering\u001B[0m \u001B[30;48;2;255;255;0mhadoop performing predictive\u001B[0m analytics using \n",
       "machine learning\n"
      ]
     },
     "metadata": {},
     "output_type": "display_data"
    },
    {
     "data": {
      "text/html": [
       "<pre style=\"white-space:pre;overflow-x:auto;line-height:normal;font-family:Menlo,'DejaVu Sans Mono',consolas,'Courier New',monospace\">bachelor degree two years experience previous bi role power bi experience one years experience using sql some \n",
       "experience programming language python javascript similar master degree statistics economics mathematics \n",
       "engineering finance computer science is business analytics four <span style=\"color: #000000; text-decoration-color: #000000; background-color: #ffff00\">years experience business intelligence</span> two <span style=\"color: #000000; text-decoration-color: #000000; background-color: #ffff00\">years </span>\n",
       "<span style=\"color: #000000; text-decoration-color: #000000; background-color: #ffff00\">experience programming python</span> years experience visualizing data developing reproducible reports one years \n",
       "experience working git version control knowledge popular dashboard design concepts highly organized careful \n",
       "attention detail knowledge caterpillar parts parts pricing\n",
       "</pre>\n"
      ],
      "text/plain": [
       "bachelor degree two years experience previous bi role power bi experience one years experience using sql some \n",
       "experience programming language python javascript similar master degree statistics economics mathematics \n",
       "engineering finance computer science is business analytics four \u001B[30;48;2;255;255;0myears experience business intelligence\u001B[0m two \u001B[30;48;2;255;255;0myears \u001B[0m\n",
       "\u001B[30;48;2;255;255;0mexperience programming python\u001B[0m years experience visualizing data developing reproducible reports one years \n",
       "experience working git version control knowledge popular dashboard design concepts highly organized careful \n",
       "attention detail knowledge caterpillar parts parts pricing\n"
      ]
     },
     "metadata": {},
     "output_type": "display_data"
    },
    {
     "data": {
      "text/html": [
       "<pre style=\"white-space:pre;overflow-x:auto;line-height:normal;font-family:Menlo,'DejaVu Sans Mono',consolas,'Courier New',monospace\"><span style=\"color: #000000; text-decoration-color: #000000; background-color: #ffff00\">phd zero years work</span> ms two years <span style=\"color: #000000; text-decoration-color: #000000; background-color: #ffff00\">work experience bs</span> five <span style=\"color: #000000; text-decoration-color: #000000; background-color: #ffff00\">years relevant experience engineering</span> science data \n",
       "analytics bioinformatics related field strong analytical problem solving skills knowledge high level computing \n",
       "languages java python perl willingness learn strong knowledge statistical software language eg sas matlab knowledge\n",
       "experience applying six sigma lean <span style=\"color: #000000; text-decoration-color: #000000; background-color: #ffff00\">methodologies strong career</span> history pharma familiarity highly regulated \n",
       "environment eg glp gmp compliant familiar distributed computing database eg sql amazon web services\n",
       "</pre>\n"
      ],
      "text/plain": [
       "\u001B[30;48;2;255;255;0mphd zero years work\u001B[0m ms two years \u001B[30;48;2;255;255;0mwork experience bs\u001B[0m five \u001B[30;48;2;255;255;0myears relevant experience engineering\u001B[0m science data \n",
       "analytics bioinformatics related field strong analytical problem solving skills knowledge high level computing \n",
       "languages java python perl willingness learn strong knowledge statistical software language eg sas matlab knowledge\n",
       "experience applying six sigma lean \u001B[30;48;2;255;255;0mmethodologies strong career\u001B[0m history pharma familiarity highly regulated \n",
       "environment eg glp gmp compliant familiar distributed computing database eg sql amazon web services\n"
      ]
     },
     "metadata": {},
     "output_type": "display_data"
    },
    {
     "data": {
      "text/html": [
       "<pre style=\"white-space:pre;overflow-x:auto;line-height:normal;font-family:Menlo,'DejaVu Sans Mono',consolas,'Courier New',monospace\"><span style=\"color: #000000; text-decoration-color: #000000; background-color: #ffff00\">degree computer science</span> statistics mathematics physics <span style=\"color: #000000; text-decoration-color: #000000; background-color: #ffff00\">stem fields equivalent experience</span> years extensive varied \n",
       "<span style=\"color: #000000; text-decoration-color: #000000; background-color: #ffff00\">years machine learning development</span> eight <span style=\"color: #000000; text-decoration-color: #000000; background-color: #ffff00\">years experience statistical</span> modeling <span style=\"color: #000000; text-decoration-color: #000000; background-color: #ffff00\">outstanding technical skills</span> \n",
       "communication skills ability work teams external solution providers understand technology landscape define document\n",
       "end end ml processes demonstrable ability turn business functional requirements actionable designs partner product \n",
       "teams engineering teams drive implementation ability communicate vision <span style=\"color: #000000; text-decoration-color: #000000; background-color: #ffff00\">technical roadmap ml development</span> externally\n",
       "strong preference experience one aws cloud environment relational databases developing nlp related models analyzing\n",
       "large complex data sets knowledge nlg additional plus\n",
       "</pre>\n"
      ],
      "text/plain": [
       "\u001B[30;48;2;255;255;0mdegree computer science\u001B[0m statistics mathematics physics \u001B[30;48;2;255;255;0mstem fields equivalent experience\u001B[0m years extensive varied \n",
       "\u001B[30;48;2;255;255;0myears machine learning development\u001B[0m eight \u001B[30;48;2;255;255;0myears experience statistical\u001B[0m modeling \u001B[30;48;2;255;255;0moutstanding technical skills\u001B[0m \n",
       "communication skills ability work teams external solution providers understand technology landscape define document\n",
       "end end ml processes demonstrable ability turn business functional requirements actionable designs partner product \n",
       "teams engineering teams drive implementation ability communicate vision \u001B[30;48;2;255;255;0mtechnical roadmap ml development\u001B[0m externally\n",
       "strong preference experience one aws cloud environment relational databases developing nlp related models analyzing\n",
       "large complex data sets knowledge nlg additional plus\n"
      ]
     },
     "metadata": {},
     "output_type": "display_data"
    },
    {
     "data": {
      "text/html": [
       "<pre style=\"white-space:pre;overflow-x:auto;line-height:normal;font-family:Menlo,'DejaVu Sans Mono',consolas,'Courier New',monospace\">comfortable varied fields spanning weakly supervised learning classification unsupervised learning even comfortable\n",
       "picking new approaches needed masters <span style=\"color: #000000; text-decoration-color: #000000; background-color: #ffff00\">phd degree computer science</span> physics statistics quantitative field at least \n",
       "two <span style=\"color: #000000; text-decoration-color: #000000; background-color: #ffff00\">years experience working data</span> machine learning ai demonstrated exceptional <span style=\"color: #000000; text-decoration-color: #000000; background-color: #ffff00\">performance career progression</span> \n",
       "ability work cross functionally understand business goals communicate solutions meet business objectives production\n",
       "quality oop python etc proficiency relevant frameworks scikit learn tensorflow etc experience cloud computing \n",
       "platforms google cloud azure aws hands <span style=\"color: #000000; text-decoration-color: #000000; background-color: #ffff00\">experience building ml solutions</span> launch passion <span style=\"color: #000000; text-decoration-color: #000000; background-color: #ffff00\">broadening technical skills </span>\n",
       "<span style=\"color: #000000; text-decoration-color: #000000; background-color: #ffff00\">diving</span> problems travel may required team collaboration conferences vendor meetings\n",
       "</pre>\n"
      ],
      "text/plain": [
       "comfortable varied fields spanning weakly supervised learning classification unsupervised learning even comfortable\n",
       "picking new approaches needed masters \u001B[30;48;2;255;255;0mphd degree computer science\u001B[0m physics statistics quantitative field at least \n",
       "two \u001B[30;48;2;255;255;0myears experience working data\u001B[0m machine learning ai demonstrated exceptional \u001B[30;48;2;255;255;0mperformance career progression\u001B[0m \n",
       "ability work cross functionally understand business goals communicate solutions meet business objectives production\n",
       "quality oop python etc proficiency relevant frameworks scikit learn tensorflow etc experience cloud computing \n",
       "platforms google cloud azure aws hands \u001B[30;48;2;255;255;0mexperience building ml solutions\u001B[0m launch passion \u001B[30;48;2;255;255;0mbroadening technical skills \u001B[0m\n",
       "\u001B[30;48;2;255;255;0mdiving\u001B[0m problems travel may required team collaboration conferences vendor meetings\n"
      ]
     },
     "metadata": {},
     "output_type": "display_data"
    },
    {
     "data": {
      "text/html": [
       "<pre style=\"white-space:pre;overflow-x:auto;line-height:normal;font-family:Menlo,'DejaVu Sans Mono',consolas,'Courier New',monospace\"><span style=\"color: #000000; text-decoration-color: #000000; background-color: #ffff00\">bachelors degree related</span> discipline data science machine learning statistics mathematics computer science \n",
       "operations research analytics engineering two <span style=\"color: #000000; text-decoration-color: #000000; background-color: #ffff00\">years experience related</span> field or ms degree two years experience \n",
       "<span style=\"color: #000000; text-decoration-color: #000000; background-color: #ffff00\">strong programming skills ability</span> variety data analytic software languages tools sql python pandas numpy scipy \n",
       "scikit learn pyspark tableau etc experience creating production ready software applications experience using cloud \n",
       "computing build analytics applications strong communication presentations skills the ability successfully \n",
       "comprehend communicate advanced analytics artifacts business insights resulting implications non technical business\n",
       "partners ability work diverse team strong business acumen problem solving skills\n",
       "</pre>\n"
      ],
      "text/plain": [
       "\u001B[30;48;2;255;255;0mbachelors degree related\u001B[0m discipline data science machine learning statistics mathematics computer science \n",
       "operations research analytics engineering two \u001B[30;48;2;255;255;0myears experience related\u001B[0m field or ms degree two years experience \n",
       "\u001B[30;48;2;255;255;0mstrong programming skills ability\u001B[0m variety data analytic software languages tools sql python pandas numpy scipy \n",
       "scikit learn pyspark tableau etc experience creating production ready software applications experience using cloud \n",
       "computing build analytics applications strong communication presentations skills the ability successfully \n",
       "comprehend communicate advanced analytics artifacts business insights resulting implications non technical business\n",
       "partners ability work diverse team strong business acumen problem solving skills\n"
      ]
     },
     "metadata": {},
     "output_type": "display_data"
    },
    {
     "data": {
      "text/html": [
       "<pre style=\"white-space:pre;overflow-x:auto;line-height:normal;font-family:Menlo,'DejaVu Sans Mono',consolas,'Courier New',monospace\">masters <span style=\"color: #000000; text-decoration-color: #000000; background-color: #ffff00\">phd engineering computer science</span> computational statistics operations research machine learning related \n",
       "technical fields five years work experience data <span style=\"color: #000000; text-decoration-color: #000000; background-color: #ffff00\">scientist machine learning engineer</span> financial markets knowledge \n",
       "match hands experience natural language processing generation graph ml deep learning time series forecasting \n",
       "reinforcement learning better leadership <span style=\"color: #000000; text-decoration-color: #000000; background-color: #ffff00\">skills experience leading</span> mentoring technical individual contributors \n",
       "track record evaluating making decisions around use new existing <span style=\"color: #000000; text-decoration-color: #000000; background-color: #ffff00\">ml algorithm project experience</span> scale multi \n",
       "dimensional databases business infrastructure multi functional teams proficiency python sql spark scala talent \n",
       "presenting complex topics non technical audiences strong algorithm <span style=\"color: #000000; text-decoration-color: #000000; background-color: #ffff00\">development predictive modeling skills</span>\n",
       "</pre>\n"
      ],
      "text/plain": [
       "masters \u001B[30;48;2;255;255;0mphd engineering computer science\u001B[0m computational statistics operations research machine learning related \n",
       "technical fields five years work experience data \u001B[30;48;2;255;255;0mscientist machine learning engineer\u001B[0m financial markets knowledge \n",
       "match hands experience natural language processing generation graph ml deep learning time series forecasting \n",
       "reinforcement learning better leadership \u001B[30;48;2;255;255;0mskills experience leading\u001B[0m mentoring technical individual contributors \n",
       "track record evaluating making decisions around use new existing \u001B[30;48;2;255;255;0mml algorithm project experience\u001B[0m scale multi \n",
       "dimensional databases business infrastructure multi functional teams proficiency python sql spark scala talent \n",
       "presenting complex topics non technical audiences strong algorithm \u001B[30;48;2;255;255;0mdevelopment predictive modeling skills\u001B[0m\n"
      ]
     },
     "metadata": {},
     "output_type": "display_data"
    },
    {
     "data": {
      "text/html": [
       "<pre style=\"white-space:pre;overflow-x:auto;line-height:normal;font-family:Menlo,'DejaVu Sans Mono',consolas,'Courier New',monospace\">you proficient modeling algorithms programming languages must professional experience digital advertising retail \n",
       "media ads measurement you comfortable influencing others communicating clearly clients working cross functional \n",
       "stakeholders you test learn mentality agile way working improve <span style=\"color: #000000; text-decoration-color: #000000; background-color: #ffff00\">solutions bachelors degree statistics</span> operations \n",
       "research engineering related field two four <span style=\"color: #000000; text-decoration-color: #000000; background-color: #ffff00\">years post academic</span> experience mmm measurement marketing strategy \n",
       "analytics hands coding skills python sql database knowledge professional experience communicating technical \n",
       "material range audiences tell story provides insight business hands experience predictive modeling algorithms \n",
       "strong project <span style=\"color: #000000; text-decoration-color: #000000; background-color: #ffff00\">management skills professional</span> post academic experience successfully continuously managing multiple \n",
       "<span style=\"color: #000000; text-decoration-color: #000000; background-color: #ffff00\">projects timelines professional experience</span> thrive working fast paced agile environment collaborative mindset sense \n",
       "curiosity phd masters degree statistics economics operations research related field experienced building market mix\n",
       "multi touch attribution models experience advertising measurement digital marketing analytics experience \n",
       "advertising technology platforms ad servers dsps dmps etc option one bachelors degree statistics economics \n",
       "analytics mathematics computer science information technology related field two <span style=\"color: #000000; text-decoration-color: #000000; background-color: #ffff00\">years experience analytics related</span> \n",
       "option three four <span style=\"color: #000000; text-decoration-color: #000000; background-color: #ffff00\">years experience analytics related</span> data science machine learning optimization models master \n",
       "degree machine learning computer science information technology operations research statistics applied mathematics \n",
       "econometrics successful completion one assessments python spark scala using open source frameworks example scikit \n",
       "learn tensorflow torch\n",
       "</pre>\n"
      ],
      "text/plain": [
       "you proficient modeling algorithms programming languages must professional experience digital advertising retail \n",
       "media ads measurement you comfortable influencing others communicating clearly clients working cross functional \n",
       "stakeholders you test learn mentality agile way working improve \u001B[30;48;2;255;255;0msolutions bachelors degree statistics\u001B[0m operations \n",
       "research engineering related field two four \u001B[30;48;2;255;255;0myears post academic\u001B[0m experience mmm measurement marketing strategy \n",
       "analytics hands coding skills python sql database knowledge professional experience communicating technical \n",
       "material range audiences tell story provides insight business hands experience predictive modeling algorithms \n",
       "strong project \u001B[30;48;2;255;255;0mmanagement skills professional\u001B[0m post academic experience successfully continuously managing multiple \n",
       "\u001B[30;48;2;255;255;0mprojects timelines professional experience\u001B[0m thrive working fast paced agile environment collaborative mindset sense \n",
       "curiosity phd masters degree statistics economics operations research related field experienced building market mix\n",
       "multi touch attribution models experience advertising measurement digital marketing analytics experience \n",
       "advertising technology platforms ad servers dsps dmps etc option one bachelors degree statistics economics \n",
       "analytics mathematics computer science information technology related field two \u001B[30;48;2;255;255;0myears experience analytics related\u001B[0m \n",
       "option three four \u001B[30;48;2;255;255;0myears experience analytics related\u001B[0m data science machine learning optimization models master \n",
       "degree machine learning computer science information technology operations research statistics applied mathematics \n",
       "econometrics successful completion one assessments python spark scala using open source frameworks example scikit \n",
       "learn tensorflow torch\n"
      ]
     },
     "metadata": {},
     "output_type": "display_data"
    },
    {
     "data": {
      "text/html": [
       "<pre style=\"white-space:pre;overflow-x:auto;line-height:normal;font-family:Menlo,'DejaVu Sans Mono',consolas,'Courier New',monospace\">extensive experience within ml <span style=\"color: #000000; text-decoration-color: #000000; background-color: #ffff00\">engineering delivering ai production</span> within <span style=\"color: #000000; text-decoration-color: #000000; background-color: #ffff00\">mlops data analytics platform</span> hands \n",
       "working xops advanced data science areas computer vision nlp advanced analytics highly <span style=\"color: #000000; text-decoration-color: #000000; background-color: #ffff00\">skilled data science </span>\n",
       "<span style=\"color: #000000; text-decoration-color: #000000; background-color: #ffff00\">consulting</span> sales solution definition activities strong understanding exploring business problem converting \n",
       "technology solutions familiar one business domain cpg retail financial services insurance healthcare ls comfortable\n",
       "working technologies python hadoop spark docker kubernetes aws azure ml google vertex ai\n",
       "</pre>\n"
      ],
      "text/plain": [
       "extensive experience within ml \u001B[30;48;2;255;255;0mengineering delivering ai production\u001B[0m within \u001B[30;48;2;255;255;0mmlops data analytics platform\u001B[0m hands \n",
       "working xops advanced data science areas computer vision nlp advanced analytics highly \u001B[30;48;2;255;255;0mskilled data science \u001B[0m\n",
       "\u001B[30;48;2;255;255;0mconsulting\u001B[0m sales solution definition activities strong understanding exploring business problem converting \n",
       "technology solutions familiar one business domain cpg retail financial services insurance healthcare ls comfortable\n",
       "working technologies python hadoop spark docker kubernetes aws azure ml google vertex ai\n"
      ]
     },
     "metadata": {},
     "output_type": "display_data"
    },
    {
     "data": {
      "text/html": [
       "<pre style=\"white-space:pre;overflow-x:auto;line-height:normal;font-family:Menlo,'DejaVu Sans Mono',consolas,'Courier New',monospace\">degree <span style=\"color: #000000; text-decoration-color: #000000; background-color: #ffff00\">engineering math statistics</span> data science related field two <span style=\"color: #000000; text-decoration-color: #000000; background-color: #ffff00\">years experience design testing</span> <span style=\"color: #000000; text-decoration-color: #000000; background-color: #ffff00\">deep learning </span>\n",
       "<span style=\"color: #000000; text-decoration-color: #000000; background-color: #ffff00\">models proficiency</span> common python based deep learning <span style=\"color: #000000; text-decoration-color: #000000; background-color: #ffff00\">libraries like pytorch tensorflow</span> communication skills verbal \n",
       "written experience geometric deep learning <span style=\"color: #000000; text-decoration-color: #000000; background-color: #ffff00\">computer vision bonus</span>\n",
       "</pre>\n"
      ],
      "text/plain": [
       "degree \u001B[30;48;2;255;255;0mengineering math statistics\u001B[0m data science related field two \u001B[30;48;2;255;255;0myears experience design testing\u001B[0m \u001B[30;48;2;255;255;0mdeep learning \u001B[0m\n",
       "\u001B[30;48;2;255;255;0mmodels proficiency\u001B[0m common python based deep learning \u001B[30;48;2;255;255;0mlibraries like pytorch tensorflow\u001B[0m communication skills verbal \n",
       "written experience geometric deep learning \u001B[30;48;2;255;255;0mcomputer vision bonus\u001B[0m\n"
      ]
     },
     "metadata": {},
     "output_type": "display_data"
    },
    {
     "data": {
      "text/html": [
       "<pre style=\"white-space:pre;overflow-x:auto;line-height:normal;font-family:Menlo,'DejaVu Sans Mono',consolas,'Courier New',monospace\"><span style=\"color: #000000; text-decoration-color: #000000; background-color: #ffff00\">successful influencing non</span> technical <span style=\"color: #000000; text-decoration-color: #000000; background-color: #ffff00\">peers leadership deliver substantive</span> qualitative quantitative deductions \n",
       "experimentation lead product optimization bachelor degree computer science computer engineering electrical \n",
       "engineering related degree field one <span style=\"color: #000000; text-decoration-color: #000000; background-color: #ffff00\">year experience advanced analytics</span> science <span style=\"color: #000000; text-decoration-color: #000000; background-color: #ffff00\">strong technical skills</span> sql python \n",
       "<span style=\"color: #000000; text-decoration-color: #000000; background-color: #ffff00\">data analysis experience</span> ml driven products experience distributed analytical processing technologies spark hive \n",
       "presto experience deriving narrative data communicate results effectively <span style=\"color: #000000; text-decoration-color: #000000; background-color: #ffff00\">experience ab testing causal</span> \n",
       "methodologies\n",
       "</pre>\n"
      ],
      "text/plain": [
       "\u001B[30;48;2;255;255;0msuccessful influencing non\u001B[0m technical \u001B[30;48;2;255;255;0mpeers leadership deliver substantive\u001B[0m qualitative quantitative deductions \n",
       "experimentation lead product optimization bachelor degree computer science computer engineering electrical \n",
       "engineering related degree field one \u001B[30;48;2;255;255;0myear experience advanced analytics\u001B[0m science \u001B[30;48;2;255;255;0mstrong technical skills\u001B[0m sql python \n",
       "\u001B[30;48;2;255;255;0mdata analysis experience\u001B[0m ml driven products experience distributed analytical processing technologies spark hive \n",
       "presto experience deriving narrative data communicate results effectively \u001B[30;48;2;255;255;0mexperience ab testing causal\u001B[0m \n",
       "methodologies\n"
      ]
     },
     "metadata": {},
     "output_type": "display_data"
    },
    {
     "data": {
      "text/html": [
       "<pre style=\"white-space:pre;overflow-x:auto;line-height:normal;font-family:Menlo,'DejaVu Sans Mono',consolas,'Courier New',monospace\">five <span style=\"color: #000000; text-decoration-color: #000000; background-color: #ffff00\">years relevant experience required</span> sas programming language data analysis tool <span style=\"color: #000000; text-decoration-color: #000000; background-color: #ffff00\">required experience large </span>\n",
       "<span style=\"color: #000000; text-decoration-color: #000000; background-color: #ffff00\">clinical</span> health care databases medpar hospital state data hcris cms databases <span style=\"color: #000000; text-decoration-color: #000000; background-color: #ffff00\">required experience clinical coding</span> \n",
       "icd nine cpt four hcpcs required experience clinical grouping severity adjustment tools including drgs rdrgs apr \n",
       "drgs required experience technical documentation code <span style=\"color: #000000; text-decoration-color: #000000; background-color: #ffff00\">processes required experience sql</span> data models schemas ms sql \n",
       "relational databases <span style=\"color: #000000; text-decoration-color: #000000; background-color: #ffff00\">rdbms required expertise core</span> tools python sas sql matlab java required strong statistical \n",
       "<span style=\"color: #000000; text-decoration-color: #000000; background-color: #ffff00\">analysis data modeling skills</span> knowledge data analytics data warehousing big data concepts required experience \n",
       "extract transform load etl bi tools including power bi tableau required expertise relevant data platforms including\n",
       "tableau apache spark azure data bricks hadoop required strong analytical problem solving skills required ability \n",
       "discuss technical issues variety audiences experience managing several projects simultaneously without sacrificing \n",
       "quality ability estimate meet realistic timelines perform pressure react adapt changing priorities\n",
       "</pre>\n"
      ],
      "text/plain": [
       "five \u001B[30;48;2;255;255;0myears relevant experience required\u001B[0m sas programming language data analysis tool \u001B[30;48;2;255;255;0mrequired experience large \u001B[0m\n",
       "\u001B[30;48;2;255;255;0mclinical\u001B[0m health care databases medpar hospital state data hcris cms databases \u001B[30;48;2;255;255;0mrequired experience clinical coding\u001B[0m \n",
       "icd nine cpt four hcpcs required experience clinical grouping severity adjustment tools including drgs rdrgs apr \n",
       "drgs required experience technical documentation code \u001B[30;48;2;255;255;0mprocesses required experience sql\u001B[0m data models schemas ms sql \n",
       "relational databases \u001B[30;48;2;255;255;0mrdbms required expertise core\u001B[0m tools python sas sql matlab java required strong statistical \n",
       "\u001B[30;48;2;255;255;0manalysis data modeling skills\u001B[0m knowledge data analytics data warehousing big data concepts required experience \n",
       "extract transform load etl bi tools including power bi tableau required expertise relevant data platforms including\n",
       "tableau apache spark azure data bricks hadoop required strong analytical problem solving skills required ability \n",
       "discuss technical issues variety audiences experience managing several projects simultaneously without sacrificing \n",
       "quality ability estimate meet realistic timelines perform pressure react adapt changing priorities\n"
      ]
     },
     "metadata": {},
     "output_type": "display_data"
    },
    {
     "data": {
      "text/html": [
       "<pre style=\"white-space:pre;overflow-x:auto;line-height:normal;font-family:Menlo,'DejaVu Sans Mono',consolas,'Courier New',monospace\"><span style=\"color: #000000; text-decoration-color: #000000; background-color: #ffff00\">bachelor degree analytics</span> data <span style=\"color: #000000; text-decoration-color: #000000; background-color: #ffff00\">science operations research statistics</span> quantitative discipline two years <span style=\"color: #000000; text-decoration-color: #000000; background-color: #ffff00\">experience </span>\n",
       "<span style=\"color: #000000; text-decoration-color: #000000; background-color: #ffff00\">data science</span> advanced analytics quantitative computational functions deployed regression time series machine \n",
       "learning models python languages variety business problems working knowledge analytical techniques multivariate \n",
       "regression time series classification methods bayesian methods neural networks experiences databases sql big data \n",
       "cloud platforms azure databricks snowflake spark experiences data visualization tools power bi reporting model \n",
       "<span style=\"color: #000000; text-decoration-color: #000000; background-color: #ffff00\">outputs data trends business</span> exceptions this position must pass post offer background drug test\n",
       "</pre>\n"
      ],
      "text/plain": [
       "\u001B[30;48;2;255;255;0mbachelor degree analytics\u001B[0m data \u001B[30;48;2;255;255;0mscience operations research statistics\u001B[0m quantitative discipline two years \u001B[30;48;2;255;255;0mexperience \u001B[0m\n",
       "\u001B[30;48;2;255;255;0mdata science\u001B[0m advanced analytics quantitative computational functions deployed regression time series machine \n",
       "learning models python languages variety business problems working knowledge analytical techniques multivariate \n",
       "regression time series classification methods bayesian methods neural networks experiences databases sql big data \n",
       "cloud platforms azure databricks snowflake spark experiences data visualization tools power bi reporting model \n",
       "\u001B[30;48;2;255;255;0moutputs data trends business\u001B[0m exceptions this position must pass post offer background drug test\n"
      ]
     },
     "metadata": {},
     "output_type": "display_data"
    },
    {
     "data": {
      "text/html": [
       "<pre style=\"white-space:pre;overflow-x:auto;line-height:normal;font-family:Menlo,'DejaVu Sans Mono',consolas,'Courier New',monospace\">three <span style=\"color: #000000; text-decoration-color: #000000; background-color: #ffff00\">years healthcare industry knowledge</span> data delivery related <span style=\"color: #000000; text-decoration-color: #000000; background-color: #ffff00\">information software solutions data</span> integration \n",
       "platforms leveraging devops <span style=\"color: #000000; text-decoration-color: #000000; background-color: #ffff00\">agile practices understanding cloud</span> engineering integration concepts strong \n",
       "mathematical statistical skills advanced technical degree major plus\n",
       "</pre>\n"
      ],
      "text/plain": [
       "three \u001B[30;48;2;255;255;0myears healthcare industry knowledge\u001B[0m data delivery related \u001B[30;48;2;255;255;0minformation software solutions data\u001B[0m integration \n",
       "platforms leveraging devops \u001B[30;48;2;255;255;0magile practices understanding cloud\u001B[0m engineering integration concepts strong \n",
       "mathematical statistical skills advanced technical degree major plus\n"
      ]
     },
     "metadata": {},
     "output_type": "display_data"
    },
    {
     "data": {
      "text/html": [
       "<pre style=\"white-space:pre;overflow-x:auto;line-height:normal;font-family:Menlo,'DejaVu Sans Mono',consolas,'Courier New',monospace\">five <span style=\"color: #000000; text-decoration-color: #000000; background-color: #ffff00\">years working hr data</span> analytics hr <span style=\"color: #000000; text-decoration-color: #000000; background-color: #ffff00\">data scientist role master</span> data science mathematics statistics computer \n",
       "science engineering quantitative field proficiency data gathering cleansing modeling diagramming visualization \n",
       "techniques experience applying machine learning techniques understand data solve business problems <span style=\"color: #000000; text-decoration-color: #000000; background-color: #ffff00\">experience </span>\n",
       "<span style=\"color: #000000; text-decoration-color: #000000; background-color: #ffff00\">building enhancing workforce</span> attrition forecasting models very good understanding hr <span style=\"color: #000000; text-decoration-color: #000000; background-color: #ffff00\">data talent acquisition talent</span>\n",
       "workforce planning dei diversity equity inclusion engagement employee listening learning development etc \n",
       "proficiency python <span style=\"color: #000000; text-decoration-color: #000000; background-color: #ffff00\">proficiency business intelligence reporting</span> using power bi knowledge data mining algorithms \n",
       "machine learning natural language processing nlp advanced knowledge data integrations expertise using sql knime \n",
       "experience architecting automating data analytics solutions provide insights recommendations scale good \n",
       "understanding statistical process concepts tools significance testing chi square regression etc consulting skills \n",
       "ability translate complex technical concepts stakeholders excellent problem solving capabilities highly developed \n",
       "story telling skills ability distill complex subjects wider audience\n",
       "</pre>\n"
      ],
      "text/plain": [
       "five \u001B[30;48;2;255;255;0myears working hr data\u001B[0m analytics hr \u001B[30;48;2;255;255;0mdata scientist role master\u001B[0m data science mathematics statistics computer \n",
       "science engineering quantitative field proficiency data gathering cleansing modeling diagramming visualization \n",
       "techniques experience applying machine learning techniques understand data solve business problems \u001B[30;48;2;255;255;0mexperience \u001B[0m\n",
       "\u001B[30;48;2;255;255;0mbuilding enhancing workforce\u001B[0m attrition forecasting models very good understanding hr \u001B[30;48;2;255;255;0mdata talent acquisition talent\u001B[0m\n",
       "workforce planning dei diversity equity inclusion engagement employee listening learning development etc \n",
       "proficiency python \u001B[30;48;2;255;255;0mproficiency business intelligence reporting\u001B[0m using power bi knowledge data mining algorithms \n",
       "machine learning natural language processing nlp advanced knowledge data integrations expertise using sql knime \n",
       "experience architecting automating data analytics solutions provide insights recommendations scale good \n",
       "understanding statistical process concepts tools significance testing chi square regression etc consulting skills \n",
       "ability translate complex technical concepts stakeholders excellent problem solving capabilities highly developed \n",
       "story telling skills ability distill complex subjects wider audience\n"
      ]
     },
     "metadata": {},
     "output_type": "display_data"
    },
    {
     "data": {
      "text/html": [
       "<pre style=\"white-space:pre;overflow-x:auto;line-height:normal;font-family:Menlo,'DejaVu Sans Mono',consolas,'Courier New',monospace\">master degree statistics economics operations research engineering related field marketing mix modeling industry \n",
       "experience eight years industry <span style=\"color: #000000; text-decoration-color: #000000; background-color: #ffff00\">experience data science measurement</span> strategy analytics strong communication skills \n",
       "tell story provides insight business <span style=\"color: #000000; text-decoration-color: #000000; background-color: #ffff00\">proficient coding skills sql</span> database knowledge extensive experience \n",
       "predictive modeling algorithms strong <span style=\"color: #000000; text-decoration-color: #000000; background-color: #ffff00\">project management skills including</span> technical resources multiple priorities \n",
       "milestones you passion working fast paced agile environment collaborative mindset sense curiosity experienced \n",
       "building market mix multi touch attribution models experience advertising measurement digital marketing analytics \n",
       "experience advertising technology platforms ad servers dsps dmps etc <span style=\"color: #000000; text-decoration-color: #000000; background-color: #ffff00\">advanced programming skills</span> experience \n",
       "creating python modules experience multivariate test design implementation\n",
       "</pre>\n"
      ],
      "text/plain": [
       "master degree statistics economics operations research engineering related field marketing mix modeling industry \n",
       "experience eight years industry \u001B[30;48;2;255;255;0mexperience data science measurement\u001B[0m strategy analytics strong communication skills \n",
       "tell story provides insight business \u001B[30;48;2;255;255;0mproficient coding skills sql\u001B[0m database knowledge extensive experience \n",
       "predictive modeling algorithms strong \u001B[30;48;2;255;255;0mproject management skills including\u001B[0m technical resources multiple priorities \n",
       "milestones you passion working fast paced agile environment collaborative mindset sense curiosity experienced \n",
       "building market mix multi touch attribution models experience advertising measurement digital marketing analytics \n",
       "experience advertising technology platforms ad servers dsps dmps etc \u001B[30;48;2;255;255;0madvanced programming skills\u001B[0m experience \n",
       "creating python modules experience multivariate test design implementation\n"
      ]
     },
     "metadata": {},
     "output_type": "display_data"
    },
    {
     "data": {
      "text/html": [
       "<pre style=\"white-space:pre;overflow-x:auto;line-height:normal;font-family:Menlo,'DejaVu Sans Mono',consolas,'Courier New',monospace\"><span style=\"color: #000000; text-decoration-color: #000000; background-color: #ffff00\">advanced degree highly</span> quantitative field statistics mathematics economics computer science etc two four <span style=\"color: #000000; text-decoration-color: #000000; background-color: #ffff00\">years </span>\n",
       "<span style=\"color: #000000; text-decoration-color: #000000; background-color: #ffff00\">professional experience decision</span> risk modeling <span style=\"color: #000000; text-decoration-color: #000000; background-color: #ffff00\">predictive statistics proficient</span> use advanced statistical analysis \n",
       "software capabilities sas sql programing etc strong experience data architecture data mining <span style=\"color: #000000; text-decoration-color: #000000; background-color: #ffff00\">data integration </span>\n",
       "<span style=\"color: #000000; text-decoration-color: #000000; background-color: #ffff00\">ability conduct</span> data research handle large datasets capable communicating expressing ideas clearly concisely \n",
       "written oral formats highly organized detail oriented <span style=\"color: #000000; text-decoration-color: #000000; background-color: #ffff00\">proven ability multi task</span> objective giving taking \n",
       "constructive feedback natural proclivity questioning assumptions challenging orthodoxies physical demands position \n",
       "<span style=\"color: #000000; text-decoration-color: #000000; background-color: #ffff00\">frequently include ability</span> remain stationary position move freely inside occasionally outside office operation \n",
       "mechanical controls keyboard based current benefit offering subject change without notice\n",
       "</pre>\n"
      ],
      "text/plain": [
       "\u001B[30;48;2;255;255;0madvanced degree highly\u001B[0m quantitative field statistics mathematics economics computer science etc two four \u001B[30;48;2;255;255;0myears \u001B[0m\n",
       "\u001B[30;48;2;255;255;0mprofessional experience decision\u001B[0m risk modeling \u001B[30;48;2;255;255;0mpredictive statistics proficient\u001B[0m use advanced statistical analysis \n",
       "software capabilities sas sql programing etc strong experience data architecture data mining \u001B[30;48;2;255;255;0mdata integration \u001B[0m\n",
       "\u001B[30;48;2;255;255;0mability conduct\u001B[0m data research handle large datasets capable communicating expressing ideas clearly concisely \n",
       "written oral formats highly organized detail oriented \u001B[30;48;2;255;255;0mproven ability multi task\u001B[0m objective giving taking \n",
       "constructive feedback natural proclivity questioning assumptions challenging orthodoxies physical demands position \n",
       "\u001B[30;48;2;255;255;0mfrequently include ability\u001B[0m remain stationary position move freely inside occasionally outside office operation \n",
       "mechanical controls keyboard based current benefit offering subject change without notice\n"
      ]
     },
     "metadata": {},
     "output_type": "display_data"
    },
    {
     "data": {
      "text/html": [
       "<pre style=\"white-space:pre;overflow-x:auto;line-height:normal;font-family:Menlo,'DejaVu Sans Mono',consolas,'Courier New',monospace\">minimum one <span style=\"color: #000000; text-decoration-color: #000000; background-color: #ffff00\">year predictive modeling</span> data science analysis experience solid background using <span style=\"color: #000000; text-decoration-color: #000000; background-color: #ffff00\">data visualization </span>\n",
       "<span style=\"color: #000000; text-decoration-color: #000000; background-color: #ffff00\">tools libraries</span> exploration data <span style=\"color: #000000; text-decoration-color: #000000; background-color: #ffff00\">wrangling feature engineering experience</span> python code notebook environments \n",
       "knowledge common unsupervised supervised ml techniques\n",
       "</pre>\n"
      ],
      "text/plain": [
       "minimum one \u001B[30;48;2;255;255;0myear predictive modeling\u001B[0m data science analysis experience solid background using \u001B[30;48;2;255;255;0mdata visualization \u001B[0m\n",
       "\u001B[30;48;2;255;255;0mtools libraries\u001B[0m exploration data \u001B[30;48;2;255;255;0mwrangling feature engineering experience\u001B[0m python code notebook environments \n",
       "knowledge common unsupervised supervised ml techniques\n"
      ]
     },
     "metadata": {},
     "output_type": "display_data"
    },
    {
     "data": {
      "text/html": [
       "<pre style=\"white-space:pre;overflow-x:auto;line-height:normal;font-family:Menlo,'DejaVu Sans Mono',consolas,'Courier New',monospace\">bachelor degree mathematics <span style=\"color: #000000; text-decoration-color: #000000; background-color: #ffff00\">statistics computer science</span> data <span style=\"color: #000000; text-decoration-color: #000000; background-color: #ffff00\">science related field certified</span> predictive analytics \n",
       "cspa designation one year experience <span style=\"color: #000000; text-decoration-color: #000000; background-color: #ffff00\">data science additional education</span> used substitute portion <span style=\"color: #000000; text-decoration-color: #000000; background-color: #ffff00\">experience </span>\n",
       "<span style=\"color: #000000; text-decoration-color: #000000; background-color: #ffff00\">requirement strong knowledge</span> analysis tools techniques glms decision trees gbms random forests boosting bagging \n",
       "neural networks statistical analysis machine learning deep learning techniques strong knowledge programming within \n",
       "python sql hadoop data visualization tools strong verbal written communication skills ability translate technical \n",
       "ideas general terms business customers strong analytical investigation problem solving abilities\n",
       "</pre>\n"
      ],
      "text/plain": [
       "bachelor degree mathematics \u001B[30;48;2;255;255;0mstatistics computer science\u001B[0m data \u001B[30;48;2;255;255;0mscience related field certified\u001B[0m predictive analytics \n",
       "cspa designation one year experience \u001B[30;48;2;255;255;0mdata science additional education\u001B[0m used substitute portion \u001B[30;48;2;255;255;0mexperience \u001B[0m\n",
       "\u001B[30;48;2;255;255;0mrequirement strong knowledge\u001B[0m analysis tools techniques glms decision trees gbms random forests boosting bagging \n",
       "neural networks statistical analysis machine learning deep learning techniques strong knowledge programming within \n",
       "python sql hadoop data visualization tools strong verbal written communication skills ability translate technical \n",
       "ideas general terms business customers strong analytical investigation problem solving abilities\n"
      ]
     },
     "metadata": {},
     "output_type": "display_data"
    },
    {
     "data": {
      "text/html": [
       "<pre style=\"white-space:pre;overflow-x:auto;line-height:normal;font-family:Menlo,'DejaVu Sans Mono',consolas,'Courier New',monospace\"><span style=\"color: #000000; text-decoration-color: #000000; background-color: #ffff00\">driven excellence driven</span> mission <span style=\"color: #000000; text-decoration-color: #000000; background-color: #ffff00\">passion customer success means</span> <span style=\"color: #000000; text-decoration-color: #000000; background-color: #ffff00\">pursue excellence tolerate</span> mediocrity work \n",
       "intensely <span style=\"color: #000000; text-decoration-color: #000000; background-color: #ffff00\">achieve goals high integrity</span> open honest communication hold high moral ethical standards you reject \n",
       "manipulation dishonesty intolerance twelve <span style=\"color: #000000; text-decoration-color: #000000; background-color: #ffff00\">years industry experience</span> working analyzing large data sets five <span style=\"color: #000000; text-decoration-color: #000000; background-color: #ffff00\">years </span>\n",
       "<span style=\"color: #000000; text-decoration-color: #000000; background-color: #ffff00\">experience technical leadership</span> management knowledge scientific computing language python sql theoretical applied \n",
       "expertise statistics experimental design analysis strong communicator take complex ideas methodologies simplify non\n",
       "technical audiences ability understand complex business problems break analytics projects structured approach\n",
       "</pre>\n"
      ],
      "text/plain": [
       "\u001B[30;48;2;255;255;0mdriven excellence driven\u001B[0m mission \u001B[30;48;2;255;255;0mpassion customer success means\u001B[0m \u001B[30;48;2;255;255;0mpursue excellence tolerate\u001B[0m mediocrity work \n",
       "intensely \u001B[30;48;2;255;255;0machieve goals high integrity\u001B[0m open honest communication hold high moral ethical standards you reject \n",
       "manipulation dishonesty intolerance twelve \u001B[30;48;2;255;255;0myears industry experience\u001B[0m working analyzing large data sets five \u001B[30;48;2;255;255;0myears \u001B[0m\n",
       "\u001B[30;48;2;255;255;0mexperience technical leadership\u001B[0m management knowledge scientific computing language python sql theoretical applied \n",
       "expertise statistics experimental design analysis strong communicator take complex ideas methodologies simplify non\n",
       "technical audiences ability understand complex business problems break analytics projects structured approach\n"
      ]
     },
     "metadata": {},
     "output_type": "display_data"
    },
    {
     "data": {
      "text/html": [
       "<pre style=\"white-space:pre;overflow-x:auto;line-height:normal;font-family:Menlo,'DejaVu Sans Mono',consolas,'Courier New',monospace\">the ideal candidate extensive <span style=\"color: #000000; text-decoration-color: #000000; background-color: #ffff00\">experience building risk models</span> fraud scoring risk personal small business entities \n",
       "small business lending product environment the ideal candidate thought leader helping design develop implement \n",
       "manage key risk models leverage expertise machine learning statistics achieve exceptional results the <span style=\"color: #000000; text-decoration-color: #000000; background-color: #ffff00\">ideal </span>\n",
       "<span style=\"color: #000000; text-decoration-color: #000000; background-color: #ffff00\">candidate identify</span> objectives scope requirements determine approaches solution development independently the \n",
       "<span style=\"color: #000000; text-decoration-color: #000000; background-color: #ffff00\">candidate able apply</span> advanced mathematical statistical techniques gbm logistic regression cluster analysis neural \n",
       "networks independence testing etc <span style=\"color: #000000; text-decoration-color: #000000; background-color: #ffff00\">bachelor degree computer science</span> mathematics statistics similar quantitative \n",
       "field six <span style=\"color: #000000; text-decoration-color: #000000; background-color: #ffff00\">years relevant work experience</span> programming languages python <span style=\"color: #000000; text-decoration-color: #000000; background-color: #ffff00\">sql experience developing</span> supervised \n",
       "unsupervised machine learning <span style=\"color: #000000; text-decoration-color: #000000; background-color: #ffff00\">algorithms proficiency working sql</span> strong programming practices utilizing version \n",
       "control systems attention detail strong communication skills across technical non technical audience extensive \n",
       "experience working python data science libraries experience tableau looker\n",
       "</pre>\n"
      ],
      "text/plain": [
       "the ideal candidate extensive \u001B[30;48;2;255;255;0mexperience building risk models\u001B[0m fraud scoring risk personal small business entities \n",
       "small business lending product environment the ideal candidate thought leader helping design develop implement \n",
       "manage key risk models leverage expertise machine learning statistics achieve exceptional results the \u001B[30;48;2;255;255;0mideal \u001B[0m\n",
       "\u001B[30;48;2;255;255;0mcandidate identify\u001B[0m objectives scope requirements determine approaches solution development independently the \n",
       "\u001B[30;48;2;255;255;0mcandidate able apply\u001B[0m advanced mathematical statistical techniques gbm logistic regression cluster analysis neural \n",
       "networks independence testing etc \u001B[30;48;2;255;255;0mbachelor degree computer science\u001B[0m mathematics statistics similar quantitative \n",
       "field six \u001B[30;48;2;255;255;0myears relevant work experience\u001B[0m programming languages python \u001B[30;48;2;255;255;0msql experience developing\u001B[0m supervised \n",
       "unsupervised machine learning \u001B[30;48;2;255;255;0malgorithms proficiency working sql\u001B[0m strong programming practices utilizing version \n",
       "control systems attention detail strong communication skills across technical non technical audience extensive \n",
       "experience working python data science libraries experience tableau looker\n"
      ]
     },
     "metadata": {},
     "output_type": "display_data"
    },
    {
     "data": {
      "text/html": [
       "<pre style=\"white-space:pre;overflow-x:auto;line-height:normal;font-family:Menlo,'DejaVu Sans Mono',consolas,'Courier New',monospace\">collaborate leadership teams corporate development commercial functions <span style=\"color: #000000; text-decoration-color: #000000; background-color: #ffff00\">including patient engagement patient</span> \n",
       "clinical data analytics cd global patient access gpa regulatory affairs ra <span style=\"color: #000000; text-decoration-color: #000000; background-color: #ffff00\">shape collaboration support patient</span> <span style=\"color: #000000; text-decoration-color: #000000; background-color: #ffff00\">data</span>\n",
       "<span style=\"color: #000000; text-decoration-color: #000000; background-color: #ffff00\">science patient preference</span> lead enterprise wide communication training activities patient experience <span style=\"color: #000000; text-decoration-color: #000000; background-color: #ffff00\">data science </span>\n",
       "<span style=\"color: #000000; text-decoration-color: #000000; background-color: #ffff00\">patient preference</span> monitor external landscape represent <span style=\"color: #000000; text-decoration-color: #000000; background-color: #ffff00\">novartis external stakeholder consortia</span> novartis <span style=\"color: #000000; text-decoration-color: #000000; background-color: #ffff00\">leadership</span>\n",
       "<span style=\"color: #000000; text-decoration-color: #000000; background-color: #ffff00\">role patient experience</span> science patient preference studies within outside novartis\n",
       "</pre>\n"
      ],
      "text/plain": [
       "collaborate leadership teams corporate development commercial functions \u001B[30;48;2;255;255;0mincluding patient engagement patient\u001B[0m \n",
       "clinical data analytics cd global patient access gpa regulatory affairs ra \u001B[30;48;2;255;255;0mshape collaboration support patient\u001B[0m \u001B[30;48;2;255;255;0mdata\u001B[0m\n",
       "\u001B[30;48;2;255;255;0mscience patient preference\u001B[0m lead enterprise wide communication training activities patient experience \u001B[30;48;2;255;255;0mdata science \u001B[0m\n",
       "\u001B[30;48;2;255;255;0mpatient preference\u001B[0m monitor external landscape represent \u001B[30;48;2;255;255;0mnovartis external stakeholder consortia\u001B[0m novartis \u001B[30;48;2;255;255;0mleadership\u001B[0m\n",
       "\u001B[30;48;2;255;255;0mrole patient experience\u001B[0m science patient preference studies within outside novartis\n"
      ]
     },
     "metadata": {},
     "output_type": "display_data"
    },
    {
     "data": {
      "text/html": [
       "<pre style=\"white-space:pre;overflow-x:auto;line-height:normal;font-family:Menlo,'DejaVu Sans Mono',consolas,'Courier New',monospace\">two <span style=\"color: #000000; text-decoration-color: #000000; background-color: #ffff00\">years experience exploratory data</span> experience receiving new datasets figuring structure identifying potential \n",
       "issues implementing methods clean <span style=\"color: #000000; text-decoration-color: #000000; background-color: #ffff00\">enhance experience exploring data</span> refining code readable documented well \n",
       "commented use script module <span style=\"color: #000000; text-decoration-color: #000000; background-color: #ffff00\">knowledge data analysis coding</span> tools jupyter pandas matplotlib rstudio tidyverse \n",
       "ability work independently part <span style=\"color: #000000; text-decoration-color: #000000; background-color: #ffff00\">team gain insights datasets</span> present findings clients written reports data \n",
       "visualizations slide decks verbal presentations bachelor degree <span style=\"color: #000000; text-decoration-color: #000000; background-color: #ffff00\">experience working defense intelligence</span> experience \n",
       "academic political science datasets including correlates war experience network analysis working network structured\n",
       "data knowledge statistical methods machine learning tools techniques including regression clustering knowledge \n",
       "natural language processing techniques including entity extraction sentiment analysis knowledge political science \n",
       "international relations social sciences knowledge intelligence data sources analytic tools ts sci clearance\n",
       "</pre>\n"
      ],
      "text/plain": [
       "two \u001B[30;48;2;255;255;0myears experience exploratory data\u001B[0m experience receiving new datasets figuring structure identifying potential \n",
       "issues implementing methods clean \u001B[30;48;2;255;255;0menhance experience exploring data\u001B[0m refining code readable documented well \n",
       "commented use script module \u001B[30;48;2;255;255;0mknowledge data analysis coding\u001B[0m tools jupyter pandas matplotlib rstudio tidyverse \n",
       "ability work independently part \u001B[30;48;2;255;255;0mteam gain insights datasets\u001B[0m present findings clients written reports data \n",
       "visualizations slide decks verbal presentations bachelor degree \u001B[30;48;2;255;255;0mexperience working defense intelligence\u001B[0m experience \n",
       "academic political science datasets including correlates war experience network analysis working network structured\n",
       "data knowledge statistical methods machine learning tools techniques including regression clustering knowledge \n",
       "natural language processing techniques including entity extraction sentiment analysis knowledge political science \n",
       "international relations social sciences knowledge intelligence data sources analytic tools ts sci clearance\n"
      ]
     },
     "metadata": {},
     "output_type": "display_data"
    },
    {
     "data": {
      "text/html": [
       "<pre style=\"white-space:pre;overflow-x:auto;line-height:normal;font-family:Menlo,'DejaVu Sans Mono',consolas,'Courier New',monospace\">you <span style=\"color: #000000; text-decoration-color: #000000; background-color: #ffff00\">experience python motivated</span> learn you hands <span style=\"color: #000000; text-decoration-color: #000000; background-color: #ffff00\">experience developing data science</span> using open source tools cloud \n",
       "computing platforms you familiar machine learning intelligently build discuss models passion engineering you thrive\n",
       "bringing definition big undefined problems you love asking questions pushing hard find answers you successful \n",
       "individual contributor also knows teamwork secret modern software teams you interested growing tech lead role \n",
       "future continuing develop individual contributor welcome bachelor degree plus two years experience <span style=\"color: #000000; text-decoration-color: #000000; background-color: #ffff00\">data analytics </span>\n",
       "<span style=\"color: #000000; text-decoration-color: #000000; background-color: #ffff00\">master degree</span> at least one year <span style=\"color: #000000; text-decoration-color: #000000; background-color: #ffff00\">experience open source programming</span> large scale data analysis at least one year \n",
       "experience machine learning at least one year experience relational databases master degree stem field science \n",
       "technology engineering mathematics phd stem field science technology engineering mathematics experience working aws\n",
       "at least two <span style=\"color: #000000; text-decoration-color: #000000; background-color: #ffff00\">years experience python scala</span>\n",
       "</pre>\n"
      ],
      "text/plain": [
       "you \u001B[30;48;2;255;255;0mexperience python motivated\u001B[0m learn you hands \u001B[30;48;2;255;255;0mexperience developing data science\u001B[0m using open source tools cloud \n",
       "computing platforms you familiar machine learning intelligently build discuss models passion engineering you thrive\n",
       "bringing definition big undefined problems you love asking questions pushing hard find answers you successful \n",
       "individual contributor also knows teamwork secret modern software teams you interested growing tech lead role \n",
       "future continuing develop individual contributor welcome bachelor degree plus two years experience \u001B[30;48;2;255;255;0mdata analytics \u001B[0m\n",
       "\u001B[30;48;2;255;255;0mmaster degree\u001B[0m at least one year \u001B[30;48;2;255;255;0mexperience open source programming\u001B[0m large scale data analysis at least one year \n",
       "experience machine learning at least one year experience relational databases master degree stem field science \n",
       "technology engineering mathematics phd stem field science technology engineering mathematics experience working aws\n",
       "at least two \u001B[30;48;2;255;255;0myears experience python scala\u001B[0m\n"
      ]
     },
     "metadata": {},
     "output_type": "display_data"
    },
    {
     "data": {
      "text/html": [
       "<pre style=\"white-space:pre;overflow-x:auto;line-height:normal;font-family:Menlo,'DejaVu Sans Mono',consolas,'Courier New',monospace\">four <span style=\"color: #000000; text-decoration-color: #000000; background-color: #ffff00\">years analytics experience</span> equivalent demonstrated one combination <span style=\"color: #000000; text-decoration-color: #000000; background-color: #ffff00\">following work experience training</span> \n",
       "experience education three years <span style=\"color: #000000; text-decoration-color: #000000; background-color: #ffff00\">business intelligence experience</span> this role sponsor one visa transfer one visa \n",
       "candidate master degree higher\n",
       "</pre>\n"
      ],
      "text/plain": [
       "four \u001B[30;48;2;255;255;0myears analytics experience\u001B[0m equivalent demonstrated one combination \u001B[30;48;2;255;255;0mfollowing work experience training\u001B[0m \n",
       "experience education three years \u001B[30;48;2;255;255;0mbusiness intelligence experience\u001B[0m this role sponsor one visa transfer one visa \n",
       "candidate master degree higher\n"
      ]
     },
     "metadata": {},
     "output_type": "display_data"
    },
    {
     "data": {
      "text/html": [
       "<pre style=\"white-space:pre;overflow-x:auto;line-height:normal;font-family:Menlo,'DejaVu Sans Mono',consolas,'Courier New',monospace\">you thrive environment enormous volumes data generated rapid speed you creative thinker likes explore uncover \n",
       "issues you decisive you great influencing across groups take satisfaction mentoring others communicating uncovered \n",
       "way easily understood others one strengths you strong <span style=\"color: #000000; text-decoration-color: #000000; background-color: #ffff00\">experience managing project</span> delivery pipeline implementing \n",
       "analytical models production collaborating partner teams crisp dm similar bachelor degree four years work \n",
       "experience six years relevant work <span style=\"color: #000000; text-decoration-color: #000000; background-color: #ffff00\">experience experience applying ai</span> modelling understanding algorithms \n",
       "classification regression etc datasets answer business problems knowledge scheduling techniques utilization \n",
       "efficiencies cloud infrastructure resources cpu memory network storage experience python sql experience linux \n",
       "openstack openshift <span style=\"color: #000000; text-decoration-color: #000000; background-color: #ffff00\">kubernetes environments advanced degree</span> statistics physics engineering computer science \n",
       "economics understanding data warehouse data lake technology three oracle gcp experience tableau grafana looker \n",
       "similar visual analysis tool develop visually compelling interactive dashboards knowledge design patterns <span style=\"color: #000000; text-decoration-color: #000000; background-color: #ffff00\">ability </span>\n",
       "<span style=\"color: #000000; text-decoration-color: #000000; background-color: #ffff00\">creating managing</span> rest apis experience version control continuous integration continuous delivery concepts \n",
       "experience tools like gcp starburst trino apache airflow apache nifi gitlab proficiency dask ray spark jupyterlab \n",
       "good creative innovative problem solving skills\n",
       "</pre>\n"
      ],
      "text/plain": [
       "you thrive environment enormous volumes data generated rapid speed you creative thinker likes explore uncover \n",
       "issues you decisive you great influencing across groups take satisfaction mentoring others communicating uncovered \n",
       "way easily understood others one strengths you strong \u001B[30;48;2;255;255;0mexperience managing project\u001B[0m delivery pipeline implementing \n",
       "analytical models production collaborating partner teams crisp dm similar bachelor degree four years work \n",
       "experience six years relevant work \u001B[30;48;2;255;255;0mexperience experience applying ai\u001B[0m modelling understanding algorithms \n",
       "classification regression etc datasets answer business problems knowledge scheduling techniques utilization \n",
       "efficiencies cloud infrastructure resources cpu memory network storage experience python sql experience linux \n",
       "openstack openshift \u001B[30;48;2;255;255;0mkubernetes environments advanced degree\u001B[0m statistics physics engineering computer science \n",
       "economics understanding data warehouse data lake technology three oracle gcp experience tableau grafana looker \n",
       "similar visual analysis tool develop visually compelling interactive dashboards knowledge design patterns \u001B[30;48;2;255;255;0mability \u001B[0m\n",
       "\u001B[30;48;2;255;255;0mcreating managing\u001B[0m rest apis experience version control continuous integration continuous delivery concepts \n",
       "experience tools like gcp starburst trino apache airflow apache nifi gitlab proficiency dask ray spark jupyterlab \n",
       "good creative innovative problem solving skills\n"
      ]
     },
     "metadata": {},
     "output_type": "display_data"
    },
    {
     "data": {
      "text/html": [
       "<pre style=\"white-space:pre;overflow-x:auto;line-height:normal;font-family:Menlo,'DejaVu Sans Mono',consolas,'Courier New',monospace\">graduate degree ms <span style=\"color: #000000; text-decoration-color: #000000; background-color: #ffff00\">phd data science machine</span> economics statistics mathematics engineering related discipline one \n",
       "<span style=\"color: #000000; text-decoration-color: #000000; background-color: #ffff00\">years professional experience</span> data science applied economics demonstrated <span style=\"color: #000000; text-decoration-color: #000000; background-color: #ffff00\">practical knowledge areas</span> machine \n",
       "learning deep learning experimentation advanced proficiency coding data analysis using python sql <span style=\"color: #000000; text-decoration-color: #000000; background-color: #ffff00\">sas scala proven </span>\n",
       "<span style=\"color: #000000; text-decoration-color: #000000; background-color: #ffff00\">experience</span> execution analytical projects <span style=\"color: #000000; text-decoration-color: #000000; background-color: #ffff00\">working knowledge aws</span> data toolset glue athena sagemaker redshift etc \n",
       "experience translating ambiguous customer requirements clear problem definitions delivering excellent verbal \n",
       "written communication skills able explain details complex concepts non expert stakeholders simple understandable \n",
       "way <span style=\"color: #000000; text-decoration-color: #000000; background-color: #ffff00\">preferably experience working commerce</span> travel may required\n",
       "</pre>\n"
      ],
      "text/plain": [
       "graduate degree ms \u001B[30;48;2;255;255;0mphd data science machine\u001B[0m economics statistics mathematics engineering related discipline one \n",
       "\u001B[30;48;2;255;255;0myears professional experience\u001B[0m data science applied economics demonstrated \u001B[30;48;2;255;255;0mpractical knowledge areas\u001B[0m machine \n",
       "learning deep learning experimentation advanced proficiency coding data analysis using python sql \u001B[30;48;2;255;255;0msas scala proven \u001B[0m\n",
       "\u001B[30;48;2;255;255;0mexperience\u001B[0m execution analytical projects \u001B[30;48;2;255;255;0mworking knowledge aws\u001B[0m data toolset glue athena sagemaker redshift etc \n",
       "experience translating ambiguous customer requirements clear problem definitions delivering excellent verbal \n",
       "written communication skills able explain details complex concepts non expert stakeholders simple understandable \n",
       "way \u001B[30;48;2;255;255;0mpreferably experience working commerce\u001B[0m travel may required\n"
      ]
     },
     "metadata": {},
     "output_type": "display_data"
    },
    {
     "data": {
      "text/html": [
       "<pre style=\"white-space:pre;overflow-x:auto;line-height:normal;font-family:Menlo,'DejaVu Sans Mono',consolas,'Courier New',monospace\">we looking someone strong <span style=\"color: #000000; text-decoration-color: #000000; background-color: #ffff00\">analytical skills work data</span> <span style=\"color: #000000; text-decoration-color: #000000; background-color: #ffff00\">team providing insights campus</span> faculty students staff support\n",
       "student development understanding effectiveness teaching practices strong skills developing production <span style=\"color: #000000; text-decoration-color: #000000; background-color: #ffff00\">grade </span>\n",
       "<span style=\"color: #000000; text-decoration-color: #000000; background-color: #ffff00\">applications services</span> python possibly programming languages code must well written secure well documented \n",
       "experience restful web services design microservice architectures distributed computing standard data formats \n",
       "systems integration demonstrated <span style=\"color: #000000; text-decoration-color: #000000; background-color: #ffff00\">experience data mining machine</span> data science data interpretation techniques \n",
       "<span style=\"color: #000000; text-decoration-color: #000000; background-color: #ffff00\">demonstrated experience using data</span> libraries python sql etc experience data warehousing high speed data analytics \n",
       "processing frameworks like apache spark kafka redshift etc experience cloud technologies example aws services like \n",
       "redshift three emr glue sagemaker ec two bachelor degree related area equivalent experience training example family\n",
       "educational rights privacy act ferpa familiarity logical data design data mapping data conversion this designated \n",
       "position requiring fingerprinting background check due nature job responsibilities\n",
       "</pre>\n"
      ],
      "text/plain": [
       "we looking someone strong \u001B[30;48;2;255;255;0manalytical skills work data\u001B[0m \u001B[30;48;2;255;255;0mteam providing insights campus\u001B[0m faculty students staff support\n",
       "student development understanding effectiveness teaching practices strong skills developing production \u001B[30;48;2;255;255;0mgrade \u001B[0m\n",
       "\u001B[30;48;2;255;255;0mapplications services\u001B[0m python possibly programming languages code must well written secure well documented \n",
       "experience restful web services design microservice architectures distributed computing standard data formats \n",
       "systems integration demonstrated \u001B[30;48;2;255;255;0mexperience data mining machine\u001B[0m data science data interpretation techniques \n",
       "\u001B[30;48;2;255;255;0mdemonstrated experience using data\u001B[0m libraries python sql etc experience data warehousing high speed data analytics \n",
       "processing frameworks like apache spark kafka redshift etc experience cloud technologies example aws services like \n",
       "redshift three emr glue sagemaker ec two bachelor degree related area equivalent experience training example family\n",
       "educational rights privacy act ferpa familiarity logical data design data mapping data conversion this designated \n",
       "position requiring fingerprinting background check due nature job responsibilities\n"
      ]
     },
     "metadata": {},
     "output_type": "display_data"
    },
    {
     "data": {
      "text/html": [
       "<pre style=\"white-space:pre;overflow-x:auto;line-height:normal;font-family:Menlo,'DejaVu Sans Mono',consolas,'Courier New',monospace\"><span style=\"color: #000000; text-decoration-color: #000000; background-color: #ffff00\">seven year data processing</span> science management information systems demonstrates intimate abilities proven record \n",
       "success team leader emphasizing following working managed services organization passion building new service \n",
       "offerings identifying whitefield <span style=\"color: #000000; text-decoration-color: #000000; background-color: #ffff00\">opportunities datas analytics</span> technologies space providing oversight guidance \n",
       "utilizing previous <span style=\"color: #000000; text-decoration-color: #000000; background-color: #ffff00\">experience implementation data integration</span> snaplogic mulesoft databricks aws kinesis glue azure \n",
       "data factory informatica cloud sql python pyspark jupyter notebooks similar technologies interactionsing data \n",
       "quality systems <span style=\"color: #000000; text-decoration-color: #000000; background-color: #ffff00\">processes data management data</span> workflows processes applying leading design implementation practices\n",
       "related end end data lifecycle one following enterprise cloud data hubs exchanges middleware systems data \n",
       "conversion migration business applications crm erp edge applications mobile devices understanding experience \n",
       "related multi cloud hybrid <span style=\"color: #000000; text-decoration-color: #000000; background-color: #ffff00\">cloud data integration solutions</span> data models table structure business applications \n",
       "salesforce sap microsoft dynamics oracle erp architecting managing engineering high volume scale data integration \n",
       "performance includes batch event based integration patterns possessing proven communication presentation skills \n",
       "experience working variety senior it stakeholders acting leader next generation data analytics architectures tools \n",
       "solutions leveraging prior knowledge experience meet client needs\n",
       "</pre>\n"
      ],
      "text/plain": [
       "\u001B[30;48;2;255;255;0mseven year data processing\u001B[0m science management information systems demonstrates intimate abilities proven record \n",
       "success team leader emphasizing following working managed services organization passion building new service \n",
       "offerings identifying whitefield \u001B[30;48;2;255;255;0mopportunities datas analytics\u001B[0m technologies space providing oversight guidance \n",
       "utilizing previous \u001B[30;48;2;255;255;0mexperience implementation data integration\u001B[0m snaplogic mulesoft databricks aws kinesis glue azure \n",
       "data factory informatica cloud sql python pyspark jupyter notebooks similar technologies interactionsing data \n",
       "quality systems \u001B[30;48;2;255;255;0mprocesses data management data\u001B[0m workflows processes applying leading design implementation practices\n",
       "related end end data lifecycle one following enterprise cloud data hubs exchanges middleware systems data \n",
       "conversion migration business applications crm erp edge applications mobile devices understanding experience \n",
       "related multi cloud hybrid \u001B[30;48;2;255;255;0mcloud data integration solutions\u001B[0m data models table structure business applications \n",
       "salesforce sap microsoft dynamics oracle erp architecting managing engineering high volume scale data integration \n",
       "performance includes batch event based integration patterns possessing proven communication presentation skills \n",
       "experience working variety senior it stakeholders acting leader next generation data analytics architectures tools \n",
       "solutions leveraging prior knowledge experience meet client needs\n"
      ]
     },
     "metadata": {},
     "output_type": "display_data"
    },
    {
     "data": {
      "text/html": [
       "<pre style=\"white-space:pre;overflow-x:auto;line-height:normal;font-family:Menlo,'DejaVu Sans Mono',consolas,'Courier New',monospace\">maintain high bar terms product <span style=\"color: #000000; text-decoration-color: #000000; background-color: #ffff00\">thinking analytical depth team</span> hiring <span style=\"color: #000000; text-decoration-color: #000000; background-color: #ffff00\">mentorship seven years experience</span> <span style=\"color: #000000; text-decoration-color: #000000; background-color: #ffff00\">team </span>\n",
       "<span style=\"color: #000000; text-decoration-color: #000000; background-color: #ffff00\">analysts data scientists</span> years experience quantitative analysis <span style=\"color: #000000; text-decoration-color: #000000; background-color: #ffff00\">seven years work experience</span> analytics teams working\n",
       "collaboratively engineering cross functional partners guiding data influenced product planning prioritization \n",
       "<span style=\"color: #000000; text-decoration-color: #000000; background-color: #ffff00\">strategy development experience cross</span> partnership among teams engineering design pm data engineering experience \n",
       "initiating driving projects completion autonomously experience track record influencing cross org decisions \n",
       "successful virtual teams\n",
       "</pre>\n"
      ],
      "text/plain": [
       "maintain high bar terms product \u001B[30;48;2;255;255;0mthinking analytical depth team\u001B[0m hiring \u001B[30;48;2;255;255;0mmentorship seven years experience\u001B[0m \u001B[30;48;2;255;255;0mteam \u001B[0m\n",
       "\u001B[30;48;2;255;255;0manalysts data scientists\u001B[0m years experience quantitative analysis \u001B[30;48;2;255;255;0mseven years work experience\u001B[0m analytics teams working\n",
       "collaboratively engineering cross functional partners guiding data influenced product planning prioritization \n",
       "\u001B[30;48;2;255;255;0mstrategy development experience cross\u001B[0m partnership among teams engineering design pm data engineering experience \n",
       "initiating driving projects completion autonomously experience track record influencing cross org decisions \n",
       "successful virtual teams\n"
      ]
     },
     "metadata": {},
     "output_type": "display_data"
    },
    {
     "data": {
      "text/html": [
       "<pre style=\"white-space:pre;overflow-x:auto;line-height:normal;font-family:Menlo,'DejaVu Sans Mono',consolas,'Courier New',monospace\">eight <span style=\"color: #000000; text-decoration-color: #000000; background-color: #ffff00\">years professional experience working</span> science analytics two <span style=\"color: #000000; text-decoration-color: #000000; background-color: #ffff00\">years experience management role</span> leading growing \n",
       "high <span style=\"color: #000000; text-decoration-color: #000000; background-color: #ffff00\">performing analytics data science</span> comfort providing technical feedback guidance broad sets data projects \n",
       "consistent record using data help product teams achieve goals experience leading collaborating diverse teams \n",
       "dynamic rapid growth environment ability communicate effectively managers executives nuanced understanding \n",
       "inclusive hiring practices comfort ambiguity grace pressure excellent written verbal communication skills\n",
       "</pre>\n"
      ],
      "text/plain": [
       "eight \u001B[30;48;2;255;255;0myears professional experience working\u001B[0m science analytics two \u001B[30;48;2;255;255;0myears experience management role\u001B[0m leading growing \n",
       "high \u001B[30;48;2;255;255;0mperforming analytics data science\u001B[0m comfort providing technical feedback guidance broad sets data projects \n",
       "consistent record using data help product teams achieve goals experience leading collaborating diverse teams \n",
       "dynamic rapid growth environment ability communicate effectively managers executives nuanced understanding \n",
       "inclusive hiring practices comfort ambiguity grace pressure excellent written verbal communication skills\n"
      ]
     },
     "metadata": {},
     "output_type": "display_data"
    },
    {
     "data": {
      "text/html": [
       "<pre style=\"white-space:pre;overflow-x:auto;line-height:normal;font-family:Menlo,'DejaVu Sans Mono',consolas,'Courier New',monospace\"><span style=\"color: #000000; text-decoration-color: #000000; background-color: #ffff00\">bachelor degree statistics</span> economics related quantitative field required five seven years <span style=\"color: #000000; text-decoration-color: #000000; background-color: #ffff00\">prior relevant experience</span>\n",
       "<span style=\"color: #000000; text-decoration-color: #000000; background-color: #ffff00\">preferably</span> setting exposure involvement modelling <span style=\"color: #000000; text-decoration-color: #000000; background-color: #ffff00\">advanced analytics advanced proficiency</span> powerpoint familiarity \n",
       "sas sql python big data emerging technology tools strong <span style=\"color: #000000; text-decoration-color: #000000; background-color: #ffff00\">business acumen communication skills</span> influence \n",
       "<span style=\"color: #000000; text-decoration-color: #000000; background-color: #ffff00\">stakeholders project management skills</span> ability quickly grasp new concepts technologies adapt changes demands fast \n",
       "paced dynamic environment\n",
       "</pre>\n"
      ],
      "text/plain": [
       "\u001B[30;48;2;255;255;0mbachelor degree statistics\u001B[0m economics related quantitative field required five seven years \u001B[30;48;2;255;255;0mprior relevant experience\u001B[0m\n",
       "\u001B[30;48;2;255;255;0mpreferably\u001B[0m setting exposure involvement modelling \u001B[30;48;2;255;255;0madvanced analytics advanced proficiency\u001B[0m powerpoint familiarity \n",
       "sas sql python big data emerging technology tools strong \u001B[30;48;2;255;255;0mbusiness acumen communication skills\u001B[0m influence \n",
       "\u001B[30;48;2;255;255;0mstakeholders project management skills\u001B[0m ability quickly grasp new concepts technologies adapt changes demands fast \n",
       "paced dynamic environment\n"
      ]
     },
     "metadata": {},
     "output_type": "display_data"
    },
    {
     "data": {
      "text/html": [
       "<pre style=\"white-space:pre;overflow-x:auto;line-height:normal;font-family:Menlo,'DejaVu Sans Mono',consolas,'Courier New',monospace\"><span style=\"color: #000000; text-decoration-color: #000000; background-color: #ffff00\">technical skills sql</span> advanced <span style=\"color: #000000; text-decoration-color: #000000; background-color: #ffff00\">excel sas hadoop spark</span> nielsen iri market research data understanding bachelor degree\n",
       "foreign equivalent required accredited institution will also consider three years progressive experience specialty \n",
       "lieu every year education at least seven years <span style=\"color: #000000; text-decoration-color: #000000; background-color: #ffff00\">experience information technology business</span> analytics consulting \n",
       "citizens authorized work independently united states encouraged apply only us citizen green card holder gc ead four\n",
       "ead two ead apply\n",
       "</pre>\n"
      ],
      "text/plain": [
       "\u001B[30;48;2;255;255;0mtechnical skills sql\u001B[0m advanced \u001B[30;48;2;255;255;0mexcel sas hadoop spark\u001B[0m nielsen iri market research data understanding bachelor degree\n",
       "foreign equivalent required accredited institution will also consider three years progressive experience specialty \n",
       "lieu every year education at least seven years \u001B[30;48;2;255;255;0mexperience information technology business\u001B[0m analytics consulting \n",
       "citizens authorized work independently united states encouraged apply only us citizen green card holder gc ead four\n",
       "ead two ead apply\n"
      ]
     },
     "metadata": {},
     "output_type": "display_data"
    },
    {
     "data": {
      "text/html": [
       "<pre style=\"white-space:pre;overflow-x:auto;line-height:normal;font-family:Menlo,'DejaVu Sans Mono',consolas,'Courier New',monospace\"><span style=\"color: #000000; text-decoration-color: #000000; background-color: #ffff00\">data scientist ii develop</span> learning optimization algorithms based methodology founded nlp regression clustering etc \n",
       "also responsible helping develop inference predictive models support organization needs <span style=\"color: #000000; text-decoration-color: #000000; background-color: #ffff00\">implement machine learning </span>\n",
       "<span style=\"color: #000000; text-decoration-color: #000000; background-color: #ffff00\">algorithms</span> language processing <span style=\"color: #000000; text-decoration-color: #000000; background-color: #ffff00\">nlp data mining predictions</span> use statistical machine learning techniques analyzed \n",
       "data variety forms using several <span style=\"color: #000000; text-decoration-color: #000000; background-color: #ffff00\">techniques including nlp</span> regression clustering etc leverage data across sources \n",
       "identify meaningful factors translate various models predictive algorithms interact variety data forms structured \n",
       "unstructured distributed environment train deep learning models large scale <span style=\"color: #000000; text-decoration-color: #000000; background-color: #ffff00\">data build ai</span> products design <span style=\"color: #000000; text-decoration-color: #000000; background-color: #ffff00\">develop </span>\n",
       "<span style=\"color: #000000; text-decoration-color: #000000; background-color: #ffff00\">data analysis</span> visualization <span style=\"color: #000000; text-decoration-color: #000000; background-color: #ffff00\">data mining tools</span>\n",
       "</pre>\n"
      ],
      "text/plain": [
       "\u001B[30;48;2;255;255;0mdata scientist ii develop\u001B[0m learning optimization algorithms based methodology founded nlp regression clustering etc \n",
       "also responsible helping develop inference predictive models support organization needs \u001B[30;48;2;255;255;0mimplement machine learning \u001B[0m\n",
       "\u001B[30;48;2;255;255;0malgorithms\u001B[0m language processing \u001B[30;48;2;255;255;0mnlp data mining predictions\u001B[0m use statistical machine learning techniques analyzed \n",
       "data variety forms using several \u001B[30;48;2;255;255;0mtechniques including nlp\u001B[0m regression clustering etc leverage data across sources \n",
       "identify meaningful factors translate various models predictive algorithms interact variety data forms structured \n",
       "unstructured distributed environment train deep learning models large scale \u001B[30;48;2;255;255;0mdata build ai\u001B[0m products design \u001B[30;48;2;255;255;0mdevelop \u001B[0m\n",
       "\u001B[30;48;2;255;255;0mdata analysis\u001B[0m visualization \u001B[30;48;2;255;255;0mdata mining tools\u001B[0m\n"
      ]
     },
     "metadata": {},
     "output_type": "display_data"
    },
    {
     "data": {
      "text/html": [
       "<pre style=\"white-space:pre;overflow-x:auto;line-height:normal;font-family:Menlo,'DejaVu Sans Mono',consolas,'Courier New',monospace\"><span style=\"color: #000000; text-decoration-color: #000000; background-color: #ffff00\">duties serves technical expert</span> data analysis <span style=\"color: #000000; text-decoration-color: #000000; background-color: #ffff00\">modeling data science leads</span> team developing complex projects uses \n",
       "machine learning computer programming languages perform predictive <span style=\"color: #000000; text-decoration-color: #000000; background-color: #ffff00\">analytics help build models</span> future business \n",
       "trends correlating multiple factors influence outcome works multiple big data platforms like <span style=\"color: #000000; text-decoration-color: #000000; background-color: #ffff00\">hadoop generates </span>\n",
       "<span style=\"color: #000000; text-decoration-color: #000000; background-color: #ffff00\">insights large</span> <span style=\"color: #000000; text-decoration-color: #000000; background-color: #ffff00\">data develops effective analytical</span> data structured unstructured formats develops natural language \n",
       "processing applications derive meaning textual data clearly articulates presents analytical solutions analytical \n",
       "<span style=\"color: #000000; text-decoration-color: #000000; background-color: #ffff00\">insights levels organization help</span> improve business processes\n",
       "</pre>\n"
      ],
      "text/plain": [
       "\u001B[30;48;2;255;255;0mduties serves technical expert\u001B[0m data analysis \u001B[30;48;2;255;255;0mmodeling data science leads\u001B[0m team developing complex projects uses \n",
       "machine learning computer programming languages perform predictive \u001B[30;48;2;255;255;0manalytics help build models\u001B[0m future business \n",
       "trends correlating multiple factors influence outcome works multiple big data platforms like \u001B[30;48;2;255;255;0mhadoop generates \u001B[0m\n",
       "\u001B[30;48;2;255;255;0minsights large\u001B[0m \u001B[30;48;2;255;255;0mdata develops effective analytical\u001B[0m data structured unstructured formats develops natural language \n",
       "processing applications derive meaning textual data clearly articulates presents analytical solutions analytical \n",
       "\u001B[30;48;2;255;255;0minsights levels organization help\u001B[0m improve business processes\n"
      ]
     },
     "metadata": {},
     "output_type": "display_data"
    },
    {
     "data": {
      "text/html": [
       "<pre style=\"white-space:pre;overflow-x:auto;line-height:normal;font-family:Menlo,'DejaVu Sans Mono',consolas,'Courier New',monospace\"><span style=\"color: #000000; text-decoration-color: #000000; background-color: #ffff00\">data scientist caterpillar parts</span> <span style=\"color: #000000; text-decoration-color: #000000; background-color: #ffff00\">use methods visualization analytics</span> problems internal caterpillar customers \n",
       "contribute parts pricing mission engaging projects medium high complexity direct business impact role primarily \n",
       "focused <span style=\"color: #000000; text-decoration-color: #000000; background-color: #ffff00\">analysis reporting parts</span> pricing data design develop maintain parts <span style=\"color: #000000; text-decoration-color: #000000; background-color: #ffff00\">pricing dashboards reports provide</span> \n",
       "support high profile enterprise strategy <span style=\"color: #000000; text-decoration-color: #000000; background-color: #ffff00\">division projects use analytics</span> make recommendations <span style=\"color: #000000; text-decoration-color: #000000; background-color: #ffff00\">parts pricing </span>\n",
       "<span style=\"color: #000000; text-decoration-color: #000000; background-color: #ffff00\">managers manage</span> three projects concurrently\n",
       "</pre>\n"
      ],
      "text/plain": [
       "\u001B[30;48;2;255;255;0mdata scientist caterpillar parts\u001B[0m \u001B[30;48;2;255;255;0muse methods visualization analytics\u001B[0m problems internal caterpillar customers \n",
       "contribute parts pricing mission engaging projects medium high complexity direct business impact role primarily \n",
       "focused \u001B[30;48;2;255;255;0manalysis reporting parts\u001B[0m pricing data design develop maintain parts \u001B[30;48;2;255;255;0mpricing dashboards reports provide\u001B[0m \n",
       "support high profile enterprise strategy \u001B[30;48;2;255;255;0mdivision projects use analytics\u001B[0m make recommendations \u001B[30;48;2;255;255;0mparts pricing \u001B[0m\n",
       "\u001B[30;48;2;255;255;0mmanagers manage\u001B[0m three projects concurrently\n"
      ]
     },
     "metadata": {},
     "output_type": "display_data"
    },
    {
     "data": {
      "text/html": [
       "<pre style=\"white-space:pre;overflow-x:auto;line-height:normal;font-family:Menlo,'DejaVu Sans Mono',consolas,'Courier New',monospace\">provide hands support statistical guidance bringing therapies patients focus maturation research manufacturing \n",
       "process methodology development gmp including <span style=\"color: #000000; text-decoration-color: #000000; background-color: #ffff00\">integrated model development cell</span> product centric data empowered \n",
       "takeda cell therapies platform strategies coherent compliant integration systems engineering principles processes \n",
       "working cross functionally discovery <span style=\"color: #000000; text-decoration-color: #000000; background-color: #ffff00\">development manufacturing data sciences</span> modeling teams lead systems \n",
       "engineering efforts across development manufacturing automation product quality advanced analytics within cell \n",
       "therapies platform portfolio design execute document method model development <span style=\"color: #000000; text-decoration-color: #000000; background-color: #ffff00\">support process development product</span> \n",
       "stability product characterization autologous allogeneic <span style=\"color: #000000; text-decoration-color: #000000; background-color: #ffff00\">cell therapies programs platforms</span> interpret high \n",
       "dimensional data variety multidimensional data sources internal external collaborators derive insights data driven \n",
       "program strategies evaluate novel algorithms approaches multivariate data analyses visualization exploration \n",
       "collaboration academic partners external associates actively communicate scientists analytical process development \n",
       "leads manufacturing non clinical clinical teams inform qbd quality design <span style=\"color: #000000; text-decoration-color: #000000; background-color: #ffff00\">systems approaches data analyses</span> \n",
       "improvements driving discovery development support product comparability development gmp cover analytical \n",
       "comparability pre clinical comparability clinical comparability support laboratory staff selection design \n",
       "implementation novel methods including ngs technologies emphasis automation high throughput technologies work cross\n",
       "functionally within matrixed teams among teams workstreams programs provide statistical support expertise across \n",
       "cell therapy portfolio perform exploratory data analyses static dynamic data visualizations communicate \n",
       "quantitative results enabling data driven platform decisions actively communicate nonclinical leads scientists \n",
       "<span style=\"color: #000000; text-decoration-color: #000000; background-color: #ffff00\">analytical clinical teams inform</span> <span style=\"color: #000000; text-decoration-color: #000000; background-color: #ffff00\">analyses data engineering machine</span> drives drug discovery development enable \n",
       "automation etl operations improve efficiency overall\n",
       "</pre>\n"
      ],
      "text/plain": [
       "provide hands support statistical guidance bringing therapies patients focus maturation research manufacturing \n",
       "process methodology development gmp including \u001B[30;48;2;255;255;0mintegrated model development cell\u001B[0m product centric data empowered \n",
       "takeda cell therapies platform strategies coherent compliant integration systems engineering principles processes \n",
       "working cross functionally discovery \u001B[30;48;2;255;255;0mdevelopment manufacturing data sciences\u001B[0m modeling teams lead systems \n",
       "engineering efforts across development manufacturing automation product quality advanced analytics within cell \n",
       "therapies platform portfolio design execute document method model development \u001B[30;48;2;255;255;0msupport process development product\u001B[0m \n",
       "stability product characterization autologous allogeneic \u001B[30;48;2;255;255;0mcell therapies programs platforms\u001B[0m interpret high \n",
       "dimensional data variety multidimensional data sources internal external collaborators derive insights data driven \n",
       "program strategies evaluate novel algorithms approaches multivariate data analyses visualization exploration \n",
       "collaboration academic partners external associates actively communicate scientists analytical process development \n",
       "leads manufacturing non clinical clinical teams inform qbd quality design \u001B[30;48;2;255;255;0msystems approaches data analyses\u001B[0m \n",
       "improvements driving discovery development support product comparability development gmp cover analytical \n",
       "comparability pre clinical comparability clinical comparability support laboratory staff selection design \n",
       "implementation novel methods including ngs technologies emphasis automation high throughput technologies work cross\n",
       "functionally within matrixed teams among teams workstreams programs provide statistical support expertise across \n",
       "cell therapy portfolio perform exploratory data analyses static dynamic data visualizations communicate \n",
       "quantitative results enabling data driven platform decisions actively communicate nonclinical leads scientists \n",
       "\u001B[30;48;2;255;255;0manalytical clinical teams inform\u001B[0m \u001B[30;48;2;255;255;0manalyses data engineering machine\u001B[0m drives drug discovery development enable \n",
       "automation etl operations improve efficiency overall\n"
      ]
     },
     "metadata": {},
     "output_type": "display_data"
    },
    {
     "data": {
      "text/html": [
       "<pre style=\"white-space:pre;overflow-x:auto;line-height:normal;font-family:Menlo,'DejaVu Sans Mono',consolas,'Courier New',monospace\">program wide expert advance <span style=\"color: #000000; text-decoration-color: #000000; background-color: #ffff00\">ml techniques lead team</span> <span style=\"color: #000000; text-decoration-color: #000000; background-color: #ffff00\">production level models team</span> coach diverse group high \n",
       "performing data scientists collaborate dynamic mix cross functional teams within robert half work non <span style=\"color: #000000; text-decoration-color: #000000; background-color: #ffff00\">technical </span>\n",
       "<span style=\"color: #000000; text-decoration-color: #000000; background-color: #ffff00\">teams help guide</span> definition prioritization decision making <span style=\"color: #000000; text-decoration-color: #000000; background-color: #ffff00\">collaboration machine learning engineers</span> deployment \n",
       "support scalable models poc small scale large scale production environment iteratively improving solutions respond \n",
       "customer needs stay one hundred date latest ml algorithms techniques direct <span style=\"color: #000000; text-decoration-color: #000000; background-color: #ffff00\">team data scientists adopt</span> enhance data\n",
       "collection procedures include information relevant building analytic <span style=\"color: #000000; text-decoration-color: #000000; background-color: #ffff00\">systems design lead team</span> ad hoc analysis \n",
       "present results clear manner contribute definition implementation technical standards compliance kpis monitoring \n",
       "model refresh mechanisms testing perform code review debug team assist implementation necessary\n",
       "</pre>\n"
      ],
      "text/plain": [
       "program wide expert advance \u001B[30;48;2;255;255;0mml techniques lead team\u001B[0m \u001B[30;48;2;255;255;0mproduction level models team\u001B[0m coach diverse group high \n",
       "performing data scientists collaborate dynamic mix cross functional teams within robert half work non \u001B[30;48;2;255;255;0mtechnical \u001B[0m\n",
       "\u001B[30;48;2;255;255;0mteams help guide\u001B[0m definition prioritization decision making \u001B[30;48;2;255;255;0mcollaboration machine learning engineers\u001B[0m deployment \n",
       "support scalable models poc small scale large scale production environment iteratively improving solutions respond \n",
       "customer needs stay one hundred date latest ml algorithms techniques direct \u001B[30;48;2;255;255;0mteam data scientists adopt\u001B[0m enhance data\n",
       "collection procedures include information relevant building analytic \u001B[30;48;2;255;255;0msystems design lead team\u001B[0m ad hoc analysis \n",
       "present results clear manner contribute definition implementation technical standards compliance kpis monitoring \n",
       "model refresh mechanisms testing perform code review debug team assist implementation necessary\n"
      ]
     },
     "metadata": {},
     "output_type": "display_data"
    },
    {
     "data": {
      "text/html": [
       "<pre style=\"white-space:pre;overflow-x:auto;line-height:normal;font-family:Menlo,'DejaVu Sans Mono',consolas,'Courier New',monospace\"><span style=\"color: #000000; text-decoration-color: #000000; background-color: #ffff00\">cross platform gamified</span> app based <span style=\"color: #000000; text-decoration-color: #000000; background-color: #ffff00\">social engagement product recommendation</span> leveraging purchase data web events \n",
       "ingredients similarity based graph database <span style=\"color: #000000; text-decoration-color: #000000; background-color: #ffff00\">guest experience mapping senior</span> scientist integral part team focused \n",
       "personalization everything guest centric relish challenge blank page problem building guest focused two solutions \n",
       "report lead data scientist work closely senior data scientists across team work individual contributor role plenty \n",
       "opportunities flex communication skills internal presentations cross functional share outs mentor young dynamic \n",
       "<span style=\"color: #000000; text-decoration-color: #000000; background-color: #ffff00\">team data scientists design</span> implement ml solutions business problems provide guidance data science best practices \n",
       "engage business partners hash project needs advise emerging areas technology ai\n",
       "</pre>\n"
      ],
      "text/plain": [
       "\u001B[30;48;2;255;255;0mcross platform gamified\u001B[0m app based \u001B[30;48;2;255;255;0msocial engagement product recommendation\u001B[0m leveraging purchase data web events \n",
       "ingredients similarity based graph database \u001B[30;48;2;255;255;0mguest experience mapping senior\u001B[0m scientist integral part team focused \n",
       "personalization everything guest centric relish challenge blank page problem building guest focused two solutions \n",
       "report lead data scientist work closely senior data scientists across team work individual contributor role plenty \n",
       "opportunities flex communication skills internal presentations cross functional share outs mentor young dynamic \n",
       "\u001B[30;48;2;255;255;0mteam data scientists design\u001B[0m implement ml solutions business problems provide guidance data science best practices \n",
       "engage business partners hash project needs advise emerging areas technology ai\n"
      ]
     },
     "metadata": {},
     "output_type": "display_data"
    },
    {
     "data": {
      "text/html": [
       "<pre style=\"white-space:pre;overflow-x:auto;line-height:normal;font-family:Menlo,'DejaVu Sans Mono',consolas,'Courier New',monospace\">role <span style=\"color: #000000; text-decoration-color: #000000; background-color: #ffff00\">responsible building advanced analytics</span> drive transaction reduction continuous optimization solutions cox \n",
       "communications lines business associated scope include limited transaction anomaly detection real time analytic \n",
       "application development <span style=\"color: #000000; text-decoration-color: #000000; background-color: #ffff00\">operational solution integration customer</span> analysis ability work independently <span style=\"color: #000000; text-decoration-color: #000000; background-color: #ffff00\">aspects </span>\n",
       "<span style=\"color: #000000; text-decoration-color: #000000; background-color: #ffff00\">analytical initiatives</span> partner stakeholders understand problem hand help generate hypothesis problem formulation \n",
       "selection appropriate methodology solve problem prepare data documentation reports visualizations expertise \n",
       "following strongly preferred generalized linear models time series models forecasting techniques cluster analysis \n",
       "principal component analysis supervised unsupervised models including decision trees nearest neighbor models neural\n",
       "nets several standard ml libraries present <span style=\"color: #000000; text-decoration-color: #000000; background-color: #ffff00\">insights recommendations business partners</span> analytics <span style=\"color: #000000; text-decoration-color: #000000; background-color: #ffff00\">lifecycle </span>\n",
       "<span style=\"color: #000000; text-decoration-color: #000000; background-color: #ffff00\">development guidelines test</span> <span style=\"color: #000000; text-decoration-color: #000000; background-color: #ffff00\">technologies tools data develop</span> production ready code keep date new technologies \n",
       "standards <span style=\"color: #000000; text-decoration-color: #000000; background-color: #ffff00\">practices build domain knowledge</span> cox network topology <span style=\"color: #000000; text-decoration-color: #000000; background-color: #ffff00\">customer care operations cox</span> adoption strategy well\n",
       "telecom operations general\n",
       "</pre>\n"
      ],
      "text/plain": [
       "role \u001B[30;48;2;255;255;0mresponsible building advanced analytics\u001B[0m drive transaction reduction continuous optimization solutions cox \n",
       "communications lines business associated scope include limited transaction anomaly detection real time analytic \n",
       "application development \u001B[30;48;2;255;255;0moperational solution integration customer\u001B[0m analysis ability work independently \u001B[30;48;2;255;255;0maspects \u001B[0m\n",
       "\u001B[30;48;2;255;255;0manalytical initiatives\u001B[0m partner stakeholders understand problem hand help generate hypothesis problem formulation \n",
       "selection appropriate methodology solve problem prepare data documentation reports visualizations expertise \n",
       "following strongly preferred generalized linear models time series models forecasting techniques cluster analysis \n",
       "principal component analysis supervised unsupervised models including decision trees nearest neighbor models neural\n",
       "nets several standard ml libraries present \u001B[30;48;2;255;255;0minsights recommendations business partners\u001B[0m analytics \u001B[30;48;2;255;255;0mlifecycle \u001B[0m\n",
       "\u001B[30;48;2;255;255;0mdevelopment guidelines test\u001B[0m \u001B[30;48;2;255;255;0mtechnologies tools data develop\u001B[0m production ready code keep date new technologies \n",
       "standards \u001B[30;48;2;255;255;0mpractices build domain knowledge\u001B[0m cox network topology \u001B[30;48;2;255;255;0mcustomer care operations cox\u001B[0m adoption strategy well\n",
       "telecom operations general\n"
      ]
     },
     "metadata": {},
     "output_type": "display_data"
    },
    {
     "data": {
      "text/html": [
       "<pre style=\"white-space:pre;overflow-x:auto;line-height:normal;font-family:Menlo,'DejaVu Sans Mono',consolas,'Courier New',monospace\">build enhance media mix models <span style=\"color: #000000; text-decoration-color: #000000; background-color: #ffff00\">connect impact marketing</span> tactics business short term long term outcomes run \n",
       "optimization simulation <span style=\"color: #000000; text-decoration-color: #000000; background-color: #ffff00\">scenarios help provide</span> marketing investment allocation recommendations stakeholders perform\n",
       "hands modeling complex analyses using sql python explain complex <span style=\"color: #000000; text-decoration-color: #000000; background-color: #ffff00\">modeling approaches simple</span> terms develop \n",
       "<span style=\"color: #000000; text-decoration-color: #000000; background-color: #ffff00\">compelling narratives connect modeling</span> business problems\n",
       "</pre>\n"
      ],
      "text/plain": [
       "build enhance media mix models \u001B[30;48;2;255;255;0mconnect impact marketing\u001B[0m tactics business short term long term outcomes run \n",
       "optimization simulation \u001B[30;48;2;255;255;0mscenarios help provide\u001B[0m marketing investment allocation recommendations stakeholders perform\n",
       "hands modeling complex analyses using sql python explain complex \u001B[30;48;2;255;255;0mmodeling approaches simple\u001B[0m terms develop \n",
       "\u001B[30;48;2;255;255;0mcompelling narratives connect modeling\u001B[0m business problems\n"
      ]
     },
     "metadata": {},
     "output_type": "display_data"
    },
    {
     "data": {
      "text/html": [
       "<pre style=\"white-space:pre;overflow-x:auto;line-height:normal;font-family:Menlo,'DejaVu Sans Mono',consolas,'Courier New',monospace\">discover <span style=\"color: #000000; text-decoration-color: #000000; background-color: #ffff00\">envision land data science</span> <span style=\"color: #000000; text-decoration-color: #000000; background-color: #ffff00\">machine learning opportunities alongside</span> teams clients drive strategic \n",
       "initiatives within <span style=\"color: #000000; text-decoration-color: #000000; background-color: #ffff00\">data science community participate</span> competency development deliver complex production solutions \n",
       "epams top clients work new epam offerings within ai <span style=\"color: #000000; text-decoration-color: #000000; background-color: #ffff00\">data science ml</span> mle space well refining existing offerings \n",
       "track record delivering complex ai empowered programs clients\n",
       "</pre>\n"
      ],
      "text/plain": [
       "discover \u001B[30;48;2;255;255;0menvision land data science\u001B[0m \u001B[30;48;2;255;255;0mmachine learning opportunities alongside\u001B[0m teams clients drive strategic \n",
       "initiatives within \u001B[30;48;2;255;255;0mdata science community participate\u001B[0m competency development deliver complex production solutions \n",
       "epams top clients work new epam offerings within ai \u001B[30;48;2;255;255;0mdata science ml\u001B[0m mle space well refining existing offerings \n",
       "track record delivering complex ai empowered programs clients\n"
      ]
     },
     "metadata": {},
     "output_type": "display_data"
    },
    {
     "data": {
      "text/html": [
       "<pre style=\"white-space:pre;overflow-x:auto;line-height:normal;font-family:Menlo,'DejaVu Sans Mono',consolas,'Courier New',monospace\"><span style=\"color: #000000; text-decoration-color: #000000; background-color: #ffff00\">applications variety disciplines</span> computational structural mechanics fluid dynamics cfd electromagnetics \n",
       "<span style=\"color: #000000; text-decoration-color: #000000; background-color: #ffff00\">manufacturing material science projects</span> work closely customers <span style=\"color: #000000; text-decoration-color: #000000; background-color: #ffff00\">solver teams data scientists</span> generate data train \n",
       "test deploy models also require give internal external presentations techniques develop improve product design \n",
       "process design implement test deep learning models across range engineering design problems maintain awareness \n",
       "latest deep learning methods able pair correct methods problem description collaborate altair product teams deliver\n",
       "impactful data science tools please <span style=\"color: #000000; text-decoration-color: #000000; background-color: #ffff00\">note software development</span> position application position focuses working proof \n",
       "concepts <span style=\"color: #000000; text-decoration-color: #000000; background-color: #ffff00\">using emerging technologies</span> engineering <span style=\"color: #000000; text-decoration-color: #000000; background-color: #ffff00\">data science communicate</span> honestly broadly\n",
       "</pre>\n"
      ],
      "text/plain": [
       "\u001B[30;48;2;255;255;0mapplications variety disciplines\u001B[0m computational structural mechanics fluid dynamics cfd electromagnetics \n",
       "\u001B[30;48;2;255;255;0mmanufacturing material science projects\u001B[0m work closely customers \u001B[30;48;2;255;255;0msolver teams data scientists\u001B[0m generate data train \n",
       "test deploy models also require give internal external presentations techniques develop improve product design \n",
       "process design implement test deep learning models across range engineering design problems maintain awareness \n",
       "latest deep learning methods able pair correct methods problem description collaborate altair product teams deliver\n",
       "impactful data science tools please \u001B[30;48;2;255;255;0mnote software development\u001B[0m position application position focuses working proof \n",
       "concepts \u001B[30;48;2;255;255;0musing emerging technologies\u001B[0m engineering \u001B[30;48;2;255;255;0mdata science communicate\u001B[0m honestly broadly\n"
      ]
     },
     "metadata": {},
     "output_type": "display_data"
    },
    {
     "data": {
      "text/html": [
       "<pre style=\"white-space:pre;overflow-x:auto;line-height:normal;font-family:Menlo,'DejaVu Sans Mono',consolas,'Courier New',monospace\">key <span style=\"color: #000000; text-decoration-color: #000000; background-color: #ffff00\">member data science</span> team mission put science decision making priorities change fast paced environment like role\n",
       "includes limited following responsibilities partner cross functional teams prioritize domain use cases customer \n",
       "engagement monetization develop novel research deduce draw conclusions behavioral data directly influence \n",
       "development design analyze graduate experiments within domain assignments <span style=\"color: #000000; text-decoration-color: #000000; background-color: #ffff00\">provide technical leadership data</span> wide \n",
       "range backgrounds code reviews democratize socialize learning centralizing learning internal repository external \n",
       "blog understand <span style=\"color: #000000; text-decoration-color: #000000; background-color: #ffff00\">stakeholder needs educate partners</span> research questions <span style=\"color: #000000; text-decoration-color: #000000; background-color: #ffff00\">methodologies evangelize data science</span> within \n",
       "company increase research utilization recruit new talent top performers able demonstrate\n",
       "</pre>\n"
      ],
      "text/plain": [
       "key \u001B[30;48;2;255;255;0mmember data science\u001B[0m team mission put science decision making priorities change fast paced environment like role\n",
       "includes limited following responsibilities partner cross functional teams prioritize domain use cases customer \n",
       "engagement monetization develop novel research deduce draw conclusions behavioral data directly influence \n",
       "development design analyze graduate experiments within domain assignments \u001B[30;48;2;255;255;0mprovide technical leadership data\u001B[0m wide \n",
       "range backgrounds code reviews democratize socialize learning centralizing learning internal repository external \n",
       "blog understand \u001B[30;48;2;255;255;0mstakeholder needs educate partners\u001B[0m research questions \u001B[30;48;2;255;255;0mmethodologies evangelize data science\u001B[0m within \n",
       "company increase research utilization recruit new talent top performers able demonstrate\n"
      ]
     },
     "metadata": {},
     "output_type": "display_data"
    },
    {
     "data": {
      "text/html": [
       "<pre style=\"white-space:pre;overflow-x:auto;line-height:normal;font-family:Menlo,'DejaVu Sans Mono',consolas,'Courier New',monospace\">role instrumental managing development core set analytic <span style=\"color: #000000; text-decoration-color: #000000; background-color: #ffff00\">data models tools develop</span> quality automated analytics \n",
       "products conduct sophisticated data analysis address critical business member questions develop analytical \n",
       "databases test hypotheses validate internal models research new product development initiatives manage collection \n",
       "cleansing analysis healthcare <span style=\"color: #000000; text-decoration-color: #000000; background-color: #ffff00\">utilization data internal research</span> clients third party vendors identify understand \n",
       "customer usage models test use cases support quality assurance performing client data checks validate key learnings\n",
       "<span style=\"color: #000000; text-decoration-color: #000000; background-color: #ffff00\">develop data science solutions</span> across multiple projects single multiple domains communicate findings exploratory \n",
       "predictive data analysis administrative clinical leaders multiple projects leverage skills statistical design \n",
       "efficiency sophisticated problem solving multiple <span style=\"color: #000000; text-decoration-color: #000000; background-color: #ffff00\">projects provide guidance data</span> design <span style=\"color: #000000; text-decoration-color: #000000; background-color: #ffff00\">data science insights </span>\n",
       "<span style=\"color: #000000; text-decoration-color: #000000; background-color: #ffff00\">demonstrate</span> core <span style=\"color: #000000; text-decoration-color: #000000; background-color: #ffff00\">data assessment steps including</span> discovery structuring cleaning enrichment validation publish \n",
       "insights across multiple data sets independently leverage machine learning ml natural language processing nlp \n",
       "statistical approaches create trouble shoot implement single platform solutions perform data modeling data \n",
       "wrangling find value identify patterns devise use cases integrated claims <span style=\"color: #000000; text-decoration-color: #000000; background-color: #ffff00\">datasets develop maintain</span> internal data \n",
       "asset library data models data catalog data sets coordinate others dependencies create sql queries retrieve data \n",
       "allow identification triage discrepancies work multiple data sources cross functional teams better understand \n",
       "completeness integrated datasets legacy data systems new data platforms create benchmarking database support new \n",
       "products\n",
       "</pre>\n"
      ],
      "text/plain": [
       "role instrumental managing development core set analytic \u001B[30;48;2;255;255;0mdata models tools develop\u001B[0m quality automated analytics \n",
       "products conduct sophisticated data analysis address critical business member questions develop analytical \n",
       "databases test hypotheses validate internal models research new product development initiatives manage collection \n",
       "cleansing analysis healthcare \u001B[30;48;2;255;255;0mutilization data internal research\u001B[0m clients third party vendors identify understand \n",
       "customer usage models test use cases support quality assurance performing client data checks validate key learnings\n",
       "\u001B[30;48;2;255;255;0mdevelop data science solutions\u001B[0m across multiple projects single multiple domains communicate findings exploratory \n",
       "predictive data analysis administrative clinical leaders multiple projects leverage skills statistical design \n",
       "efficiency sophisticated problem solving multiple \u001B[30;48;2;255;255;0mprojects provide guidance data\u001B[0m design \u001B[30;48;2;255;255;0mdata science insights \u001B[0m\n",
       "\u001B[30;48;2;255;255;0mdemonstrate\u001B[0m core \u001B[30;48;2;255;255;0mdata assessment steps including\u001B[0m discovery structuring cleaning enrichment validation publish \n",
       "insights across multiple data sets independently leverage machine learning ml natural language processing nlp \n",
       "statistical approaches create trouble shoot implement single platform solutions perform data modeling data \n",
       "wrangling find value identify patterns devise use cases integrated claims \u001B[30;48;2;255;255;0mdatasets develop maintain\u001B[0m internal data \n",
       "asset library data models data catalog data sets coordinate others dependencies create sql queries retrieve data \n",
       "allow identification triage discrepancies work multiple data sources cross functional teams better understand \n",
       "completeness integrated datasets legacy data systems new data platforms create benchmarking database support new \n",
       "products\n"
      ]
     },
     "metadata": {},
     "output_type": "display_data"
    },
    {
     "data": {
      "text/html": [
       "<pre style=\"white-space:pre;overflow-x:auto;line-height:normal;font-family:Menlo,'DejaVu Sans Mono',consolas,'Courier New',monospace\">data scientist solid understanding advanced <span style=\"color: #000000; text-decoration-color: #000000; background-color: #ffff00\">analytics responsible refining existing</span> <span style=\"color: #000000; text-decoration-color: #000000; background-color: #ffff00\">machine learning models </span>\n",
       "<span style=\"color: #000000; text-decoration-color: #000000; background-color: #ffff00\">developing</span> ones support business <span style=\"color: #000000; text-decoration-color: #000000; background-color: #ffff00\">data scientist partner direct</span> members well cross functional partners decision \n",
       "makers person primary tasks develop refine deploy productionize <span style=\"color: #000000; text-decoration-color: #000000; background-color: #ffff00\">impactful data science projects</span> users identify best\n",
       "applicable analytical techniques given business problem <span style=\"color: #000000; text-decoration-color: #000000; background-color: #ffff00\">develop deploy statistical machine</span> models address business \n",
       "problems using python others maintain refine existing models related processes utilize statistical time series \n",
       "models make predictions future outcomes multiple scenarios implement models create processes monitor performance \n",
       "including input data integrity employ data visualization tools codes appropriate via power bi others <span style=\"color: #000000; text-decoration-color: #000000; background-color: #ffff00\">partner bi </span>\n",
       "<span style=\"color: #000000; text-decoration-color: #000000; background-color: #ffff00\">data teams</span> data used modeling accurately reflects business reality effectively communicate model approaches outputs\n",
       "findings technical non technical audiences document projects including <span style=\"color: #000000; text-decoration-color: #000000; background-color: #ffff00\">business objectives data</span> gathering \n",
       "processing approaches algorithms detailed set results analytical metrics ensure modeling processes always conform \n",
       "security standards projects duties assigned\n",
       "</pre>\n"
      ],
      "text/plain": [
       "data scientist solid understanding advanced \u001B[30;48;2;255;255;0manalytics responsible refining existing\u001B[0m \u001B[30;48;2;255;255;0mmachine learning models \u001B[0m\n",
       "\u001B[30;48;2;255;255;0mdeveloping\u001B[0m ones support business \u001B[30;48;2;255;255;0mdata scientist partner direct\u001B[0m members well cross functional partners decision \n",
       "makers person primary tasks develop refine deploy productionize \u001B[30;48;2;255;255;0mimpactful data science projects\u001B[0m users identify best\n",
       "applicable analytical techniques given business problem \u001B[30;48;2;255;255;0mdevelop deploy statistical machine\u001B[0m models address business \n",
       "problems using python others maintain refine existing models related processes utilize statistical time series \n",
       "models make predictions future outcomes multiple scenarios implement models create processes monitor performance \n",
       "including input data integrity employ data visualization tools codes appropriate via power bi others \u001B[30;48;2;255;255;0mpartner bi \u001B[0m\n",
       "\u001B[30;48;2;255;255;0mdata teams\u001B[0m data used modeling accurately reflects business reality effectively communicate model approaches outputs\n",
       "findings technical non technical audiences document projects including \u001B[30;48;2;255;255;0mbusiness objectives data\u001B[0m gathering \n",
       "processing approaches algorithms detailed set results analytical metrics ensure modeling processes always conform \n",
       "security standards projects duties assigned\n"
      ]
     },
     "metadata": {},
     "output_type": "display_data"
    },
    {
     "data": {
      "text/html": [
       "<pre style=\"white-space:pre;overflow-x:auto;line-height:normal;font-family:Menlo,'DejaVu Sans Mono',consolas,'Courier New',monospace\">work <span style=\"color: #000000; text-decoration-color: #000000; background-color: #ffff00\">closely business stakeholders</span> understand goals determine data science used achieve goals build lead teams data\n",
       "scientists use relevant statistical techniques machine learning models artificial intelligence algorithms analyze \n",
       "data design data models derive insights influence actions maximize business value effectiveness commercial \n",
       "technology segments lead data science projects <span style=\"color: #000000; text-decoration-color: #000000; background-color: #ffff00\">partner cross functional teams</span> end end advanced analytics machine \n",
       "learning solution focus driving outcomes business defining success setting <span style=\"color: #000000; text-decoration-color: #000000; background-color: #ffff00\">right goals metrics processes</span> quantify \n",
       "measure track impact demonstrate exceptional interpersonal skills strong leadership relationship management <span style=\"color: #000000; text-decoration-color: #000000; background-color: #ffff00\">build </span>\n",
       "<span style=\"color: #000000; text-decoration-color: #000000; background-color: #ffff00\">cohesive team focuses</span> new capabilities operations work across diverse teams perspectives opinions quickly build \n",
       "consensus encourage informed risk taking act catalyst innovation fuse generate practical sustainable creative \n",
       "options solve problems create business opportunities maximizing existing resources ensure operational viability \n",
       "communicate results statistical concepts key business leaders diagnose <span style=\"color: #000000; text-decoration-color: #000000; background-color: #ffff00\">business need analyze</span> business process data \n",
       "flows technical artifacts extract understanding system business process works input projects solutions collaborate \n",
       "internal external customers understand anticipate needs determine priorities context <span style=\"color: #000000; text-decoration-color: #000000; background-color: #ffff00\">overall enterprise manages</span> \n",
       "financial aspects team including onsite offshore hourly rates cloud costs travel training costs timecards sows \n",
       "monthly msa staff augmentation approvals applies lean agile principles leadership <span style=\"color: #000000; text-decoration-color: #000000; background-color: #ffff00\">guides team continuous </span>\n",
       "<span style=\"color: #000000; text-decoration-color: #000000; background-color: #ffff00\">improvement</span> managing practice delivers industrialized ai <span style=\"color: #000000; text-decoration-color: #000000; background-color: #ffff00\">ml solutions build manage</span> reusable assets implement \n",
       "standards ethics framework metrics model governance responsible recruiting coaching mentoring developing talent \n",
       "within team possess functional technical understanding machine learning tools technologies google cloud platform \n",
       "custom cots embedded provide prescriptive guidance leveraged across fuse landscape assist increasing digital domain\n",
       "literacy across fuse business aide adoption ml solutions within business conducting training coordinating demos \n",
       "weigh risk roi schedule budget considerations provide solution recommendations manages department operations \n",
       "supervises professional employees front line supervisors business support staff participates development policies \n",
       "procedures achieve specific goals ensures employees operate within guidelines decisions short term impact work \n",
       "processes outcomes customers interacts subordinates peers customers suppliers various management levels may \n",
       "interact senior management interactions normally involve resolution issues related operations projects gains \n",
       "consensus various parties involved\n",
       "</pre>\n"
      ],
      "text/plain": [
       "work \u001B[30;48;2;255;255;0mclosely business stakeholders\u001B[0m understand goals determine data science used achieve goals build lead teams data\n",
       "scientists use relevant statistical techniques machine learning models artificial intelligence algorithms analyze \n",
       "data design data models derive insights influence actions maximize business value effectiveness commercial \n",
       "technology segments lead data science projects \u001B[30;48;2;255;255;0mpartner cross functional teams\u001B[0m end end advanced analytics machine \n",
       "learning solution focus driving outcomes business defining success setting \u001B[30;48;2;255;255;0mright goals metrics processes\u001B[0m quantify \n",
       "measure track impact demonstrate exceptional interpersonal skills strong leadership relationship management \u001B[30;48;2;255;255;0mbuild \u001B[0m\n",
       "\u001B[30;48;2;255;255;0mcohesive team focuses\u001B[0m new capabilities operations work across diverse teams perspectives opinions quickly build \n",
       "consensus encourage informed risk taking act catalyst innovation fuse generate practical sustainable creative \n",
       "options solve problems create business opportunities maximizing existing resources ensure operational viability \n",
       "communicate results statistical concepts key business leaders diagnose \u001B[30;48;2;255;255;0mbusiness need analyze\u001B[0m business process data \n",
       "flows technical artifacts extract understanding system business process works input projects solutions collaborate \n",
       "internal external customers understand anticipate needs determine priorities context \u001B[30;48;2;255;255;0moverall enterprise manages\u001B[0m \n",
       "financial aspects team including onsite offshore hourly rates cloud costs travel training costs timecards sows \n",
       "monthly msa staff augmentation approvals applies lean agile principles leadership \u001B[30;48;2;255;255;0mguides team continuous \u001B[0m\n",
       "\u001B[30;48;2;255;255;0mimprovement\u001B[0m managing practice delivers industrialized ai \u001B[30;48;2;255;255;0mml solutions build manage\u001B[0m reusable assets implement \n",
       "standards ethics framework metrics model governance responsible recruiting coaching mentoring developing talent \n",
       "within team possess functional technical understanding machine learning tools technologies google cloud platform \n",
       "custom cots embedded provide prescriptive guidance leveraged across fuse landscape assist increasing digital domain\n",
       "literacy across fuse business aide adoption ml solutions within business conducting training coordinating demos \n",
       "weigh risk roi schedule budget considerations provide solution recommendations manages department operations \n",
       "supervises professional employees front line supervisors business support staff participates development policies \n",
       "procedures achieve specific goals ensures employees operate within guidelines decisions short term impact work \n",
       "processes outcomes customers interacts subordinates peers customers suppliers various management levels may \n",
       "interact senior management interactions normally involve resolution issues related operations projects gains \n",
       "consensus various parties involved\n"
      ]
     },
     "metadata": {},
     "output_type": "display_data"
    },
    {
     "data": {
      "text/html": [
       "<pre style=\"white-space:pre;overflow-x:auto;line-height:normal;font-family:Menlo,'DejaVu Sans Mono',consolas,'Courier New',monospace\">role <span style=\"color: #000000; text-decoration-color: #000000; background-color: #ffff00\">responsible managing data science</span> identifying opportunities advanced analytics modelling inform strategic \n",
       "talent decisions <span style=\"color: #000000; text-decoration-color: #000000; background-color: #ffff00\">improve organization effectiveness drive</span> <span style=\"color: #000000; text-decoration-color: #000000; background-color: #ffff00\">employee experience lead development</span> existing future \n",
       "people analytics data science models deliverables including enhancement development use cases ux training workforce\n",
       "planning attrition hiring modelling etc advance ai ml capabilities leveraging existing use cases using advanced \n",
       "modeling techniques drive process improvements improve organizational effectiveness enhance candidate employee \n",
       "experience improve understanding data science principles broader hr community use cases return investment propose \n",
       "implement high impact data science solutions help address specific business challenges manage daily working \n",
       "<span style=\"color: #000000; text-decoration-color: #000000; background-color: #ffff00\">relationship people analytics consultants</span> business needs proactively propose technical solutions business problems \n",
       "using knowledge best class models present key <span style=\"color: #000000; text-decoration-color: #000000; background-color: #ffff00\">findings insights recommendations senior</span> build partnership work \n",
       "closely <span style=\"color: #000000; text-decoration-color: #000000; background-color: #ffff00\">enterprise data analytics insights</span> teams <span style=\"color: #000000; text-decoration-color: #000000; background-color: #ffff00\">enhance data science capabilities</span> innovation across enterprise \n",
       "leverage latest trends advanced analytics technology drive innovation provide recommendations\n",
       "</pre>\n"
      ],
      "text/plain": [
       "role \u001B[30;48;2;255;255;0mresponsible managing data science\u001B[0m identifying opportunities advanced analytics modelling inform strategic \n",
       "talent decisions \u001B[30;48;2;255;255;0mimprove organization effectiveness drive\u001B[0m \u001B[30;48;2;255;255;0memployee experience lead development\u001B[0m existing future \n",
       "people analytics data science models deliverables including enhancement development use cases ux training workforce\n",
       "planning attrition hiring modelling etc advance ai ml capabilities leveraging existing use cases using advanced \n",
       "modeling techniques drive process improvements improve organizational effectiveness enhance candidate employee \n",
       "experience improve understanding data science principles broader hr community use cases return investment propose \n",
       "implement high impact data science solutions help address specific business challenges manage daily working \n",
       "\u001B[30;48;2;255;255;0mrelationship people analytics consultants\u001B[0m business needs proactively propose technical solutions business problems \n",
       "using knowledge best class models present key \u001B[30;48;2;255;255;0mfindings insights recommendations senior\u001B[0m build partnership work \n",
       "closely \u001B[30;48;2;255;255;0menterprise data analytics insights\u001B[0m teams \u001B[30;48;2;255;255;0menhance data science capabilities\u001B[0m innovation across enterprise \n",
       "leverage latest trends advanced analytics technology drive innovation provide recommendations\n"
      ]
     },
     "metadata": {},
     "output_type": "display_data"
    },
    {
     "data": {
      "text/html": [
       "<pre style=\"white-space:pre;overflow-x:auto;line-height:normal;font-family:Menlo,'DejaVu Sans Mono',consolas,'Courier New',monospace\">perform <span style=\"color: #000000; text-decoration-color: #000000; background-color: #ffff00\">hands modeling complex analyses</span> python <span style=\"color: #000000; text-decoration-color: #000000; background-color: #ffff00\">sql build enhance marketing</span> models <span style=\"color: #000000; text-decoration-color: #000000; background-color: #ffff00\">connect impact marketing</span> tactics \n",
       "<span style=\"color: #000000; text-decoration-color: #000000; background-color: #ffff00\">business short term long</span> outcomes\n",
       "</pre>\n"
      ],
      "text/plain": [
       "perform \u001B[30;48;2;255;255;0mhands modeling complex analyses\u001B[0m python \u001B[30;48;2;255;255;0msql build enhance marketing\u001B[0m models \u001B[30;48;2;255;255;0mconnect impact marketing\u001B[0m tactics \n",
       "\u001B[30;48;2;255;255;0mbusiness short term long\u001B[0m outcomes\n"
      ]
     },
     "metadata": {},
     "output_type": "display_data"
    },
    {
     "data": {
      "text/html": [
       "<pre style=\"white-space:pre;overflow-x:auto;line-height:normal;font-family:Menlo,'DejaVu Sans Mono',consolas,'Courier New',monospace\"><span style=\"color: #000000; text-decoration-color: #000000; background-color: #ffff00\">role required collect analyze</span> sets <span style=\"color: #000000; text-decoration-color: #000000; background-color: #ffff00\">data build models</span> design experiments make recommendations <span style=\"color: #000000; text-decoration-color: #000000; background-color: #ffff00\">manage customer risk </span>\n",
       "<span style=\"color: #000000; text-decoration-color: #000000; background-color: #ffff00\">maximize</span> improve margins create significant value business organize manipulate data reporting production databases \n",
       "use advanced analytics tasks source internal external data sources necessary optimize performance predictive <span style=\"color: #000000; text-decoration-color: #000000; background-color: #ffff00\">models</span>\n",
       "<span style=\"color: #000000; text-decoration-color: #000000; background-color: #ffff00\">scores develop customer</span> models utilizing fundamental statistical techniques well emerging software technology \n",
       "machine learning appropriate design tests experiments constantly refine risk models decision engine logic pricing \n",
       "parameters utilize <span style=\"color: #000000; text-decoration-color: #000000; background-color: #ffff00\">advanced statistical software develop</span> models underwriting <span style=\"color: #000000; text-decoration-color: #000000; background-color: #ffff00\">strategies pricing parameters monitor</span> \n",
       "evaluate changes risk models decision engine logic pricing parameters develop actionable <span style=\"color: #000000; text-decoration-color: #000000; background-color: #ffff00\">business recommendations </span>\n",
       "<span style=\"color: #000000; text-decoration-color: #000000; background-color: #ffff00\">related risk</span> price optimization margin maximization\n",
       "</pre>\n"
      ],
      "text/plain": [
       "\u001B[30;48;2;255;255;0mrole required collect analyze\u001B[0m sets \u001B[30;48;2;255;255;0mdata build models\u001B[0m design experiments make recommendations \u001B[30;48;2;255;255;0mmanage customer risk \u001B[0m\n",
       "\u001B[30;48;2;255;255;0mmaximize\u001B[0m improve margins create significant value business organize manipulate data reporting production databases \n",
       "use advanced analytics tasks source internal external data sources necessary optimize performance predictive \u001B[30;48;2;255;255;0mmodels\u001B[0m\n",
       "\u001B[30;48;2;255;255;0mscores develop customer\u001B[0m models utilizing fundamental statistical techniques well emerging software technology \n",
       "machine learning appropriate design tests experiments constantly refine risk models decision engine logic pricing \n",
       "parameters utilize \u001B[30;48;2;255;255;0madvanced statistical software develop\u001B[0m models underwriting \u001B[30;48;2;255;255;0mstrategies pricing parameters monitor\u001B[0m \n",
       "evaluate changes risk models decision engine logic pricing parameters develop actionable \u001B[30;48;2;255;255;0mbusiness recommendations \u001B[0m\n",
       "\u001B[30;48;2;255;255;0mrelated risk\u001B[0m price optimization margin maximization\n"
      ]
     },
     "metadata": {},
     "output_type": "display_data"
    },
    {
     "data": {
      "text/html": [
       "<pre style=\"white-space:pre;overflow-x:auto;line-height:normal;font-family:Menlo,'DejaVu Sans Mono',consolas,'Courier New',monospace\"><span style=\"color: #000000; text-decoration-color: #000000; background-color: #ffff00\">execute data science</span> projects identified <span style=\"color: #000000; text-decoration-color: #000000; background-color: #ffff00\">sr data scientists</span> leadership <span style=\"color: #000000; text-decoration-color: #000000; background-color: #ffff00\">stakeholders help build prototype</span> machine \n",
       "learning models sandbox production environments produce reports <span style=\"color: #000000; text-decoration-color: #000000; background-color: #ffff00\">communicate metrics outcomes stakeholder</span> assist \n",
       "developing maintaining end end etl <span style=\"color: #000000; text-decoration-color: #000000; background-color: #ffff00\">data pipelines work explore</span> internal data sources utility within projects \n",
       "communicate modeling <span style=\"color: #000000; text-decoration-color: #000000; background-color: #ffff00\">challenges findings outcomes stakeholders</span>\n",
       "</pre>\n"
      ],
      "text/plain": [
       "\u001B[30;48;2;255;255;0mexecute data science\u001B[0m projects identified \u001B[30;48;2;255;255;0msr data scientists\u001B[0m leadership \u001B[30;48;2;255;255;0mstakeholders help build prototype\u001B[0m machine \n",
       "learning models sandbox production environments produce reports \u001B[30;48;2;255;255;0mcommunicate metrics outcomes stakeholder\u001B[0m assist \n",
       "developing maintaining end end etl \u001B[30;48;2;255;255;0mdata pipelines work explore\u001B[0m internal data sources utility within projects \n",
       "communicate modeling \u001B[30;48;2;255;255;0mchallenges findings outcomes stakeholders\u001B[0m\n"
      ]
     },
     "metadata": {},
     "output_type": "display_data"
    },
    {
     "data": {
      "text/html": [
       "<pre style=\"white-space:pre;overflow-x:auto;line-height:normal;font-family:Menlo,'DejaVu Sans Mono',consolas,'Courier New',monospace\"><span style=\"color: #000000; text-decoration-color: #000000; background-color: #ffff00\">general guidance creates</span> innovative <span style=\"color: #000000; text-decoration-color: #000000; background-color: #ffff00\">data science solutions analyzes</span> partners needs gathers structured unstructured \n",
       "data create modeling dataset including cleaning pre processing data designs builds appropriate solutions neural \n",
       "network predictive model mapping solution data analysis <span style=\"color: #000000; text-decoration-color: #000000; background-color: #ffff00\">visualizations discovers business</span> insights using \n",
       "statistical analysis algorithmic processing data science machine learning data mining reporting visualization \n",
       "techniques determined individual analysis problem translates analytical results business meaning presents ideas \n",
       "business areas address <span style=\"color: #000000; text-decoration-color: #000000; background-color: #ffff00\">resolve problems guides business</span> business problem identification discovery potential \n",
       "solutions gathers detailed information regarding specific business issues needs business processes impacted \n",
       "business unit intends use tools solutions developed translates detailed project requirements develops documentation\n",
       "throughout entire analytic life cycle project\n",
       "</pre>\n"
      ],
      "text/plain": [
       "\u001B[30;48;2;255;255;0mgeneral guidance creates\u001B[0m innovative \u001B[30;48;2;255;255;0mdata science solutions analyzes\u001B[0m partners needs gathers structured unstructured \n",
       "data create modeling dataset including cleaning pre processing data designs builds appropriate solutions neural \n",
       "network predictive model mapping solution data analysis \u001B[30;48;2;255;255;0mvisualizations discovers business\u001B[0m insights using \n",
       "statistical analysis algorithmic processing data science machine learning data mining reporting visualization \n",
       "techniques determined individual analysis problem translates analytical results business meaning presents ideas \n",
       "business areas address \u001B[30;48;2;255;255;0mresolve problems guides business\u001B[0m business problem identification discovery potential \n",
       "solutions gathers detailed information regarding specific business issues needs business processes impacted \n",
       "business unit intends use tools solutions developed translates detailed project requirements develops documentation\n",
       "throughout entire analytic life cycle project\n"
      ]
     },
     "metadata": {},
     "output_type": "display_data"
    },
    {
     "data": {
      "text/html": [
       "<pre style=\"white-space:pre;overflow-x:auto;line-height:normal;font-family:Menlo,'DejaVu Sans Mono',consolas,'Courier New',monospace\"><span style=\"color: #000000; text-decoration-color: #000000; background-color: #ffff00\">director data science circle</span> closely business product engineering produce analysis machine learning solutions \n",
       "scalable <span style=\"color: #000000; text-decoration-color: #000000; background-color: #ffff00\">data practices opportunity significantly</span> internal data consumption decision making drive <span style=\"color: #000000; text-decoration-color: #000000; background-color: #ffff00\">data science </span>\n",
       "<span style=\"color: #000000; text-decoration-color: #000000; background-color: #ffff00\">efforts communicate</span> functionally subject matter expert create road maps help prioritize data science work <span style=\"color: #000000; text-decoration-color: #000000; background-color: #ffff00\">support </span>\n",
       "<span style=\"color: #000000; text-decoration-color: #000000; background-color: #ffff00\">individual career growth</span> members minimize attrition maximize output partner <span style=\"color: #000000; text-decoration-color: #000000; background-color: #ffff00\">product operations teams</span> identify \n",
       "resolve analytical problems scale variety domains including crypto ecosystem understanding fraud detection risk \n",
       "management help team ideate execute right analysis models stories become expert data sources flows circle \n",
       "evangelize power <span style=\"color: #000000; text-decoration-color: #000000; background-color: #ffff00\">data science understand improve</span> operations multistakeholder dedication commitment customers \n",
       "shareholders employees families local communities track record developing <span style=\"color: #000000; text-decoration-color: #000000; background-color: #ffff00\">managing retaining data scientists</span> \n",
       "contributors managers experience managing remote teams\n",
       "</pre>\n"
      ],
      "text/plain": [
       "\u001B[30;48;2;255;255;0mdirector data science circle\u001B[0m closely business product engineering produce analysis machine learning solutions \n",
       "scalable \u001B[30;48;2;255;255;0mdata practices opportunity significantly\u001B[0m internal data consumption decision making drive \u001B[30;48;2;255;255;0mdata science \u001B[0m\n",
       "\u001B[30;48;2;255;255;0mefforts communicate\u001B[0m functionally subject matter expert create road maps help prioritize data science work \u001B[30;48;2;255;255;0msupport \u001B[0m\n",
       "\u001B[30;48;2;255;255;0mindividual career growth\u001B[0m members minimize attrition maximize output partner \u001B[30;48;2;255;255;0mproduct operations teams\u001B[0m identify \n",
       "resolve analytical problems scale variety domains including crypto ecosystem understanding fraud detection risk \n",
       "management help team ideate execute right analysis models stories become expert data sources flows circle \n",
       "evangelize power \u001B[30;48;2;255;255;0mdata science understand improve\u001B[0m operations multistakeholder dedication commitment customers \n",
       "shareholders employees families local communities track record developing \u001B[30;48;2;255;255;0mmanaging retaining data scientists\u001B[0m \n",
       "contributors managers experience managing remote teams\n"
      ]
     },
     "metadata": {},
     "output_type": "display_data"
    },
    {
     "data": {
      "text/html": [
       "<pre style=\"white-space:pre;overflow-x:auto;line-height:normal;font-family:Menlo,'DejaVu Sans Mono',consolas,'Courier New',monospace\">time sbl build robust set modules around platforms serve differentiate <span style=\"color: #000000; text-decoration-color: #000000; background-color: #ffff00\">sbl offerings marketplace customers</span> data \n",
       "scientist role senior member data science team broad responsibilities span scope data science team manipulate \n",
       "structured unstructured datasets disparate sources perform data processing integration cleansing descriptive \n",
       "analysis visualization reporting develop document monitor improved machine learning models credit assessment fraud \n",
       "detection relevant customer lifecycle models performs advanced analytics statistical predictive analytics machine \n",
       "learning modeling etc provide actionable <span style=\"color: #000000; text-decoration-color: #000000; background-color: #ffff00\">insights improve business outcomes</span> risk apply data analysis modeling \n",
       "techniques support business decisions hands role deploying models tracking performance metrics implements projects \n",
       "inception completion managing timelines resources independently deliver expected outcomes engage stakeholders \n",
       "understanding <span style=\"color: #000000; text-decoration-color: #000000; background-color: #ffff00\">business requirements compliance engineering</span> marketing etc provides consultation business <span style=\"color: #000000; text-decoration-color: #000000; background-color: #ffff00\">leaders </span>\n",
       "<span style=\"color: #000000; text-decoration-color: #000000; background-color: #ffff00\">stakeholders leverage analytics</span> build strategies around analytics duties assigned\n",
       "</pre>\n"
      ],
      "text/plain": [
       "time sbl build robust set modules around platforms serve differentiate \u001B[30;48;2;255;255;0msbl offerings marketplace customers\u001B[0m data \n",
       "scientist role senior member data science team broad responsibilities span scope data science team manipulate \n",
       "structured unstructured datasets disparate sources perform data processing integration cleansing descriptive \n",
       "analysis visualization reporting develop document monitor improved machine learning models credit assessment fraud \n",
       "detection relevant customer lifecycle models performs advanced analytics statistical predictive analytics machine \n",
       "learning modeling etc provide actionable \u001B[30;48;2;255;255;0minsights improve business outcomes\u001B[0m risk apply data analysis modeling \n",
       "techniques support business decisions hands role deploying models tracking performance metrics implements projects \n",
       "inception completion managing timelines resources independently deliver expected outcomes engage stakeholders \n",
       "understanding \u001B[30;48;2;255;255;0mbusiness requirements compliance engineering\u001B[0m marketing etc provides consultation business \u001B[30;48;2;255;255;0mleaders \u001B[0m\n",
       "\u001B[30;48;2;255;255;0mstakeholders leverage analytics\u001B[0m build strategies around analytics duties assigned\n"
      ]
     },
     "metadata": {},
     "output_type": "display_data"
    },
    {
     "data": {
      "text/html": [
       "<pre style=\"white-space:pre;overflow-x:auto;line-height:normal;font-family:Menlo,'DejaVu Sans Mono',consolas,'Courier New',monospace\"><span style=\"color: #000000; text-decoration-color: #000000; background-color: #ffff00\">director patient experience data</span> influences drives <span style=\"color: #000000; text-decoration-color: #000000; background-color: #ffff00\">establishes science implementation patient</span> data strong focus \n",
       "patient preference studies novartis whole product portfolio accountable <span style=\"color: #000000; text-decoration-color: #000000; background-color: #ffff00\">development implementation novartis patient</span>\n",
       "data science approach impact research <span style=\"color: #000000; text-decoration-color: #000000; background-color: #ffff00\">portfolio decisions clinical development</span> approval hta payor decisions \n",
       "influence branding strategies novartis medical products core member cross functional <span style=\"color: #000000; text-decoration-color: #000000; background-color: #ffff00\">patient preference study </span>\n",
       "<span style=\"color: #000000; text-decoration-color: #000000; background-color: #ffff00\">strategy</span> <span style=\"color: #000000; text-decoration-color: #000000; background-color: #ffff00\">novartis drive patient experience</span> science activities research development programs proactively increase \n",
       "awareness potential <span style=\"color: #000000; text-decoration-color: #000000; background-color: #ffff00\">patient preference studies advance</span> full development decisions well integrate patient experience\n",
       "data benefit risk assessments submitted health authorities lead collaboration effective partnerships line functions\n",
       "drive scientific advice health authorities hta bodies payors align expectations increase impact patient experience \n",
       "data decision making drive contribute <span style=\"color: #000000; text-decoration-color: #000000; background-color: #ffff00\">publication patient experience data</span> study results\n",
       "</pre>\n"
      ],
      "text/plain": [
       "\u001B[30;48;2;255;255;0mdirector patient experience data\u001B[0m influences drives \u001B[30;48;2;255;255;0mestablishes science implementation patient\u001B[0m data strong focus \n",
       "patient preference studies novartis whole product portfolio accountable \u001B[30;48;2;255;255;0mdevelopment implementation novartis patient\u001B[0m\n",
       "data science approach impact research \u001B[30;48;2;255;255;0mportfolio decisions clinical development\u001B[0m approval hta payor decisions \n",
       "influence branding strategies novartis medical products core member cross functional \u001B[30;48;2;255;255;0mpatient preference study \u001B[0m\n",
       "\u001B[30;48;2;255;255;0mstrategy\u001B[0m \u001B[30;48;2;255;255;0mnovartis drive patient experience\u001B[0m science activities research development programs proactively increase \n",
       "awareness potential \u001B[30;48;2;255;255;0mpatient preference studies advance\u001B[0m full development decisions well integrate patient experience\n",
       "data benefit risk assessments submitted health authorities lead collaboration effective partnerships line functions\n",
       "drive scientific advice health authorities hta bodies payors align expectations increase impact patient experience \n",
       "data decision making drive contribute \u001B[30;48;2;255;255;0mpublication patient experience data\u001B[0m study results\n"
      ]
     },
     "metadata": {},
     "output_type": "display_data"
    },
    {
     "data": {
      "text/html": [
       "<pre style=\"white-space:pre;overflow-x:auto;line-height:normal;font-family:Menlo,'DejaVu Sans Mono',consolas,'Courier New',monospace\">team <span style=\"color: #000000; text-decoration-color: #000000; background-color: #ffff00\">use analytical skills</span> data science knowledge create real world <span style=\"color: #000000; text-decoration-color: #000000; background-color: #ffff00\">impact work closely clients</span> questions needs dig\n",
       "data rich environments find pieces information puzzle <span style=\"color: #000000; text-decoration-color: #000000; background-color: #ffff00\">develop algorithms systems use</span> combination tools frameworks \n",
       "turn sets disparate data points objective <span style=\"color: #000000; text-decoration-color: #000000; background-color: #ffff00\">answers help clients</span> make informed decisions decision making processes \n",
       "leaders <span style=\"color: #000000; text-decoration-color: #000000; background-color: #ffff00\">organizations ultimately provide deep</span> data means used position hybrid role combination working booz allen \n",
       "office client site working remotely\n",
       "</pre>\n"
      ],
      "text/plain": [
       "team \u001B[30;48;2;255;255;0muse analytical skills\u001B[0m data science knowledge create real world \u001B[30;48;2;255;255;0mimpact work closely clients\u001B[0m questions needs dig\n",
       "data rich environments find pieces information puzzle \u001B[30;48;2;255;255;0mdevelop algorithms systems use\u001B[0m combination tools frameworks \n",
       "turn sets disparate data points objective \u001B[30;48;2;255;255;0manswers help clients\u001B[0m make informed decisions decision making processes \n",
       "leaders \u001B[30;48;2;255;255;0morganizations ultimately provide deep\u001B[0m data means used position hybrid role combination working booz allen \n",
       "office client site working remotely\n"
      ]
     },
     "metadata": {},
     "output_type": "display_data"
    },
    {
     "data": {
      "text/html": [
       "<pre style=\"white-space:pre;overflow-x:auto;line-height:normal;font-family:Menlo,'DejaVu Sans Mono',consolas,'Courier New',monospace\">work independently pair wide variety technical <span style=\"color: #000000; text-decoration-color: #000000; background-color: #ffff00\">tasks including writing code</span> new features address <span style=\"color: #000000; text-decoration-color: #000000; background-color: #ffff00\">bugs tackle tech</span> \n",
       "debt wrangling <span style=\"color: #000000; text-decoration-color: #000000; background-color: #ffff00\">data implementing machine learning</span> supporting users platform larger <span style=\"color: #000000; text-decoration-color: #000000; background-color: #ffff00\">strategic initiatives like</span> \n",
       "architecture changes\n",
       "</pre>\n"
      ],
      "text/plain": [
       "work independently pair wide variety technical \u001B[30;48;2;255;255;0mtasks including writing code\u001B[0m new features address \u001B[30;48;2;255;255;0mbugs tackle tech\u001B[0m \n",
       "debt wrangling \u001B[30;48;2;255;255;0mdata implementing machine learning\u001B[0m supporting users platform larger \u001B[30;48;2;255;255;0mstrategic initiatives like\u001B[0m \n",
       "architecture changes\n"
      ]
     },
     "metadata": {},
     "output_type": "display_data"
    },
    {
     "data": {
      "text/html": [
       "<pre style=\"white-space:pre;overflow-x:auto;line-height:normal;font-family:Menlo,'DejaVu Sans Mono',consolas,'Courier New',monospace\">review <span style=\"color: #000000; text-decoration-color: #000000; background-color: #ffff00\">research moderately complex business</span> technical challenges require depth evaluation variable factors perform \n",
       "complex financial economic analysis model development plan coordinate execute primary <span style=\"color: #000000; text-decoration-color: #000000; background-color: #ffff00\">secondary customer market </span>\n",
       "<span style=\"color: #000000; text-decoration-color: #000000; background-color: #ffff00\">projects</span> participate large cross group projects mentor less <span style=\"color: #000000; text-decoration-color: #000000; background-color: #ffff00\">experienced staff collaborate consult</span> colleagues \n",
       "<span style=\"color: #000000; text-decoration-color: #000000; background-color: #ffff00\">external contractors managers</span> resolve issues achieve goals\n",
       "</pre>\n"
      ],
      "text/plain": [
       "review \u001B[30;48;2;255;255;0mresearch moderately complex business\u001B[0m technical challenges require depth evaluation variable factors perform \n",
       "complex financial economic analysis model development plan coordinate execute primary \u001B[30;48;2;255;255;0msecondary customer market \u001B[0m\n",
       "\u001B[30;48;2;255;255;0mprojects\u001B[0m participate large cross group projects mentor less \u001B[30;48;2;255;255;0mexperienced staff collaborate consult\u001B[0m colleagues \n",
       "\u001B[30;48;2;255;255;0mexternal contractors managers\u001B[0m resolve issues achieve goals\n"
      ]
     },
     "metadata": {},
     "output_type": "display_data"
    },
    {
     "data": {
      "text/html": [
       "<pre style=\"white-space:pre;overflow-x:auto;line-height:normal;font-family:Menlo,'DejaVu Sans Mono',consolas,'Courier New',monospace\">position responsible developing end end large scale models starting complex distributed <span style=\"color: #000000; text-decoration-color: #000000; background-color: #ffff00\">data processing creating </span>\n",
       "<span style=\"color: #000000; text-decoration-color: #000000; background-color: #ffff00\">analysis</span> developing custom complex visualization tools deploying web applications identifying opportunities \n",
       "delivering tangible business outcomes improve cloud infrastructure vnf cnf application efficiency leading \n",
       "discussions business clients large scale solution requests begin <span style=\"color: #000000; text-decoration-color: #000000; background-color: #ffff00\">determining data requirements</span> statistical \n",
       "methodologies designing implementing processes layouts complex large scale data sets used modeling data <span style=\"color: #000000; text-decoration-color: #000000; background-color: #ffff00\">mining </span>\n",
       "<span style=\"color: #000000; text-decoration-color: #000000; background-color: #ffff00\">research purposes implementing</span> processes peers utilize designing building large complex data sets spurious sources \n",
       "thinking strategically uses data <span style=\"color: #000000; text-decoration-color: #000000; background-color: #ffff00\">data interacts design developing</span> standardized <span style=\"color: #000000; text-decoration-color: #000000; background-color: #ffff00\">models procedures data scientists</span> \n",
       "utilize future projects designs designing implementing large scale statistical data quality procedures around <span style=\"color: #000000; text-decoration-color: #000000; background-color: #ffff00\">new </span>\n",
       "<span style=\"color: #000000; text-decoration-color: #000000; background-color: #ffff00\">data sources developing</span> data validation updating procedures teams utilize visualizing reporting data findings \n",
       "creatively variety visual formats appropriately provides <span style=\"color: #000000; text-decoration-color: #000000; background-color: #ffff00\">insights organization driving continuous</span> company models \n",
       "leveraging latest industry knowledge methods ai data science\n",
       "</pre>\n"
      ],
      "text/plain": [
       "position responsible developing end end large scale models starting complex distributed \u001B[30;48;2;255;255;0mdata processing creating \u001B[0m\n",
       "\u001B[30;48;2;255;255;0manalysis\u001B[0m developing custom complex visualization tools deploying web applications identifying opportunities \n",
       "delivering tangible business outcomes improve cloud infrastructure vnf cnf application efficiency leading \n",
       "discussions business clients large scale solution requests begin \u001B[30;48;2;255;255;0mdetermining data requirements\u001B[0m statistical \n",
       "methodologies designing implementing processes layouts complex large scale data sets used modeling data \u001B[30;48;2;255;255;0mmining \u001B[0m\n",
       "\u001B[30;48;2;255;255;0mresearch purposes implementing\u001B[0m processes peers utilize designing building large complex data sets spurious sources \n",
       "thinking strategically uses data \u001B[30;48;2;255;255;0mdata interacts design developing\u001B[0m standardized \u001B[30;48;2;255;255;0mmodels procedures data scientists\u001B[0m \n",
       "utilize future projects designs designing implementing large scale statistical data quality procedures around \u001B[30;48;2;255;255;0mnew \u001B[0m\n",
       "\u001B[30;48;2;255;255;0mdata sources developing\u001B[0m data validation updating procedures teams utilize visualizing reporting data findings \n",
       "creatively variety visual formats appropriately provides \u001B[30;48;2;255;255;0minsights organization driving continuous\u001B[0m company models \n",
       "leveraging latest industry knowledge methods ai data science\n"
      ]
     },
     "metadata": {},
     "output_type": "display_data"
    },
    {
     "data": {
      "text/html": [
       "<pre style=\"white-space:pre;overflow-x:auto;line-height:normal;font-family:Menlo,'DejaVu Sans Mono',consolas,'Courier New',monospace\">role opportunity operate lead full stack <span style=\"color: #000000; text-decoration-color: #000000; background-color: #ffff00\">data scientist capacity opportunity</span> develop backend ml frameworks best \n",
       "suited different business problems build engineering pipelines streamline model development process launch decision\n",
       "engines would help automate ml powered business solutions efforts closely work data <span style=\"color: #000000; text-decoration-color: #000000; background-color: #ffff00\">science ml operations analytics</span>\n",
       "engineering teams focusing incrementality value creation everything closely work stakeholders within customer \n",
       "service organization transform ideas preliminary findings analyses whenever applicable machine learning driven \n",
       "business strategies programs actions would help drive <span style=\"color: #000000; text-decoration-color: #000000; background-color: #ffff00\">core objectives data scientist</span> making recommendations \n",
       "experimentation measurement researching state art methods examining tuning current methods simulations also use \n",
       "causal inference methods bring precision speed decision making process responsible full <span style=\"color: #000000; text-decoration-color: #000000; background-color: #ffff00\">data science lifecycle </span>\n",
       "<span style=\"color: #000000; text-decoration-color: #000000; background-color: #ffff00\">conception</span> testing deploying measuring overall business value models addition periodically develop model health \n",
       "reports ensure integrity underlying processes assumptions use data improve make decisions ultimately enhance \n",
       "customer experience drive loyalty surface deep insight hidden data lakes provide tactical strategic guidance act \n",
       "<span style=\"color: #000000; text-decoration-color: #000000; background-color: #ffff00\">findings include developing data</span> driven customer contact segmentation <span style=\"color: #000000; text-decoration-color: #000000; background-color: #ffff00\">work data engineering teams</span> automated \n",
       "pipelines perform different stages model life cycle data collection cleaning model development validation model \n",
       "deployment scoring periodic validation refitting etc\n",
       "</pre>\n"
      ],
      "text/plain": [
       "role opportunity operate lead full stack \u001B[30;48;2;255;255;0mdata scientist capacity opportunity\u001B[0m develop backend ml frameworks best \n",
       "suited different business problems build engineering pipelines streamline model development process launch decision\n",
       "engines would help automate ml powered business solutions efforts closely work data \u001B[30;48;2;255;255;0mscience ml operations analytics\u001B[0m\n",
       "engineering teams focusing incrementality value creation everything closely work stakeholders within customer \n",
       "service organization transform ideas preliminary findings analyses whenever applicable machine learning driven \n",
       "business strategies programs actions would help drive \u001B[30;48;2;255;255;0mcore objectives data scientist\u001B[0m making recommendations \n",
       "experimentation measurement researching state art methods examining tuning current methods simulations also use \n",
       "causal inference methods bring precision speed decision making process responsible full \u001B[30;48;2;255;255;0mdata science lifecycle \u001B[0m\n",
       "\u001B[30;48;2;255;255;0mconception\u001B[0m testing deploying measuring overall business value models addition periodically develop model health \n",
       "reports ensure integrity underlying processes assumptions use data improve make decisions ultimately enhance \n",
       "customer experience drive loyalty surface deep insight hidden data lakes provide tactical strategic guidance act \n",
       "\u001B[30;48;2;255;255;0mfindings include developing data\u001B[0m driven customer contact segmentation \u001B[30;48;2;255;255;0mwork data engineering teams\u001B[0m automated \n",
       "pipelines perform different stages model life cycle data collection cleaning model development validation model \n",
       "deployment scoring periodic validation refitting etc\n"
      ]
     },
     "metadata": {},
     "output_type": "display_data"
    },
    {
     "data": {
      "text/html": [
       "<pre style=\"white-space:pre;overflow-x:auto;line-height:normal;font-family:Menlo,'DejaVu Sans Mono',consolas,'Courier New',monospace\">use <span style=\"color: #000000; text-decoration-color: #000000; background-color: #ffff00\">best practices code development</span> unit testing build project <span style=\"color: #000000; text-decoration-color: #000000; background-color: #ffff00\">specific data pipelines</span> etl processes validation \n",
       "tools using <span style=\"color: #000000; text-decoration-color: #000000; background-color: #ffff00\">python sql aws cloud</span> partner <span style=\"color: #000000; text-decoration-color: #000000; background-color: #ffff00\">members campus data science</span> <span style=\"color: #000000; text-decoration-color: #000000; background-color: #ffff00\">define requirements learning analytics</span> \n",
       "implement data models database schemas data structures processing logic support automated insights manage \n",
       "concurrent requests cross campus cross functional teams must able strategically prioritize necessary\n",
       "</pre>\n"
      ],
      "text/plain": [
       "use \u001B[30;48;2;255;255;0mbest practices code development\u001B[0m unit testing build project \u001B[30;48;2;255;255;0mspecific data pipelines\u001B[0m etl processes validation \n",
       "tools using \u001B[30;48;2;255;255;0mpython sql aws cloud\u001B[0m partner \u001B[30;48;2;255;255;0mmembers campus data science\u001B[0m \u001B[30;48;2;255;255;0mdefine requirements learning analytics\u001B[0m \n",
       "implement data models database schemas data structures processing logic support automated insights manage \n",
       "concurrent requests cross campus cross functional teams must able strategically prioritize necessary\n"
      ]
     },
     "metadata": {},
     "output_type": "display_data"
    },
    {
     "data": {
      "text/html": [
       "<pre style=\"white-space:pre;overflow-x:auto;line-height:normal;font-family:Menlo,'DejaVu Sans Mono',consolas,'Courier New',monospace\">work <span style=\"color: #000000; text-decoration-color: #000000; background-color: #ffff00\">cross functional teams</span> execute priority growth initiatives within fast <span style=\"color: #000000; text-decoration-color: #000000; background-color: #ffff00\">growing platform senior manager</span> part \n",
       "team problem solvers helping solve complex business issues strategy execution encourage everyone voice invite \n",
       "opinion including quieter members team deal effectively ambiguous unstructured problems situations initiate open \n",
       "candid coaching conversations levels move easily big picture thinking managing relevant detail <span style=\"color: #000000; text-decoration-color: #000000; background-color: #ffff00\">anticipate </span>\n",
       "<span style=\"color: #000000; text-decoration-color: #000000; background-color: #ffff00\">stakeholder needs develop</span> potential solutions even stakeholder realises required contribute technical knowledge \n",
       "area specialism contribute environment people technology thrive together accomplish could apart navigate \n",
       "complexities cross border diverse teams engagements initiate lead open conversations <span style=\"color: #000000; text-decoration-color: #000000; background-color: #ffff00\">teams clients stakeholders </span>\n",
       "<span style=\"color: #000000; text-decoration-color: #000000; background-color: #ffff00\">build</span> uphold firm code ethics business conduct voice table help design build operate next generation software \n",
       "services leading development intellectual property related data analytics machine learning insights delivery market\n",
       "leading point views industry events leading driving sizing effort related data analytics work plan build teams \n",
       "utilizing onsite offshore mix utilizing deployment models efficient delivery solution <span style=\"color: #000000; text-decoration-color: #000000; background-color: #ffff00\">performing team leader </span>\n",
       "<span style=\"color: #000000; text-decoration-color: #000000; background-color: #ffff00\">creating</span> environment build proven <span style=\"color: #000000; text-decoration-color: #000000; background-color: #ffff00\">team members based coaching</span> shaping next generation data analytics leaders \n",
       "monitoring workloads team meeting client expectations respecting <span style=\"color: #000000; text-decoration-color: #000000; background-color: #ffff00\">work life quality team</span> providing candid feedback \n",
       "timely manner keeping leadership informed progress issues\n",
       "</pre>\n"
      ],
      "text/plain": [
       "work \u001B[30;48;2;255;255;0mcross functional teams\u001B[0m execute priority growth initiatives within fast \u001B[30;48;2;255;255;0mgrowing platform senior manager\u001B[0m part \n",
       "team problem solvers helping solve complex business issues strategy execution encourage everyone voice invite \n",
       "opinion including quieter members team deal effectively ambiguous unstructured problems situations initiate open \n",
       "candid coaching conversations levels move easily big picture thinking managing relevant detail \u001B[30;48;2;255;255;0manticipate \u001B[0m\n",
       "\u001B[30;48;2;255;255;0mstakeholder needs develop\u001B[0m potential solutions even stakeholder realises required contribute technical knowledge \n",
       "area specialism contribute environment people technology thrive together accomplish could apart navigate \n",
       "complexities cross border diverse teams engagements initiate lead open conversations \u001B[30;48;2;255;255;0mteams clients stakeholders \u001B[0m\n",
       "\u001B[30;48;2;255;255;0mbuild\u001B[0m uphold firm code ethics business conduct voice table help design build operate next generation software \n",
       "services leading development intellectual property related data analytics machine learning insights delivery market\n",
       "leading point views industry events leading driving sizing effort related data analytics work plan build teams \n",
       "utilizing onsite offshore mix utilizing deployment models efficient delivery solution \u001B[30;48;2;255;255;0mperforming team leader \u001B[0m\n",
       "\u001B[30;48;2;255;255;0mcreating\u001B[0m environment build proven \u001B[30;48;2;255;255;0mteam members based coaching\u001B[0m shaping next generation data analytics leaders \n",
       "monitoring workloads team meeting client expectations respecting \u001B[30;48;2;255;255;0mwork life quality team\u001B[0m providing candid feedback \n",
       "timely manner keeping leadership informed progress issues\n"
      ]
     },
     "metadata": {},
     "output_type": "display_data"
    },
    {
     "data": {
      "text/html": [
       "<pre style=\"white-space:pre;overflow-x:auto;line-height:normal;font-family:Menlo,'DejaVu Sans Mono',consolas,'Courier New',monospace\"><span style=\"color: #000000; text-decoration-color: #000000; background-color: #ffff00\">core responsibilities role include</span> team design sophisticated quantitative solutions frequently integration novel \n",
       "data sources executing solutions programmatically reproducibly ideal candidate combine deep technical expertise \n",
       "programmatic statistical analysis predictive modeling strong data iq create data driven visuals narratives answer \n",
       "client questions design execute quantitative analyses extract actionable insights directly address client needs \n",
       "questions import clean integrate explore visualize large datasets support ongoing research projects ad hoc client \n",
       "requests use software tools sql rmarkdown gitlab ensure quantitative analyses reproducible leverage cicd pipelines \n",
       "deploy automated jobs aws <span style=\"color: #000000; text-decoration-color: #000000; background-color: #ffff00\">stack work data engineers</span> implement automate integration external data sources across \n",
       "variety architectures including local databases web apis crm systems etc work <span style=\"color: #000000; text-decoration-color: #000000; background-color: #ffff00\">quantitative development teams design</span>\n",
       "automated data analysis predictive modeling technologies support client deliverables <span style=\"color: #000000; text-decoration-color: #000000; background-color: #ffff00\">participate quantitative </span>\n",
       "<span style=\"color: #000000; text-decoration-color: #000000; background-color: #ffff00\">requirements</span> meetings build supporting evidence retail digital strategies <span style=\"color: #000000; text-decoration-color: #000000; background-color: #ffff00\">collaborate technical development </span>\n",
       "<span style=\"color: #000000; text-decoration-color: #000000; background-color: #ffff00\">database</span> engineers prioritize multiple tasks intelligently maintain clear lines communication supervisor team \n",
       "clients\n",
       "</pre>\n"
      ],
      "text/plain": [
       "\u001B[30;48;2;255;255;0mcore responsibilities role include\u001B[0m team design sophisticated quantitative solutions frequently integration novel \n",
       "data sources executing solutions programmatically reproducibly ideal candidate combine deep technical expertise \n",
       "programmatic statistical analysis predictive modeling strong data iq create data driven visuals narratives answer \n",
       "client questions design execute quantitative analyses extract actionable insights directly address client needs \n",
       "questions import clean integrate explore visualize large datasets support ongoing research projects ad hoc client \n",
       "requests use software tools sql rmarkdown gitlab ensure quantitative analyses reproducible leverage cicd pipelines \n",
       "deploy automated jobs aws \u001B[30;48;2;255;255;0mstack work data engineers\u001B[0m implement automate integration external data sources across \n",
       "variety architectures including local databases web apis crm systems etc work \u001B[30;48;2;255;255;0mquantitative development teams design\u001B[0m\n",
       "automated data analysis predictive modeling technologies support client deliverables \u001B[30;48;2;255;255;0mparticipate quantitative \u001B[0m\n",
       "\u001B[30;48;2;255;255;0mrequirements\u001B[0m meetings build supporting evidence retail digital strategies \u001B[30;48;2;255;255;0mcollaborate technical development \u001B[0m\n",
       "\u001B[30;48;2;255;255;0mdatabase\u001B[0m engineers prioritize multiple tasks intelligently maintain clear lines communication supervisor team \n",
       "clients\n"
      ]
     },
     "metadata": {},
     "output_type": "display_data"
    },
    {
     "data": {
      "text/html": [
       "<pre style=\"white-space:pre;overflow-x:auto;line-height:normal;font-family:Menlo,'DejaVu Sans Mono',consolas,'Courier New',monospace\"><span style=\"color: #000000; text-decoration-color: #000000; background-color: #ffff00\">making messenger multi network</span> <span style=\"color: #000000; text-decoration-color: #000000; background-color: #ffff00\">new account types horizon</span> <span style=\"color: #000000; text-decoration-color: #000000; background-color: #ffff00\">building managing data science</span> <span style=\"color: #000000; text-decoration-color: #000000; background-color: #ffff00\">managers managers strong </span>\n",
       "<span style=\"color: #000000; text-decoration-color: #000000; background-color: #ffff00\">track</span> leading high <span style=\"color: #000000; text-decoration-color: #000000; background-color: #ffff00\">performing team ambiguity</span>\n",
       "</pre>\n"
      ],
      "text/plain": [
       "\u001B[30;48;2;255;255;0mmaking messenger multi network\u001B[0m \u001B[30;48;2;255;255;0mnew account types horizon\u001B[0m \u001B[30;48;2;255;255;0mbuilding managing data science\u001B[0m \u001B[30;48;2;255;255;0mmanagers managers strong \u001B[0m\n",
       "\u001B[30;48;2;255;255;0mtrack\u001B[0m leading high \u001B[30;48;2;255;255;0mperforming team ambiguity\u001B[0m\n"
      ]
     },
     "metadata": {},
     "output_type": "display_data"
    },
    {
     "data": {
      "text/html": [
       "<pre style=\"white-space:pre;overflow-x:auto;line-height:normal;font-family:Menlo,'DejaVu Sans Mono',consolas,'Courier New',monospace\">work cross functionally <span style=\"color: #000000; text-decoration-color: #000000; background-color: #ffff00\">product design engineering member</span> leadership group team responsible delivering data \n",
       "insights drive strategy decision making execution also work closely leaders research analytics drive operational \n",
       "excellence across entire organization build lead mentor high performing team analysts drive strategy product \n",
       "analytics support multiple product pillars ensure delivery high quality work providing technical guidance \n",
       "implementing standard approaches generally providing going feedback <span style=\"color: #000000; text-decoration-color: #000000; background-color: #ffff00\">partner closely product engineering</span> leadership \n",
       "drive impact throughout product development process research data ensure alignment partner teams fostering \n",
       "collaborative transparent working model advocate team represent needs <span style=\"color: #000000; text-decoration-color: #000000; background-color: #ffff00\">challenges cross functional leadership</span> \n",
       "closely <span style=\"color: #000000; text-decoration-color: #000000; background-color: #ffff00\">product leadership team influence</span> strategy product direction <span style=\"color: #000000; text-decoration-color: #000000; background-color: #ffff00\">work closely research analytics</span> answer \n",
       "important questions customers product business\n",
       "</pre>\n"
      ],
      "text/plain": [
       "work cross functionally \u001B[30;48;2;255;255;0mproduct design engineering member\u001B[0m leadership group team responsible delivering data \n",
       "insights drive strategy decision making execution also work closely leaders research analytics drive operational \n",
       "excellence across entire organization build lead mentor high performing team analysts drive strategy product \n",
       "analytics support multiple product pillars ensure delivery high quality work providing technical guidance \n",
       "implementing standard approaches generally providing going feedback \u001B[30;48;2;255;255;0mpartner closely product engineering\u001B[0m leadership \n",
       "drive impact throughout product development process research data ensure alignment partner teams fostering \n",
       "collaborative transparent working model advocate team represent needs \u001B[30;48;2;255;255;0mchallenges cross functional leadership\u001B[0m \n",
       "closely \u001B[30;48;2;255;255;0mproduct leadership team influence\u001B[0m strategy product direction \u001B[30;48;2;255;255;0mwork closely research analytics\u001B[0m answer \n",
       "important questions customers product business\n"
      ]
     },
     "metadata": {},
     "output_type": "display_data"
    },
    {
     "data": {
      "text/html": [
       "<pre style=\"white-space:pre;overflow-x:auto;line-height:normal;font-family:Menlo,'DejaVu Sans Mono',consolas,'Courier New',monospace\">operating <span style=\"color: #000000; text-decoration-color: #000000; background-color: #ffff00\">agile team composed data</span> technologists collaborate underwriters product managers actuaries develop \n",
       "deliver advanced analytics products across commercial specialty underwriting lifecycle responsible articulating \n",
       "translating overall business vision strategy tactics property general liability accountable outcomes key kpi tied \n",
       "directly <span style=\"color: #000000; text-decoration-color: #000000; background-color: #ffff00\">business objectives manage</span> use advanced analytics data science techniques solve business problems engage \n",
       "stakeholders identify critical needs determine optimal solution works day <span style=\"color: #000000; text-decoration-color: #000000; background-color: #ffff00\">day scrum teams clarifying</span> requirements \n",
       "removing roadblocks constantly communicating gaining alignment around product strategy define minimum viable \n",
       "product mvp owns product backlog grooming prioritization refinement analyze feasibility cost ramifications \n",
       "economies aspects planned potential programs define quality standard delivery provide feedback team improve team \n",
       "processes partner across functions needed coordinate delivery plans testing training support lead problem \n",
       "resolution needed ensure internal external customers receive prompt efficient service communicate product <span style=\"color: #000000; text-decoration-color: #000000; background-color: #ffff00\">strategy </span>\n",
       "<span style=\"color: #000000; text-decoration-color: #000000; background-color: #ffff00\">effectively key stakeholders</span> members incorporate <span style=\"color: #000000; text-decoration-color: #000000; background-color: #ffff00\">stakeholder input product roadmap</span> negotiating tradeoffs \n",
       "conflicting priorities based value business customer\n",
       "</pre>\n"
      ],
      "text/plain": [
       "operating \u001B[30;48;2;255;255;0magile team composed data\u001B[0m technologists collaborate underwriters product managers actuaries develop \n",
       "deliver advanced analytics products across commercial specialty underwriting lifecycle responsible articulating \n",
       "translating overall business vision strategy tactics property general liability accountable outcomes key kpi tied \n",
       "directly \u001B[30;48;2;255;255;0mbusiness objectives manage\u001B[0m use advanced analytics data science techniques solve business problems engage \n",
       "stakeholders identify critical needs determine optimal solution works day \u001B[30;48;2;255;255;0mday scrum teams clarifying\u001B[0m requirements \n",
       "removing roadblocks constantly communicating gaining alignment around product strategy define minimum viable \n",
       "product mvp owns product backlog grooming prioritization refinement analyze feasibility cost ramifications \n",
       "economies aspects planned potential programs define quality standard delivery provide feedback team improve team \n",
       "processes partner across functions needed coordinate delivery plans testing training support lead problem \n",
       "resolution needed ensure internal external customers receive prompt efficient service communicate product \u001B[30;48;2;255;255;0mstrategy \u001B[0m\n",
       "\u001B[30;48;2;255;255;0meffectively key stakeholders\u001B[0m members incorporate \u001B[30;48;2;255;255;0mstakeholder input product roadmap\u001B[0m negotiating tradeoffs \n",
       "conflicting priorities based value business customer\n"
      ]
     },
     "metadata": {},
     "output_type": "display_data"
    },
    {
     "data": {
      "text/html": [
       "<pre style=\"white-space:pre;overflow-x:auto;line-height:normal;font-family:Menlo,'DejaVu Sans Mono',consolas,'Courier New',monospace\"><span style=\"color: #000000; text-decoration-color: #000000; background-color: #ffff00\">retail execution demand forecasting</span> management supply chain crm sales <span style=\"color: #000000; text-decoration-color: #000000; background-color: #ffff00\">operation procurement analytics</span> knowledge \n",
       "clustering segmentation campaign <span style=\"color: #000000; text-decoration-color: #000000; background-color: #ffff00\">analytics loyalty management forecasting</span> understanding sales inventory store \n",
       "product promotion data ability <span style=\"color: #000000; text-decoration-color: #000000; background-color: #ffff00\">translate business requirement analytical</span> communicate directly business <span style=\"color: #000000; text-decoration-color: #000000; background-color: #ffff00\">users </span>\n",
       "<span style=\"color: #000000; text-decoration-color: #000000; background-color: #ffff00\">understand business requirement</span> translate appropriate <span style=\"color: #000000; text-decoration-color: #000000; background-color: #ffff00\">analytics use cases work</span> <span style=\"color: #000000; text-decoration-color: #000000; background-color: #ffff00\">environment deliver analytics</span> \n",
       "solution client define <span style=\"color: #000000; text-decoration-color: #000000; background-color: #ffff00\">new business metrics</span> required build measurement systems needed enjoy designing develop \n",
       "deploy state art data driven predictive models adept quick starting optimization options solve business problems \n",
       "using latest technologies data mining statistical modeling advise clients internal teams right analytics algorithm \n",
       "platforms approaches take addressing complex open ended business problems travel may required per job requirements\n",
       "</pre>\n"
      ],
      "text/plain": [
       "\u001B[30;48;2;255;255;0mretail execution demand forecasting\u001B[0m management supply chain crm sales \u001B[30;48;2;255;255;0moperation procurement analytics\u001B[0m knowledge \n",
       "clustering segmentation campaign \u001B[30;48;2;255;255;0manalytics loyalty management forecasting\u001B[0m understanding sales inventory store \n",
       "product promotion data ability \u001B[30;48;2;255;255;0mtranslate business requirement analytical\u001B[0m communicate directly business \u001B[30;48;2;255;255;0musers \u001B[0m\n",
       "\u001B[30;48;2;255;255;0munderstand business requirement\u001B[0m translate appropriate \u001B[30;48;2;255;255;0manalytics use cases work\u001B[0m \u001B[30;48;2;255;255;0menvironment deliver analytics\u001B[0m \n",
       "solution client define \u001B[30;48;2;255;255;0mnew business metrics\u001B[0m required build measurement systems needed enjoy designing develop \n",
       "deploy state art data driven predictive models adept quick starting optimization options solve business problems \n",
       "using latest technologies data mining statistical modeling advise clients internal teams right analytics algorithm \n",
       "platforms approaches take addressing complex open ended business problems travel may required per job requirements\n"
      ]
     },
     "metadata": {},
     "output_type": "display_data"
    }
   ],
   "source": [
    "benefits_keywords = []\n",
    "qualifications_keywords = []\n",
    "responsibilities_keywords = []\n",
    "\n",
    "data['benefits_keywords'] = data['Benefits'].apply(lambda x : kw_model_benefits.extract_keywords(x, **benefits_params))\n",
    "data['qualification_keywords'] = data['Qualifications'].apply(lambda x : kw_model_benefits.extract_keywords(x, **benefits_params))\n",
    "data['responsibilities_keywords'] = data['Responsibilities'].apply(lambda x : kw_model_benefits.extract_keywords(x, **benefits_params))"
   ]
  },
  {
   "cell_type": "code",
   "execution_count": null,
   "metadata": {
    "scrolled": true
   },
   "outputs": [],
   "source": []
  },
  {
   "cell_type": "code",
   "execution_count": null,
   "metadata": {},
   "outputs": [],
   "source": []
  },
  {
   "cell_type": "code",
   "execution_count": null,
   "metadata": {},
   "outputs": [],
   "source": []
  },
  {
   "cell_type": "code",
   "execution_count": null,
   "metadata": {},
   "outputs": [],
   "source": []
  },
  {
   "cell_type": "code",
   "execution_count": null,
   "metadata": {},
   "outputs": [],
   "source": []
  },
  {
   "cell_type": "code",
   "execution_count": null,
   "metadata": {},
   "outputs": [],
   "source": []
  },
  {
   "cell_type": "code",
   "execution_count": null,
   "metadata": {},
   "outputs": [],
   "source": []
  },
  {
   "cell_type": "code",
   "execution_count": null,
   "metadata": {},
   "outputs": [],
   "source": []
  },
  {
   "cell_type": "code",
   "execution_count": null,
   "metadata": {},
   "outputs": [],
   "source": []
  },
  {
   "cell_type": "code",
   "execution_count": null,
   "metadata": {},
   "outputs": [],
   "source": [
    "kw_extractor = yake.KeywordExtractor(top=10, stopwords=None)\n",
    "\n",
    "for i in range(10):\n",
    "  text = data['Qualifications'][i]\n",
    "  print(text)\n",
    "  keywords = kw_extractor.extract_keywords(text)\n",
    "  for kw, v in keywords:\n",
    "    print(\"Keyphrase: \",kw, \": score\", v)\n"
   ]
  },
  {
   "cell_type": "code",
   "execution_count": null,
   "metadata": {
    "pycharm": {
     "is_executing": true
    },
    "scrolled": true
   },
   "outputs": [],
   "source": [
    "!pip install multi_rake\n",
    "from multi_rake import Rake\n",
    "rake = Rake()\n",
    "keywords = rake.apply(text)\n",
    "print(keywords[:10])"
   ]
  },
  {
   "cell_type": "code",
   "execution_count": null,
   "metadata": {},
   "outputs": [],
   "source": [
    "from keybert import KeyBERT"
   ]
  },
  {
   "cell_type": "code",
   "execution_count": null,
   "metadata": {},
   "outputs": [],
   "source": [
    "kw_model = KeyBERT(model='all-mpnet-base-v2') # all-MiniLM-L6-v2\n"
   ]
  },
  {
   "cell_type": "code",
   "execution_count": null,
   "metadata": {},
   "outputs": [],
   "source": [
    "for i in range(27, 37):\n",
    "    text = data['Qualifications'][i]\n",
    "    print(text)\n",
    "    keywords = kw_model.extract_keywords(text, \n",
    "                                         keyphrase_ngram_range=(3, 3), \n",
    "                                         stop_words='english', \n",
    "                                         highlight=False,\n",
    "                                         top_n=10)\n",
    "\n",
    "    keywords_list= list(dict(keywords).keys())\n",
    "    print(\"----------\")\n",
    "    print(keywords_list)\n",
    "    print('\\n')\n",
    "    print('\\n')\n",
    "    print('\\n')\n"
   ]
  },
  {
   "cell_type": "code",
   "execution_count": null,
   "metadata": {},
   "outputs": [],
   "source": []
  }
 ],
 "metadata": {
  "kernelspec": {
   "display_name": "Python 3 (ipykernel)",
   "language": "python",
   "name": "python3"
  },
  "language_info": {
   "codemirror_mode": {
    "name": "ipython",
    "version": 3
   },
   "file_extension": ".py",
   "mimetype": "text/x-python",
   "name": "python",
   "nbconvert_exporter": "python",
   "pygments_lexer": "ipython3",
   "version": "3.9.13"
  }
 },
 "nbformat": 4,
 "nbformat_minor": 1
}
