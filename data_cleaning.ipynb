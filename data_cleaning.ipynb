{
 "cells": [
  {
   "cell_type": "code",
   "execution_count": 170,
   "metadata": {},
   "outputs": [],
   "source": [
    "import pandas as pd\n",
    "import yake"
   ]
  },
  {
   "cell_type": "code",
   "execution_count": 171,
   "metadata": {},
   "outputs": [
    {
     "data": {
      "text/html": [
       "<div>\n",
       "<style scoped>\n",
       "    .dataframe tbody tr th:only-of-type {\n",
       "        vertical-align: middle;\n",
       "    }\n",
       "\n",
       "    .dataframe tbody tr th {\n",
       "        vertical-align: top;\n",
       "    }\n",
       "\n",
       "    .dataframe thead th {\n",
       "        text-align: right;\n",
       "    }\n",
       "</style>\n",
       "<table border=\"1\" class=\"dataframe\">\n",
       "  <thead>\n",
       "    <tr style=\"text-align: right;\">\n",
       "      <th></th>\n",
       "      <th>title</th>\n",
       "      <th>company_name</th>\n",
       "      <th>location</th>\n",
       "      <th>from</th>\n",
       "      <th>Benefits</th>\n",
       "      <th>Qualifications</th>\n",
       "      <th>Responsibilities</th>\n",
       "      <th>thumbnail</th>\n",
       "      <th>applyLink</th>\n",
       "      <th>description</th>\n",
       "    </tr>\n",
       "  </thead>\n",
       "  <tbody>\n",
       "    <tr>\n",
       "      <th>0</th>\n",
       "      <td>Microsoft is hiring Software Engineer [2022 Gr...</td>\n",
       "      <td>Microsoft</td>\n",
       "      <td>India</td>\n",
       "      <td>via Workat.tech</td>\n",
       "      <td>NaN</td>\n",
       "      <td>NaN</td>\n",
       "      <td>NaN</td>\n",
       "      <td>https://encrypted-tbn0.gstatic.com/images?q=tb...</td>\n",
       "      <td>https://workat.tech/company/microsoft/jobs/sof...</td>\n",
       "      <td>Microsoft is hiring Software Engineer [2022 Gr...</td>\n",
       "    </tr>\n",
       "    <tr>\n",
       "      <th>1</th>\n",
       "      <td>Microsoft D365-Functional-Finance</td>\n",
       "      <td>DXC Technology</td>\n",
       "      <td>Gurugram, Haryana, India</td>\n",
       "      <td>via LinkedIn</td>\n",
       "      <td>NaN</td>\n",
       "      <td>NaN</td>\n",
       "      <td>NaN</td>\n",
       "      <td>https://encrypted-tbn0.gstatic.com/images?q=tb...</td>\n",
       "      <td>https://in.linkedin.com/jobs/view/microsoft-d3...</td>\n",
       "      <td>DXC is Hiring : MS DYNAMICS D365-Functional-Fi...</td>\n",
       "    </tr>\n",
       "    <tr>\n",
       "      <th>2</th>\n",
       "      <td>Microsoft Off Campus Drive 2023 Hiring Data An...</td>\n",
       "      <td>Microsoft</td>\n",
       "      <td>Hyderabad, Telangana, India</td>\n",
       "      <td>via Freshershunt</td>\n",
       "      <td>NaN</td>\n",
       "      <td>NaN</td>\n",
       "      <td>NaN</td>\n",
       "      <td>https://encrypted-tbn0.gstatic.com/images?q=tb...</td>\n",
       "      <td>https://freshershunt.in/microsoft-off-campus-d...</td>\n",
       "      <td>Microsoft Off Campus Drive 2023 hiring fresher...</td>\n",
       "    </tr>\n",
       "    <tr>\n",
       "      <th>3</th>\n",
       "      <td>Microsoft is hiring for Freshers as Research I...</td>\n",
       "      <td>Microsoft</td>\n",
       "      <td>Bengaluru, Karnataka, India</td>\n",
       "      <td>via DJobBuzz.com</td>\n",
       "      <td>NaN</td>\n",
       "      <td>NaN</td>\n",
       "      <td>NaN</td>\n",
       "      <td>https://encrypted-tbn0.gstatic.com/images?q=tb...</td>\n",
       "      <td>https://www.djobbuzz.com/home/viewjob/7447/mic...</td>\n",
       "      <td>During the internship, students are paired wit...</td>\n",
       "    </tr>\n",
       "    <tr>\n",
       "      <th>4</th>\n",
       "      <td>Microsoft Jobs 2023 for Research Fellow</td>\n",
       "      <td>Microsoft</td>\n",
       "      <td>Bengaluru, Karnataka, India</td>\n",
       "      <td>via Off Campus Careers</td>\n",
       "      <td>NaN</td>\n",
       "      <td>NaN</td>\n",
       "      <td>NaN</td>\n",
       "      <td>https://encrypted-tbn0.gstatic.com/images?q=tb...</td>\n",
       "      <td>https://offcampuscareers.com/microsoft-jobs-4/...</td>\n",
       "      <td>Microsoft Jobs 2023 for Research Fellow positi...</td>\n",
       "    </tr>\n",
       "  </tbody>\n",
       "</table>\n",
       "</div>"
      ],
      "text/plain": [
       "                                               title    company_name  \\\n",
       "0  Microsoft is hiring Software Engineer [2022 Gr...       Microsoft   \n",
       "1                  Microsoft D365-Functional-Finance  DXC Technology   \n",
       "2  Microsoft Off Campus Drive 2023 Hiring Data An...       Microsoft   \n",
       "3  Microsoft is hiring for Freshers as Research I...       Microsoft   \n",
       "4            Microsoft Jobs 2023 for Research Fellow       Microsoft   \n",
       "\n",
       "                      location                    from  Benefits  \\\n",
       "0                        India         via Workat.tech       NaN   \n",
       "1     Gurugram, Haryana, India            via LinkedIn       NaN   \n",
       "2  Hyderabad, Telangana, India        via Freshershunt       NaN   \n",
       "3  Bengaluru, Karnataka, India        via DJobBuzz.com       NaN   \n",
       "4  Bengaluru, Karnataka, India  via Off Campus Careers       NaN   \n",
       "\n",
       "   Qualifications  Responsibilities  \\\n",
       "0             NaN               NaN   \n",
       "1             NaN               NaN   \n",
       "2             NaN               NaN   \n",
       "3             NaN               NaN   \n",
       "4             NaN               NaN   \n",
       "\n",
       "                                           thumbnail  \\\n",
       "0  https://encrypted-tbn0.gstatic.com/images?q=tb...   \n",
       "1  https://encrypted-tbn0.gstatic.com/images?q=tb...   \n",
       "2  https://encrypted-tbn0.gstatic.com/images?q=tb...   \n",
       "3  https://encrypted-tbn0.gstatic.com/images?q=tb...   \n",
       "4  https://encrypted-tbn0.gstatic.com/images?q=tb...   \n",
       "\n",
       "                                           applyLink  \\\n",
       "0  https://workat.tech/company/microsoft/jobs/sof...   \n",
       "1  https://in.linkedin.com/jobs/view/microsoft-d3...   \n",
       "2  https://freshershunt.in/microsoft-off-campus-d...   \n",
       "3  https://www.djobbuzz.com/home/viewjob/7447/mic...   \n",
       "4  https://offcampuscareers.com/microsoft-jobs-4/...   \n",
       "\n",
       "                                         description  \n",
       "0  Microsoft is hiring Software Engineer [2022 Gr...  \n",
       "1  DXC is Hiring : MS DYNAMICS D365-Functional-Fi...  \n",
       "2  Microsoft Off Campus Drive 2023 hiring fresher...  \n",
       "3  During the internship, students are paired wit...  \n",
       "4  Microsoft Jobs 2023 for Research Fellow positi...  "
      ]
     },
     "execution_count": 171,
     "metadata": {},
     "output_type": "execute_result"
    }
   ],
   "source": [
    "data = pd.read_csv(r\"C:\\Users\\Jadha\\PycharmProjects\\python-stuff\\data_science_job_data_with_applylink_micro.csv\")\n",
    "data.head()"
   ]
  },
  {
   "cell_type": "markdown",
   "metadata": {},
   "source": [
    "## Data Cleaning"
   ]
  },
  {
   "cell_type": "code",
   "execution_count": 172,
   "metadata": {},
   "outputs": [
    {
     "name": "stderr",
     "output_type": "stream",
     "text": [
      "[nltk_data] Downloading package stopwords to\n",
      "[nltk_data]     C:\\Users\\Jadha\\AppData\\Roaming\\nltk_data...\n",
      "[nltk_data]   Package stopwords is already up-to-date!\n",
      "[nltk_data] Downloading package punkt to\n",
      "[nltk_data]     C:\\Users\\Jadha\\AppData\\Roaming\\nltk_data...\n",
      "[nltk_data]   Package punkt is already up-to-date!\n"
     ]
    }
   ],
   "source": [
    "import pandas as pd\n",
    "from num2words import num2words\n",
    "import re\n",
    "import nltk\n",
    "from nltk.corpus import stopwords\n",
    "from nltk.tokenize import word_tokenize\n",
    "nltk.download('stopwords')\n",
    "nltk.download('punkt')\n",
    "\n",
    "stop_words = set(stopwords.words('english'))"
   ]
  },
  {
   "cell_type": "code",
   "execution_count": 173,
   "metadata": {},
   "outputs": [],
   "source": [
    "def remove_punctuation_func(text):\n",
    "    '''\n",
    "    Removes all punctuation from a string, if present\n",
    "    \n",
    "    Args:\n",
    "        text (str): String to which the function is to be applied, string\n",
    "    \n",
    "    Returns:\n",
    "        Clean string without punctuations\n",
    "    '''\n",
    "    return re.sub(r'[^a-zA-Z0-9]', ' ', text)"
   ]
  },
  {
   "cell_type": "code",
   "execution_count": 174,
   "metadata": {},
   "outputs": [],
   "source": [
    "def chat_words_to_norm_words_func(text):\n",
    "    '''\n",
    "    Replaces common chat expressions with their spelled out form\n",
    "    \n",
    "    Args:\n",
    "        text (str): String to which the function is to be applied, string\n",
    "    \n",
    "    Returns:\n",
    "        Clean string with replaced chat expressions\n",
    "    ''' \n",
    "    return re.sub(r'\\S+', lambda m: chat_expressions_dict.get(m.group().upper(), m.group()) , text)\n",
    "\n",
    "def sep_num_words_func(text):\n",
    "    '''\n",
    "    Separates numbers from words or other characters\n",
    "    \n",
    "    Args:\n",
    "        text (str): String to which the function is to be applied, string\n",
    "    \n",
    "    Returns:\n",
    "        Clean string with separated numbers from words or other characters\n",
    "    ''' \n",
    "    return re.sub(r\"([0-9]+(\\.[0-9]+)?)\",r\" \\1 \", text).strip() \n",
    "\n",
    "def num_to_words(text):\n",
    "    '''\n",
    "    Convert Numbers to Words\n",
    "    \n",
    "    Args:\n",
    "        text (str): String to which the function is to be applied, string\n",
    "    \n",
    "    Returns:\n",
    "        Clean string with converted Numbers to Words\n",
    "    ''' \n",
    "    after_spliting = text.split()\n",
    "\n",
    "    for index in range(len(after_spliting)):\n",
    "        if after_spliting[index].isdigit():\n",
    "            after_spliting[index] = num2words(after_spliting[index])\n",
    "    numbers_to_words = ' '.join(after_spliting)\n",
    "    return numbers_to_words\n",
    "\n",
    "\n",
    "def convert_exp_to_word(text):\n",
    "    replacement = {'8+': 'eight plus', '9+': 'nine plus', '10+': 'ten plus', '11+': 'eleven plus', '12+': 'twelve plus', '13+': 'thirteen plus', '14+': 'fourteen plus', '15+': 'fifteen plus', '16+': 'sixteen plus', '17+': 'seventeen plus', '18+': 'eighteen plus', '19+': 'nineteen plus', '20+': 'twenty plus'}\n",
    "\n",
    "    for pat, rep in replacement.items():\n",
    "        text = re.sub(pat, rep, text)\n",
    "    return text\n",
    "\n",
    "def remove_extra_whitespaces_func(text):\n",
    "    '''\n",
    "    Removes extra whitespaces from a string, if present\n",
    "    \n",
    "    Args:\n",
    "        text (str): String to which the function is to be applied, string\n",
    "    \n",
    "    Returns:\n",
    "        Clean string without extra whitespaces\n",
    "    ''' \n",
    "    return re.sub(r'^\\s*|\\s\\s*', ' ', text).strip()\n",
    "\n",
    "def stop_word_removal(text):\n",
    "    word_tokens = word_tokenize(text)\n",
    "    # converts the words in word_tokens to lower case and then checks whether \n",
    "    #they are present in stop_words or not\n",
    "    filtered_sentence = [w for w in word_tokens if not w.lower() in stop_words]\n",
    "    #with no lower case conversion\n",
    "    filtered_sentence = []\n",
    "\n",
    "    for w in word_tokens:\n",
    "        if w not in stop_words:\n",
    "            filtered_sentence.append(w)\n",
    "    return \" \".join(filtered_sentence)\n",
    "\n",
    "def num_to_words(text):\n",
    "    '''\n",
    "    Convert Numbers to Words\n",
    "    \n",
    "    Args:\n",
    "        text (str): String to which the function is to be applied, string\n",
    "    \n",
    "    Returns:\n",
    "        Clean string with converted Numbers to Words\n",
    "    ''' \n",
    "    after_spliting = text.split()\n",
    "\n",
    "    for index in range(len(after_spliting)):\n",
    "        if after_spliting[index].isdigit():\n",
    "            after_spliting[index] = num2words(after_spliting[index])\n",
    "    numbers_to_words = ' '.join(after_spliting)\n",
    "    return numbers_to_words\n"
   ]
  },
  {
   "cell_type": "markdown",
   "metadata": {},
   "source": [
    "### Number to word"
   ]
  },
  {
   "cell_type": "code",
   "execution_count": 175,
   "metadata": {},
   "outputs": [
    {
     "data": {
      "text/plain": [
       "'8 + years of industry experience in data science, measurement, marketing strategy & analytics.'"
      ]
     },
     "execution_count": 175,
     "metadata": {},
     "output_type": "execute_result"
    }
   ],
   "source": [
    "text = '8+ years of industry experience in data science, measurement, marketing strategy & analytics.'\n",
    "text = sep_num_words_func(text)\n",
    "text"
   ]
  },
  {
   "cell_type": "code",
   "execution_count": 176,
   "metadata": {},
   "outputs": [
    {
     "data": {
      "text/plain": [
       "'eight plus + years of industry experience in data science, measurement, marketing strategy & analytics.'"
      ]
     },
     "execution_count": 176,
     "metadata": {},
     "output_type": "execute_result"
    }
   ],
   "source": [
    "text = convert_exp_to_word(text)\n",
    "text"
   ]
  },
  {
   "cell_type": "code",
   "execution_count": 177,
   "metadata": {},
   "outputs": [
    {
     "data": {
      "text/plain": [
       "'eight plus   years of industry experience in data science  measurement  marketing strategy   analytics '"
      ]
     },
     "execution_count": 177,
     "metadata": {},
     "output_type": "execute_result"
    }
   ],
   "source": [
    "text = remove_punctuation_func(text)\n",
    "text"
   ]
  },
  {
   "cell_type": "code",
   "execution_count": 178,
   "metadata": {},
   "outputs": [
    {
     "data": {
      "text/plain": [
       "'eight plus years of industry experience in data science measurement marketing strategy analytics'"
      ]
     },
     "execution_count": 178,
     "metadata": {},
     "output_type": "execute_result"
    }
   ],
   "source": [
    "text = remove_extra_whitespaces_func(text)\n",
    "text"
   ]
  },
  {
   "cell_type": "code",
   "execution_count": 179,
   "metadata": {},
   "outputs": [
    {
     "data": {
      "text/plain": [
       "'eight plus years industry experience data science measurement marketing strategy analytics'"
      ]
     },
     "execution_count": 179,
     "metadata": {},
     "output_type": "execute_result"
    }
   ],
   "source": [
    "text = stop_word_removal(text)\n",
    "text"
   ]
  },
  {
   "cell_type": "code",
   "execution_count": 180,
   "metadata": {},
   "outputs": [],
   "source": [
    "# Stemming and Lemmatization"
   ]
  },
  {
   "cell_type": "markdown",
   "metadata": {},
   "source": [
    "### Apply function to Column"
   ]
  },
  {
   "cell_type": "code",
   "execution_count": 99,
   "metadata": {
    "scrolled": true
   },
   "outputs": [],
   "source": [
    "data['description'] = data['description'].fillna(\"\")"
   ]
  },
  {
   "cell_type": "code",
   "execution_count": 182,
   "metadata": {},
   "outputs": [],
   "source": [
    "data['description'] = data['description'].apply(sep_num_words_func)\n",
    "data['description'] = data['description'].apply(num_to_words)\n",
    "data['description'] = data['description'].apply(convert_exp_to_word)\n",
    "data['description'] = data['description'].apply(remove_punctuation_func)\n",
    "data['description'] = data['description'].apply(remove_extra_whitespaces_func)\n",
    "data['description'] = data['description'].apply(stop_word_removal)\n",
    "data['description'] = data['description'].str.lower()\n"
   ]
  },
  {
   "cell_type": "markdown",
   "metadata": {},
   "source": [
    "## Single Keyword Extractor"
   ]
  },
  {
   "cell_type": "markdown",
   "metadata": {},
   "source": [
    "### KeyBERT"
   ]
  },
  {
   "cell_type": "code",
   "execution_count": 183,
   "metadata": {
    "scrolled": true
   },
   "outputs": [],
   "source": [
    "from keybert import KeyBERT\n",
    "from transformers.pipelines import pipeline\n",
    "\n",
    "# hf_model = pipeline(\"feature-extraction\", model=\"distilbert-base-cased\")\n",
    "# kw_model = KeyBERT(model=hf_model)\n",
    "\n",
    "# Max Sum Distance and Maximal Marginal Relevance \n",
    "\n",
    "kw_model_qualification = KeyBERT(model='all-MiniLM-L6-v2') # all-MiniLM-L6-v2 - paraphrase-MiniLM-L3-v2\n",
    "# kw_extractor = yake.KeywordExtractor(top=50)\n",
    "\n",
    "# facebook/bart-large"
   ]
  },
  {
   "cell_type": "code",
   "execution_count": 184,
   "metadata": {},
   "outputs": [],
   "source": [
    "# # Create candidates\n",
    "# import yake\n",
    "# kw_extractor = yake.KeywordExtractor(top=50)\n",
    "# candidates = kw_extractor.extract_keywords(data['Qualifications'][27])\n",
    "# candidates = [candidate[0] for candidate in candidates]\n",
    "# # candidates=candidates"
   ]
  },
  {
   "cell_type": "code",
   "execution_count": 185,
   "metadata": {},
   "outputs": [],
   "source": [
    "seed_keywords = [\"one year\", \"two years\", \"three years\", \"four years\", \"five years\", \"six years\"]\n"
   ]
  },
  {
   "cell_type": "code",
   "execution_count": 189,
   "metadata": {
    "scrolled": true
   },
   "outputs": [
    {
     "data": {
      "text/html": [
       "<pre style=\"white-space:pre;overflow-x:auto;line-height:normal;font-family:Menlo,'DejaVu Sans Mono',consolas,'Courier New',monospace\"><span style=\"color: #000000; text-decoration-color: #000000; background-color: #ffff00\">microsoft hiring software</span> two thousand twenty two grad twenty one february two thousand twenty two apply https \n",
       "workat tech <span style=\"color: #000000; text-decoration-color: #000000; background-color: #ffff00\">company microsoft jobs</span> engineer two thousand twenty two grad eight fvrwmg\n",
       "</pre>\n"
      ],
      "text/plain": [
       "\u001B[30;48;2;255;255;0mmicrosoft hiring software\u001B[0m two thousand twenty two grad twenty one february two thousand twenty two apply https \n",
       "workat tech \u001B[30;48;2;255;255;0mcompany microsoft jobs\u001B[0m engineer two thousand twenty two grad eight fvrwmg\n"
      ]
     },
     "metadata": {},
     "output_type": "display_data"
    },
    {
     "name": "stdout",
     "output_type": "stream",
     "text": [
      "----------\n",
      "['microsoft hiring software', 'hiring software engineer', 'software engineer thousand', 'company microsoft jobs', 'jobs software engineer', 'microsoft jobs software', 'engineer thousand grad', 'thousand grad fvrwmg', 'grad february thousand', 'thousand grad february']\n",
      "\n",
      "\n",
      "\n",
      "\n",
      "\n",
      "\n"
     ]
    },
    {
     "data": {
      "text/html": [
       "<pre style=\"white-space:pre;overflow-x:auto;line-height:normal;font-family:Menlo,'DejaVu Sans Mono',consolas,'Courier New',monospace\"><span style=\"color: #000000; text-decoration-color: #000000; background-color: #ffff00\">dxc hiring ms</span> three hundred sixty five functional finance must skills functional finance relevant functional \n",
       "experience five yrs location across dxc locations india hr spoc pranay shrivastava <span style=\"color: #000000; text-decoration-color: #000000; background-color: #ffff00\">dxc com description</span> technology \n",
       "india seeking great talent join modern application development group modern application development group works \n",
       "latest emerging digital technologies bring life large digital transformations clients look candidates digital \n",
       "natives demonstrate dexterity utilizing technology solve real world problems main goal ensure dxc delivers \n",
       "application services continuously improve maturity processes technology resulting best class technology \n",
       "implementation team member good exposure provided latest technologies like microservices api cloud native \n",
       "development responsibilities work cross functional teams drive effective creation minimum viable products bring \n",
       "business value faster design develop test deploy maintain improve software think creatively solve user problem \n",
       "holistic simple solution support maintain improve application functionality drive best practices within teams \n",
       "respect coding standards guidelines tests deploy application functionality meet requirement specification scope \n",
       "user stories manage individual project priorities deadlines deliverables build products aligned help clients \n",
       "succeed industry ability learn adapt new frameworks technologies ensure compliance documented software processes \n",
       "procedures throughout life cycle contribute step product development process ideation implementation create \n",
       "software documentation update existing documentation implement best practices standards procedures including \n",
       "quality delivery methodologies desired skills qualifications proven experience selling consulting engagements \n",
       "includes estimating scoping writing effective statements work clearly set expectations limit risk demonstrated \n",
       "excellence presenting complex development topics executive technical personnel minimum eight years experience full \n",
       "life cycle implementation dynamics ax version ax two thousand twelve three hundred sixty five consideration deep \n",
       "experience erps etc knowledge application integration framework aif enterprise portal workflows reporting dynamics \n",
       "ax expert migrating data systems dynamics ax integrating dynamics ax systems ability articulate architectural \n",
       "differences solution methods challenges approaches integrating solutions built different platforms including \n",
       "working knowledge different architectural frameworks may used customers ability move high level architectural \n",
       "review design roll sleeves level phases application delivery project knowledge full application life cycle design \n",
       "tools methodologies exceptional demonstrated consulting skills prior experience implementing major modules within \n",
       "dynamics ax understand build maintain positive client peer relationships demonstrate capabilities evaluating new \n",
       "techniques utilizing key elements demonstrate strong communication skills written verbal high proficiency \n",
       "financials gl ar ap fixed assets taxation consolidation intercompany mr financial reports banking module dynamics \n",
       "ax multi company financial consolidation sound knowledge gaap taxation europe north america five years experience \n",
       "ax implementation excellent documentation articulation skills five years experience working overseas customers us \n",
       "europe nice skills knowledge sap oracle finance module desirable mandatory soft skills transparency excellent \n",
       "written verbal communication skills flexibility adaptability service spirit teamwork collaboration result \n",
       "orientation communication negotiation detail oriented thorough analytical problem solving <span style=\"color: #000000; text-decoration-color: #000000; background-color: #ffff00\">skills dxc technology</span> \n",
       "technology nyse dxc world leading independent end end services company helping clients harness power innovation \n",
       "thrive change created merger csc enterprise services business hewlett packard <span style=\"color: #000000; text-decoration-color: #000000; background-color: #ffff00\">enterprise dxc technology</span> nearly six \n",
       "zero private public sector clients across seventy countries company technology independence global talent extensive\n",
       "partner alliance combine deliver powerful next generation <span style=\"color: #000000; text-decoration-color: #000000; background-color: #ffff00\">services solutions dxc</span> recognized among best corporate \n",
       "citizens globally information <span style=\"color: #000000; text-decoration-color: #000000; background-color: #ffff00\">visit www dxc</span>\n",
       "</pre>\n"
      ],
      "text/plain": [
       "\u001B[30;48;2;255;255;0mdxc hiring ms\u001B[0m three hundred sixty five functional finance must skills functional finance relevant functional \n",
       "experience five yrs location across dxc locations india hr spoc pranay shrivastava \u001B[30;48;2;255;255;0mdxc com description\u001B[0m technology \n",
       "india seeking great talent join modern application development group modern application development group works \n",
       "latest emerging digital technologies bring life large digital transformations clients look candidates digital \n",
       "natives demonstrate dexterity utilizing technology solve real world problems main goal ensure dxc delivers \n",
       "application services continuously improve maturity processes technology resulting best class technology \n",
       "implementation team member good exposure provided latest technologies like microservices api cloud native \n",
       "development responsibilities work cross functional teams drive effective creation minimum viable products bring \n",
       "business value faster design develop test deploy maintain improve software think creatively solve user problem \n",
       "holistic simple solution support maintain improve application functionality drive best practices within teams \n",
       "respect coding standards guidelines tests deploy application functionality meet requirement specification scope \n",
       "user stories manage individual project priorities deadlines deliverables build products aligned help clients \n",
       "succeed industry ability learn adapt new frameworks technologies ensure compliance documented software processes \n",
       "procedures throughout life cycle contribute step product development process ideation implementation create \n",
       "software documentation update existing documentation implement best practices standards procedures including \n",
       "quality delivery methodologies desired skills qualifications proven experience selling consulting engagements \n",
       "includes estimating scoping writing effective statements work clearly set expectations limit risk demonstrated \n",
       "excellence presenting complex development topics executive technical personnel minimum eight years experience full \n",
       "life cycle implementation dynamics ax version ax two thousand twelve three hundred sixty five consideration deep \n",
       "experience erps etc knowledge application integration framework aif enterprise portal workflows reporting dynamics \n",
       "ax expert migrating data systems dynamics ax integrating dynamics ax systems ability articulate architectural \n",
       "differences solution methods challenges approaches integrating solutions built different platforms including \n",
       "working knowledge different architectural frameworks may used customers ability move high level architectural \n",
       "review design roll sleeves level phases application delivery project knowledge full application life cycle design \n",
       "tools methodologies exceptional demonstrated consulting skills prior experience implementing major modules within \n",
       "dynamics ax understand build maintain positive client peer relationships demonstrate capabilities evaluating new \n",
       "techniques utilizing key elements demonstrate strong communication skills written verbal high proficiency \n",
       "financials gl ar ap fixed assets taxation consolidation intercompany mr financial reports banking module dynamics \n",
       "ax multi company financial consolidation sound knowledge gaap taxation europe north america five years experience \n",
       "ax implementation excellent documentation articulation skills five years experience working overseas customers us \n",
       "europe nice skills knowledge sap oracle finance module desirable mandatory soft skills transparency excellent \n",
       "written verbal communication skills flexibility adaptability service spirit teamwork collaboration result \n",
       "orientation communication negotiation detail oriented thorough analytical problem solving \u001B[30;48;2;255;255;0mskills dxc technology\u001B[0m \n",
       "technology nyse dxc world leading independent end end services company helping clients harness power innovation \n",
       "thrive change created merger csc enterprise services business hewlett packard \u001B[30;48;2;255;255;0menterprise dxc technology\u001B[0m nearly six \n",
       "zero private public sector clients across seventy countries company technology independence global talent extensive\n",
       "partner alliance combine deliver powerful next generation \u001B[30;48;2;255;255;0mservices solutions dxc\u001B[0m recognized among best corporate \n",
       "citizens globally information \u001B[30;48;2;255;255;0mvisit www dxc\u001B[0m\n"
      ]
     },
     "metadata": {},
     "output_type": "display_data"
    },
    {
     "name": "stdout",
     "output_type": "stream",
     "text": [
      "----------\n",
      "['services solutions dxc', 'skills dxc technology', 'visit www dxc', 'dxc hiring ms', 'dxc technology india', 'dxc technology serves', 'enterprise dxc technology', 'dxc com description', 'solutions dxc technology', 'www dxc technology']\n",
      "\n",
      "\n",
      "\n",
      "\n",
      "\n",
      "\n"
     ]
    },
    {
     "data": {
      "text/html": [
       "<pre style=\"white-space:pre;overflow-x:auto;line-height:normal;font-family:Menlo,'DejaVu Sans Mono',consolas,'Courier New',monospace\">microsoft campus drive two thousand twenty three hiring freshers data annotation specialist bachelor degree \n",
       "equivalent work experience hyderabad location detailed eligibility application process given responsibilities want \n",
       "use language skills help make better <span style=\"color: #000000; text-decoration-color: #000000; background-color: #ffff00\">microsoft products transcription</span> key component building next generations \n",
       "speech recognition producing high quality <span style=\"color: #000000; text-decoration-color: #000000; background-color: #ffff00\">transcriptions train improve</span> <span style=\"color: #000000; text-decoration-color: #000000; background-color: #ffff00\">products services transcription</span> use native \n",
       "language skills cultural knowledge capture linguistic nuances high fidelity role foundation microsoft teams \n",
       "responsible driving machine learning high ai technology ai assistance people daily life meeting captioning join \n",
       "team use background expertise continue delivering <span style=\"color: #000000; text-decoration-color: #000000; background-color: #ffff00\">value microsoft transcription</span> responsibilities include using \n",
       "house tools transcribe annotate data various projects examples may <span style=\"color: #000000; text-decoration-color: #000000; background-color: #ffff00\">providing transcription text</span> clips annotating \n",
       "text images verify certain types data going content online offline extract information provide needed information \n",
       "tools high accuracy consistency performing quality evaluation transcription annotation results produced different \n",
       "sources collaborate team members day day problem solving projects assigned <span style=\"color: #000000; text-decoration-color: #000000; background-color: #ffff00\">managers transcription specialists</span> \n",
       "across offensive sensitive objectionable material may required work type content help train ai models protection \n",
       "microsoft customers basic qualifications graduation equivalent work experience knowledge required language spelling\n",
       "vocabulary grammar pronunciation accents intent native speaker target locale language lived native country within \n",
       "last five years equivalent experience see location language requirements fluent english hindi written spoken \n",
       "preferred qualifications bachelor degree equivalent work experience depth knowledge required language pitch tones \n",
       "rhythm intent etc ability fun work bringing authentic self linguistics computational linguistic background \n",
       "experience language technology including speech proficient multiple required languages indian local languages would\n",
       "added advantage great attention detail experience ms applications excel power bi power app etc relevant \n",
       "certifications languages\n",
       "</pre>\n"
      ],
      "text/plain": [
       "microsoft campus drive two thousand twenty three hiring freshers data annotation specialist bachelor degree \n",
       "equivalent work experience hyderabad location detailed eligibility application process given responsibilities want \n",
       "use language skills help make better \u001B[30;48;2;255;255;0mmicrosoft products transcription\u001B[0m key component building next generations \n",
       "speech recognition producing high quality \u001B[30;48;2;255;255;0mtranscriptions train improve\u001B[0m \u001B[30;48;2;255;255;0mproducts services transcription\u001B[0m use native \n",
       "language skills cultural knowledge capture linguistic nuances high fidelity role foundation microsoft teams \n",
       "responsible driving machine learning high ai technology ai assistance people daily life meeting captioning join \n",
       "team use background expertise continue delivering \u001B[30;48;2;255;255;0mvalue microsoft transcription\u001B[0m responsibilities include using \n",
       "house tools transcribe annotate data various projects examples may \u001B[30;48;2;255;255;0mproviding transcription text\u001B[0m clips annotating \n",
       "text images verify certain types data going content online offline extract information provide needed information \n",
       "tools high accuracy consistency performing quality evaluation transcription annotation results produced different \n",
       "sources collaborate team members day day problem solving projects assigned \u001B[30;48;2;255;255;0mmanagers transcription specialists\u001B[0m \n",
       "across offensive sensitive objectionable material may required work type content help train ai models protection \n",
       "microsoft customers basic qualifications graduation equivalent work experience knowledge required language spelling\n",
       "vocabulary grammar pronunciation accents intent native speaker target locale language lived native country within \n",
       "last five years equivalent experience see location language requirements fluent english hindi written spoken \n",
       "preferred qualifications bachelor degree equivalent work experience depth knowledge required language pitch tones \n",
       "rhythm intent etc ability fun work bringing authentic self linguistics computational linguistic background \n",
       "experience language technology including speech proficient multiple required languages indian local languages would\n",
       "added advantage great attention detail experience ms applications excel power bi power app etc relevant \n",
       "certifications languages\n"
      ]
     },
     "metadata": {},
     "output_type": "display_data"
    },
    {
     "name": "stdout",
     "output_type": "stream",
     "text": [
      "----------\n",
      "['microsoft transcription specialist', 'value microsoft transcription', 'transcription specialists come', 'microsoft products transcription', 'providing transcription text', 'managers transcription specialists', 'services transcription specialist', 'train improve microsoft', 'products services transcription', 'transcriptions train improve']\n",
      "\n",
      "\n",
      "\n",
      "\n",
      "\n",
      "\n"
     ]
    },
    {
     "data": {
      "text/html": [
       "<pre style=\"white-space:pre;overflow-x:auto;line-height:normal;font-family:Menlo,'DejaVu Sans Mono',consolas,'Courier New',monospace\"><span style=\"color: #000000; text-decoration-color: #000000; background-color: #ffff00\">internship students paired</span> expected collaborate <span style=\"color: #000000; text-decoration-color: #000000; background-color: #ffff00\">interns researchers present</span> contribute vibrant life community msr \n",
       "india conducts research wide <span style=\"color: #000000; text-decoration-color: #000000; background-color: #ffff00\">range areas internships</span> application process try find opportunity best <span style=\"color: #000000; text-decoration-color: #000000; background-color: #ffff00\">aligns interests</span>\n",
       "<span style=\"color: #000000; text-decoration-color: #000000; background-color: #ffff00\">internships</span> year round though majority <span style=\"color: #000000; text-decoration-color: #000000; background-color: #ffff00\">begin summer internships</span> help visa applications needed\n",
       "</pre>\n"
      ],
      "text/plain": [
       "\u001B[30;48;2;255;255;0minternship students paired\u001B[0m expected collaborate \u001B[30;48;2;255;255;0minterns researchers present\u001B[0m contribute vibrant life community msr \n",
       "india conducts research wide \u001B[30;48;2;255;255;0mrange areas internships\u001B[0m application process try find opportunity best \u001B[30;48;2;255;255;0maligns interests\u001B[0m\n",
       "\u001B[30;48;2;255;255;0minternships\u001B[0m year round though majority \u001B[30;48;2;255;255;0mbegin summer internships\u001B[0m help visa applications needed\n"
      ]
     },
     "metadata": {},
     "output_type": "display_data"
    },
    {
     "name": "stdout",
     "output_type": "stream",
     "text": [
      "----------\n",
      "['internships available application', 'internship students paired', 'areas internships available', 'interests internships offered', 'aligns interests internships', 'internships paid help', 'begin summer internships', 'students paired mentors', 'interns researchers present', 'range areas internships']\n",
      "\n",
      "\n",
      "\n",
      "\n",
      "\n",
      "\n"
     ]
    },
    {
     "data": {
      "text/html": [
       "<pre style=\"white-space:pre;overflow-x:auto;line-height:normal;font-family:Menlo,'DejaVu Sans Mono',consolas,'Courier New',monospace\">microsoft jobs two thousand twenty three research <span style=\"color: #000000; text-decoration-color: #000000; background-color: #ffff00\">fellow position bangalore</span> <span style=\"color: #000000; text-decoration-color: #000000; background-color: #ffff00\">microsoft currently hiring</span> fellow \n",
       "position freshers <span style=\"color: #000000; text-decoration-color: #000000; background-color: #ffff00\">experience candidates bangalore</span> candidates qualifications like bachelor degree related field \n",
       "apply <span style=\"color: #000000; text-decoration-color: #000000; background-color: #ffff00\">online microsoft recruitment</span> thousand twenty three using direct link given candidates requested read details \n",
       "eligibility criteria professional skills job description experience etc carefully making online application \n",
       "responsibilities job description details candidates latest updated resume original documents ten th twelve th \n",
       "graduation pg courses professional certification recent photo valid id proof selection process interview technical \n",
       "machine test hr gd etc may also browse jobs location using links given rfs spend one two years msr india different \n",
       "projects require different combination skills current past rfs worked solving deep theoretical problems pushing \n",
       "boundaries ai designing new programming languages designing implementing security protocols scale field work rural \n",
       "india prototyping communication sensing hardware designing building large scale software systems networks \n",
       "regardless consistently aim create academic industry societal impact eligibility experience skills required \n",
       "candidates bachelor master degree computer science related field evaluate candidates combination factors including \n",
       "academic performance raw smarts development skills passion research software development excellent communication \n",
       "skills verbal written online application <span style=\"color: #000000; text-decoration-color: #000000; background-color: #ffff00\">link microsoft recruitment</span> thousand twenty three research fellow position \n",
       "given please apply link expires please note offcampuscareers ask money anything anyone offcampuscareers provides \n",
       "free service <span style=\"color: #000000; text-decoration-color: #000000; background-color: #ffff00\">help job seekers</span>\n",
       "</pre>\n"
      ],
      "text/plain": [
       "microsoft jobs two thousand twenty three research \u001B[30;48;2;255;255;0mfellow position bangalore\u001B[0m \u001B[30;48;2;255;255;0mmicrosoft currently hiring\u001B[0m fellow \n",
       "position freshers \u001B[30;48;2;255;255;0mexperience candidates bangalore\u001B[0m candidates qualifications like bachelor degree related field \n",
       "apply \u001B[30;48;2;255;255;0monline microsoft recruitment\u001B[0m thousand twenty three using direct link given candidates requested read details \n",
       "eligibility criteria professional skills job description experience etc carefully making online application \n",
       "responsibilities job description details candidates latest updated resume original documents ten th twelve th \n",
       "graduation pg courses professional certification recent photo valid id proof selection process interview technical \n",
       "machine test hr gd etc may also browse jobs location using links given rfs spend one two years msr india different \n",
       "projects require different combination skills current past rfs worked solving deep theoretical problems pushing \n",
       "boundaries ai designing new programming languages designing implementing security protocols scale field work rural \n",
       "india prototyping communication sensing hardware designing building large scale software systems networks \n",
       "regardless consistently aim create academic industry societal impact eligibility experience skills required \n",
       "candidates bachelor master degree computer science related field evaluate candidates combination factors including \n",
       "academic performance raw smarts development skills passion research software development excellent communication \n",
       "skills verbal written online application \u001B[30;48;2;255;255;0mlink microsoft recruitment\u001B[0m thousand twenty three research fellow position \n",
       "given please apply link expires please note offcampuscareers ask money anything anyone offcampuscareers provides \n",
       "free service \u001B[30;48;2;255;255;0mhelp job seekers\u001B[0m\n"
      ]
     },
     "metadata": {},
     "output_type": "display_data"
    },
    {
     "name": "stdout",
     "output_type": "stream",
     "text": [
      "----------\n",
      "['experience candidates bangalore', 'online microsoft recruitment', 'job seekers india', 'link microsoft recruitment', 'microsoft recruitment thousand', 'microsoft currently hiring', 'fellow position bangalore', 'bangalore location candidates', 'microsoft jobs thousand', 'help job seekers']\n",
      "\n",
      "\n",
      "\n",
      "\n",
      "\n",
      "\n"
     ]
    },
    {
     "data": {
      "text/html": [
       "<pre style=\"white-space:pre;overflow-x:auto;line-height:normal;font-family:Menlo,'DejaVu Sans Mono',consolas,'Courier New',monospace\">customer partner experience cxp team part identity network access idna engineering division within microsoft \n",
       "booming security product group work customers partners world drive service adoption shape microsoft identity \n",
       "platform <span style=\"color: #000000; text-decoration-color: #000000; background-color: #ffff00\">data insights team</span> <span style=\"color: #000000; text-decoration-color: #000000; background-color: #ffff00\">opportunity data engineer</span> customer connected engineering team microsoft looking \n",
       "customer obsessed individual growth mindset compassion customer experience experimental approach join <span style=\"color: #000000; text-decoration-color: #000000; background-color: #ffff00\">team data </span>\n",
       "<span style=\"color: #000000; text-decoration-color: #000000; background-color: #ffff00\">insights</span> group geo distributed data pms <span style=\"color: #000000; text-decoration-color: #000000; background-color: #ffff00\">data engineers data</span> building deep understanding business customers \n",
       "conducting opportunity analysis defining product metrics generating <span style=\"color: #000000; text-decoration-color: #000000; background-color: #ffff00\">key insights drive</span> decisions data engineer team\n",
       "responsible managing data real estate architecting developing next gen data platform well conducting deep <span style=\"color: #000000; text-decoration-color: #000000; background-color: #ffff00\">data </span>\n",
       "<span style=\"color: #000000; text-decoration-color: #000000; background-color: #ffff00\">analysis identityjobs</span> builds deep understanding microsoft security business technology customers implements \n",
       "scalable data models data pipelines data storage management transformation solutions ensures data quality \n",
       "compliance partners teams across microsoft within identity division <span style=\"color: #000000; text-decoration-color: #000000; background-color: #ffff00\">drive customer opportunities</span> growth \n",
       "communicates key outcomes stakeholders leadership qualifications bachelor master degree mathematics statistics data\n",
       "science computer science computer engineering related field two years industry experience deep technical role \n",
       "building products one following areas business intelligence analytics cloud services productivity applications \n",
       "services business application <span style=\"color: #000000; text-decoration-color: #000000; background-color: #ffff00\">services experience data</span> transformation technologies hands <span style=\"color: #000000; text-decoration-color: #000000; background-color: #ffff00\">experience big data</span> well \n",
       "data analytics tools excellent data visualization skills able present <span style=\"color: #000000; text-decoration-color: #000000; background-color: #ffff00\">insights drive business</span> knowledge machine \n",
       "learning predictive modeling significant plus excellent communication collaboration skills strong track record self\n",
       "directed execution requirements requirements include limited following specialized security screenings ability meet\n",
       "microsoft customer government security screening requirements required role microsoft cloud background check \n",
       "position required pass microsoft cloud background check upon hire transfer every two years thereafter microsoft \n",
       "equal opportunity employer qualified applicants receive consideration employment without regard age ancestry color \n",
       "family medical care leave gender identity expression genetic information marital status medical condition national \n",
       "origin physical mental disability political affiliation protected veteran status race religion sex including \n",
       "pregnancy sexual orientation characteristic protected applicable laws regulations ordinances need assistance \n",
       "reasonable accommodation due disability application recruiting process please send request via accommodation \n",
       "request form benefits perks listed may vary depending nature employment microsoft country work\n",
       "</pre>\n"
      ],
      "text/plain": [
       "customer partner experience cxp team part identity network access idna engineering division within microsoft \n",
       "booming security product group work customers partners world drive service adoption shape microsoft identity \n",
       "platform \u001B[30;48;2;255;255;0mdata insights team\u001B[0m \u001B[30;48;2;255;255;0mopportunity data engineer\u001B[0m customer connected engineering team microsoft looking \n",
       "customer obsessed individual growth mindset compassion customer experience experimental approach join \u001B[30;48;2;255;255;0mteam data \u001B[0m\n",
       "\u001B[30;48;2;255;255;0minsights\u001B[0m group geo distributed data pms \u001B[30;48;2;255;255;0mdata engineers data\u001B[0m building deep understanding business customers \n",
       "conducting opportunity analysis defining product metrics generating \u001B[30;48;2;255;255;0mkey insights drive\u001B[0m decisions data engineer team\n",
       "responsible managing data real estate architecting developing next gen data platform well conducting deep \u001B[30;48;2;255;255;0mdata \u001B[0m\n",
       "\u001B[30;48;2;255;255;0manalysis identityjobs\u001B[0m builds deep understanding microsoft security business technology customers implements \n",
       "scalable data models data pipelines data storage management transformation solutions ensures data quality \n",
       "compliance partners teams across microsoft within identity division \u001B[30;48;2;255;255;0mdrive customer opportunities\u001B[0m growth \n",
       "communicates key outcomes stakeholders leadership qualifications bachelor master degree mathematics statistics data\n",
       "science computer science computer engineering related field two years industry experience deep technical role \n",
       "building products one following areas business intelligence analytics cloud services productivity applications \n",
       "services business application \u001B[30;48;2;255;255;0mservices experience data\u001B[0m transformation technologies hands \u001B[30;48;2;255;255;0mexperience big data\u001B[0m well \n",
       "data analytics tools excellent data visualization skills able present \u001B[30;48;2;255;255;0minsights drive business\u001B[0m knowledge machine \n",
       "learning predictive modeling significant plus excellent communication collaboration skills strong track record self\n",
       "directed execution requirements requirements include limited following specialized security screenings ability meet\n",
       "microsoft customer government security screening requirements required role microsoft cloud background check \n",
       "position required pass microsoft cloud background check upon hire transfer every two years thereafter microsoft \n",
       "equal opportunity employer qualified applicants receive consideration employment without regard age ancestry color \n",
       "family medical care leave gender identity expression genetic information marital status medical condition national \n",
       "origin physical mental disability political affiliation protected veteran status race religion sex including \n",
       "pregnancy sexual orientation characteristic protected applicable laws regulations ordinances need assistance \n",
       "reasonable accommodation due disability application recruiting process please send request via accommodation \n",
       "request form benefits perks listed may vary depending nature employment microsoft country work\n"
      ]
     },
     "metadata": {},
     "output_type": "display_data"
    },
    {
     "name": "stdout",
     "output_type": "stream",
     "text": [
      "----------\n",
      "['experience big data', 'drive customer opportunities', 'opportunity data engineer', 'data insights team', 'insights drive business', 'key insights drive', 'data analysis identityjobs', 'team data insights', 'services experience data', 'data engineers data']\n",
      "\n",
      "\n",
      "\n",
      "\n",
      "\n",
      "\n"
     ]
    },
    {
     "data": {
      "text/html": [
       "<pre style=\"white-space:pre;overflow-x:auto;line-height:normal;font-family:Menlo,'DejaVu Sans Mono',consolas,'Courier New',monospace\"><span style=\"color: #000000; text-decoration-color: #000000; background-color: #ffff00\">passionate cloud technologies</span> build next generation technology <span style=\"color: #000000; text-decoration-color: #000000; background-color: #ffff00\">helps manage clouds</span> clouds team looking product \n",
       "leader obsessed driving modern engineering system focuses industry leading practices tools provide autonomous \n",
       "efficient internet <span style=\"color: #000000; text-decoration-color: #000000; background-color: #ffff00\">scale cloud infrastructure</span> three hundred sixty five three hundred sixty five microsoft flagship \n",
       "productivity offering millions users used largest organizations world fortune five hundred well public sector \n",
       "provide distributed scalable highly reliable compliant secure service millions people microsoft three hundred sixty\n",
       "five three hundred sixty five expanding presence new markets cyber security emerging product area reflects \n",
       "customers governments demand isolated controlled <span style=\"color: #000000; text-decoration-color: #000000; background-color: #ffff00\">cloud environments continue</span> heightened security feature <span style=\"color: #000000; text-decoration-color: #000000; background-color: #ffff00\">benefits </span>\n",
       "<span style=\"color: #000000; text-decoration-color: #000000; background-color: #ffff00\">public cloud</span>\n",
       "</pre>\n"
      ],
      "text/plain": [
       "\u001B[30;48;2;255;255;0mpassionate cloud technologies\u001B[0m build next generation technology \u001B[30;48;2;255;255;0mhelps manage clouds\u001B[0m clouds team looking product \n",
       "leader obsessed driving modern engineering system focuses industry leading practices tools provide autonomous \n",
       "efficient internet \u001B[30;48;2;255;255;0mscale cloud infrastructure\u001B[0m three hundred sixty five three hundred sixty five microsoft flagship \n",
       "productivity offering millions users used largest organizations world fortune five hundred well public sector \n",
       "provide distributed scalable highly reliable compliant secure service millions people microsoft three hundred sixty\n",
       "five three hundred sixty five expanding presence new markets cyber security emerging product area reflects \n",
       "customers governments demand isolated controlled \u001B[30;48;2;255;255;0mcloud environments continue\u001B[0m heightened security feature \u001B[30;48;2;255;255;0mbenefits \u001B[0m\n",
       "\u001B[30;48;2;255;255;0mpublic cloud\u001B[0m\n"
      ]
     },
     "metadata": {},
     "output_type": "display_data"
    },
    {
     "name": "stdout",
     "output_type": "stream",
     "text": [
      "----------\n",
      "['passionate cloud technologies', 'cloud infrastructure microsoft', 'cloud technologies want', 'helps manage clouds', 'benefits public cloud', 'infrastructure microsoft microsoft', 'cloud environments continue', 'scale cloud infrastructure', 'manage clouds special', 'special clouds team']\n",
      "\n",
      "\n",
      "\n",
      "\n",
      "\n",
      "\n"
     ]
    },
    {
     "data": {
      "text/html": [
       "<pre style=\"white-space:pre;overflow-x:auto;line-height:normal;font-family:Menlo,'DejaVu Sans Mono',consolas,'Courier New',monospace\">position summary <span style=\"color: #000000; text-decoration-color: #000000; background-color: #ffff00\">core business operations</span> business operations cbo portfolio integrated set offerings addresses \n",
       "clients heart business issues portfolio combines functional technical capabilities help clients transform modernize\n",
       "run existing technology platforms moreover cbo seeks enhance clients business operations help take advantage new \n",
       "technologies innovation aided designing implementing deploying sector specific solutions programs clients navigate \n",
       "dynamic disruptive markets solutions designed help drive <span style=\"color: #000000; text-decoration-color: #000000; background-color: #ffff00\">product service innovation</span> financial performance \n",
       "accelerate speed market operate platforms innovate continuously focus driving strategy investment around cloud \n",
       "addition previously established software engineering operational transformation capabilities positions us long term\n",
       "success market cbo five different <span style=\"color: #000000; text-decoration-color: #000000; background-color: #ffff00\">offerings application modernization</span> ami delivers end end technology application \n",
       "solutions enable improve <span style=\"color: #000000; text-decoration-color: #000000; background-color: #ffff00\">clients core business</span> truly modern way leveraging best innovative technology people \n",
       "delivery approaches help dream explore build future cloud engineering <span style=\"color: #000000; text-decoration-color: #000000; background-color: #ffff00\">services ces focused</span> end cloud services \n",
       "migration strategy transformation cloud <span style=\"color: #000000; text-decoration-color: #000000; background-color: #ffff00\">operations core industry</span> cis focused industry vertical sector specific \n",
       "solutions drive operational change automate <span style=\"color: #000000; text-decoration-color: #000000; background-color: #ffff00\">core business operations</span> ot focused creating flexible innovative \n",
       "business model clients supported strong operations foundation cbo serves clients across life sciences health care \n",
       "government public services financial services among industries core technology operations cto offers differentiated\n",
       "operate services clients solutions help organizations manage portfolio applications scale optimize critical \n",
       "business operations drive speed outcome deliver business transformation dot net angular developer consultant \n",
       "opportunity fulfill aspirations work state art net solutions along dynamic creative team expected well versed \n",
       "latest net web development tools technologies strong knowledge object oriented programming concepts responsible net\n",
       "web development unit testing work development unit testing using net technology stack work functional teams project\n",
       "onsite offshore participate daily status calls meetings status reporting tasks assigned lead team deloitte \n",
       "consulting systems integration practice helps clients bring focus toughest integration challenges across technology\n",
       "lifecycle build tailor applications fit needs client business team members drives analysis technical design large \n",
       "scale software applications integrated systems including conceptual architectures application architecture design \n",
       "software engineering deliver deploy custom developed applications clients including prototyping code development \n",
       "modularization unit testing performance testing configuration defect management production deployment learn \n",
       "technology consulting practice www deloitte com qualifications required least three six years web application \n",
       "development experience using net technology stack able develop solutions following established technical design \n",
       "application development standards quality processes projects capable using standard technology development tools \n",
       "like visual studio tfs analyse identify gaps functional business requirement strong knowledge oops concepts dot net\n",
       "framework vb net collections generics experience web technologies asp net web forms mvc wcf javascript html \n",
       "experience ado net experience web application servers iis ability write basic sql simple joins preferred experience\n",
       "using enterprise library experience entity framework nhibernate linq two sql knowledge ajax silverlight angular js \n",
       "jquery knowledge design patterns ability write build configuration scripts using build tools ant msbuild msi \n",
       "creation etc good communication skills able communicate clearly cross teams project functional development testing \n",
       "good team player quick learner aptitude pick things fast location hyderabad bengaluru mumbai pune chennai grow \n",
       "deloitte invested great deal create rich environment professionals grow want people develop way playing strengths \n",
       "hone leadership skills part efforts provide professionals variety learning networking opportunities including \n",
       "exposure leaders sponsors coaches challenging assignments help accelerate careers along way two people learn way \n",
       "provide range resources including live classrooms team based learning elearning du leadership center india state \n",
       "art world class learning center hyderabad offices extension deloitte university du westlake texas represents \n",
       "tangible symbol commitment people growth development explore du leadership center india benefits deloitte know \n",
       "great people make great organization value people offer employees broad range benefits learn working deloitte mean \n",
       "deloitte culture positive supportive culture encourages people best work every day celebrate individuals \n",
       "recognizing uniqueness offering flexibility make daily choices help healthy centered confident aware offer well \n",
       "programs continuously looking new ways maintain culture inclusive invites authenticity leverages diversity people \n",
       "excel lead healthy happy lives learn life deloitte corporate citizenship deloitte led purpose make impact matters \n",
       "purpose defines extends relationships clients people communities believe business power inspire transform focus \n",
       "education giving skill based volunteerism leadership help drive positive social impact communities learn deloitte \n",
       "impact world usi eh twenty three consulting cbo ce net deloitte brand tens thousands dedicated professionals \n",
       "independent firms throughout world collaborate provide audit consulting financial advisory risk management tax \n",
       "services selected clients firms members deloitte touche tohmatsu limited dttl uk private company limited guarantee \n",
       "member firm provides services particular geographic area subject laws professional regulations particular country \n",
       "countries operates dttl provide services clients dttl dttl member firm separate distinct legal entities obligate \n",
       "dttl dttl member firm liable acts omissions dttl member firm structured differently accordance national laws \n",
       "regulations customary practice factors may secure provision professional services territory subsidiaries affiliates\n",
       "entities united states deloitte llp member firm dttl like dttl deloitte llp provide services clients instead \n",
       "services primarily provided subsidiaries deloitte llp including deloitte touche llp deloitte consulting llp \n",
       "deloitte financial advisory services llp deloitte tax llp recruiting tips finding right job preparing recruitment \n",
       "process tricky check tips deloitte recruiting professionals set success check recruiting tips deloitte recruiters \n",
       "benefits believe undisputed leader professional services equip resources make positive impact well journey vision \n",
       "create leadership culture focused development well people benefits programs support family well needs learn working\n",
       "deloitte mean people culture people culture make deloitte place leaders thrive get inside look rich diversity \n",
       "background education experiences people impact make inspired stories people purpose deloitte purpose make impact \n",
       "matters clients people communities creating trust confidence equitable society deloitte purpose synonymous work \n",
       "every day defines focusing collective efforts advance sustainability equity trust come life core commitments learn \n",
       "deloitte purpose commitments impact professional development want make impact want make help providing culture \n",
       "training resources opportunities help grow succeed professional learn commitment developing people requisition code\n",
       "ninety four thousand six hundred thirteen\n",
       "</pre>\n"
      ],
      "text/plain": [
       "position summary \u001B[30;48;2;255;255;0mcore business operations\u001B[0m business operations cbo portfolio integrated set offerings addresses \n",
       "clients heart business issues portfolio combines functional technical capabilities help clients transform modernize\n",
       "run existing technology platforms moreover cbo seeks enhance clients business operations help take advantage new \n",
       "technologies innovation aided designing implementing deploying sector specific solutions programs clients navigate \n",
       "dynamic disruptive markets solutions designed help drive \u001B[30;48;2;255;255;0mproduct service innovation\u001B[0m financial performance \n",
       "accelerate speed market operate platforms innovate continuously focus driving strategy investment around cloud \n",
       "addition previously established software engineering operational transformation capabilities positions us long term\n",
       "success market cbo five different \u001B[30;48;2;255;255;0mofferings application modernization\u001B[0m ami delivers end end technology application \n",
       "solutions enable improve \u001B[30;48;2;255;255;0mclients core business\u001B[0m truly modern way leveraging best innovative technology people \n",
       "delivery approaches help dream explore build future cloud engineering \u001B[30;48;2;255;255;0mservices ces focused\u001B[0m end cloud services \n",
       "migration strategy transformation cloud \u001B[30;48;2;255;255;0moperations core industry\u001B[0m cis focused industry vertical sector specific \n",
       "solutions drive operational change automate \u001B[30;48;2;255;255;0mcore business operations\u001B[0m ot focused creating flexible innovative \n",
       "business model clients supported strong operations foundation cbo serves clients across life sciences health care \n",
       "government public services financial services among industries core technology operations cto offers differentiated\n",
       "operate services clients solutions help organizations manage portfolio applications scale optimize critical \n",
       "business operations drive speed outcome deliver business transformation dot net angular developer consultant \n",
       "opportunity fulfill aspirations work state art net solutions along dynamic creative team expected well versed \n",
       "latest net web development tools technologies strong knowledge object oriented programming concepts responsible net\n",
       "web development unit testing work development unit testing using net technology stack work functional teams project\n",
       "onsite offshore participate daily status calls meetings status reporting tasks assigned lead team deloitte \n",
       "consulting systems integration practice helps clients bring focus toughest integration challenges across technology\n",
       "lifecycle build tailor applications fit needs client business team members drives analysis technical design large \n",
       "scale software applications integrated systems including conceptual architectures application architecture design \n",
       "software engineering deliver deploy custom developed applications clients including prototyping code development \n",
       "modularization unit testing performance testing configuration defect management production deployment learn \n",
       "technology consulting practice www deloitte com qualifications required least three six years web application \n",
       "development experience using net technology stack able develop solutions following established technical design \n",
       "application development standards quality processes projects capable using standard technology development tools \n",
       "like visual studio tfs analyse identify gaps functional business requirement strong knowledge oops concepts dot net\n",
       "framework vb net collections generics experience web technologies asp net web forms mvc wcf javascript html \n",
       "experience ado net experience web application servers iis ability write basic sql simple joins preferred experience\n",
       "using enterprise library experience entity framework nhibernate linq two sql knowledge ajax silverlight angular js \n",
       "jquery knowledge design patterns ability write build configuration scripts using build tools ant msbuild msi \n",
       "creation etc good communication skills able communicate clearly cross teams project functional development testing \n",
       "good team player quick learner aptitude pick things fast location hyderabad bengaluru mumbai pune chennai grow \n",
       "deloitte invested great deal create rich environment professionals grow want people develop way playing strengths \n",
       "hone leadership skills part efforts provide professionals variety learning networking opportunities including \n",
       "exposure leaders sponsors coaches challenging assignments help accelerate careers along way two people learn way \n",
       "provide range resources including live classrooms team based learning elearning du leadership center india state \n",
       "art world class learning center hyderabad offices extension deloitte university du westlake texas represents \n",
       "tangible symbol commitment people growth development explore du leadership center india benefits deloitte know \n",
       "great people make great organization value people offer employees broad range benefits learn working deloitte mean \n",
       "deloitte culture positive supportive culture encourages people best work every day celebrate individuals \n",
       "recognizing uniqueness offering flexibility make daily choices help healthy centered confident aware offer well \n",
       "programs continuously looking new ways maintain culture inclusive invites authenticity leverages diversity people \n",
       "excel lead healthy happy lives learn life deloitte corporate citizenship deloitte led purpose make impact matters \n",
       "purpose defines extends relationships clients people communities believe business power inspire transform focus \n",
       "education giving skill based volunteerism leadership help drive positive social impact communities learn deloitte \n",
       "impact world usi eh twenty three consulting cbo ce net deloitte brand tens thousands dedicated professionals \n",
       "independent firms throughout world collaborate provide audit consulting financial advisory risk management tax \n",
       "services selected clients firms members deloitte touche tohmatsu limited dttl uk private company limited guarantee \n",
       "member firm provides services particular geographic area subject laws professional regulations particular country \n",
       "countries operates dttl provide services clients dttl dttl member firm separate distinct legal entities obligate \n",
       "dttl dttl member firm liable acts omissions dttl member firm structured differently accordance national laws \n",
       "regulations customary practice factors may secure provision professional services territory subsidiaries affiliates\n",
       "entities united states deloitte llp member firm dttl like dttl deloitte llp provide services clients instead \n",
       "services primarily provided subsidiaries deloitte llp including deloitte touche llp deloitte consulting llp \n",
       "deloitte financial advisory services llp deloitte tax llp recruiting tips finding right job preparing recruitment \n",
       "process tricky check tips deloitte recruiting professionals set success check recruiting tips deloitte recruiters \n",
       "benefits believe undisputed leader professional services equip resources make positive impact well journey vision \n",
       "create leadership culture focused development well people benefits programs support family well needs learn working\n",
       "deloitte mean people culture people culture make deloitte place leaders thrive get inside look rich diversity \n",
       "background education experiences people impact make inspired stories people purpose deloitte purpose make impact \n",
       "matters clients people communities creating trust confidence equitable society deloitte purpose synonymous work \n",
       "every day defines focusing collective efforts advance sustainability equity trust come life core commitments learn \n",
       "deloitte purpose commitments impact professional development want make impact want make help providing culture \n",
       "training resources opportunities help grow succeed professional learn commitment developing people requisition code\n",
       "ninety four thousand six hundred thirteen\n"
      ]
     },
     "metadata": {},
     "output_type": "display_data"
    },
    {
     "name": "stdout",
     "output_type": "stream",
     "text": [
      "----------\n",
      "['services industries core', 'service innovation improve', 'operations core business', 'operations core industry', 'business operations core', 'services ces focused', 'offerings application modernization', 'core business operations', 'product service innovation', 'clients core business']\n",
      "\n",
      "\n",
      "\n",
      "\n",
      "\n",
      "\n"
     ]
    },
    {
     "data": {
      "text/html": [
       "<pre style=\"white-space:pre;overflow-x:auto;line-height:normal;font-family:Menlo,'DejaVu Sans Mono',consolas,'Courier New',monospace\">rfs spend one two <span style=\"color: #000000; text-decoration-color: #000000; background-color: #ffff00\">years msr india</span> projects require different combination skills <span style=\"color: #000000; text-decoration-color: #000000; background-color: #ffff00\">current past rfs</span> solving deep \n",
       "theoretical problems pushing boundaries ai designing new programming languages designing implementing security \n",
       "protocols scale field <span style=\"color: #000000; text-decoration-color: #000000; background-color: #ffff00\">work rural india</span> communication sensing hardware designing building large scale software \n",
       "systems networks regardless consistently aim create academic industry societal impact\n",
       "</pre>\n"
      ],
      "text/plain": [
       "rfs spend one two \u001B[30;48;2;255;255;0myears msr india\u001B[0m projects require different combination skills \u001B[30;48;2;255;255;0mcurrent past rfs\u001B[0m solving deep \n",
       "theoretical problems pushing boundaries ai designing new programming languages designing implementing security \n",
       "protocols scale field \u001B[30;48;2;255;255;0mwork rural india\u001B[0m communication sensing hardware designing building large scale software \n",
       "systems networks regardless consistently aim create academic industry societal impact\n"
      ]
     },
     "metadata": {},
     "output_type": "display_data"
    },
    {
     "name": "stdout",
     "output_type": "stream",
     "text": [
      "----------\n",
      "['india prototyping communication', 'rfs spend years', 'rfs worked solving', 'rural india prototyping', 'past rfs worked', 'india different projects', 'years msr india', 'msr india different', 'current past rfs', 'work rural india']\n",
      "\n",
      "\n",
      "\n",
      "\n",
      "\n",
      "\n"
     ]
    },
    {
     "data": {
      "text/html": [
       "<pre style=\"white-space:pre;overflow-x:auto;line-height:normal;font-family:Menlo,'DejaVu Sans Mono',consolas,'Courier New',monospace\">customer partner experience cxp team part identity network access idna engineering division within microsoft \n",
       "booming security product group work customers partners world drive service adoption shape microsoft identity \n",
       "platform <span style=\"color: #000000; text-decoration-color: #000000; background-color: #ffff00\">data insights team</span> exciting <span style=\"color: #000000; text-decoration-color: #000000; background-color: #ffff00\">opportunity data engineer</span> customer connected engineering team microsoft weare \n",
       "looking customer obsessed individual growth mindset compassion customer experience experimental approach join <span style=\"color: #000000; text-decoration-color: #000000; background-color: #ffff00\">team </span>\n",
       "<span style=\"color: #000000; text-decoration-color: #000000; background-color: #ffff00\">data insights</span> group geo distributed data pms data engineers data scientists building deep understanding business \n",
       "customers conducting opportunity analysis defining product metrics generating <span style=\"color: #000000; text-decoration-color: #000000; background-color: #ffff00\">key insights drive</span> decisions data \n",
       "engineer team responsible managing data real estate architecting developing next gen data platform well conducting \n",
       "deep <span style=\"color: #000000; text-decoration-color: #000000; background-color: #ffff00\">data analysis identityjobs</span> deep understanding microsoft security business technology customers implements \n",
       "scalable data models data pipelines data storage management transformation solutions ensures data quality \n",
       "compliance partners teams across microsoft within identity division <span style=\"color: #000000; text-decoration-color: #000000; background-color: #ffff00\">drive customer opportunities</span> growth \n",
       "communicates key outcomes stakeholders leadership bachelor master degree mathematics statistics data science \n",
       "computer science computer engineering related field six years industry experience deep technical role least three \n",
       "years building products one following areas business intelligence analytics cloud services productivity \n",
       "applications services business application services experience data pipelining transformation technologies hands \n",
       "<span style=\"color: #000000; text-decoration-color: #000000; background-color: #ffff00\">experience big data</span> well data analytics tools excellent data visualization skills able present <span style=\"color: #000000; text-decoration-color: #000000; background-color: #ffff00\">insights drive </span>\n",
       "<span style=\"color: #000000; text-decoration-color: #000000; background-color: #ffff00\">business</span> knowledge machine learning predictive modeling significant plus excellent communication collaboration \n",
       "skills strong track record self directed execution ability meet microsoft customer government security screening \n",
       "requirements required role requirements include limited following specialized security screenings microsoft cloud \n",
       "background check position required pass microsoft cloud background check upon hire transfer every two years \n",
       "thereafter\n",
       "</pre>\n"
      ],
      "text/plain": [
       "customer partner experience cxp team part identity network access idna engineering division within microsoft \n",
       "booming security product group work customers partners world drive service adoption shape microsoft identity \n",
       "platform \u001B[30;48;2;255;255;0mdata insights team\u001B[0m exciting \u001B[30;48;2;255;255;0mopportunity data engineer\u001B[0m customer connected engineering team microsoft weare \n",
       "looking customer obsessed individual growth mindset compassion customer experience experimental approach join \u001B[30;48;2;255;255;0mteam \u001B[0m\n",
       "\u001B[30;48;2;255;255;0mdata insights\u001B[0m group geo distributed data pms data engineers data scientists building deep understanding business \n",
       "customers conducting opportunity analysis defining product metrics generating \u001B[30;48;2;255;255;0mkey insights drive\u001B[0m decisions data \n",
       "engineer team responsible managing data real estate architecting developing next gen data platform well conducting \n",
       "deep \u001B[30;48;2;255;255;0mdata analysis identityjobs\u001B[0m deep understanding microsoft security business technology customers implements \n",
       "scalable data models data pipelines data storage management transformation solutions ensures data quality \n",
       "compliance partners teams across microsoft within identity division \u001B[30;48;2;255;255;0mdrive customer opportunities\u001B[0m growth \n",
       "communicates key outcomes stakeholders leadership bachelor master degree mathematics statistics data science \n",
       "computer science computer engineering related field six years industry experience deep technical role least three \n",
       "years building products one following areas business intelligence analytics cloud services productivity \n",
       "applications services business application services experience data pipelining transformation technologies hands \n",
       "\u001B[30;48;2;255;255;0mexperience big data\u001B[0m well data analytics tools excellent data visualization skills able present \u001B[30;48;2;255;255;0minsights drive \u001B[0m\n",
       "\u001B[30;48;2;255;255;0mbusiness\u001B[0m knowledge machine learning predictive modeling significant plus excellent communication collaboration \n",
       "skills strong track record self directed execution ability meet microsoft customer government security screening \n",
       "requirements required role requirements include limited following specialized security screenings microsoft cloud \n",
       "background check position required pass microsoft cloud background check upon hire transfer every two years \n",
       "thereafter\n"
      ]
     },
     "metadata": {},
     "output_type": "display_data"
    },
    {
     "name": "stdout",
     "output_type": "stream",
     "text": [
      "----------\n",
      "['analysis identityjobs builds', 'data insights team', 'experience big data', 'key insights drive', 'opportunity data engineer', 'data analysis identityjobs', 'team data insights', 'insights drive business', 'drive customer opportunities', 'identityjobs builds deep']\n",
      "\n",
      "\n",
      "\n",
      "\n",
      "\n",
      "\n"
     ]
    },
    {
     "data": {
      "text/html": [
       "<pre style=\"white-space:pre;overflow-x:auto;line-height:normal;font-family:Menlo,'DejaVu Sans Mono',consolas,'Courier New',monospace\">customer partner experience cxp team part identity network access idna engineering division within microsoft \n",
       "booming security product group work customers partners world drive service adoption shape microsoft identity \n",
       "platform <span style=\"color: #000000; text-decoration-color: #000000; background-color: #ffff00\">data insights team</span> exciting <span style=\"color: #000000; text-decoration-color: #000000; background-color: #ffff00\">opportunity data engineer</span> customer connected engineering team microsoft weare \n",
       "looking customer obsessed individual growth mindset compassion customer experience experimental approach join <span style=\"color: #000000; text-decoration-color: #000000; background-color: #ffff00\">team </span>\n",
       "<span style=\"color: #000000; text-decoration-color: #000000; background-color: #ffff00\">data insights</span> group geo distributed data pms data engineers data scientists building deep understanding business \n",
       "customers conducting opportunity analysis defining product metrics generating <span style=\"color: #000000; text-decoration-color: #000000; background-color: #ffff00\">key insights drive</span> decisions data \n",
       "engineer team responsible managing data real estate architecting developing next gen data platform well conducting \n",
       "deep <span style=\"color: #000000; text-decoration-color: #000000; background-color: #ffff00\">data analysis identityjobs</span> deep understanding microsoft security business technology customers implements \n",
       "scalable data models data pipelines data storage management transformation solutions ensures data quality \n",
       "compliance partners teams across microsoft within identity division <span style=\"color: #000000; text-decoration-color: #000000; background-color: #ffff00\">drive customer opportunities</span> growth \n",
       "communicates key outcomes stakeholders leadership bachelor master degree mathematics statistics data science \n",
       "computer science computer engineering related field six years industry experience deep technical role least three \n",
       "years building products one following areas business intelligence analytics cloud services productivity \n",
       "applications services business application services experience data pipelining transformation technologies hands \n",
       "<span style=\"color: #000000; text-decoration-color: #000000; background-color: #ffff00\">experience big data</span> well data analytics tools excellent data visualization skills able present <span style=\"color: #000000; text-decoration-color: #000000; background-color: #ffff00\">insights drive </span>\n",
       "<span style=\"color: #000000; text-decoration-color: #000000; background-color: #ffff00\">business</span> knowledge machine learning predictive modeling significant plus excellent communication collaboration \n",
       "skills strong track record self directed execution ability meet microsoft customer government security screening \n",
       "requirements required role requirements include limited following specialized security screenings microsoft cloud \n",
       "background check position required pass microsoft cloud background check upon hire transfer every two years \n",
       "thereafter\n",
       "</pre>\n"
      ],
      "text/plain": [
       "customer partner experience cxp team part identity network access idna engineering division within microsoft \n",
       "booming security product group work customers partners world drive service adoption shape microsoft identity \n",
       "platform \u001B[30;48;2;255;255;0mdata insights team\u001B[0m exciting \u001B[30;48;2;255;255;0mopportunity data engineer\u001B[0m customer connected engineering team microsoft weare \n",
       "looking customer obsessed individual growth mindset compassion customer experience experimental approach join \u001B[30;48;2;255;255;0mteam \u001B[0m\n",
       "\u001B[30;48;2;255;255;0mdata insights\u001B[0m group geo distributed data pms data engineers data scientists building deep understanding business \n",
       "customers conducting opportunity analysis defining product metrics generating \u001B[30;48;2;255;255;0mkey insights drive\u001B[0m decisions data \n",
       "engineer team responsible managing data real estate architecting developing next gen data platform well conducting \n",
       "deep \u001B[30;48;2;255;255;0mdata analysis identityjobs\u001B[0m deep understanding microsoft security business technology customers implements \n",
       "scalable data models data pipelines data storage management transformation solutions ensures data quality \n",
       "compliance partners teams across microsoft within identity division \u001B[30;48;2;255;255;0mdrive customer opportunities\u001B[0m growth \n",
       "communicates key outcomes stakeholders leadership bachelor master degree mathematics statistics data science \n",
       "computer science computer engineering related field six years industry experience deep technical role least three \n",
       "years building products one following areas business intelligence analytics cloud services productivity \n",
       "applications services business application services experience data pipelining transformation technologies hands \n",
       "\u001B[30;48;2;255;255;0mexperience big data\u001B[0m well data analytics tools excellent data visualization skills able present \u001B[30;48;2;255;255;0minsights drive \u001B[0m\n",
       "\u001B[30;48;2;255;255;0mbusiness\u001B[0m knowledge machine learning predictive modeling significant plus excellent communication collaboration \n",
       "skills strong track record self directed execution ability meet microsoft customer government security screening \n",
       "requirements required role requirements include limited following specialized security screenings microsoft cloud \n",
       "background check position required pass microsoft cloud background check upon hire transfer every two years \n",
       "thereafter\n"
      ]
     },
     "metadata": {},
     "output_type": "display_data"
    },
    {
     "name": "stdout",
     "output_type": "stream",
     "text": [
      "----------\n",
      "['analysis identityjobs builds', 'data insights team', 'experience big data', 'key insights drive', 'opportunity data engineer', 'data analysis identityjobs', 'team data insights', 'insights drive business', 'drive customer opportunities', 'identityjobs builds deep']\n",
      "\n",
      "\n",
      "\n",
      "\n",
      "\n",
      "\n"
     ]
    },
    {
     "data": {
      "text/html": [
       "<pre style=\"white-space:pre;overflow-x:auto;line-height:normal;font-family:Menlo,'DejaVu Sans Mono',consolas,'Courier New',monospace\">fulcrum digital agile next generation digital accelerating company providing digital transformation technology \n",
       "services right ideation implementation services applicability across variety industries including banking financial\n",
       "services insurance retail higher education food healthcare manufacturing role design implement integrations \n",
       "software platforms programs applications expert problem solver extensive programming skills abilities multiple \n",
       "coding languages frameworks <span style=\"color: #000000; text-decoration-color: #000000; background-color: #ffff00\">skillsets ms azure</span> logic apps sql server function apps api management <span style=\"color: #000000; text-decoration-color: #000000; background-color: #ffff00\">secondary </span>\n",
       "<span style=\"color: #000000; text-decoration-color: #000000; background-color: #ffff00\">skillset azure</span> services data factory azure integration services ais requirement experience working agile \n",
       "traditional delivery methodologies broad knowledge experience within range project types size complexity strong \n",
       "stakeholder management skills ability build strategic roadmaps considering wide range influences constraints proven\n",
       "track record learning new technologies concepts applying practically excellent presentation communication skills \n",
       "proven track record working strict commercial deadlines strong depth demonstrable hands experience following \n",
       "<span style=\"color: #000000; text-decoration-color: #000000; background-color: #ffff00\">technologies microsoft azure</span> saas solution development <span style=\"color: #000000; text-decoration-color: #000000; background-color: #ffff00\">technologies including azure</span> logic apps etc microsoft azure \n",
       "app service fabric app service <span style=\"color: #000000; text-decoration-color: #000000; background-color: #ffff00\">environment microsoft azure</span> management platform technologies experience publishing \n",
       "consuming securing apis web apps serverless <span style=\"color: #000000; text-decoration-color: #000000; background-color: #ffff00\">technologies azure context</span> deployments configuration management various\n",
       "integration technologies platforms key responsibilities designing delivering integration projects using logic apps \n",
       "azure services associated data platform solutions <span style=\"color: #000000; text-decoration-color: #000000; background-color: #ffff00\">designing integrating azure</span> manner allows management provision \n",
       "data secure reliable manner documentation solutions data models configurations setup research emerging technologies\n",
       "trends ensure best possible outcomes achieved evaluate integration architectural options terms cost benefits risk \n",
       "systems fit order provide recommendations communicate integration strategy key stakeholders gain input buy \n",
       "influence decision making work functional technical leads understand requirements constraints issues design \n",
       "implement integration solution within boundaries actively manage integration platform roadmaps associated designs \n",
       "produce project integration architecture deliverables review lower level design documentation define implement best\n",
       "practices various integration scenarios experience leading team two three members\n",
       "</pre>\n"
      ],
      "text/plain": [
       "fulcrum digital agile next generation digital accelerating company providing digital transformation technology \n",
       "services right ideation implementation services applicability across variety industries including banking financial\n",
       "services insurance retail higher education food healthcare manufacturing role design implement integrations \n",
       "software platforms programs applications expert problem solver extensive programming skills abilities multiple \n",
       "coding languages frameworks \u001B[30;48;2;255;255;0mskillsets ms azure\u001B[0m logic apps sql server function apps api management \u001B[30;48;2;255;255;0msecondary \u001B[0m\n",
       "\u001B[30;48;2;255;255;0mskillset azure\u001B[0m services data factory azure integration services ais requirement experience working agile \n",
       "traditional delivery methodologies broad knowledge experience within range project types size complexity strong \n",
       "stakeholder management skills ability build strategic roadmaps considering wide range influences constraints proven\n",
       "track record learning new technologies concepts applying practically excellent presentation communication skills \n",
       "proven track record working strict commercial deadlines strong depth demonstrable hands experience following \n",
       "\u001B[30;48;2;255;255;0mtechnologies microsoft azure\u001B[0m saas solution development \u001B[30;48;2;255;255;0mtechnologies including azure\u001B[0m logic apps etc microsoft azure \n",
       "app service fabric app service \u001B[30;48;2;255;255;0menvironment microsoft azure\u001B[0m management platform technologies experience publishing \n",
       "consuming securing apis web apps serverless \u001B[30;48;2;255;255;0mtechnologies azure context\u001B[0m deployments configuration management various\n",
       "integration technologies platforms key responsibilities designing delivering integration projects using logic apps \n",
       "azure services associated data platform solutions \u001B[30;48;2;255;255;0mdesigning integrating azure\u001B[0m manner allows management provision \n",
       "data secure reliable manner documentation solutions data models configurations setup research emerging technologies\n",
       "trends ensure best possible outcomes achieved evaluate integration architectural options terms cost benefits risk \n",
       "systems fit order provide recommendations communicate integration strategy key stakeholders gain input buy \n",
       "influence decision making work functional technical leads understand requirements constraints issues design \n",
       "implement integration solution within boundaries actively manage integration platform roadmaps associated designs \n",
       "produce project integration architecture deliverables review lower level design documentation define implement best\n",
       "practices various integration scenarios experience leading team two three members\n"
      ]
     },
     "metadata": {},
     "output_type": "display_data"
    },
    {
     "name": "stdout",
     "output_type": "stream",
     "text": [
      "----------\n",
      "['skillsets ms azure', 'skillset azure integration', 'secondary skillset azure', 'technologies including azure', 'technologies microsoft azure', 'designing integrating azure', 'ms azure azure', 'technologies azure context', 'azure azure logic', 'environment microsoft azure']\n",
      "\n",
      "\n",
      "\n",
      "\n",
      "\n",
      "\n"
     ]
    },
    {
     "data": {
      "text/html": [
       "<pre style=\"white-space:pre;overflow-x:auto;line-height:normal;font-family:Menlo,'DejaVu Sans Mono',consolas,'Courier New',monospace\"><span style=\"color: #000000; text-decoration-color: #000000; background-color: #ffff00\">net developer description</span> developer would maintain existing house developed tools act primary backup john <span style=\"color: #000000; text-decoration-color: #000000; background-color: #ffff00\">ssrs </span>\n",
       "<span style=\"color: #000000; text-decoration-color: #000000; background-color: #ffff00\">projects developer</span> also assist mike updates maintenance new development interfaces dashboards using spotfire \n",
       "primary responsibilities maintaining modifying existing programs create new modify existing ssrs reports \n",
       "maintaining modifying existing spotfire fill help areas needed must bs degree relevant focus equivalent four years \n",
       "working experience required two years experience relational databases <span style=\"color: #000000; text-decoration-color: #000000; background-color: #ffff00\">mssql preferred experience</span> windows based \n",
       "application net well versed windows os <span style=\"color: #000000; text-decoration-color: #000000; background-color: #ffff00\">visual studio professional</span> thousand nineteen three <span style=\"color: #000000; text-decoration-color: #000000; background-color: #ffff00\">years experience net</span> \n",
       "focus front end development interfaces forms required two year professional experience creating working sql server \n",
       "reporting services ssrs strongly recommended good experience web based application development working knowledge \n",
       "azure angular familiarity windows linux mac server functional familiarity python recommended familiarity aws \n",
       "products plus devexpress experience preferred ref hirist com\n",
       "</pre>\n"
      ],
      "text/plain": [
       "\u001B[30;48;2;255;255;0mnet developer description\u001B[0m developer would maintain existing house developed tools act primary backup john \u001B[30;48;2;255;255;0mssrs \u001B[0m\n",
       "\u001B[30;48;2;255;255;0mprojects developer\u001B[0m also assist mike updates maintenance new development interfaces dashboards using spotfire \n",
       "primary responsibilities maintaining modifying existing programs create new modify existing ssrs reports \n",
       "maintaining modifying existing spotfire fill help areas needed must bs degree relevant focus equivalent four years \n",
       "working experience required two years experience relational databases \u001B[30;48;2;255;255;0mmssql preferred experience\u001B[0m windows based \n",
       "application net well versed windows os \u001B[30;48;2;255;255;0mvisual studio professional\u001B[0m thousand nineteen three \u001B[30;48;2;255;255;0myears experience net\u001B[0m \n",
       "focus front end development interfaces forms required two year professional experience creating working sql server \n",
       "reporting services ssrs strongly recommended good experience web based application development working knowledge \n",
       "azure angular familiarity windows linux mac server functional familiarity python recommended familiarity aws \n",
       "products plus devexpress experience preferred ref hirist com\n"
      ]
     },
     "metadata": {},
     "output_type": "display_data"
    },
    {
     "name": "stdout",
     "output_type": "stream",
     "text": [
      "----------\n",
      "['ssrs projects developer', 'net developer description', 'visual studio professional', 'description software developer', 'mssql preferred experience', 'software developer maintain', 'experience developing windows', 'years experience net', 'preferred experience developing', 'experience net sql']\n",
      "\n",
      "\n",
      "\n",
      "\n",
      "\n",
      "\n"
     ]
    },
    {
     "data": {
      "text/html": [
       "<pre style=\"white-space:pre;overflow-x:auto;line-height:normal;font-family:Menlo,'DejaVu Sans Mono',consolas,'Courier New',monospace\"><span style=\"color: #000000; text-decoration-color: #000000; background-color: #ffff00\">microsoft hiring software</span> <span style=\"color: #000000; text-decoration-color: #000000; background-color: #ffff00\">engineer data thirteen</span> two thousand twenty two apply https workat <span style=\"color: #000000; text-decoration-color: #000000; background-color: #ffff00\">tech company microsoft</span> \n",
       "<span style=\"color: #000000; text-decoration-color: #000000; background-color: #ffff00\">software development engineer</span> helvmhxo\n",
       "</pre>\n"
      ],
      "text/plain": [
       "\u001B[30;48;2;255;255;0mmicrosoft hiring software\u001B[0m \u001B[30;48;2;255;255;0mengineer data thirteen\u001B[0m two thousand twenty two apply https workat \u001B[30;48;2;255;255;0mtech company microsoft\u001B[0m \n",
       "\u001B[30;48;2;255;255;0msoftware development engineer\u001B[0m helvmhxo\n"
      ]
     },
     "metadata": {},
     "output_type": "display_data"
    },
    {
     "name": "stdout",
     "output_type": "stream",
     "text": [
      "----------\n",
      "['microsoft hiring software', 'hiring software development', 'company microsoft jobs', 'microsoft jobs software', 'development engineer data', 'jobs software development', 'software development engineer', 'engineer data thirteen', 'april thousand apply', 'tech company microsoft']\n",
      "\n",
      "\n",
      "\n",
      "\n",
      "\n",
      "\n"
     ]
    },
    {
     "data": {
      "text/html": [
       "<pre style=\"white-space:pre;overflow-x:auto;line-height:normal;font-family:Menlo,'DejaVu Sans Mono',consolas,'Courier New',monospace\"><span style=\"color: #000000; text-decoration-color: #000000; background-color: #ffff00\">responsibilities administering environments</span> posture managing automating <span style=\"color: #000000; text-decoration-color: #000000; background-color: #ffff00\">deployments configures manages</span> apps \n",
       "managing center excellence coe toolkit configures manages workload integrations office three hundred sixty five \n",
       "connections including teams onedrive power platform sharepoint experience minimum one two <span style=\"color: #000000; text-decoration-color: #000000; background-color: #ffff00\">years experience managing</span>\n",
       "power apps <span style=\"color: #000000; text-decoration-color: #000000; background-color: #ffff00\">microsoft teamwork solutions</span> onedrive <span style=\"color: #000000; text-decoration-color: #000000; background-color: #ffff00\">experience managing coe</span>\n",
       "</pre>\n"
      ],
      "text/plain": [
       "\u001B[30;48;2;255;255;0mresponsibilities administering environments\u001B[0m posture managing automating \u001B[30;48;2;255;255;0mdeployments configures manages\u001B[0m apps \n",
       "managing center excellence coe toolkit configures manages workload integrations office three hundred sixty five \n",
       "connections including teams onedrive power platform sharepoint experience minimum one two \u001B[30;48;2;255;255;0myears experience managing\u001B[0m\n",
       "power apps \u001B[30;48;2;255;255;0mmicrosoft teamwork solutions\u001B[0m onedrive \u001B[30;48;2;255;255;0mexperience managing coe\u001B[0m\n"
      ]
     },
     "metadata": {},
     "output_type": "display_data"
    },
    {
     "name": "stdout",
     "output_type": "stream",
     "text": [
      "----------\n",
      "['responsibilities administering environments', 'experience managing coe', 'administering environments security', 'experience managing maintaining', 'security posture managing', 'deployments configures manages', 'environments security posture', 'teamwork solutions teams', 'years experience managing', 'microsoft teamwork solutions']\n",
      "\n",
      "\n",
      "\n",
      "\n",
      "\n",
      "\n"
     ]
    },
    {
     "data": {
      "text/html": [
       "<pre style=\"white-space:pre;overflow-x:auto;line-height:normal;font-family:Menlo,'DejaVu Sans Mono',consolas,'Courier New',monospace\">microsoft continues drive exciting advances design production hardware infrastructure one world largest diverse \n",
       "datacenter operations infrastructure enables delivery company global cloud scale services azure bing ai office \n",
       "three hundred sixty five xbox live <span style=\"color: #000000; text-decoration-color: #000000; background-color: #ffff00\">azure hardware systems</span> forefront cutting edge silicon hardware technology \n",
       "driving breakthrough innovations cogs improvements <span style=\"color: #000000; text-decoration-color: #000000; background-color: #ffff00\">supporting microsoft growing</span> businesses hardware operating \n",
       "services comprises hundreds thousands servers spread globally applications reach hundreds millions users every day \n",
       "customer base growing rapidly infrastructure investments increasing size global infrastructure increasing day along\n",
       "scale challenges highly visible leadership role seeking senior leader accountable development deployment advanced \n",
       "soc design methodology tools processes concept post silicon bring debug across <span style=\"color: #000000; text-decoration-color: #000000; background-color: #ffff00\">silicon design teams</span> electronics \n",
       "design automation eda information systems technologies embedded within <span style=\"color: #000000; text-decoration-color: #000000; background-color: #ffff00\">microsoft silicon engineering</span> subject matter\n",
       "expert cloud aware eda infrastructure come <span style=\"color: #000000; text-decoration-color: #000000; background-color: #ffff00\">guide microsoft silicon</span> journey responsibilities play pivotal role \n",
       "silicon engineering solutions <span style=\"color: #000000; text-decoration-color: #000000; background-color: #ffff00\">evolving silicon strategy</span> competitive advantages microsoft hw build lead team cad \n",
       "engineers eda tool experts engineers develop deliver high quality state art design methods tools processing deploy \n",
       "industry best practices machine learning latest technologies efficiently quality design deliver socs targeted cloud\n",
       "devices gaming mixed reality applications drive common central design management infrastructure across design teams\n",
       "sites partnering silicon design hw engineering leaders establish strong working relationships eda partners advance \n",
       "design methodologies tools attract continuously develop highly talented capable engineering teams strong focus \n",
       "innovation agility schedule value creation develop new novel techniques optimizing eda work within realm azure \n",
       "services evolve current compute strategy handling edaworkloads azure qualifications ba bs engineering computer \n",
       "science mis related field required least fifteen years experience technical leadership cad eda silicon design \n",
       "preferably large complex enterprise class socs required four years experience specifically cad eda required ability\n",
       "travel internationally required experience defining managing engineering compute infrastructure preferred track \n",
       "record developing design methodologies tools large scale development advanced process nodes deep understanding \n",
       "state art digital design methodologies best practices experience operating central role supporting multiple \n",
       "priorities ip requirements milestones experience multi dimensional constraints project priorities schedule \n",
       "performance cost self motivated superior problem solving skills analytical capabilities attention detail strong \n",
       "verbal written communication skills must good interpersonal skills microsoft equal opportunity employer qualified \n",
       "applicants receive consideration employment without regard age ancestry color family medical care leave gender \n",
       "identity expression genetic information marital status medical condition national origin physical mental disability\n",
       "political affiliation protected veteran status race religion sex including pregnancy sexual orientation \n",
       "characteristic protected applicable laws regulations ordinances need assistance reasonable accommodation due \n",
       "disability application recruiting process please send request via accommodation request form benefits perks listed \n",
       "may vary depending nature employment microsoft country work\n",
       "</pre>\n"
      ],
      "text/plain": [
       "microsoft continues drive exciting advances design production hardware infrastructure one world largest diverse \n",
       "datacenter operations infrastructure enables delivery company global cloud scale services azure bing ai office \n",
       "three hundred sixty five xbox live \u001B[30;48;2;255;255;0mazure hardware systems\u001B[0m forefront cutting edge silicon hardware technology \n",
       "driving breakthrough innovations cogs improvements \u001B[30;48;2;255;255;0msupporting microsoft growing\u001B[0m businesses hardware operating \n",
       "services comprises hundreds thousands servers spread globally applications reach hundreds millions users every day \n",
       "customer base growing rapidly infrastructure investments increasing size global infrastructure increasing day along\n",
       "scale challenges highly visible leadership role seeking senior leader accountable development deployment advanced \n",
       "soc design methodology tools processes concept post silicon bring debug across \u001B[30;48;2;255;255;0msilicon design teams\u001B[0m electronics \n",
       "design automation eda information systems technologies embedded within \u001B[30;48;2;255;255;0mmicrosoft silicon engineering\u001B[0m subject matter\n",
       "expert cloud aware eda infrastructure come \u001B[30;48;2;255;255;0mguide microsoft silicon\u001B[0m journey responsibilities play pivotal role \n",
       "silicon engineering solutions \u001B[30;48;2;255;255;0mevolving silicon strategy\u001B[0m competitive advantages microsoft hw build lead team cad \n",
       "engineers eda tool experts engineers develop deliver high quality state art design methods tools processing deploy \n",
       "industry best practices machine learning latest technologies efficiently quality design deliver socs targeted cloud\n",
       "devices gaming mixed reality applications drive common central design management infrastructure across design teams\n",
       "sites partnering silicon design hw engineering leaders establish strong working relationships eda partners advance \n",
       "design methodologies tools attract continuously develop highly talented capable engineering teams strong focus \n",
       "innovation agility schedule value creation develop new novel techniques optimizing eda work within realm azure \n",
       "services evolve current compute strategy handling edaworkloads azure qualifications ba bs engineering computer \n",
       "science mis related field required least fifteen years experience technical leadership cad eda silicon design \n",
       "preferably large complex enterprise class socs required four years experience specifically cad eda required ability\n",
       "travel internationally required experience defining managing engineering compute infrastructure preferred track \n",
       "record developing design methodologies tools large scale development advanced process nodes deep understanding \n",
       "state art digital design methodologies best practices experience operating central role supporting multiple \n",
       "priorities ip requirements milestones experience multi dimensional constraints project priorities schedule \n",
       "performance cost self motivated superior problem solving skills analytical capabilities attention detail strong \n",
       "verbal written communication skills must good interpersonal skills microsoft equal opportunity employer qualified \n",
       "applicants receive consideration employment without regard age ancestry color family medical care leave gender \n",
       "identity expression genetic information marital status medical condition national origin physical mental disability\n",
       "political affiliation protected veteran status race religion sex including pregnancy sexual orientation \n",
       "characteristic protected applicable laws regulations ordinances need assistance reasonable accommodation due \n",
       "disability application recruiting process please send request via accommodation request form benefits perks listed \n",
       "may vary depending nature employment microsoft country work\n"
      ]
     },
     "metadata": {},
     "output_type": "display_data"
    },
    {
     "name": "stdout",
     "output_type": "stream",
     "text": [
      "----------\n",
      "['microsoft silicon engineering', 'microsoft silicon cloud', 'microsoft growing cloud', 'guide microsoft silicon', 'silicon design teams', 'silicon cloud journey', 'supporting microsoft growing', 'silicon engineering team', 'evolving silicon strategy', 'azure hardware systems']\n",
      "\n",
      "\n",
      "\n",
      "\n",
      "\n",
      "\n"
     ]
    },
    {
     "data": {
      "text/html": [
       "<pre style=\"white-space:pre;overflow-x:auto;line-height:normal;font-family:Menlo,'DejaVu Sans Mono',consolas,'Courier New',monospace\">microsoft three hundred sixty five <span style=\"color: #000000; text-decoration-color: #000000; background-color: #ffff00\">accenture contract pune</span> years must email id <span style=\"color: #000000; text-decoration-color: #000000; background-color: #ffff00\">total years industry</span> <span style=\"color: #000000; text-decoration-color: #000000; background-color: #ffff00\">location </span>\n",
       "<span style=\"color: #000000; text-decoration-color: #000000; background-color: #ffff00\">preferred job</span> notice period\n",
       "</pre>\n"
      ],
      "text/plain": [
       "microsoft three hundred sixty five \u001B[30;48;2;255;255;0maccenture contract pune\u001B[0m years must email id \u001B[30;48;2;255;255;0mtotal years industry\u001B[0m \u001B[30;48;2;255;255;0mlocation \u001B[0m\n",
       "\u001B[30;48;2;255;255;0mpreferred job\u001B[0m notice period\n"
      ]
     },
     "metadata": {},
     "output_type": "display_data"
    },
    {
     "name": "stdout",
     "output_type": "stream",
     "text": [
      "----------\n",
      "['accenture contract pune', 'contract pune years', 'microsoft accenture contract', 'pune years email', 'job location notice', 'preferred job location', 'location notice period', 'location preferred job', 'industry current location', 'total years industry']\n",
      "\n",
      "\n",
      "\n",
      "\n",
      "\n",
      "\n"
     ]
    },
    {
     "data": {
      "text/html": [
       "<pre style=\"white-space:pre;overflow-x:auto;line-height:normal;font-family:Menlo,'DejaVu Sans Mono',consolas,'Courier New',monospace\">experience eight fifteen years location tamil nadu bangalore notice period immediate thirty days key \n",
       "responsibilities <span style=\"color: #000000; text-decoration-color: #000000; background-color: #ffff00\">implement deploy microsoft</span> three hundred sixty five analyse front office processes sales marketing\n",
       "customer service identify opportunities improvement gather understand client <span style=\"color: #000000; text-decoration-color: #000000; background-color: #ffff00\">functional requirements perform</span> \n",
       "analysis client requirements functionality within microsoft dynamics three hundred sixty five ce configure \n",
       "application meet client <span style=\"color: #000000; text-decoration-color: #000000; background-color: #ffff00\">requirements using microsoft</span> ce customization tool workflow tool sdk identify creative \n",
       "workarounds meet requirements without development custom code understand functional capabilities limitations box \n",
       "functionality well custom code create technical specifications design integrate business processes data flows ce \n",
       "applications applications back office <span style=\"color: #000000; text-decoration-color: #000000; background-color: #ffff00\">erp applications train</span> personnel <span style=\"color: #000000; text-decoration-color: #000000; background-color: #ffff00\">usage administration microsoft</span> ce three \n",
       "hundred sixty five functional user training technical training develop high level project work plans provide \n",
       "technical support existing crm clients key <span style=\"color: #000000; text-decoration-color: #000000; background-color: #ffff00\">competencies crm forms</span> views workflows reports development programming \n",
       "languages vb net asp net html javascript vsto architect design microsoft dynamics three hundred sixty five ce \n",
       "system related customizations portals reports microsoft dynamics three hundred sixty five ce development \n",
       "integration best practices technical specifications documentation data migration integration mappings using sql \n",
       "integration services scribe web services sql reporting services\n",
       "</pre>\n"
      ],
      "text/plain": [
       "experience eight fifteen years location tamil nadu bangalore notice period immediate thirty days key \n",
       "responsibilities \u001B[30;48;2;255;255;0mimplement deploy microsoft\u001B[0m three hundred sixty five analyse front office processes sales marketing\n",
       "customer service identify opportunities improvement gather understand client \u001B[30;48;2;255;255;0mfunctional requirements perform\u001B[0m \n",
       "analysis client requirements functionality within microsoft dynamics three hundred sixty five ce configure \n",
       "application meet client \u001B[30;48;2;255;255;0mrequirements using microsoft\u001B[0m ce customization tool workflow tool sdk identify creative \n",
       "workarounds meet requirements without development custom code understand functional capabilities limitations box \n",
       "functionality well custom code create technical specifications design integrate business processes data flows ce \n",
       "applications applications back office \u001B[30;48;2;255;255;0merp applications train\u001B[0m personnel \u001B[30;48;2;255;255;0musage administration microsoft\u001B[0m ce three \n",
       "hundred sixty five functional user training technical training develop high level project work plans provide \n",
       "technical support existing crm clients key \u001B[30;48;2;255;255;0mcompetencies crm forms\u001B[0m views workflows reports development programming \n",
       "languages vb net asp net html javascript vsto architect design microsoft dynamics three hundred sixty five ce \n",
       "system related customizations portals reports microsoft dynamics three hundred sixty five ce development \n",
       "integration best practices technical specifications documentation data migration integration mappings using sql \n",
       "integration services scribe web services sql reporting services\n"
      ]
     },
     "metadata": {},
     "output_type": "display_data"
    },
    {
     "name": "stdout",
     "output_type": "stream",
     "text": [
      "----------\n",
      "['requirements using microsoft', 'meet requirements development', 'microsoft dynamics ce', 'functional requirements perform', 'administration microsoft dynamics', 'implement deploy microsoft', 'erp applications train', 'usage administration microsoft', 'deploy microsoft dynamics', 'competencies crm forms']\n",
      "\n",
      "\n",
      "\n",
      "\n",
      "\n",
      "\n"
     ]
    },
    {
     "data": {
      "text/html": [
       "<pre style=\"white-space:pre;overflow-x:auto;line-height:normal;font-family:Menlo,'DejaVu Sans Mono',consolas,'Courier New',monospace\"><span style=\"color: #000000; text-decoration-color: #000000; background-color: #ffff00\">microsoft highly innovative</span> collaborates across disciplines produce cutting edge technology changes <span style=\"color: #000000; text-decoration-color: #000000; background-color: #ffff00\">world silicon </span>\n",
       "<span style=\"color: #000000; text-decoration-color: #000000; background-color: #ffff00\">team</span> passionate driven intellectually curious principal verification engineer lead team engineers soc ip level \n",
       "verification individual work closely architecture design software teams create world class chips team involved \n",
       "numerous projects within microsoft developing <span style=\"color: #000000; text-decoration-color: #000000; background-color: #ffff00\">custom silicon microsoft</span> cloud responsibilities planning verification\n",
       "projects alongside architecture design help build new team lead manage junior engineers creation execution \n",
       "verification environments tests pre silicon functional verification post <span style=\"color: #000000; text-decoration-color: #000000; background-color: #ffff00\">silicon validation qualifications</span> computer\n",
       "engineering electrical engineering similar fifteen years design verification experience proven track record full \n",
       "verification cycle complex soc ips systems lead management experience requirements depth knowledge verification \n",
       "principles testbenches stimulus generation substantial background creating simulation environments developing tests\n",
       "debugging designs solid understanding chip computer architecture experience writing tests uvm excellent \n",
       "communication skills energetic self motivated solid ability mentor engineers prior experience following would also \n",
       "valuable hardware emulation fpgas architecture performance modelling rtl design software firmware microsoft equal \n",
       "opportunity employer qualified applicants receive consideration employment without regard age ancestry color family\n",
       "medical care leave gender identity expression genetic information marital status medical condition national origin \n",
       "physical mental disability political affiliation protected veteran status race religion sex including pregnancy \n",
       "sexual orientation characteristic protected applicable laws regulations ordinances need assistance reasonable \n",
       "accommodation due disability application recruiting process please send request via accommodation request form \n",
       "benefits perks listed may vary depending nature employment microsoft country work\n",
       "</pre>\n"
      ],
      "text/plain": [
       "\u001B[30;48;2;255;255;0mmicrosoft highly innovative\u001B[0m collaborates across disciplines produce cutting edge technology changes \u001B[30;48;2;255;255;0mworld silicon \u001B[0m\n",
       "\u001B[30;48;2;255;255;0mteam\u001B[0m passionate driven intellectually curious principal verification engineer lead team engineers soc ip level \n",
       "verification individual work closely architecture design software teams create world class chips team involved \n",
       "numerous projects within microsoft developing \u001B[30;48;2;255;255;0mcustom silicon microsoft\u001B[0m cloud responsibilities planning verification\n",
       "projects alongside architecture design help build new team lead manage junior engineers creation execution \n",
       "verification environments tests pre silicon functional verification post \u001B[30;48;2;255;255;0msilicon validation qualifications\u001B[0m computer\n",
       "engineering electrical engineering similar fifteen years design verification experience proven track record full \n",
       "verification cycle complex soc ips systems lead management experience requirements depth knowledge verification \n",
       "principles testbenches stimulus generation substantial background creating simulation environments developing tests\n",
       "debugging designs solid understanding chip computer architecture experience writing tests uvm excellent \n",
       "communication skills energetic self motivated solid ability mentor engineers prior experience following would also \n",
       "valuable hardware emulation fpgas architecture performance modelling rtl design software firmware microsoft equal \n",
       "opportunity employer qualified applicants receive consideration employment without regard age ancestry color family\n",
       "medical care leave gender identity expression genetic information marital status medical condition national origin \n",
       "physical mental disability political affiliation protected veteran status race religion sex including pregnancy \n",
       "sexual orientation characteristic protected applicable laws regulations ordinances need assistance reasonable \n",
       "accommodation due disability application recruiting process please send request via accommodation request form \n",
       "benefits perks listed may vary depending nature employment microsoft country work\n"
      ]
     },
     "metadata": {},
     "output_type": "display_data"
    },
    {
     "name": "stdout",
     "output_type": "stream",
     "text": [
      "----------\n",
      "['silicon microsoft azure', 'silicon team seeking', 'custom silicon microsoft', 'microsoft highly innovative', 'microsoft azure cloud', 'numerous projects microsoft', 'projects microsoft developing', 'silicon validation qualifications', 'azure cloud responsibilities', 'world silicon team']\n",
      "\n",
      "\n",
      "\n",
      "\n",
      "\n",
      "\n"
     ]
    },
    {
     "data": {
      "text/html": [
       "<pre style=\"white-space:pre;overflow-x:auto;line-height:normal;font-family:Menlo,'DejaVu Sans Mono',consolas,'Courier New',monospace\"><span style=\"color: #000000; text-decoration-color: #000000; background-color: #ffff00\">microsoft custom silicon</span> team developing highest performance ambitious chips <span style=\"color: #000000; text-decoration-color: #000000; background-color: #ffff00\">industry physical design</span> looking best \n",
       "brightest join us continue build world class team methodology responsibilities span complete spectrum including dft\n",
       "full rtl two gds signoff highly motivated self starter skills make impact environment love hear responsibilities \n",
       "principal <span style=\"color: #000000; text-decoration-color: #000000; background-color: #ffff00\">physical design engineering</span> responsible leading team complete <span style=\"color: #000000; text-decoration-color: #000000; background-color: #ffff00\">physical design tasks</span> sub chip full <span style=\"color: #000000; text-decoration-color: #000000; background-color: #ffff00\">chip </span>\n",
       "<span style=\"color: #000000; text-decoration-color: #000000; background-color: #ffff00\">level tasks</span> floor planning synthesis placement cts custom clocking routing static timing physical verification \n",
       "formal equivalency power efficiency ir drop em may also lead team members <span style=\"color: #000000; text-decoration-color: #000000; background-color: #ffff00\">physical design flow</span> automation \n",
       "evaluation recommendations technology ip vendor selection expected able work limited direction keen attention \n",
       "detail able provide crisp status progress issues risks program management team occasional travel may required \n",
       "qualifications bachelor master electrical computer engineering related field fifteen years experience experience \n",
       "tapeouts complex asics leading edge technology preferred qualifications strong expertise one following synthesis \n",
       "floorplanning placement clock power grid construction routing low power methodologies signoff steps fv lpv \n",
       "extraction sta emir physical verification power analysis strong scripting skills proven experience creating \n",
       "delivering hard macros knowledge <span style=\"color: #000000; text-decoration-color: #000000; background-color: #ffff00\">guidelines integration socs</span> understanding foundry tech files rule decks microsoft \n",
       "equal opportunity employer qualified applicants receive consideration employment without regard age ancestry color \n",
       "family medical care leave gender identity expression genetic information marital status medical condition national \n",
       "origin physical mental disability political affiliation protected veteran status race religion sex including \n",
       "pregnancy sexual orientation characteristic protected applicable laws regulations ordinances need assistance \n",
       "reasonable accommodation due disability application recruiting process please send request via accommodation \n",
       "request form benefits perks listed may vary depending nature employment microsoft country work\n",
       "</pre>\n"
      ],
      "text/plain": [
       "\u001B[30;48;2;255;255;0mmicrosoft custom silicon\u001B[0m team developing highest performance ambitious chips \u001B[30;48;2;255;255;0mindustry physical design\u001B[0m looking best \n",
       "brightest join us continue build world class team methodology responsibilities span complete spectrum including dft\n",
       "full rtl two gds signoff highly motivated self starter skills make impact environment love hear responsibilities \n",
       "principal \u001B[30;48;2;255;255;0mphysical design engineering\u001B[0m responsible leading team complete \u001B[30;48;2;255;255;0mphysical design tasks\u001B[0m sub chip full \u001B[30;48;2;255;255;0mchip \u001B[0m\n",
       "\u001B[30;48;2;255;255;0mlevel tasks\u001B[0m floor planning synthesis placement cts custom clocking routing static timing physical verification \n",
       "formal equivalency power efficiency ir drop em may also lead team members \u001B[30;48;2;255;255;0mphysical design flow\u001B[0m automation \n",
       "evaluation recommendations technology ip vendor selection expected able work limited direction keen attention \n",
       "detail able provide crisp status progress issues risks program management team occasional travel may required \n",
       "qualifications bachelor master electrical computer engineering related field fifteen years experience experience \n",
       "tapeouts complex asics leading edge technology preferred qualifications strong expertise one following synthesis \n",
       "floorplanning placement clock power grid construction routing low power methodologies signoff steps fv lpv \n",
       "extraction sta emir physical verification power analysis strong scripting skills proven experience creating \n",
       "delivering hard macros knowledge \u001B[30;48;2;255;255;0mguidelines integration socs\u001B[0m understanding foundry tech files rule decks microsoft \n",
       "equal opportunity employer qualified applicants receive consideration employment without regard age ancestry color \n",
       "family medical care leave gender identity expression genetic information marital status medical condition national \n",
       "origin physical mental disability political affiliation protected veteran status race religion sex including \n",
       "pregnancy sexual orientation characteristic protected applicable laws regulations ordinances need assistance \n",
       "reasonable accommodation due disability application recruiting process please send request via accommodation \n",
       "request form benefits perks listed may vary depending nature employment microsoft country work\n"
      ]
     },
     "metadata": {},
     "output_type": "display_data"
    },
    {
     "name": "stdout",
     "output_type": "stream",
     "text": [
      "----------\n",
      "['silicon design team', 'physical design team', 'chip level tasks', 'microsoft custom silicon', 'physical design tasks', 'industry physical design', 'physical design flow', 'physical design engineering', 'custom silicon design', 'guidelines integration socs']\n",
      "\n",
      "\n",
      "\n",
      "\n",
      "\n",
      "\n"
     ]
    }
   ],
   "source": [
    "qualification_params = {\n",
    "#         'seed_keywords' : seed_keywords,\n",
    "#         'use_maxsum' : True,\n",
    "#         'nr_candidates': 20,\n",
    "        'keyphrase_ngram_range': (3, 3),\n",
    "        'highlight': True,\n",
    "        'top_n': 10\n",
    "}\n",
    "\n",
    "for i in range(0, len(data)):\n",
    "    text = data['description'][i]\n",
    "#     print(text)\n",
    "#     candidates = kw_extractor.extract_keywords(data['Qualifications'][i])\n",
    "#     candidates = [candidate[0] for candidate in candidates]\n",
    "    keywords = kw_model_qualification.extract_keywords(text, **qualification_params)\n",
    "#                                          seed_keywords=seed_keywords,\n",
    "# #                                          candidates=candidates,\n",
    "#                                          use_maxsum=True, nr_candidates=20,\n",
    "# #                                          use_mmr=True, diversity=0.5,\n",
    "#                                          keyphrase_ngram_range=(3, 4), \n",
    "# #                                          stop_words='english', \n",
    "#                                          highlight=True,\n",
    "#                                          top_n=10)\n",
    "    \n",
    "    keywords_list= list(dict(keywords).keys())\n",
    "    print(\"----------\")\n",
    "    print(keywords_list)\n",
    "    print('\\n')\n",
    "    print('\\n')\n",
    "    print('\\n')"
   ]
  },
  {
   "cell_type": "markdown",
   "metadata": {},
   "source": [
    "## Responsibilities"
   ]
  },
  {
   "cell_type": "code",
   "execution_count": 1,
   "metadata": {},
   "outputs": [
    {
     "name": "stdout",
     "output_type": "stream",
     "text": [
      "\n",
      "internship students paired expected collaborate interns researchers present contribute vibrant life community msr \n",
      "india conducts research wide range areas internships application process try find opportunity best aligns interests\n",
      "internships year round though majority begin summer internships help visa applications needed\n",
      "\n"
     ]
    }
   ],
   "source": [
    "print(\"\"\"\n",
    "internship students paired expected collaborate interns researchers present contribute vibrant life community msr \n",
    "india conducts research wide range areas internships application process try find opportunity best aligns interests\n",
    "internships year round though majority begin summer internships help visa applications needed\n",
    "\"\"\")"
   ]
  },
  {
   "cell_type": "code",
   "execution_count": 105,
   "metadata": {},
   "outputs": [
    {
     "data": {
      "text/plain": [
       "nan"
      ]
     },
     "execution_count": 105,
     "metadata": {},
     "output_type": "execute_result"
    }
   ],
   "source": [
    "data['Responsibilities'][0]"
   ]
  },
  {
   "cell_type": "code",
   "execution_count": 106,
   "metadata": {},
   "outputs": [],
   "source": [
    "data['Responsibilities'] = data['Responsibilities'].fillna(\"\")\n",
    "\n",
    "data['Responsibilities'] = data['Responsibilities'].apply(sep_num_words_func)\n",
    "data['Responsibilities'] = data['Responsibilities'].apply(num_to_words)\n",
    "data['Responsibilities'] = data['Responsibilities'].apply(convert_exp_to_word)\n",
    "data['Responsibilities'] = data['Responsibilities'].apply(remove_punctuation_func)\n",
    "data['Responsibilities'] = data['Responsibilities'].apply(remove_extra_whitespaces_func)\n",
    "data['Responsibilities'] = data['Responsibilities'].apply(stop_word_removal)\n",
    "data['Responsibilities'] = data['Responsibilities'].str.lower()\n"
   ]
  },
  {
   "cell_type": "code",
   "execution_count": 107,
   "metadata": {},
   "outputs": [
    {
     "data": {
      "text/plain": [
       "''"
      ]
     },
     "execution_count": 107,
     "metadata": {},
     "output_type": "execute_result"
    }
   ],
   "source": [
    "data['Responsibilities'][0]"
   ]
  },
  {
   "cell_type": "code",
   "execution_count": 108,
   "metadata": {},
   "outputs": [],
   "source": [
    "from keybert import KeyBERT\n",
    "from transformers.pipelines import pipeline\n",
    "\n",
    "# hf_model = pipeline(\"feature-extraction\", model=\"distilbert-base-cased\")\n",
    "# kw_model = KeyBERT(model=hf_model)\n",
    "\n",
    "# Max Sum Distance and Maximal Marginal Relevance \n",
    "\n",
    "kw_model_responsibilities = KeyBERT(model='all-MiniLM-L6-v2') # all-MiniLM-L6-v2 - paraphrase-MiniLM-L3-v2\n",
    "kw_extractor = yake.KeywordExtractor(top=50)\n",
    "\n",
    "# facebook/bart-large"
   ]
  },
  {
   "cell_type": "code",
   "execution_count": 109,
   "metadata": {
    "scrolled": true
   },
   "outputs": [
    {
     "name": "stdout",
     "output_type": "stream",
     "text": [
      "----------\n",
      "[]\n",
      "\n",
      "\n",
      "\n",
      "\n",
      "\n",
      "\n"
     ]
    }
   ],
   "source": [
    "for i in range(27, 37):\n",
    "    text = data['Responsibilities'][i]\n",
    "#     print(text)\n",
    "#     candidates = kw_extractor.extract_keywords(data['Responsibilities'][i])\n",
    "#     candidates = [candidate[0] for candidate in candidates]\n",
    "    responsibilities_params = {\n",
    "        'seed_keywords' : seed_keywords,\n",
    "        'use_maxsum' : True,\n",
    "        'nr_candidates': 20,\n",
    "        'keyphrase_ngram_range': (3, 4),\n",
    "        'highlight': True,\n",
    "        'top_n': 10\n",
    "    }\n",
    "    keywords = kw_model_responsibilities.extract_keywords(text, **responsibilities_params)\n",
    "\n",
    "    keywords_list= list(dict(keywords).keys())\n",
    "    print(\"----------\")\n",
    "    print(keywords_list)\n",
    "    print('\\n')\n",
    "    print('\\n')\n",
    "    print('\\n')\n",
    "    break"
   ]
  },
  {
   "cell_type": "markdown",
   "metadata": {},
   "source": [
    "## Benefits\t"
   ]
  },
  {
   "cell_type": "code",
   "execution_count": 110,
   "metadata": {},
   "outputs": [
    {
     "data": {
      "text/plain": [
       "nan"
      ]
     },
     "execution_count": 110,
     "metadata": {},
     "output_type": "execute_result"
    }
   ],
   "source": [
    "data['Benefits'][1]"
   ]
  },
  {
   "cell_type": "code",
   "execution_count": 111,
   "metadata": {},
   "outputs": [],
   "source": [
    "data['Benefits'] = data['Benefits'].fillna(\"\")\n",
    "\n",
    "data['Benefits'] = data['Benefits'].apply(sep_num_words_func)\n",
    "data['Benefits'] = data['Benefits'].apply(num_to_words)\n",
    "data['Benefits'] = data['Benefits'].apply(convert_exp_to_word)\n",
    "data['Benefits'] = data['Benefits'].apply(remove_punctuation_func)\n",
    "data['Benefits'] = data['Benefits'].apply(remove_extra_whitespaces_func)\n",
    "data['Benefits'] = data['Benefits'].apply(stop_word_removal)\n",
    "data['Benefits'] = data['Benefits'].str.lower()\n"
   ]
  },
  {
   "cell_type": "code",
   "execution_count": 112,
   "metadata": {},
   "outputs": [
    {
     "data": {
      "text/plain": [
       "''"
      ]
     },
     "execution_count": 112,
     "metadata": {},
     "output_type": "execute_result"
    }
   ],
   "source": [
    "data['Benefits'][1]"
   ]
  },
  {
   "cell_type": "code",
   "execution_count": 113,
   "metadata": {},
   "outputs": [],
   "source": [
    "from keybert import KeyBERT\n",
    "from transformers.pipelines import pipeline\n",
    "\n",
    "# hf_model = pipeline(\"feature-extraction\", model=\"distilbert-base-cased\")\n",
    "# kw_model = KeyBERT(model=hf_model)\n",
    "\n",
    "# Max Sum Distance and Maximal Marginal Relevance \n",
    "\n",
    "kw_model_benefits = KeyBERT(model='all-MiniLM-L6-v2') # all-MiniLM-L6-v2 - paraphrase-MiniLM-L3-v2\n",
    "kw_extractor = yake.KeywordExtractor(top=50)\n",
    "\n",
    "# facebook/bart-large"
   ]
  },
  {
   "cell_type": "code",
   "execution_count": 114,
   "metadata": {
    "scrolled": true
   },
   "outputs": [
    {
     "name": "stdout",
     "output_type": "stream",
     "text": [
      "----------\n",
      "[]\n",
      "\n",
      "\n",
      "\n",
      "\n",
      "\n",
      "\n"
     ]
    }
   ],
   "source": [
    "for i in range(27, 37):\n",
    "    text = data['Benefits'][i]\n",
    "#     print(text)\n",
    "#     candidates = kw_extractor.extract_keywords(data['Responsibilities'][i])\n",
    "#     candidates = [candidate[0] for candidate in candidates]\n",
    "    benefits_params = {\n",
    "        'seed_keywords' : seed_keywords,\n",
    "        'use_maxsum' : True,\n",
    "        'nr_candidates': 20,\n",
    "        'keyphrase_ngram_range': (3, 4),\n",
    "        'highlight': True,\n",
    "        'top_n': 10\n",
    "    }\n",
    "    keywords = kw_model_benefits.extract_keywords(text, **benefits_params)\n",
    "\n",
    "    keywords_list= list(dict(keywords).keys())\n",
    "    print(\"----------\")\n",
    "    print(keywords_list)\n",
    "    print('\\n')\n",
    "    print('\\n')\n",
    "    print('\\n')\n",
    "    break"
   ]
  },
  {
   "cell_type": "markdown",
   "metadata": {},
   "source": [
    "### Output prep"
   ]
  },
  {
   "cell_type": "code",
   "execution_count": 115,
   "metadata": {},
   "outputs": [
    {
     "data": {
      "text/html": [
       "<div>\n",
       "<style scoped>\n",
       "    .dataframe tbody tr th:only-of-type {\n",
       "        vertical-align: middle;\n",
       "    }\n",
       "\n",
       "    .dataframe tbody tr th {\n",
       "        vertical-align: top;\n",
       "    }\n",
       "\n",
       "    .dataframe thead th {\n",
       "        text-align: right;\n",
       "    }\n",
       "</style>\n",
       "<table border=\"1\" class=\"dataframe\">\n",
       "  <thead>\n",
       "    <tr style=\"text-align: right;\">\n",
       "      <th></th>\n",
       "      <th>title</th>\n",
       "      <th>company_name</th>\n",
       "      <th>location</th>\n",
       "      <th>from</th>\n",
       "      <th>Benefits</th>\n",
       "      <th>Qualifications</th>\n",
       "      <th>Responsibilities</th>\n",
       "      <th>applyLink</th>\n",
       "    </tr>\n",
       "  </thead>\n",
       "  <tbody>\n",
       "    <tr>\n",
       "      <th>0</th>\n",
       "      <td>Software Developer</td>\n",
       "      <td>Futurism Technologies, INC.</td>\n",
       "      <td>Pune, Maharashtra, India</td>\n",
       "      <td>via LinkedIn</td>\n",
       "      <td></td>\n",
       "      <td></td>\n",
       "      <td></td>\n",
       "      <td>https://in.linkedin.com/jobs/view/software-dev...</td>\n",
       "    </tr>\n",
       "    <tr>\n",
       "      <th>1</th>\n",
       "      <td>Senior Software Engineer</td>\n",
       "      <td>AMAZE WORLD</td>\n",
       "      <td>Surat, Gujarat, India</td>\n",
       "      <td>via LinkedIn</td>\n",
       "      <td></td>\n",
       "      <td></td>\n",
       "      <td></td>\n",
       "      <td>https://in.linkedin.com/jobs/view/senior-softw...</td>\n",
       "    </tr>\n",
       "    <tr>\n",
       "      <th>2</th>\n",
       "      <td>Software Developer: Microsoft</td>\n",
       "      <td>IBM</td>\n",
       "      <td>Ahmedabad, Gujarat, India</td>\n",
       "      <td>via Define Your Career With IBM</td>\n",
       "      <td></td>\n",
       "      <td></td>\n",
       "      <td></td>\n",
       "      <td>https://careers.ibm.com/job/17821672/software-...</td>\n",
       "    </tr>\n",
       "    <tr>\n",
       "      <th>3</th>\n",
       "      <td>Software Developer</td>\n",
       "      <td>Voidek Webolutions</td>\n",
       "      <td>Bardoli, Gujarat, India</td>\n",
       "      <td>via WorkIndia.in</td>\n",
       "      <td></td>\n",
       "      <td></td>\n",
       "      <td></td>\n",
       "      <td>https://www.workindia.in/jobs/software_develop...</td>\n",
       "    </tr>\n",
       "    <tr>\n",
       "      <th>4</th>\n",
       "      <td>Software Developer - Ahmedabad - Work From Office</td>\n",
       "      <td>MyStudia Education</td>\n",
       "      <td>Ahmedabad, Gujarat, India</td>\n",
       "      <td>via LinkedIn</td>\n",
       "      <td></td>\n",
       "      <td></td>\n",
       "      <td></td>\n",
       "      <td>https://in.linkedin.com/jobs/view/software-dev...</td>\n",
       "    </tr>\n",
       "  </tbody>\n",
       "</table>\n",
       "</div>"
      ],
      "text/plain": [
       "                                               title  \\\n",
       "0                                 Software Developer   \n",
       "1                           Senior Software Engineer   \n",
       "2                      Software Developer: Microsoft   \n",
       "3                                 Software Developer   \n",
       "4  Software Developer - Ahmedabad - Work From Office   \n",
       "\n",
       "                  company_name                   location  \\\n",
       "0  Futurism Technologies, INC.   Pune, Maharashtra, India   \n",
       "1                  AMAZE WORLD      Surat, Gujarat, India   \n",
       "2                          IBM  Ahmedabad, Gujarat, India   \n",
       "3           Voidek Webolutions    Bardoli, Gujarat, India   \n",
       "4           MyStudia Education  Ahmedabad, Gujarat, India   \n",
       "\n",
       "                              from Benefits Qualifications Responsibilities  \\\n",
       "0                     via LinkedIn                                            \n",
       "1                     via LinkedIn                                            \n",
       "2  via Define Your Career With IBM                                            \n",
       "3                 via WorkIndia.in                                            \n",
       "4                     via LinkedIn                                            \n",
       "\n",
       "                                           applyLink  \n",
       "0  https://in.linkedin.com/jobs/view/software-dev...  \n",
       "1  https://in.linkedin.com/jobs/view/senior-softw...  \n",
       "2  https://careers.ibm.com/job/17821672/software-...  \n",
       "3  https://www.workindia.in/jobs/software_develop...  \n",
       "4  https://in.linkedin.com/jobs/view/software-dev...  "
      ]
     },
     "execution_count": 115,
     "metadata": {},
     "output_type": "execute_result"
    }
   ],
   "source": [
    "data.head()"
   ]
  },
  {
   "cell_type": "code",
   "execution_count": 116,
   "metadata": {},
   "outputs": [],
   "source": [
    "benefits_keywords = []\n",
    "qualifications_keywords = []\n",
    "responsibilities_keywords = []\n",
    "\n",
    "data['benefits_keywords'] = data['Benefits'].apply(lambda x : kw_model_benefits.extract_keywords(x, **benefits_params))\n",
    "data['qualification_keywords'] = data['Qualifications'].apply(lambda x : kw_model_benefits.extract_keywords(x, **benefits_params))\n",
    "data['responsibilities_keywords'] = data['Responsibilities'].apply(lambda x : kw_model_benefits.extract_keywords(x, **benefits_params))"
   ]
  },
  {
   "cell_type": "code",
   "execution_count": 117,
   "metadata": {
    "scrolled": true
   },
   "outputs": [
    {
     "data": {
      "text/html": [
       "<div>\n",
       "<style scoped>\n",
       "    .dataframe tbody tr th:only-of-type {\n",
       "        vertical-align: middle;\n",
       "    }\n",
       "\n",
       "    .dataframe tbody tr th {\n",
       "        vertical-align: top;\n",
       "    }\n",
       "\n",
       "    .dataframe thead th {\n",
       "        text-align: right;\n",
       "    }\n",
       "</style>\n",
       "<table border=\"1\" class=\"dataframe\">\n",
       "  <thead>\n",
       "    <tr style=\"text-align: right;\">\n",
       "      <th></th>\n",
       "      <th>title</th>\n",
       "      <th>company_name</th>\n",
       "      <th>location</th>\n",
       "      <th>from</th>\n",
       "      <th>Benefits</th>\n",
       "      <th>Qualifications</th>\n",
       "      <th>Responsibilities</th>\n",
       "      <th>applyLink</th>\n",
       "      <th>benefits_keywords</th>\n",
       "      <th>qualification_keywords</th>\n",
       "      <th>responsibilities_keywords</th>\n",
       "    </tr>\n",
       "  </thead>\n",
       "  <tbody>\n",
       "    <tr>\n",
       "      <th>0</th>\n",
       "      <td>Software Developer</td>\n",
       "      <td>Futurism Technologies, INC.</td>\n",
       "      <td>Pune, Maharashtra, India</td>\n",
       "      <td>via LinkedIn</td>\n",
       "      <td></td>\n",
       "      <td></td>\n",
       "      <td></td>\n",
       "      <td>https://in.linkedin.com/jobs/view/software-dev...</td>\n",
       "      <td>[]</td>\n",
       "      <td>[]</td>\n",
       "      <td>[]</td>\n",
       "    </tr>\n",
       "    <tr>\n",
       "      <th>1</th>\n",
       "      <td>Senior Software Engineer</td>\n",
       "      <td>AMAZE WORLD</td>\n",
       "      <td>Surat, Gujarat, India</td>\n",
       "      <td>via LinkedIn</td>\n",
       "      <td></td>\n",
       "      <td></td>\n",
       "      <td></td>\n",
       "      <td>https://in.linkedin.com/jobs/view/senior-softw...</td>\n",
       "      <td>[]</td>\n",
       "      <td>[]</td>\n",
       "      <td>[]</td>\n",
       "    </tr>\n",
       "    <tr>\n",
       "      <th>2</th>\n",
       "      <td>Software Developer: Microsoft</td>\n",
       "      <td>IBM</td>\n",
       "      <td>Ahmedabad, Gujarat, India</td>\n",
       "      <td>via Define Your Career With IBM</td>\n",
       "      <td></td>\n",
       "      <td></td>\n",
       "      <td></td>\n",
       "      <td>https://careers.ibm.com/job/17821672/software-...</td>\n",
       "      <td>[]</td>\n",
       "      <td>[]</td>\n",
       "      <td>[]</td>\n",
       "    </tr>\n",
       "    <tr>\n",
       "      <th>3</th>\n",
       "      <td>Software Developer</td>\n",
       "      <td>Voidek Webolutions</td>\n",
       "      <td>Bardoli, Gujarat, India</td>\n",
       "      <td>via WorkIndia.in</td>\n",
       "      <td></td>\n",
       "      <td></td>\n",
       "      <td></td>\n",
       "      <td>https://www.workindia.in/jobs/software_develop...</td>\n",
       "      <td>[]</td>\n",
       "      <td>[]</td>\n",
       "      <td>[]</td>\n",
       "    </tr>\n",
       "    <tr>\n",
       "      <th>4</th>\n",
       "      <td>Software Developer - Ahmedabad - Work From Office</td>\n",
       "      <td>MyStudia Education</td>\n",
       "      <td>Ahmedabad, Gujarat, India</td>\n",
       "      <td>via LinkedIn</td>\n",
       "      <td></td>\n",
       "      <td></td>\n",
       "      <td></td>\n",
       "      <td>https://in.linkedin.com/jobs/view/software-dev...</td>\n",
       "      <td>[]</td>\n",
       "      <td>[]</td>\n",
       "      <td>[]</td>\n",
       "    </tr>\n",
       "  </tbody>\n",
       "</table>\n",
       "</div>"
      ],
      "text/plain": [
       "                                               title  \\\n",
       "0                                 Software Developer   \n",
       "1                           Senior Software Engineer   \n",
       "2                      Software Developer: Microsoft   \n",
       "3                                 Software Developer   \n",
       "4  Software Developer - Ahmedabad - Work From Office   \n",
       "\n",
       "                  company_name                   location  \\\n",
       "0  Futurism Technologies, INC.   Pune, Maharashtra, India   \n",
       "1                  AMAZE WORLD      Surat, Gujarat, India   \n",
       "2                          IBM  Ahmedabad, Gujarat, India   \n",
       "3           Voidek Webolutions    Bardoli, Gujarat, India   \n",
       "4           MyStudia Education  Ahmedabad, Gujarat, India   \n",
       "\n",
       "                              from Benefits Qualifications Responsibilities  \\\n",
       "0                     via LinkedIn                                            \n",
       "1                     via LinkedIn                                            \n",
       "2  via Define Your Career With IBM                                            \n",
       "3                 via WorkIndia.in                                            \n",
       "4                     via LinkedIn                                            \n",
       "\n",
       "                                           applyLink benefits_keywords  \\\n",
       "0  https://in.linkedin.com/jobs/view/software-dev...                []   \n",
       "1  https://in.linkedin.com/jobs/view/senior-softw...                []   \n",
       "2  https://careers.ibm.com/job/17821672/software-...                []   \n",
       "3  https://www.workindia.in/jobs/software_develop...                []   \n",
       "4  https://in.linkedin.com/jobs/view/software-dev...                []   \n",
       "\n",
       "  qualification_keywords responsibilities_keywords  \n",
       "0                     []                        []  \n",
       "1                     []                        []  \n",
       "2                     []                        []  \n",
       "3                     []                        []  \n",
       "4                     []                        []  "
      ]
     },
     "metadata": {},
     "output_type": "display_data"
    }
   ],
   "source": [
    "display(data.head())\n",
    "data.to_csv(\"latest_data_to_server_1.csv\", index=False)"
   ]
  },
  {
   "cell_type": "code",
   "execution_count": 118,
   "metadata": {},
   "outputs": [],
   "source": [
    "data['qualification_keywords'] = data['qualification_keywords'].apply(lambda ls : \"|\".join([x[0] for x in ls]))\n",
    "data['benefits_keywords'] = data['benefits_keywords'].apply(lambda ls : \"|\".join([x[0] for x in ls]))\n",
    "data['responsibilities_keywords'] = data['responsibilities_keywords'].apply(lambda ls : \"|\".join([x[0] for x in ls]))"
   ]
  },
  {
   "cell_type": "code",
   "execution_count": 130,
   "metadata": {},
   "outputs": [
    {
     "data": {
      "text/html": [
       "<div>\n",
       "<style scoped>\n",
       "    .dataframe tbody tr th:only-of-type {\n",
       "        vertical-align: middle;\n",
       "    }\n",
       "\n",
       "    .dataframe tbody tr th {\n",
       "        vertical-align: top;\n",
       "    }\n",
       "\n",
       "    .dataframe thead th {\n",
       "        text-align: right;\n",
       "    }\n",
       "</style>\n",
       "<table border=\"1\" class=\"dataframe\">\n",
       "  <thead>\n",
       "    <tr style=\"text-align: right;\">\n",
       "      <th></th>\n",
       "      <th>title</th>\n",
       "      <th>company_name</th>\n",
       "      <th>location</th>\n",
       "      <th>from</th>\n",
       "      <th>Benefits</th>\n",
       "      <th>Qualifications</th>\n",
       "      <th>Responsibilities</th>\n",
       "      <th>applyLink</th>\n",
       "    </tr>\n",
       "  </thead>\n",
       "  <tbody>\n",
       "    <tr>\n",
       "      <th>0</th>\n",
       "      <td>Senior Software Engineer, Infrastructure, Tech...</td>\n",
       "      <td>Google</td>\n",
       "      <td>Bengaluru, Karnataka, India</td>\n",
       "      <td>via Google Careers</td>\n",
       "      <td>NaN</td>\n",
       "      <td>NaN</td>\n",
       "      <td>NaN</td>\n",
       "      <td>https://careers.google.com/jobs/results/995612...</td>\n",
       "    </tr>\n",
       "    <tr>\n",
       "      <th>1</th>\n",
       "      <td>Lead Software Engineer</td>\n",
       "      <td>Franklin Templeton India</td>\n",
       "      <td>Hyderabad, Telangana, India</td>\n",
       "      <td>via LinkedIn</td>\n",
       "      <td>NaN</td>\n",
       "      <td>NaN</td>\n",
       "      <td>NaN</td>\n",
       "      <td>https://in.linkedin.com/jobs/view/lead-softwar...</td>\n",
       "    </tr>\n",
       "    <tr>\n",
       "      <th>2</th>\n",
       "      <td>Software Engineer</td>\n",
       "      <td>GE</td>\n",
       "      <td>Hyderabad, Telangana, India</td>\n",
       "      <td>via GE Careers</td>\n",
       "      <td>NaN</td>\n",
       "      <td>NaN</td>\n",
       "      <td>NaN</td>\n",
       "      <td>https://jobs.gecareers.com/global/en/job/R3667...</td>\n",
       "    </tr>\n",
       "    <tr>\n",
       "      <th>3</th>\n",
       "      <td>Software Development Engineer</td>\n",
       "      <td>Apple</td>\n",
       "      <td>Hyderabad, Telangana, India</td>\n",
       "      <td>via Careers At Apple</td>\n",
       "      <td>NaN</td>\n",
       "      <td>NaN</td>\n",
       "      <td>NaN</td>\n",
       "      <td>https://jobs.apple.com/en-in/details/200458197...</td>\n",
       "    </tr>\n",
       "    <tr>\n",
       "      <th>4</th>\n",
       "      <td>Senior IT Software Engineer</td>\n",
       "      <td>Palo Alto Networks</td>\n",
       "      <td>Bengaluru, Karnataka, India</td>\n",
       "      <td>via Palo Alto Networks Jobs</td>\n",
       "      <td>NaN</td>\n",
       "      <td>NaN</td>\n",
       "      <td>NaN</td>\n",
       "      <td>https://paloaltonetworkscareers.dejobs.org/ban...</td>\n",
       "    </tr>\n",
       "  </tbody>\n",
       "</table>\n",
       "</div>"
      ],
      "text/plain": [
       "                                               title  \\\n",
       "0  Senior Software Engineer, Infrastructure, Tech...   \n",
       "1                             Lead Software Engineer   \n",
       "2                                  Software Engineer   \n",
       "3                      Software Development Engineer   \n",
       "4                        Senior IT Software Engineer   \n",
       "\n",
       "               company_name                     location  \\\n",
       "0                    Google  Bengaluru, Karnataka, India   \n",
       "1  Franklin Templeton India  Hyderabad, Telangana, India   \n",
       "2                        GE  Hyderabad, Telangana, India   \n",
       "3                     Apple  Hyderabad, Telangana, India   \n",
       "4        Palo Alto Networks  Bengaluru, Karnataka, India   \n",
       "\n",
       "                          from  Benefits  Qualifications  Responsibilities  \\\n",
       "0           via Google Careers       NaN             NaN               NaN   \n",
       "1                 via LinkedIn       NaN             NaN               NaN   \n",
       "2               via GE Careers       NaN             NaN               NaN   \n",
       "3         via Careers At Apple       NaN             NaN               NaN   \n",
       "4  via Palo Alto Networks Jobs       NaN             NaN               NaN   \n",
       "\n",
       "                                           applyLink  \n",
       "0  https://careers.google.com/jobs/results/995612...  \n",
       "1  https://in.linkedin.com/jobs/view/lead-softwar...  \n",
       "2  https://jobs.gecareers.com/global/en/job/R3667...  \n",
       "3  https://jobs.apple.com/en-in/details/200458197...  \n",
       "4  https://paloaltonetworkscareers.dejobs.org/ban...  "
      ]
     },
     "execution_count": 130,
     "metadata": {},
     "output_type": "execute_result"
    }
   ],
   "source": [
    "data.head()"
   ]
  },
  {
   "cell_type": "code",
   "execution_count": 168,
   "metadata": {},
   "outputs": [
    {
     "data": {
      "text/plain": [
       "title               False\n",
       "company_name        False\n",
       "location            False\n",
       "from                False\n",
       "Benefits            False\n",
       "Qualifications      False\n",
       "Responsibilities    False\n",
       "thumbnail           False\n",
       "applyLink           False\n",
       "dtype: bool"
      ]
     },
     "execution_count": 168,
     "metadata": {},
     "output_type": "execute_result"
    }
   ],
   "source": [
    "data = data.fillna(\"\")\n",
    "data.isna().any()"
   ]
  },
  {
   "cell_type": "code",
   "execution_count": 169,
   "metadata": {},
   "outputs": [
    {
     "name": "stdout",
     "output_type": "stream",
     "text": [
      "500\n",
      "Added. created successfully\n",
      "Comp. created successfully\n",
      "Added. created successfully\n",
      "500\n",
      "Added. created successfully\n",
      "500\n",
      "Added. created successfully\n",
      "500\n",
      "Added. created successfully\n",
      "500\n",
      "Added. created successfully\n",
      "500\n",
      "Added. created successfully\n",
      "Comp. created successfully\n",
      "Added. created successfully\n",
      "500\n",
      "Added. created successfully\n",
      "500\n",
      "Added. created successfully\n",
      "500\n",
      "Added. created successfully\n",
      "Comp. created successfully\n",
      "Added. created successfully\n",
      "Comp. created successfully\n",
      "Added. created successfully\n",
      "500\n",
      "Added. created successfully\n",
      "500\n",
      "Added. created successfully\n",
      "500\n",
      "Added. created successfully\n",
      "Comp. created successfully\n",
      "Added. created successfully\n",
      "Comp. created successfully\n",
      "Added. created successfully\n",
      "500\n",
      "Added. created successfully\n",
      "500\n",
      "Added. created successfully\n"
     ]
    }
   ],
   "source": [
    "data_dict = data.to_dict(orient='list')\n",
    "base_url = 'http://20.222.111.38/'\n",
    "for i in range(len(data)):\n",
    "    # Create Company\n",
    "    company = {\n",
    "        'name': data_dict['company_name'][i]\n",
    "    }\n",
    "    \n",
    "    res = requests.post(base_url+\"companies/\", json = company)\n",
    "    \n",
    "    if res.status_code == 200:\n",
    "        print(\"Comp. created successfully\")\n",
    "    else:\n",
    "        print(res.status_code)\n",
    "    job = {\n",
    "              \"title\": data_dict['title'][i],\n",
    "              \"dateposted\": datetime.now().timestamp(),\n",
    "              \"location\": data_dict['location'][i],\n",
    "              \"from_\": data_dict['company_name'][i],\n",
    "              \"benefits\": data_dict['Benefits'][i],\n",
    "              \"bkeyword\": '',\n",
    "              \"qualifications\": data_dict['Qualifications'][i],\n",
    "              \"qkeyword\": '',\n",
    "              \"responsibilities\": data_dict['Responsibilities'][i],\n",
    "              \"rkeyword\": '',\n",
    "              \"thumbnail\": data_dict['thumbnail'][i],\n",
    "              \"applylink\": data_dict['applyLink'][i]\n",
    "            }\n",
    "    \n",
    "    res = requests.post(base_url+\"jobs/\", json = job)\n",
    "    \n",
    "    if res.status_code == 200:\n",
    "        print(\"Added. created successfully\")\n",
    "    else:\n",
    "        print(res.status_code)"
   ]
  },
  {
   "cell_type": "code",
   "execution_count": 164,
   "metadata": {},
   "outputs": [
    {
     "data": {
      "text/plain": [
       "dict_keys(['title', 'company_name', 'location', 'from', 'Benefits', 'Qualifications', 'Responsibilities', 'thumbnail', 'applyLink'])"
      ]
     },
     "execution_count": 164,
     "metadata": {},
     "output_type": "execute_result"
    }
   ],
   "source": [
    "data_dict.keys()"
   ]
  },
  {
   "cell_type": "code",
   "execution_count": 141,
   "metadata": {},
   "outputs": [
    {
     "data": {
      "text/plain": [
       "500"
      ]
     },
     "execution_count": 141,
     "metadata": {},
     "output_type": "execute_result"
    }
   ],
   "source": []
  },
  {
   "cell_type": "code",
   "execution_count": null,
   "metadata": {},
   "outputs": [],
   "source": []
  },
  {
   "cell_type": "code",
   "execution_count": null,
   "metadata": {},
   "outputs": [],
   "source": []
  },
  {
   "cell_type": "code",
   "execution_count": null,
   "metadata": {},
   "outputs": [],
   "source": []
  },
  {
   "cell_type": "code",
   "execution_count": null,
   "metadata": {},
   "outputs": [],
   "source": []
  },
  {
   "cell_type": "code",
   "execution_count": null,
   "metadata": {},
   "outputs": [],
   "source": [
    "kw_extractor = yake.KeywordExtractor(top=10, stopwords=None)\n",
    "\n",
    "for i in range(10):\n",
    "  text = data['Qualifications'][i]\n",
    "  print(text)\n",
    "  keywords = kw_extractor.extract_keywords(text)\n",
    "  for kw, v in keywords:\n",
    "    print(\"Keyphrase: \",kw, \": score\", v)\n"
   ]
  },
  {
   "cell_type": "code",
   "execution_count": null,
   "metadata": {
    "pycharm": {
     "is_executing": true
    },
    "scrolled": true
   },
   "outputs": [],
   "source": [
    "!pip install multi_rake\n",
    "from multi_rake import Rake\n",
    "rake = Rake()\n",
    "keywords = rake.apply(text)\n",
    "print(keywords[:10])"
   ]
  },
  {
   "cell_type": "code",
   "execution_count": null,
   "metadata": {},
   "outputs": [],
   "source": [
    "from keybert import KeyBERT"
   ]
  },
  {
   "cell_type": "code",
   "execution_count": null,
   "metadata": {},
   "outputs": [],
   "source": [
    "kw_model = KeyBERT(model='all-mpnet-base-v2') # all-MiniLM-L6-v2\n"
   ]
  },
  {
   "cell_type": "code",
   "execution_count": null,
   "metadata": {},
   "outputs": [],
   "source": [
    "for i in range(27, 37):\n",
    "    text = data['Qualifications'][i]\n",
    "    print(text)\n",
    "    keywords = kw_model.extract_keywords(text, \n",
    "                                         keyphrase_ngram_range=(3, 3), \n",
    "                                         stop_words='english', \n",
    "                                         highlight=False,\n",
    "                                         top_n=10)\n",
    "\n",
    "    keywords_list= list(dict(keywords).keys())\n",
    "    print(\"----------\")\n",
    "    print(keywords_list)\n",
    "    print('\\n')\n",
    "    print('\\n')\n",
    "    print('\\n')\n"
   ]
  },
  {
   "cell_type": "code",
   "execution_count": null,
   "metadata": {},
   "outputs": [],
   "source": []
  }
 ],
 "metadata": {
  "kernelspec": {
   "display_name": "Python 3 (ipykernel)",
   "language": "python",
   "name": "python3"
  },
  "language_info": {
   "codemirror_mode": {
    "name": "ipython",
    "version": 3
   },
   "file_extension": ".py",
   "mimetype": "text/x-python",
   "name": "python",
   "nbconvert_exporter": "python",
   "pygments_lexer": "ipython3",
   "version": "3.9.13"
  }
 },
 "nbformat": 4,
 "nbformat_minor": 1
}
