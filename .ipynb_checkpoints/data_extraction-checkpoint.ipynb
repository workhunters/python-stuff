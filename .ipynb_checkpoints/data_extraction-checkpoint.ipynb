{
 "cells": [
  {
   "cell_type": "code",
   "execution_count": 11,
   "metadata": {},
   "outputs": [],
   "source": [
    "import json\n",
    "import os"
   ]
  },
  {
   "cell_type": "code",
   "execution_count": 37,
   "metadata": {
    "scrolled": true
   },
   "outputs": [
    {
     "name": "stdout",
     "output_type": "stream",
     "text": [
      "33\n",
      "dict_keys(['additionalPlain', 'additional', 'categories', 'createdAt', 'descriptionPlain', 'description', 'id', 'lists', 'text', 'country', 'workplaceType', 'hostedUrl', 'applyUrl'])\n",
      "-------------------  1  ----------------------\n",
      "agency partnerships lead\n",
      "{'commitment': 'full time', 'department': 'business', 'location': 'Bengaluru, Karnataka', 'team': 'business- brand promotions'}\n",
      "onsite\n",
      "\n",
      "\n",
      "what is CRED?\n",
      "\n",
      "CRED is an exclusive community for India's most trustworthy and creditworthy individuals, where the members are rewarded for good financial behaviour.Â \n",
      "\n",
      "CRED was born out of a need to bring back the focus on a long lost virtue, one of trust, the idea being to create a community centered around this virtue. a community that constantly strives to become more virtuous in this regard till they finally scale their behaviour to create a utopia where being trustworthy is the norm and not the exception. to build a community like this requires a community of its own; a community special in its own way, working towards making this vision come true.Â \n",
      "\n",
      "hereâ€™s a thought experiment: what do you get when you put a group of incredibly passionate and driven people and entrust them with the complete freedom to chase down their goals in a completely uninhibited manner? answer: you get something close to what we have at CRED; CRED just has it better.Â \n",
      "\n",
      "here's what will be in store for you at CRED once you join the team\n",
      "\n",
      "\n",
      "\n",
      "=--------------------------=\n",
      "how is life at CRED?Â \n",
      "\n",
      "working at CRED would instantly make you realize one thing: you are working with the best talent around you. not just in the role you occupy, but everywhere you go. talk to someone around you; most likely you will be talking to a singer, standup comic, artist, writer, an athlete, maybe a magician. at CRED people always have talent up their sleeves. with the right company, even conversations can be rejuvenating.Â Â \n",
      "\n",
      "at CRED, we guarantee a good company.Â \n",
      "\n",
      "hard truths: pushing oneself comes with the role. and we realize pushing oneself is hard work. which is why CRED is in the continuous process of building an environment that helps the team rejuvenate oneself: included but not limited to a stacked, in-house pantry, with lunch and dinner provided for all the team members, paid sick leaves and a comprehensive health insurance.Â Â \n",
      "\n",
      "to make things smoother and to make sure you spend time and energy only on the most important things,Â  CRED strives to make every process transparent: there are no work timings because we do not believe in archaic methods of calculating productivity, your work should speak for you. there are no job designations because you will be expected to hold down roles that cannot be described in one word. since trust is a major virtue in the community we have built, we make it a point to highlight it in the community behind CRED: all our employees get their salaries before their joining date. a show of trust that speaks volumes because of the skin in the game.Â Â \n",
      "\n",
      "there are many more such eccentricities that make CRED what it is but thatâ€™s for one to discover. if you feel at home reading this, get in touch.\n",
      "\n",
      "\n",
      "\n",
      "{'text': 'what you will do?', 'content': '<li>create a systematic, process-driven approach to identify and source agency partnership opportunities&nbsp;</li><li>retains and grows existing business (top and independent agencies), identify new players in the market and undertake their onboarding</li><li>develops a best in class partnership with agencies by being the primary liaison, advocate and navigator for the agency in all partner platforms</li><li>collaborates with agency influencers to drive product adoption across the agency and strategically on agency priority accounts</li><li>communicate clearly the progress of monthly/quarterly initiatives to internal and external stakeholders, including the ability to synthesize feedback and adjust plans accordingly</li><li>create and collaborate on education &amp; inspiration programs across the agency which has a scaled impact on various constituents (media, digital, strategic planning, and creative)</li><li>act on behalf of agency interests and lead solutions within internal cross-functional teams, resulting in growth of partnership across different CRED platforms</li><li>plan and own monthly/quarterly supply &amp; monetization goals with new and existing partner relationships&nbsp;</li><li>help the product team discover brand/merchant needs more effectively and help evolve the CRED product</li>'}\n",
      "{'text': 'you should apply if you: ', 'content': '<li>have 7-10 years of expertise working in an agency or managing an agency partnership with premium publishers in partner-facing roles</li><li>have managed marketing budgets and targets for clients across multiple industries</li><li>are familiar with current digital avenues and metrics brands leverage for awareness, visibility &amp; engagement</li><li>have an established network of relationship across digital media agencies</li><li>are an excellent negotiator; have outstanding communication and interpersonal skills</li><li>are comfortable with data and research in order to be able to map the potential of each brand, category or industry</li><li>are goal-oriented &amp; thrive in high ownership, fast paced and independent environments</li><li>have the ability to deal with ambiguity and chart a path forward</li><li>have excellent organisational and time management skills</li><li>have ideally, been a people manager in the past</li>'}\n",
      "\n",
      "\n",
      "\n",
      "\n",
      "\n",
      "\n"
     ]
    }
   ],
   "source": [
    "with open('data/cred.json', 'r')  as f:\n",
    "    data = json.load(f)\n",
    "    print(len(data))\n",
    "\n",
    "    for i, d in enumerate(data):\n",
    "        print(d.keys())\n",
    "        print(f\"-------------------  {i+1}  ----------------------\")\n",
    "        print(d['text'])\n",
    "        print(d['categories'])\n",
    "        print(d['workplaceType'])\n",
    "        print('\\n')\n",
    "        print(d['descriptionPlain'])\n",
    "        print('\\n')\n",
    "        print(\"=--------------------------=\")\n",
    "        print(d['additionalPlain'])\n",
    "        print()\n",
    "        desc = d['lists']\n",
    "        for text in desc:\n",
    "            print(text)\n",
    "        print(\"\\n\")\n",
    "        print(\"\\n\")\n",
    "        print(\"\\n\")\n",
    "        break\n"
   ]
  },
  {
   "cell_type": "code",
   "execution_count": 44,
   "metadata": {},
   "outputs": [
    {
     "data": {
      "text/plain": [
       "['coupa.json',\n",
       " 'cred.json',\n",
       " 'EventBrite.json',\n",
       " 'hingehealth.json',\n",
       " 'Meesho.json',\n",
       " 'Netflix.json',\n",
       " 'parallelwireless.json',\n",
       " 'Pharmeasy.json',\n",
       " 'razorpay.json',\n",
       " 'sambatv.json',\n",
       " 'skit.ai.json',\n",
       " 'Talend.json']"
      ]
     },
     "execution_count": 44,
     "metadata": {},
     "output_type": "execute_result"
    }
   ],
   "source": [
    "files"
   ]
  },
  {
   "cell_type": "code",
   "execution_count": 45,
   "metadata": {},
   "outputs": [],
   "source": [
    "files = os.listdir('data/')\n",
    "base = 'data'"
   ]
  },
  {
   "cell_type": "code",
   "execution_count": 47,
   "metadata": {},
   "outputs": [
    {
     "name": "stdout",
     "output_type": "stream",
     "text": [
      "<_io.TextIOWrapper name='data\\\\coupa.json' mode='r' encoding='utf8'>\n",
      "32\n"
     ]
    },
    {
     "ename": "KeyError",
     "evalue": "0",
     "output_type": "error",
     "traceback": [
      "\u001B[1;31m---------------------------------------------------------------------------\u001B[0m",
      "\u001B[1;31mKeyError\u001B[0m                                  Traceback (most recent call last)",
      "Cell \u001B[1;32mIn[47], line 17\u001B[0m\n\u001B[0;32m     15\u001B[0m data[\u001B[38;5;124m'\u001B[39m\u001B[38;5;124mcompany\u001B[39m\u001B[38;5;124m'\u001B[39m]\u001B[38;5;241m.\u001B[39mappend(name)\n\u001B[0;32m     16\u001B[0m data[\u001B[38;5;124m'\u001B[39m\u001B[38;5;124mtitle\u001B[39m\u001B[38;5;124m'\u001B[39m]\u001B[38;5;241m.\u001B[39mappend(j[\u001B[38;5;124m'\u001B[39m\u001B[38;5;124mtext\u001B[39m\u001B[38;5;124m'\u001B[39m])\n\u001B[1;32m---> 17\u001B[0m data[\u001B[38;5;124m'\u001B[39m\u001B[38;5;124mjd\u001B[39m\u001B[38;5;124m'\u001B[39m]\u001B[38;5;241m.\u001B[39mappend(\u001B[43mj\u001B[49m\u001B[43m[\u001B[49m\u001B[38;5;241;43m0\u001B[39;49m\u001B[43m]\u001B[49m[\u001B[38;5;124m'\u001B[39m\u001B[38;5;124mcontent\u001B[39m\u001B[38;5;124m'\u001B[39m])\n\u001B[0;32m     18\u001B[0m data[\u001B[38;5;124m'\u001B[39m\u001B[38;5;124mrequirements\u001B[39m\u001B[38;5;124m'\u001B[39m]\u001B[38;5;241m.\u001B[39mappend(j[\u001B[38;5;241m1\u001B[39m][\u001B[38;5;124m'\u001B[39m\u001B[38;5;124mcontent\u001B[39m\u001B[38;5;124m'\u001B[39m])\n",
      "\u001B[1;31mKeyError\u001B[0m: 0"
     ]
    }
   ],
   "source": [
    "data = {\n",
    "    # 'role': [],\n",
    "    'company' : [],\n",
    "    'title' : [],\n",
    "    'jd' : [],\n",
    "    # 'teamDescription' : [],\n",
    "    'requirements' : [],\n",
    "}\n",
    "for name in files:\n",
    "    with open(os.path.join(base, name), 'r', encoding=\"utf8\") as f:\n",
    "        print(f)\n",
    "        jobs = json.load(f)\n",
    "        print(len(jobs))\n",
    "        for j in jobs:\n",
    "            data['company'].append(name)\n",
    "            data['title'].append(j['text'])\n",
    "            data['jd'].append(j[0]['content'])\n",
    "            data['requirements'].append(j[1]['content'])"
   ]
  },
  {
   "cell_type": "code",
   "execution_count": null,
   "metadata": {},
   "outputs": [],
   "source": [
    "import pandas as pd\n",
    "pd.DataFrame.from_dict(data)"
   ]
  },
  {
   "cell_type": "code",
   "execution_count": 43,
   "metadata": {},
   "outputs": [
    {
     "data": {
      "text/plain": [
       "'data\\\\cred'"
      ]
     },
     "execution_count": 43,
     "metadata": {},
     "output_type": "execute_result"
    }
   ],
   "source": [
    "os.path.join(base, name)"
   ]
  },
  {
   "cell_type": "code",
   "execution_count": null,
   "metadata": {},
   "outputs": [],
   "source": []
  }
 ],
 "metadata": {
  "kernelspec": {
   "display_name": "Python 3 (ipykernel)",
   "language": "python",
   "name": "python3"
  },
  "language_info": {
   "codemirror_mode": {
    "name": "ipython",
    "version": 3
   },
   "file_extension": ".py",
   "mimetype": "text/x-python",
   "name": "python",
   "nbconvert_exporter": "python",
   "pygments_lexer": "ipython3",
   "version": "3.9.13"
  }
 },
 "nbformat": 4,
 "nbformat_minor": 1
}
